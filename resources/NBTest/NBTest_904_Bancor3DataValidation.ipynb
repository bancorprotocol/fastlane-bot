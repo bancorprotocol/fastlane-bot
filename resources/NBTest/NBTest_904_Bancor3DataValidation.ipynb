{
 "cells": [
  {
   "cell_type": "code",
   "execution_count": 10,
   "id": "initial_id",
   "metadata": {
    "ExecuteTime": {
     "end_time": "2023-07-31T13:16:40.461314Z",
     "start_time": "2023-07-31T13:16:40.435825Z"
    }
   },
   "outputs": [
    {
     "name": "stdout",
     "output_type": "stream",
     "text": [
      "ConstantProductCurve v2.14 (23/May/2023)\n",
      "CarbonBot v3-b2.2 (20/June/2023)\n",
      "UniswapV2 v0.0.1 (2023-07-03)\n",
      "UniswapV3 v0.0.1 (2023-07-03)\n",
      "SushiswapV2 v0.0.1 (2023-07-03)\n",
      "CarbonV1 v0.0.1 (2023-07-03)\n",
      "BancorV3 v0.0.1 (2023-07-03)\n",
      "Version = 3-b2.2 [requirements >= 3.0 is met]\n"
     ]
    }
   ],
   "source": [
    "# coding=utf-8\n",
    "\"\"\"\n",
    "This module contains the tests which ensure that data validation checks always occur when running a bancor3-related arb_mode.\n",
    "\"\"\"\n",
    "from fastlane_bot import Bot\n",
    "from fastlane_bot.tools.cpc import ConstantProductCurve as CPC\n",
    "from fastlane_bot.events.exchanges import UniswapV2, UniswapV3, SushiswapV2, CarbonV1, BancorV3\n",
    "import subprocess, os, sys\n",
    "import pytest\n",
    "print(\"{0.__name__} v{0.__VERSION__} ({0.__DATE__})\".format(CPC))\n",
    "print(\"{0.__name__} v{0.__VERSION__} ({0.__DATE__})\".format(Bot))\n",
    "print(\"{0.__name__} v{0.__VERSION__} ({0.__DATE__})\".format(UniswapV2))\n",
    "print(\"{0.__name__} v{0.__VERSION__} ({0.__DATE__})\".format(UniswapV3))\n",
    "print(\"{0.__name__} v{0.__VERSION__} ({0.__DATE__})\".format(SushiswapV2))\n",
    "print(\"{0.__name__} v{0.__VERSION__} ({0.__DATE__})\".format(CarbonV1))\n",
    "print(\"{0.__name__} v{0.__VERSION__} ({0.__DATE__})\".format(BancorV3))\n",
    "from fastlane_bot.testing import *\n",
    "plt.rcParams['figure.figsize'] = [12,6]\n",
    "from fastlane_bot import __VERSION__\n",
    "require(\"3.0\", __VERSION__)"
   ]
  },
  {
   "cell_type": "markdown",
   "id": "dfafc69730cbead3",
   "metadata": {},
   "source": [
    "# Setup"
   ]
  },
  {
   "cell_type": "code",
   "execution_count": 11,
   "id": "1640a40ee6ae871c",
   "metadata": {
    "ExecuteTime": {
     "end_time": "2023-07-31T13:16:40.461994Z",
     "start_time": "2023-07-31T13:16:40.442262Z"
    }
   },
   "outputs": [],
   "source": [
    "def find_main_py():\n",
    "    # Start at the directory of the current script\n",
    "    cwd = os.path.abspath(os.path.join(os.getcwd()))\n",
    "    \n",
    "    print(f\"Searching for main.py in {cwd}\")\n",
    "    while True:\n",
    "        # Check if main.py exists in the current directory\n",
    "        if \"main.py\" in os.listdir(cwd):\n",
    "            return cwd  # Found the directory containing main.py\n",
    "        else:\n",
    "            # If not, go up one directory\n",
    "            new_cwd = os.path.dirname(cwd)\n",
    "\n",
    "            # If we're already at the root directory, stop searching\n",
    "            if new_cwd == cwd:\n",
    "                raise FileNotFoundError(\"Could not find main.py in any parent directory\")\n",
    "\n",
    "            cwd = new_cwd\n",
    "       \n",
    "       \n",
    "def run_command(arb_mode, expected_log_line):\n",
    "    \n",
    "    # Find the correct path to main.py\n",
    "    main_script_path = find_main_py()\n",
    "    print(f\"Found main.py in {main_script_path}\")\n",
    "    main_script_path = main_script_path + \"/main.py\"\n",
    "\n",
    "    # Run the command\n",
    "    cmd = [\n",
    "        \"python\",\n",
    "        main_script_path,\n",
    "        f\"--arb_mode={arb_mode}\",\n",
    "        \"--default_min_profit_bnt=60\",\n",
    "        \"--limit_bancor3_flashloan_tokens=False\",\n",
    "        \"--use_cached_events=True\",\n",
    "        \"--logging_path=fastlane_bot/data/\",\n",
    "        \"--timeout=45\"\n",
    "    ]\n",
    "    subprocess.Popen(cmd)\n",
    "        \n",
    "    # Wait for the expected log line to appear\n",
    "    found = False\n",
    "    result = subprocess.run(cmd, text=True, capture_output=True, check=True, timeout=120)\n",
    "\n",
    "    # Check if the expected log line is in the output\n",
    "    if expected_log_line in result.stderr or expected_log_line in result.stdout:\n",
    "        found = True\n",
    "\n",
    "    if not found:\n",
    "        pytest.fail(\"Expected log line was not found within 1 minute\")  # If we reach this point, the test has failed"
   ]
  },
  {
   "cell_type": "markdown",
   "id": "614f482aec4be2f8",
   "metadata": {},
   "source": [
    "## Test Data Validation For b3_two_hop"
   ]
  },
  {
   "cell_type": "code",
   "execution_count": 12,
   "id": "c6e198d0eeba3183",
   "metadata": {
    "ExecuteTime": {
     "end_time": "2023-07-31T13:17:37.499171Z",
     "start_time": "2023-07-31T13:16:40.447463Z"
    }
   },
   "outputs": [
    {
     "name": "stdout",
     "output_type": "stream",
     "text": [
      "Searching for main.py in /Users/mikewcasale/Documents/GitHub/fastlane-bot/resources/NBTest\n",
      "Found main.py in /Users/mikewcasale/Documents/GitHub/fastlane-bot\n"
     ]
    },
    {
     "name": "stderr",
     "output_type": "stream",
     "text": [
      "2023-07-31 06:16:43,933 [fastlane:INFO] - Using mainnet config\n",
      "2023-07-31 06:16:43,934 [fastlane:INFO] - Running data fetching for exchanges: ['carbon_v1', 'bancor_v3', 'uniswap_v3', 'uniswap_v2', 'sushiswap_v2']\n",
      "2023-07-31 06:16:44,195 [fastlane:INFO] - Time taken to add initial pools: 0.0898439884185791\n",
      "2023-07-31 06:16:44,405 [fastlane:INFO] - Fetching events from 17811229 to 17813229... 0\n",
      "2023-07-31 06:16:44,405 [fastlane:INFO] - Using cached events\n",
      "2023-07-31 06:16:44,406 [fastlane:INFO] - Found 25 new events\n",
      "2023-07-31 06:16:46,864 [fastlane:INFO] - Updating carbon pools w/ multicall...\n",
      "2023-07-31 06:16:47,705 [fastlane:INFO] - Fetched 251 carbon strategies in 0.8403658866882324 seconds\n",
      "2023-07-31 06:16:52,241 [fastlane:INFO] - Updated 251 carbon strategies info in 4.536462068557739 seconds\n",
      "2023-07-31 06:17:09,266 [fastlane:INFO] - Initializing the bot...\n",
      "2023-07-31 06:17:09,382 [fastlane:INFO] - State has changed...\n",
      "2023-07-31 06:17:09,387 [fastlane:INFO] - Removed 122 unmapped uniswap_v2/sushi pools. 5048 uniswap_v2/sushi pools remaining\n",
      "2023-07-31 06:17:09,387 [fastlane:INFO] - Unmapped uniswap_v2/sushi pools:\n",
      "2023-07-31 06:17:09,747 [fastlane:INFO] - uniswap_v3: 0\n",
      "2023-07-31 06:17:09,747 [fastlane:INFO] - uniswap_v2: 122\n",
      "2023-07-31 06:17:09,747 [fastlane:INFO] - sushiswap_v2: 0\n",
      "2023-07-31 06:17:21,848 [fastlane:INFO] - Fetching events from 17813229 to 17813232... 17813229\n",
      "2023-07-31 06:17:21,848 [fastlane:INFO] - Using cached events\n",
      "2023-07-31 06:17:21,849 [fastlane:INFO] - Found 25 new events\n",
      "2023-07-31 06:17:24,336 [fastlane:INFO] - Initializing the bot...\n",
      "2023-07-31 06:17:24,448 [fastlane:INFO] - Removed 122 unmapped uniswap_v2/sushi pools. 5048 uniswap_v2/sushi pools remaining\n",
      "2023-07-31 06:17:24,448 [fastlane:INFO] - Unmapped uniswap_v2/sushi pools:\n",
      "2023-07-31 06:17:24,799 [fastlane:INFO] - uniswap_v3: 0\n",
      "2023-07-31 06:17:24,799 [fastlane:INFO] - uniswap_v2: 122\n",
      "2023-07-31 06:17:24,799 [fastlane:INFO] - sushiswap_v2: 0\n",
      "2023-07-31 06:17:24,802 [fastlane:INFO] - uniswap_v3: 11\n",
      "2023-07-31 06:17:24,802 [fastlane:INFO] - sushiswap_v2: 2\n",
      "2023-07-31 06:17:24,802 [fastlane:INFO] - uniswap_v2: 13\n",
      "2023-07-31 06:17:24,802 [fastlane:INFO] - bancor_v2: 0\n",
      "2023-07-31 06:17:24,802 [fastlane:INFO] - bancor_v3: 34\n",
      "2023-07-31 06:17:24,802 [fastlane:INFO] - carbon_v1: 251\n",
      "2023-07-31 06:17:24,818 [fastlane:INFO] - uniswap_v3_zero_liquidity_pools: 1483\n",
      "2023-07-31 06:17:24,818 [fastlane:INFO] - sushiswap_v2_zero_liquidity_pools: 87\n",
      "2023-07-31 06:17:24,819 [fastlane:INFO] - uniswap_v2_zero_liquidity_pools: 3130\n",
      "2023-07-31 06:17:24,819 [fastlane:INFO] - bancor_v2_zero_liquidity_pools: 0\n",
      "2023-07-31 06:17:24,819 [fastlane:INFO] - bancor_v3_zero_liquidity_pools: 37\n",
      "2023-07-31 06:17:24,819 [fastlane:INFO] - carbon_v1_zero_liquidity_pools: 0\n",
      "2023-07-31 06:17:24,819 [fastlane:INFO] - Removed 0 unsupported exchanges. 311 pools remaining\n",
      "2023-07-31 06:17:24,819 [fastlane:INFO] - Pools remaining per exchange:\n",
      "2023-07-31 06:17:24,819 [fastlane:INFO] - carbon_v1: 251\n",
      "2023-07-31 06:17:24,819 [fastlane:INFO] - bancor_v3: 34\n",
      "2023-07-31 06:17:24,819 [fastlane:INFO] - uniswap_v3: 11\n",
      "2023-07-31 06:17:24,819 [fastlane:INFO] - uniswap_v2: 13\n",
      "2023-07-31 06:17:24,819 [fastlane:INFO] - sushiswap_v2: 2\n",
      "2023-07-31 06:17:24,833 [fastlane:INFO] - Transactions will be required to pass data validation for b3_two_hop\n",
      "2023-07-31 06:17:24,833 [fastlane:WARNING] - base_exchange must be bancor_v3 for b3_two_hop, setting it to bancor_v3\n",
      "2023-07-31 06:17:24,834 [fastlane:INFO] - flashloan_tokens for arb_mode=b3_two_hop will be overwritten. \n",
      "2023-07-31 06:17:25,057 [fastlane:INFO] - No eligible arb opportunities.\n"
     ]
    },
    {
     "name": "stdout",
     "output_type": "stream",
     "text": [
      "timeout: 45\n",
      "timeout: 45\n"
     ]
    },
    {
     "name": "stderr",
     "output_type": "stream",
     "text": [
      "2023-07-31 06:17:37,063 [fastlane:INFO] - Timeout hit... stopping bot\n"
     ]
    }
   ],
   "source": [
    "expected_log_line = \"Transactions will be required to pass data validation for\"\n",
    "arb_mode = \"b3_two_hop\"\n",
    "run_command(arb_mode=arb_mode, expected_log_line=expected_log_line)"
   ]
  }
 ],
 "metadata": {
  "kernelspec": {
   "display_name": "Python 3 (ipykernel)",
   "language": "python",
   "name": "python3"
  },
  "language_info": {
   "codemirror_mode": {
    "name": "ipython",
    "version": 3
   },
   "file_extension": ".py",
   "mimetype": "text/x-python",
   "name": "python",
   "nbconvert_exporter": "python",
   "pygments_lexer": "ipython3",
   "version": "3.9.17"
  }
 },
 "nbformat": 4,
 "nbformat_minor": 5
}
