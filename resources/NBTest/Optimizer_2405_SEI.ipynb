{
 "cells": [
  {
   "cell_type": "code",
   "execution_count": 1,
   "id": "7c4e7ad0-9280-41ee-85b2-f4461058398b",
   "metadata": {
    "tags": []
   },
   "outputs": [
    {
     "name": "stdout",
     "output_type": "stream",
     "text": [
      "SimplePair v2.2 (30/Apr/2024)\n",
      "ConstantProductCurve v3.6 (02/May/2024)\n",
      "CPCContainer v3.6 (02/May/2024)\n",
      "CPCArbOptimizer v5.2 (02/May/2024)\n",
      "PairOptimizer v6.0.1 (21/Sep/2023)\n",
      "MargPOptimizer v5.4 (02/May/2024)\n"
     ]
    }
   ],
   "source": [
    "try:\n",
    "    from fastlane_bot.tools.simplepair import SimplePair\n",
    "    from fastlane_bot.tools.cpc import ConstantProductCurve, CPCContainer\n",
    "    from fastlane_bot.tools.optimizer import CPCArbOptimizer, PairOptimizer, MargPOptimizer\n",
    "except:\n",
    "    from tools.simplepair import SimplePair\n",
    "    from tools.cpc import ConstantProductCurve, CPCContainer\n",
    "    from tools.optimizer import CPCArbOptimizer, PairOptimizer, MargPOptimizer\n",
    "CPC = ConstantProductCurve\n",
    "\n",
    "import pandas as pd\n",
    "\n",
    "print(\"{0.__name__} v{0.__VERSION__} ({0.__DATE__})\".format(SimplePair))\n",
    "print(\"{0.__name__} v{0.__VERSION__} ({0.__DATE__})\".format(CPC))\n",
    "print(\"{0.__name__} v{0.__VERSION__} ({0.__DATE__})\".format(CPCContainer))\n",
    "print(\"{0.__name__} v{0.__VERSION__} ({0.__DATE__})\".format(CPCArbOptimizer))\n",
    "print(\"{0.__name__} v{0.__VERSION__} ({0.__DATE__})\".format(PairOptimizer))\n",
    "print(\"{0.__name__} v{0.__VERSION__} ({0.__DATE__})\".format(MargPOptimizer))"
   ]
  },
  {
   "cell_type": "markdown",
   "id": "7f38c5d2-6f6e-402c-b1a5-0fa00cf88f9a",
   "metadata": {
    "tags": []
   },
   "source": [
    "### >> Enter curves\n"
   ]
  },
  {
   "cell_type": "markdown",
   "id": "3dba2d86-b804-4d51-aa2b-7d53ebd49b7d",
   "metadata": {},
   "source": [
    "`CurvesRaw1` is the original curve set exhibiting the convergence problem"
   ]
  },
  {
   "cell_type": "code",
   "execution_count": 2,
   "id": "5c244d95-da00-449f-a879-ace4b5523a22",
   "metadata": {
    "tags": []
   },
   "outputs": [],
   "source": [
    "CurvesRaw1 = [\n",
    "    ConstantProductCurve(k=27518385.40998667, x=1272.2926367501436, x_act=0, y_act=2000.9999995236503, alpha=0.5, pair='0x514910771AF9Ca656af840dff83E8264EcF986CA/0x8E870D67F660D95d5be530380D0eC0bd388289E1', cid='0x425d5d4ad7243f88d9f4cde8da52863b45af1f64e05bede1299909bcaa6c52d1-0', fee=2000, descr='carbon_v1 0x514910771AF9Ca656af840dff83E8264EcF986CA\\\\/0x8E870D67F660D95d5be530380D0eC0bd388289E1 2000', constr='carb', params={'exchange': 'carbon_v1', 'y': 2000.9999995236503, 'yint': 2000.9999995236503, 'A': 0.38144823884371704, 'B': 3.7416573867739373, 'pa': 16.99999999999995, 'pb': 13.99999999999997}),\n",
    "    ConstantProductCurve(k=6.160500599566333e+18, x=11099999985.149971, x_act=0, y_act=55.50000002646446, alpha=0.5, pair='0x8E870D67F660D95d5be530380D0eC0bd388289E1/0x514910771AF9Ca656af840dff83E8264EcF986CA', cid='0x425d5d4ad7243f88d9f4cde8da52863b45af1f64e05bede1299909bcaa6c52d1-1', fee=2000, descr='carbon_v1 0x514910771AF9Ca656af840dff83E8264EcF986CA\\\\/0x8E870D67F660D95d5be530380D0eC0bd388289E1 2000', constr='carb', params={'exchange': 'carbon_v1', 'y': 55.50000002646446, 'yint': 55.50000002646446, 'A': 0, 'B': 0.22360678656963742, 'pa': 0.04999999999999889, 'pb': 0.04999999999999889}),\n",
    "    ConstantProductCurve(k=14449532.299465338, x=57487.82879658422, x_act=0, y_act=5.0, alpha=0.5, pair='0x514910771AF9Ca656af840dff83E8264EcF986CA/0xC02aaA39b223FE8D0A0e5C4F27eAD9083C756Cc2', cid='0x3fcccfe0063b71fc973fab8dea39b6be9da80125910c10e57b924b3e4687295a-0', fee=2000, descr='carbon_v1 0x514910771AF9Ca656af840dff83E8264EcF986CA/0xC02aaA39b223FE8D0A0e5C4F27eAD9083C756Cc2 2000', constr='carb', params={'exchange': 'carbon_v1', 'y': 5.0, 'yint': 8.582730309868262, 'A': 0.002257868117407469, 'B': 0.06480740698407672, 'pa': 0.004497751124437756, 'pb': 0.004199999999999756}),\n",
    "    ConstantProductCurve(k=14456757.06563651, x=251.4750925240284, x_act=0, y_act=807.9145301701096, alpha=0.5, pair='0xC02aaA39b223FE8D0A0e5C4F27eAD9083C756Cc2/0x514910771AF9Ca656af840dff83E8264EcF986CA', cid='0x3fcccfe0063b71fc973fab8dea39b6be9da80125910c10e57b924b3e4687295a-1', fee=2000, descr='carbon_v1 0x514910771AF9Ca656af840dff83E8264EcF986CA/0xC02aaA39b223FE8D0A0e5C4F27eAD9083C756Cc2 2000', constr='carb', params={'exchange': 'carbon_v1', 'y': 807.9145301701096, 'yint': 1974.7090228584536, 'A': 0.519359008452966, 'B': 14.907119849998594, 'pa': 237.97624997025295, 'pb': 222.22222222222211}),\n",
    "    ConstantProductCurve(k=56087178.30932376, x=131.6236694086859, x_act=0, y_act=15920.776548455418, alpha=0.5, pair='0xC02aaA39b223FE8D0A0e5C4F27eAD9083C756Cc2/0x8E870D67F660D95d5be530380D0eC0bd388289E1', cid='0x6cc4b198ec4cf17fdced081b5611279be73e200711238068b5340e606ba86646-0', fee=2000, descr='carbon_v1 0xC02aaA39b223FE8D0A0e5C4F27eAD9083C756Cc2\\\\/0x8E870D67F660D95d5be530380D0eC0bd388289E1 2000', constr='carb', params={'exchange': 'carbon_v1', 'y': 15920.776548455418, 'yint': 32755.67010983316, 'A': 4.373757425036729, 'B': 54.77225575051648, 'pa': 3498.2508745627138, 'pb': 2999.9999999999854}),\n",
    "    ConstantProductCurve(k=56059148.73497429, x=426117.72306081816, x_act=0, y_act=5.0, alpha=0.5, pair='0x8E870D67F660D95d5be530380D0eC0bd388289E1/0xC02aaA39b223FE8D0A0e5C4F27eAD9083C756Cc2', cid='0x6cc4b198ec4cf17fdced081b5611279be73e200711238068b5340e606ba86646-1', fee=2000, descr='carbon_v1 0xEeeeeEeeeEeEeeEeEeEeeEEEeeeeEeeeeeeeEEeE\\\\/0x8E870D67F660D95d5be530380D0eC0bd388289E1 2000', constr='carb', params={'exchange': 'carbon_v1', 'y': 5.0, 'yint': 10.106093048875099, 'A': 0.0013497708452092638, 'B': 0.016903085094568837, 'pa': 0.0003331667499582927, 'pb': 0.0002857142857142352})\n",
    "]\n",
    "CCRaw1 = CPCContainer(CurvesRaw1)"
   ]
  },
  {
   "cell_type": "markdown",
   "id": "2163489b-5228-457f-85ee-9813cc66d01f",
   "metadata": {},
   "source": [
    "`CurvesRaw2` is a modified curve set designed to address the problem. On those the algo should converge without issue."
   ]
  },
  {
   "cell_type": "code",
   "execution_count": 3,
   "id": "ce07977c-37b2-4923-a669-68cd65d95b4d",
   "metadata": {
    "tags": []
   },
   "outputs": [],
   "source": [
    "CurvesRaw2 = [\n",
    "    ConstantProductCurve(k=27518385.40998667, x=1272.2926367501436, x_act=0, y_act=2000.9999995236503, alpha=0.5, pair='0x514910771AF9Ca656af840dff83E8264EcF986CA/0x8E870D67F660D95d5be530380D0eC0bd388289E1', cid='0x6673a1e11aed37f08479f05b6f8e492eea344f4b21fa5cdfc2abb58d0a0339f6-0', fee=2000.0, descr='carbon_v1 0x514910771AF9Ca656af840dff83E8264EcF986CA/0x8E870D67F660D95d5be530380D0eC0bd388289E1 2000', constr='carb', params={'exchange': 'carbon_v1', 'tknx_dec': 18, 'tkny_dec': 18, 'tknx_addr': '0x514910771AF9Ca656af840dff83E8264EcF986CA', 'tkny_addr': '0x8E870D67F660D95d5be530380D0eC0bd388289E1', 'blocklud': 19764257, 'y': 2000.9999995236503, 'yint': 2000.9999995236503, 'A': 0.38144823884371704, 'B': 3.7416573867739373, 'pa': 16.99999999999995, 'pb': 13.99999999999997, 'minrw': 1e-06}), \n",
    "    ConstantProductCurve(k=14269669.033092778, x=57121.7742265515, x_act=0, y_act=5.0, alpha=0.5, pair='0x514910771AF9Ca656af840dff83E8264EcF986CA/0xC02aaA39b223FE8D0A0e5C4F27eAD9083C756Cc2', cid='0x4ffa6a02bd60761adfa89906bf3aa7dbcc862702c1f19385ac1663b0e7222432-0', fee=2000.0, descr='carbon_v1 0x514910771AF9Ca656af840dff83E8264EcF986CA/0xEeeeeEeeeEeEeeEeEeEeeEEEeeeeEeeeeeeeEEeE 2000', constr='carb', params={'exchange': 'carbon_v1', 'tknx_dec': 18, 'tkny_dec': 18, 'tknx_addr': '0x514910771AF9Ca656af840dff83E8264EcF986CA', 'tkny_addr': '0xEeeeeEeeeEeEeeEeEeEeeEEEeeeeEeeeeeeeEEeE', 'blocklud': 19764256, 'y': 5.0, 'yint': 8.529145462309762, 'A': 0.002257868117407469, 'B': 0.06480740698407672, 'pa': 0.004497751124437756, 'pb': 0.004199999999999756, 'minrw': 1e-06}), \n",
    "    ConstantProductCurve(k=14203024.226426456, x=249.22733623585125, x_act=0, y_act=807.9145301701096, alpha=0.5, pair='0xC02aaA39b223FE8D0A0e5C4F27eAD9083C756Cc2/0x514910771AF9Ca656af840dff83E8264EcF986CA', cid='0x4ffa6a02bd60761adfa89906bf3aa7dbcc862702c1f19385ac1663b0e7222432-1', fee=2000.0, descr='carbon_v1 0x514910771AF9Ca656af840dff83E8264EcF986CA/0xEeeeeEeeeEeEeeEeEeEeeEEEeeeeEeeeeeeeEEeE 2000', constr='carb', params={'exchange': 'carbon_v1', 'tknx_dec': 18, 'tkny_dec': 18, 'tknx_addr': '0x514910771AF9Ca656af840dff83E8264EcF986CA', 'tkny_addr': '0xEeeeeEeeeEeEeeEeEeEeeEEEeeeeEeeeeeeeEEeE', 'blocklud': 19764256, 'y': 807.9145301701096, 'yint': 1957.3030953877023, 'A': 0.519359008452966, 'B': 14.907119849998594, 'pa': 237.97624997025295, 'pb': 222.22222222222211, 'minrw': 1e-06}), \n",
    "    ConstantProductCurve(k=55713831.26523774, x=131.16846526787972, x_act=0, y_act=15920.776548455418, alpha=0.5, pair='0xC02aaA39b223FE8D0A0e5C4F27eAD9083C756Cc2/0x8E870D67F660D95d5be530380D0eC0bd388289E1', cid='0xd53681c4f9860ae4353eda47246af69840efbc971f62fa2e30a8426145345f0b-0', fee=2000.0, descr='carbon_v1 0xEeeeeEeeeEeEeeEeEeEeeEEEeeeeEeeeeeeeEEeE/0x8E870D67F660D95d5be530380D0eC0bd388289E1 2000', constr='carb', params={'exchange': 'carbon_v1', 'tknx_dec': 18, 'tkny_dec': 18, 'tknx_addr': '0xEeeeeEeeeEeEeeEeEeEeeEEEeeeeEeeeeeeeEEeE', 'tkny_addr': '0x8E870D67F660D95d5be530380D0eC0bd388289E1', 'blocklud': 19764263, 'y': 15920.776548455418, 'yint': 32646.46821984497, 'A': 4.373757425036729, 'B': 54.77225575051648, 'pa': 3498.2508745627138, 'pb': 2999.9999999999854, 'minrw': 1e-06}), \n",
    "    ConstantProductCurve(k=55692277.270269215, x=424668.0260493125, x_act=0, y_act=5.0, alpha=0.5, pair='0x8E870D67F660D95d5be530380D0eC0bd388289E1/0xC02aaA39b223FE8D0A0e5C4F27eAD9083C756Cc2', cid='0xd53681c4f9860ae4353eda47246af69840efbc971f62fa2e30a8426145345f0b-1', fee=2000.0, descr='carbon_v1 0xEeeeeEeeeEeEeeEeEeEeeEEEeeeeEeeeeeeeEEeE/0x8E870D67F660D95d5be530380D0eC0bd388289E1 2000', constr='carb', params={'exchange': 'carbon_v1', 'tknx_dec': 18, 'tkny_dec': 18, 'tknx_addr': '0xEeeeeEeeeEeEeeEeEeEeeEEEeeeeEeeeeeeeEEeE', 'tkny_addr': '0x8E870D67F660D95d5be530380D0eC0bd388289E1', 'blocklud': 19764263, 'y': 5.0, 'yint': 10.072969792409115, 'A': 0.0013497708452092638, 'B': 0.016903085094568837, 'pa': 0.0003331667499582927, 'pb': 0.0002857142857142352, 'minrw': 1e-06})\n",
    "]\n",
    "CCRaw2 = CPCContainer(CurvesRaw2)"
   ]
  },
  {
   "cell_type": "markdown",
   "id": "961f17f5-6286-4f4c-8bc3-9721811b50b1",
   "metadata": {},
   "source": [
    "### >> Enter prices"
   ]
  },
  {
   "cell_type": "code",
   "execution_count": 4,
   "id": "5fc55588-ec8b-4bdc-9482-4fc97d909c2e",
   "metadata": {},
   "outputs": [],
   "source": [
    "PRICES_RAW = {\n",
    "    '0x8E870D67F660D95d5be530380D0eC0bd388289E1': 0.0003087360213944532, \n",
    "    '0x514910771AF9Ca656af840dff83E8264EcF986CA': 0.004372219704179475,\n",
    "    '0xC02aaA39b223FE8D0A0e5C4F27eAD9083C756Cc2': 1,\n",
    "    #'0xEeeeeEeeeEeEeeEeEeEeeEEEeeeeEeeeeeeeEEeE': 1,\n",
    "}"
   ]
  },
  {
   "cell_type": "markdown",
   "id": "90127233-847b-4719-8f45-76638e5776d7",
   "metadata": {},
   "source": [
    "### >> Enter tokens\n"
   ]
  },
  {
   "cell_type": "code",
   "execution_count": 5,
   "id": "747c1dbf-d821-4214-8aa6-c1412bffeb50",
   "metadata": {
    "tags": []
   },
   "outputs": [
    {
     "data": {
      "text/plain": [
       "'0xC02aaA39b223FE8D0A0e5C4F27eAD9083C756Cc2'"
      ]
     },
     "execution_count": 5,
     "metadata": {},
     "output_type": "execute_result"
    }
   ],
   "source": [
    "TOKENS = {\n",
    "    \"0xC02aaA39b223FE8D0A0e5C4F27eAD9083C756Cc2\": \"ETH\",\n",
    "    #\"0xEeeeeEeeeEeEeeEeEeEeeEEEeeeeEeeeeeeeEEeE\": \"ETH\",\n",
    "    \"0x514910771AF9Ca656af840dff83E8264EcF986CA\": \"LINK\",\n",
    "    \"0x8E870D67F660D95d5be530380D0eC0bd388289E1\": \"USDP\",\n",
    "}\n",
    "\n",
    "TARGET_TOKEN_RAW = list(TOKENS)[0]\n",
    "TARGET_TOKEN_RAW"
   ]
  },
  {
   "cell_type": "markdown",
   "id": "8bba7e8a-dbf8-4a89-9ee8-686afbef9901",
   "metadata": {},
   "source": [
    "### >>> Run optimizer\n",
    "\n",
    "this run diverges (see the excessive result, 8.69 ETH)"
   ]
  },
  {
   "cell_type": "code",
   "execution_count": 24,
   "id": "a49a49f8-b3e4-49c4-b991-c3cd8a123658",
   "metadata": {
    "tags": []
   },
   "outputs": [
    {
     "name": "stdout",
     "output_type": "stream",
     "text": [
      "8.693167770410668\n"
     ]
    },
    {
     "data": {
      "text/plain": [
       "CPCArbOptimizer.MargpOptimizerResult(result=8.693167770410668, time=0.006119966506958008, method='margp', targettkn='0xC02aaA39b223FE8D0A0e5C4F27eAD9083C756Cc2', p_optimal_t=(1.1199678720803443e+103, 9.79483400374927e+104), dtokens_t=(-14810.776548455411, -863.4145301701064), tokens_t=('0x8E870D67F660D95d5be530380D0eC0bd388289E1', '0x514910771AF9Ca656af840dff83E8264EcF986CA'), errormsg=None)"
      ]
     },
     "execution_count": 24,
     "metadata": {},
     "output_type": "execute_result"
    }
   ],
   "source": [
    "O = MargPOptimizer(CCRaw1)\n",
    "r = O.optimize(sfc=TARGET_TOKEN_RAW, params=dict(pstart=PRICES_RAW))\n",
    "print(r.result)\n",
    "r"
   ]
  },
  {
   "cell_type": "markdown",
   "id": "ee874a6e-db07-440a-9acc-0223752214ad",
   "metadata": {},
   "source": [
    "for reference, one the second curve set it converges (see result, 0.047 ETH)"
   ]
  },
  {
   "cell_type": "code",
   "execution_count": 25,
   "id": "828c302d-1753-4104-a80d-4a1bc77bfcc3",
   "metadata": {},
   "outputs": [
    {
     "name": "stdout",
     "output_type": "stream",
     "text": [
      "-0.047419352862874575\n"
     ]
    },
    {
     "data": {
      "text/plain": [
       "CPCArbOptimizer.MargpOptimizerResult(result=-0.047419352862874575, time=0.0018470287322998047, method='margp', targettkn='0xC02aaA39b223FE8D0A0e5C4F27eAD9083C756Cc2', p_optimal_t=(0.00030626007218662943, 0.004390730744944804), dtokens_t=(1.5752448234707117e-09, 8.185452315956354e-11), tokens_t=('0x8E870D67F660D95d5be530380D0eC0bd388289E1', '0x514910771AF9Ca656af840dff83E8264EcF986CA'), errormsg=None)"
      ]
     },
     "execution_count": 25,
     "metadata": {},
     "output_type": "execute_result"
    }
   ],
   "source": [
    "O = MargPOptimizer(CCRaw2)\n",
    "r = O.optimize(sfc=TARGET_TOKEN_RAW, params=dict(pstart=PRICES_RAW))\n",
    "print(r.result)\n",
    "r"
   ]
  },
  {
   "cell_type": "markdown",
   "id": "2659688e-c3f0-40b0-a6f4-84e81ebe8f78",
   "metadata": {},
   "source": [
    "This code runs with a wider Jacobian (`jach=...`). It converges."
   ]
  },
  {
   "cell_type": "code",
   "execution_count": 29,
   "id": "236e3890-7a87-4cec-a93a-f56a095f72c8",
   "metadata": {
    "tags": []
   },
   "outputs": [
    {
     "name": "stdout",
     "output_type": "stream",
     "text": [
      "-0.047176345331450875\n"
     ]
    },
    {
     "data": {
      "text/plain": [
       "CPCArbOptimizer.MargpOptimizerResult(result=-0.047176345331450875, time=0.00475001335144043, method='margp', targettkn='0xC02aaA39b223FE8D0A0e5C4F27eAD9083C756Cc2', p_optimal_t=(0.00030619796931423594, 0.0043916331358292504), dtokens_t=(0.0004883671354036778, 9.577247283232282e-06), tokens_t=('0x8E870D67F660D95d5be530380D0eC0bd388289E1', '0x514910771AF9Ca656af840dff83E8264EcF986CA'), errormsg=None)"
      ]
     },
     "execution_count": 29,
     "metadata": {},
     "output_type": "execute_result"
    }
   ],
   "source": [
    "O = MargPOptimizer(CCRaw1)\n",
    "r = O.optimize(sfc=TARGET_TOKEN_RAW, params=dict(pstart=PRICES_RAW, jach=0.001))\n",
    "print(r.result)\n",
    "r"
   ]
  },
  {
   "cell_type": "markdown",
   "id": "f4844ce6-dffa-4d79-b631-6b5fa8ff17a2",
   "metadata": {},
   "source": [
    "### >>> Preprocessing"
   ]
  },
  {
   "cell_type": "code",
   "execution_count": 8,
   "id": "b1a6af0f-89b0-443d-81cb-fcfea6722441",
   "metadata": {},
   "outputs": [],
   "source": [
    "def replace_tokens(dct):\n",
    "    \"\"\"replaces the token address with the token name in dct\"\"\"\n",
    "    tkns = dct[\"pair\"].split(\"/\")\n",
    "    for i in range(len(tkns)):\n",
    "        #tkns[i] = TOKENS.get(tkns[i]) or tkns[i]\n",
    "        tkns[i] = TOKENS[tkns[i]]\n",
    "    dct[\"pair\"] = \"/\".join(tkns)\n",
    "    return dct"
   ]
  },
  {
   "cell_type": "code",
   "execution_count": 9,
   "id": "f7651ba3-2fb2-444f-9971-779326ae4758",
   "metadata": {
    "tags": []
   },
   "outputs": [
    {
     "data": {
      "text/plain": [
       "{'USDP': 0.0003087360213944532, 'LINK': 0.004372219704179475, 'ETH': 1}"
      ]
     },
     "execution_count": 9,
     "metadata": {},
     "output_type": "execute_result"
    }
   ],
   "source": [
    "CC1 = CPCContainer.from_dicts([replace_tokens(d) for d in CCRaw1.asdicts()])\n",
    "CC2 = CPCContainer.from_dicts([replace_tokens(d) for d in CCRaw2.asdicts()])\n",
    "PRICES = {TOKENS[addr]:price for addr, price in PRICES_RAW.items()}\n",
    "TARGET_TOKEN = TOKENS[TARGET_TOKEN_RAW]\n",
    "PRICES"
   ]
  },
  {
   "cell_type": "code",
   "execution_count": 10,
   "id": "c7ce8e24-8ee6-48c0-bccd-0d268873128c",
   "metadata": {},
   "outputs": [],
   "source": [
    "def p(pair=None, *, tknb=None, tknq=None, prices=None):\n",
    "    \"price of tknb in terms of tknq\"\n",
    "    if not pair is None:\n",
    "        tknb, tknq = pair.split(\"/\")\n",
    "    p = prices or PRICES\n",
    "    return p[tknb]/p[tknq]"
   ]
  },
  {
   "cell_type": "markdown",
   "id": "9906cde3-7c6b-47dd-b322-c342189281d9",
   "metadata": {},
   "source": [
    "The code below ensures that in ETH/LINK, LINK is the quote token and ETH the base token (for better price displays)"
   ]
  },
  {
   "cell_type": "code",
   "execution_count": 11,
   "id": "9366ca04-201c-448d-8db3-62b17946fdd9",
   "metadata": {
    "tags": []
   },
   "outputs": [],
   "source": [
    "SimplePair.NUMERAIRE_TOKENS[\"LINK\"] = SimplePair.NUMERAIRE_TOKENS[\"ETH\"] - 1\n",
    "#SimplePair.NUMERAIRE_TOKENS"
   ]
  },
  {
   "cell_type": "markdown",
   "id": "f8d51655-c7d6-4966-ad44-e002dc4aca62",
   "metadata": {},
   "source": [
    "## Curves"
   ]
  },
  {
   "cell_type": "code",
   "execution_count": 12,
   "id": "85bf7a11-3c89-4daa-885f-b001796b6794",
   "metadata": {},
   "outputs": [],
   "source": [
    "CC = CC1"
   ]
  },
  {
   "cell_type": "code",
   "execution_count": 13,
   "id": "248d58be-fc70-4b24-a8c2-0cc3d59d54e9",
   "metadata": {
    "tags": []
   },
   "outputs": [
    {
     "name": "stdout",
     "output_type": "stream",
     "text": [
      "Num curves:    6\n",
      "Pairs:         {'ETH/USDP', 'ETH/LINK', 'LINK/USDP'}\n",
      "Target token:  ETH\n"
     ]
    }
   ],
   "source": [
    "print(\"Num curves:   \", len(CC))\n",
    "print(\"Pairs:        \", set(c.pairo.primary_n for c in CC))\n",
    "print(\"Target token: \", TARGET_TOKEN)"
   ]
  },
  {
   "cell_type": "code",
   "execution_count": 14,
   "id": "4dd5ccb9-f1a8-4d1b-8965-fc08021dd9a9",
   "metadata": {
    "tags": []
   },
   "outputs": [],
   "source": [
    "PRICE_DECIMALS = 2\n",
    "curvedata = [dict(\n",
    "    cid0 = f\"{c.cid[2:6]}{c.cid[-2:]}\",\n",
    "    exch = c.params['exchange'],\n",
    "    pair = c.pairo.primary_n,\n",
    "    mktp = round(p(c.pairo.primary_n), PRICE_DECIMALS),\n",
    "    bs = c.buysell(),\n",
    "    tkn = c.pairo.primary_tknb,\n",
    "    p = round(c.primaryp(), PRICE_DECIMALS),\n",
    "    p_min = round(c.p_min_primary(), PRICE_DECIMALS),\n",
    "    p_max = round(c.p_max_primary(), PRICE_DECIMALS),\n",
    "    tknp = p(tknb=c.pairo.primary_tknb, tknq=TARGET_TOKEN),\n",
    "    wbp = max(int((c.p_max_primary()/c.p_min_primary() - 1)*10000), 1),\n",
    "    liq = round(c.tvl(tkn=c.pairo.primary_tknb), 2),\n",
    "    liqtt = round(c.x_act*p(tknb=c.tknx, tknq=TARGET_TOKEN) + c.y_act*p(tknb=c.tkny, tknq=TARGET_TOKEN), 2),\n",
    ") for c in CC]\n",
    "#curvedata"
   ]
  },
  {
   "cell_type": "markdown",
   "id": "907431f0-9bb0-467d-9230-154e92a0e259",
   "metadata": {
    "tags": []
   },
   "source": [
    "- `cid0`: shortened CID (same as in `debug_tkn2`)\n",
    "- `exch`: the type of the curve / exchange in question\n",
    "- `pair`: the normalized pair of the curve\n",
    "- `mktp`: the current market price of that pair (according to `PRICES_RAW`)\n",
    "- `bs`: whether curves buys (\"b\"),  sells (\"s\") the primary tokenm, or both\n",
    "- `tkn`: the primary token (base token of primary pair)\n",
    "- `p`, `p_min`, `p_max`: the current / minimum / maximum price of the curve\n",
    "- `tknp`: the price of `tkn` (as above) in terms of `TARGET_TOKEN`, as per the market price\n",
    "- `wbp`: width of the range (p_max/p_min) in basis points \n",
    "- `liq`: liquidity (in units of `tkn` as defined above; converted at curve price)\n",
    "- `liqtt`: total curve liquidity (in `TARGET_TOKEN` units; converted at `mktp`)\n"
   ]
  },
  {
   "cell_type": "code",
   "execution_count": 15,
   "id": "3deeac05-5364-413c-a93a-c9fe9f218c79",
   "metadata": {
    "tags": []
   },
   "outputs": [
    {
     "data": {
      "text/html": [
       "<div>\n",
       "<style scoped>\n",
       "    .dataframe tbody tr th:only-of-type {\n",
       "        vertical-align: middle;\n",
       "    }\n",
       "\n",
       "    .dataframe tbody tr th {\n",
       "        vertical-align: top;\n",
       "    }\n",
       "\n",
       "    .dataframe thead th {\n",
       "        text-align: right;\n",
       "    }\n",
       "</style>\n",
       "<table border=\"1\" class=\"dataframe\">\n",
       "  <thead>\n",
       "    <tr style=\"text-align: right;\">\n",
       "      <th></th>\n",
       "      <th>cid0</th>\n",
       "      <th>exch</th>\n",
       "      <th>pair</th>\n",
       "      <th>mktp</th>\n",
       "      <th>bs</th>\n",
       "      <th>tkn</th>\n",
       "      <th>p</th>\n",
       "      <th>p_min</th>\n",
       "      <th>p_max</th>\n",
       "      <th>tknp</th>\n",
       "      <th>wbp</th>\n",
       "      <th>liq</th>\n",
       "      <th>liqtt</th>\n",
       "    </tr>\n",
       "  </thead>\n",
       "  <tbody>\n",
       "    <tr>\n",
       "      <th>0</th>\n",
       "      <td>425d-0</td>\n",
       "      <td>carbon_v1</td>\n",
       "      <td>LINK/USDP</td>\n",
       "      <td>14.16</td>\n",
       "      <td>b</td>\n",
       "      <td>LINK</td>\n",
       "      <td>17.00</td>\n",
       "      <td>14.00</td>\n",
       "      <td>17.00</td>\n",
       "      <td>0.004372</td>\n",
       "      <td>2142</td>\n",
       "      <td>117.71</td>\n",
       "      <td>0.62</td>\n",
       "    </tr>\n",
       "    <tr>\n",
       "      <th>1</th>\n",
       "      <td>425d-1</td>\n",
       "      <td>carbon_v1</td>\n",
       "      <td>LINK/USDP</td>\n",
       "      <td>14.16</td>\n",
       "      <td>s</td>\n",
       "      <td>LINK</td>\n",
       "      <td>20.00</td>\n",
       "      <td>20.00</td>\n",
       "      <td>20.00</td>\n",
       "      <td>0.004372</td>\n",
       "      <td>1</td>\n",
       "      <td>55.50</td>\n",
       "      <td>0.24</td>\n",
       "    </tr>\n",
       "    <tr>\n",
       "      <th>2</th>\n",
       "      <td>3fcc-0</td>\n",
       "      <td>carbon_v1</td>\n",
       "      <td>ETH/LINK</td>\n",
       "      <td>228.72</td>\n",
       "      <td>s</td>\n",
       "      <td>ETH</td>\n",
       "      <td>228.72</td>\n",
       "      <td>228.72</td>\n",
       "      <td>238.10</td>\n",
       "      <td>1.000000</td>\n",
       "      <td>410</td>\n",
       "      <td>5.00</td>\n",
       "      <td>5.00</td>\n",
       "    </tr>\n",
       "    <tr>\n",
       "      <th>3</th>\n",
       "      <td>3fcc-1</td>\n",
       "      <td>carbon_v1</td>\n",
       "      <td>ETH/LINK</td>\n",
       "      <td>228.72</td>\n",
       "      <td>b</td>\n",
       "      <td>ETH</td>\n",
       "      <td>228.60</td>\n",
       "      <td>222.22</td>\n",
       "      <td>228.60</td>\n",
       "      <td>1.000000</td>\n",
       "      <td>287</td>\n",
       "      <td>3.53</td>\n",
       "      <td>3.53</td>\n",
       "    </tr>\n",
       "    <tr>\n",
       "      <th>4</th>\n",
       "      <td>6cc4-0</td>\n",
       "      <td>carbon_v1</td>\n",
       "      <td>ETH/USDP</td>\n",
       "      <td>3239.01</td>\n",
       "      <td>b</td>\n",
       "      <td>ETH</td>\n",
       "      <td>3237.39</td>\n",
       "      <td>3000.00</td>\n",
       "      <td>3237.39</td>\n",
       "      <td>1.000000</td>\n",
       "      <td>791</td>\n",
       "      <td>4.92</td>\n",
       "      <td>4.92</td>\n",
       "    </tr>\n",
       "    <tr>\n",
       "      <th>5</th>\n",
       "      <td>6cc4-1</td>\n",
       "      <td>carbon_v1</td>\n",
       "      <td>ETH/USDP</td>\n",
       "      <td>3239.01</td>\n",
       "      <td>s</td>\n",
       "      <td>ETH</td>\n",
       "      <td>3239.01</td>\n",
       "      <td>3239.01</td>\n",
       "      <td>3500.00</td>\n",
       "      <td>1.000000</td>\n",
       "      <td>805</td>\n",
       "      <td>5.00</td>\n",
       "      <td>5.00</td>\n",
       "    </tr>\n",
       "  </tbody>\n",
       "</table>\n",
       "</div>"
      ],
      "text/plain": [
       "     cid0       exch       pair     mktp bs   tkn        p    p_min    p_max  \\\n",
       "0  425d-0  carbon_v1  LINK/USDP    14.16  b  LINK    17.00    14.00    17.00   \n",
       "1  425d-1  carbon_v1  LINK/USDP    14.16  s  LINK    20.00    20.00    20.00   \n",
       "2  3fcc-0  carbon_v1   ETH/LINK   228.72  s   ETH   228.72   228.72   238.10   \n",
       "3  3fcc-1  carbon_v1   ETH/LINK   228.72  b   ETH   228.60   222.22   228.60   \n",
       "4  6cc4-0  carbon_v1   ETH/USDP  3239.01  b   ETH  3237.39  3000.00  3237.39   \n",
       "5  6cc4-1  carbon_v1   ETH/USDP  3239.01  s   ETH  3239.01  3239.01  3500.00   \n",
       "\n",
       "       tknp   wbp     liq  liqtt  \n",
       "0  0.004372  2142  117.71   0.62  \n",
       "1  0.004372     1   55.50   0.24  \n",
       "2  1.000000   410    5.00   5.00  \n",
       "3  1.000000   287    3.53   3.53  \n",
       "4  1.000000   791    4.92   4.92  \n",
       "5  1.000000   805    5.00   5.00  "
      ]
     },
     "execution_count": 15,
     "metadata": {},
     "output_type": "execute_result"
    }
   ],
   "source": [
    "curvedf = pd.DataFrame(curvedata)\n",
    "curvedf"
   ]
  },
  {
   "cell_type": "markdown",
   "id": "963c1045-22e5-43f6-bb5a-3e3fce6cf92e",
   "metadata": {},
   "source": [
    "Curves 2,3 and 4,5 are overlapping ranges with good liquidity that serve as a market for curve 1 which is the operational curve in this arbitrage. In fact, what we expect is\n",
    "\n",
    "- Curve 0 (`425d-0`) buys LINK for USDP from 17 down to 14\n",
    "- Curves 2-5 (`3fcc` and `6cc4`) sell LINK for USDP (via ETH) at 14.16 and above\n",
    "\n",
    "The expected price is somewhat above 14, depending on the capacity of the overlapping curves 2-5"
   ]
  },
  {
   "cell_type": "markdown",
   "id": "c39b25e9-e9af-4767-a144-42493a9a83e6",
   "metadata": {},
   "source": [
    "The approximate effective LINK/USDP price from the overlapping curves (buy and sell)"
   ]
  },
  {
   "cell_type": "code",
   "execution_count": 16,
   "id": "e9ced448-0a1b-4baf-9ec9-5d6414679b79",
   "metadata": {
    "tags": []
   },
   "outputs": [
    {
     "data": {
      "text/plain": [
       "14.161676661786817"
      ]
     },
     "execution_count": 16,
     "metadata": {},
     "output_type": "execute_result"
    }
   ],
   "source": [
    "3239.013043/228.716777"
   ]
  },
  {
   "cell_type": "markdown",
   "id": "f23ac41d-a71f-4d81-b9a7-5c7aee4c4fb3",
   "metadata": {},
   "source": [
    "The width of the overlapping ranges (2,3 and 4,5) in basis points"
   ]
  },
  {
   "cell_type": "code",
   "execution_count": 17,
   "id": "89b33db2-15cc-473b-8099-17f262e40674",
   "metadata": {
    "tags": []
   },
   "outputs": [
    {
     "data": {
      "text/plain": [
       "(4.999989588914122, 5.000002556068139)"
      ]
     },
     "execution_count": 17,
     "metadata": {},
     "output_type": "execute_result"
    }
   ],
   "source": [
    "(228.716777/228.602476-1)*10000, (3239.013043/3237.394345-1)*10000"
   ]
  },
  {
   "cell_type": "code",
   "execution_count": 18,
   "id": "34b47dce-a466-4a9a-9597-779b0942c647",
   "metadata": {
    "tags": []
   },
   "outputs": [
    {
     "data": {
      "text/plain": [
       "0.004321373782642578"
      ]
     },
     "execution_count": 18,
     "metadata": {},
     "output_type": "execute_result"
    }
   ],
   "source": [
    "import numpy as np\n",
    "np.log10(1.01)"
   ]
  },
  {
   "cell_type": "markdown",
   "id": "54d0478d-d748-4f9a-ae3a-753ab61cc8de",
   "metadata": {},
   "source": [
    "For reference, the CID dataframe `ciddf` (separate because the field is too long; can be joined to `curvedf` via index)"
   ]
  },
  {
   "cell_type": "code",
   "execution_count": 19,
   "id": "0cc8423f-726b-42f6-9144-2f1de1d98d12",
   "metadata": {
    "tags": []
   },
   "outputs": [
    {
     "data": {
      "text/html": [
       "<div>\n",
       "<style scoped>\n",
       "    .dataframe tbody tr th:only-of-type {\n",
       "        vertical-align: middle;\n",
       "    }\n",
       "\n",
       "    .dataframe tbody tr th {\n",
       "        vertical-align: top;\n",
       "    }\n",
       "\n",
       "    .dataframe thead th {\n",
       "        text-align: right;\n",
       "    }\n",
       "</style>\n",
       "<table border=\"1\" class=\"dataframe\">\n",
       "  <thead>\n",
       "    <tr style=\"text-align: right;\">\n",
       "      <th></th>\n",
       "      <th>cid</th>\n",
       "    </tr>\n",
       "  </thead>\n",
       "  <tbody>\n",
       "    <tr>\n",
       "      <th>0</th>\n",
       "      <td>0x425d5d4ad7243f88d9f4cde8da52863b45af1f64e05b...</td>\n",
       "    </tr>\n",
       "    <tr>\n",
       "      <th>1</th>\n",
       "      <td>0x425d5d4ad7243f88d9f4cde8da52863b45af1f64e05b...</td>\n",
       "    </tr>\n",
       "    <tr>\n",
       "      <th>2</th>\n",
       "      <td>0x3fcccfe0063b71fc973fab8dea39b6be9da80125910c...</td>\n",
       "    </tr>\n",
       "    <tr>\n",
       "      <th>3</th>\n",
       "      <td>0x3fcccfe0063b71fc973fab8dea39b6be9da80125910c...</td>\n",
       "    </tr>\n",
       "    <tr>\n",
       "      <th>4</th>\n",
       "      <td>0x6cc4b198ec4cf17fdced081b5611279be73e20071123...</td>\n",
       "    </tr>\n",
       "    <tr>\n",
       "      <th>5</th>\n",
       "      <td>0x6cc4b198ec4cf17fdced081b5611279be73e20071123...</td>\n",
       "    </tr>\n",
       "  </tbody>\n",
       "</table>\n",
       "</div>"
      ],
      "text/plain": [
       "                                                 cid\n",
       "0  0x425d5d4ad7243f88d9f4cde8da52863b45af1f64e05b...\n",
       "1  0x425d5d4ad7243f88d9f4cde8da52863b45af1f64e05b...\n",
       "2  0x3fcccfe0063b71fc973fab8dea39b6be9da80125910c...\n",
       "3  0x3fcccfe0063b71fc973fab8dea39b6be9da80125910c...\n",
       "4  0x6cc4b198ec4cf17fdced081b5611279be73e20071123...\n",
       "5  0x6cc4b198ec4cf17fdced081b5611279be73e20071123..."
      ]
     },
     "execution_count": 19,
     "metadata": {},
     "output_type": "execute_result"
    }
   ],
   "source": [
    "ciddf = pd.DataFrame([dict(cid=c.cid) for c in CC])\n",
    "ciddf"
   ]
  },
  {
   "cell_type": "code",
   "execution_count": 20,
   "id": "16d86f58-0c20-4c38-9e62-25ad33fafe1b",
   "metadata": {
    "tags": []
   },
   "outputs": [],
   "source": [
    "#help(CC[0])"
   ]
  },
  {
   "cell_type": "code",
   "execution_count": 21,
   "id": "4cdabeff-acae-49c2-b211-d37858a4910e",
   "metadata": {
    "tags": []
   },
   "outputs": [],
   "source": [
    "#help(CC[0].pairo)"
   ]
  },
  {
   "cell_type": "markdown",
   "id": "94f35eba-137c-4adf-a167-2218e68410e6",
   "metadata": {},
   "source": [
    "## MargPOptimizer"
   ]
  },
  {
   "cell_type": "code",
   "execution_count": 31,
   "id": "d0200904-33d4-4dbe-951e-bd4ee834a59b",
   "metadata": {
    "tags": []
   },
   "outputs": [
    {
     "name": "stdout",
     "output_type": "stream",
     "text": [
      "[margp_optimizer] targettkn = ETH\n",
      "[margp_optimizer] crit=rel (eps=1e-06, unit=1, norm=L2)\n",
      "\n",
      "[margp_optimizer] ETH <- LINK, USDP\n",
      "[margp_optimizer] p    0.00, 0.00\n",
      "[margp_optimizer] 1/p  228.72, 3,239.01\n",
      "\n",
      "[margp_optimizer]\n",
      "============= JACOBIAN% =============>>>\n",
      "tknq ETH\n",
      "dLINK/d%pLINK, dLINK/d%pUSDP\n",
      "dUSDP/d%pLINK, dUSDP/d%pUSDP\n",
      "<<<============= JACOBIAN% =============\n",
      "\n",
      "\n",
      "[margp_optimizer]\n",
      "============= JACOBIAN% =============>>>\n",
      "[[ -6.93514851   6.93538284]\n",
      " [ 98.21599834 -98.21267983]]\n",
      "<<<============= JACOBIAN% =============\n",
      "\n",
      "\n",
      "[margp_optimizer]\n",
      "========== cycle 0 =======>>>\n",
      "ETH <- LINK, USDP\n",
      "dtkn   121.680, -1,887.990\n",
      "log p0 [-2.359298022862449, -3.51041269678875]\n",
      "d logp [107.3502951  107.27085049]\n",
      "log p  [104.99099708 103.76043779]\n",
      "p_t      (9.794834002573646e+104, 5.760203059099629e+103) ETH\n",
      "p        979,483,400,257,364,632,072,013,009,658,563,057,076,932,204,130,139,433,223,949,926,870,669,976,661,682,797,697,379,616,116,239,039,987,712.00, 57,602,030,590,996,293,939,643,999,320,085,471,707,376,759,418,691,149,014,414,432,703,310,698,609,203,183,028,808,525,037,431,055,974,400.00\n",
      "1/p      0.00, 0.00\n",
      "crit     1.52e+02 [1; L2], eps=1e-06, c/e=2e+08]\n",
      "dtkn_d   {'LINK': 121.67964276398834, 'ETH': -1.1368683772161603e-13, 'USDP': -1887.990147798253}\n",
      "<<<========== cycle 0 =======\n",
      "\n",
      "[margp_optimizer]\n",
      "============= JACOBIAN% =============>>>\n",
      "[[  0.           5.65960698]\n",
      " [  0.         -96.1106635 ]]\n",
      "<<<============= JACOBIAN% =============\n",
      "\n",
      "\n",
      "[margp_optimizer] singular Jacobian, using lstsq instead\n",
      "\n",
      "[margp_optimizer]\n",
      "========== cycle 1 =======>>>\n",
      "ETH <- LINK, USDP\n",
      "dtkn   -807.915, -15,920.777\n",
      "log p0 [104.99099708021056, 103.76043779347391]\n",
      "d logp [ 0.         -0.71123223]\n",
      "log p  [104.99099708 103.04920556]\n",
      "p_t      (9.794834002573646e+104, 1.1199678719708761e+103) ETH\n",
      "p        979,483,400,257,364,632,072,013,009,658,563,057,076,932,204,130,139,433,223,949,926,870,669,976,661,682,797,697,379,616,116,239,039,987,712.00, 11,199,678,719,708,761,406,012,676,553,609,621,611,516,754,679,766,460,338,327,077,078,407,119,250,117,557,034,131,277,278,226,484,822,016.00\n",
      "1/p      0.00, 0.00\n",
      "crit     7.11e-01 [1; L2], eps=1e-06, c/e=7e+05]\n",
      "dtkn_d   {'LINK': -807.9145301701064, 'ETH': 8.693167770410668, 'USDP': -15920.776548455411}\n",
      "<<<========== cycle 1 =======\n",
      "\n",
      "[margp_optimizer]\n",
      "============= JACOBIAN% =============>>>\n",
      "[[0. 0.]\n",
      " [0. 0.]]\n",
      "<<<============= JACOBIAN% =============\n",
      "\n",
      "\n",
      "[margp_optimizer] singular Jacobian, using lstsq instead\n",
      "\n",
      "[margp_optimizer]\n",
      "========== cycle 2 =======>>>\n",
      "ETH <- LINK, USDP\n",
      "dtkn   -863.415, -14,810.777\n",
      "log p0 [104.99099708021056, 103.04920556443277]\n",
      "d logp [0. 0.]\n",
      "log p  [104.99099708 103.04920556]\n",
      "p_t      (9.794834002573646e+104, 1.1199678719708761e+103) ETH\n",
      "p        979,483,400,257,364,632,072,013,009,658,563,057,076,932,204,130,139,433,223,949,926,870,669,976,661,682,797,697,379,616,116,239,039,987,712.00, 11,199,678,719,708,761,406,012,676,553,609,621,611,516,754,679,766,460,338,327,077,078,407,119,250,117,557,034,131,277,278,226,484,822,016.00\n",
      "1/p      0.00, 0.00\n",
      "crit     0.00e+00 [1; L2], eps=1e-06, c/e=0e+00]\n",
      "dtkn_d   {'LINK': -863.4145301701064, 'ETH': 8.693167770410668, 'USDP': -14810.776548455411}\n",
      "<<<========== cycle 2 =======\n",
      "8.693167770410668\n"
     ]
    },
    {
     "data": {
      "text/plain": [
       "CPCArbOptimizer.MargpOptimizerResult(result=8.693167770410668, time=0.005652904510498047, method='margp', targettkn='ETH', p_optimal_t=(9.794834002573646e+104, 1.1199678719708761e+103), dtokens_t=(-863.4145301701064, -14810.776548455411), tokens_t=('LINK', 'USDP'), errormsg=None)"
      ]
     },
     "execution_count": 31,
     "metadata": {},
     "output_type": "execute_result"
    }
   ],
   "source": [
    "O = MargPOptimizer(CC1)\n",
    "r = O.optimize(sfc=TARGET_TOKEN, params=dict(\n",
    "    pstart=PRICES,\n",
    "    dump_curves = O.DC_DEFAULT,\n",
    "    #jach = 0.001,\n",
    "    verbose=True,\n",
    "    debug=False,\n",
    "    debug_j=True,\n",
    "    debug_dtkn=False,\n",
    "    debug_dtkn2=False,\n",
    "    debug_dtknd=True,\n",
    "))\n",
    "print(r.result)\n",
    "r"
   ]
  },
  {
   "cell_type": "code",
   "execution_count": 32,
   "id": "bdb71913-d35b-4396-b21d-1f67d9a6ad5d",
   "metadata": {},
   "outputs": [
    {
     "name": "stdout",
     "output_type": "stream",
     "text": [
      "[margp_optimizer] targettkn = ETH\n",
      "[margp_optimizer] crit=rel (eps=1e-06, unit=1, norm=L2)\n",
      "\n",
      "[margp_optimizer] ETH <- LINK, USDP\n",
      "[margp_optimizer] p    0.00, 0.00\n",
      "[margp_optimizer] 1/p  228.72, 3,239.01\n",
      "\n",
      "[margp_optimizer]\n",
      "============= JACOBIAN% =============>>>\n",
      "tknq ETH\n",
      "dLINK/d%pLINK, dLINK/d%pUSDP\n",
      "dUSDP/d%pLINK, dUSDP/d%pUSDP\n",
      "<<<============= JACOBIAN% =============\n",
      "\n",
      "\n",
      "[margp_optimizer]\n",
      "============= JACOBIAN% =============>>>\n",
      "[[ -266.29970486     6.94927602]\n",
      " [   98.34817271 -2083.1502104 ]]\n",
      "<<<============= JACOBIAN% =============\n",
      "\n",
      "\n",
      "[margp_optimizer]\n",
      "========== cycle 0 =======>>>\n",
      "ETH <- LINK, USDP\n",
      "dtkn   121.680, -1,887.990\n",
      "log p0 [-2.359298022862449, -3.51041269678875]\n",
      "d logp [ 0.00187466 -0.00382802]\n",
      "log p  [-2.35742336 -3.51424072]\n",
      "p_t      (0.004391133456960796, 0.00030602667429245015) ETH\n",
      "p        0.00, 0.00\n",
      "1/p      227.73, 3,267.69\n",
      "crit     4.26e-03 [1; L2], eps=1e-06, c/e=4e+03]\n",
      "dtkn_d   {'LINK': 121.67964276398834, 'ETH': -1.1368683772161603e-13, 'USDP': -1887.990147798253}\n",
      "<<<========== cycle 0 =======\n",
      "\n",
      "[margp_optimizer]\n",
      "============= JACOBIAN% =============>>>\n",
      "[[ -291.95964863     6.90381555]\n",
      " [   98.99589044 -2223.73007325]]\n",
      "<<<============= JACOBIAN% =============\n",
      "\n",
      "\n",
      "[margp_optimizer]\n",
      "========== cycle 1 =======>>>\n",
      "ETH <- LINK, USDP\n",
      "dtkn   2.956, 124.163\n",
      "log p0 [-2.3574233634556503, -3.5142407173317083]\n",
      "d logp [4.95047165e-05 2.43489787e-04]\n",
      "log p  [-2.35737386 -3.51399723]\n",
      "p_t      (0.004391634025620717, 0.0003061982980757411) ETH\n",
      "p        0.00, 0.00\n",
      "1/p      227.71, 3,265.86\n",
      "crit     2.48e-04 [1; L2], eps=1e-06, c/e=2e+02]\n",
      "dtkn_d   {'LINK': 2.955627468109242, 'ETH': -0.09816327417928505, 'USDP': 124.16301503770228}\n",
      "<<<========== cycle 1 =======\n",
      "\n",
      "[margp_optimizer]\n",
      "============= JACOBIAN% =============>>>\n",
      "[[ -291.94494632     6.90535661]\n",
      " [   98.97378098 -2223.11272002]]\n",
      "<<<============= JACOBIAN% =============\n",
      "\n",
      "\n",
      "[margp_optimizer]\n",
      "========== cycle 2 =======>>>\n",
      "ETH <- LINK, USDP\n",
      "dtkn   -0.005, -0.238\n",
      "log p0 [-2.357373858739174, -3.513997227544904]\n",
      "d logp [-8.79926609e-08 -4.66297120e-07]\n",
      "log p  [-2.35737395 -3.51399769]\n",
      "p_t      (0.0043916331358292504, 0.00030619796931423594) ETH\n",
      "p        0.00, 0.00\n",
      "1/p      227.71, 3,265.86\n",
      "crit     4.75e-07 [1; L2], eps=1e-06, c/e=5e-01]\n",
      "dtkn_d   {'LINK': -0.005199518922381685, 'ETH': -0.047080484221538654, 'USDP': -0.237869284923363}\n",
      "<<<========== cycle 2 =======\n",
      "-0.047176345331450875\n"
     ]
    },
    {
     "data": {
      "text/plain": [
       "CPCArbOptimizer.MargpOptimizerResult(result=-0.047176345331450875, time=0.0048618316650390625, method='margp', targettkn='ETH', p_optimal_t=(0.0043916331358292504, 0.00030619796931423594), dtokens_t=(9.577247283232282e-06, 0.0004883671354036778), tokens_t=('LINK', 'USDP'), errormsg=None)"
      ]
     },
     "execution_count": 32,
     "metadata": {},
     "output_type": "execute_result"
    }
   ],
   "source": [
    "O = MargPOptimizer(CC1)\n",
    "r = O.optimize(sfc=TARGET_TOKEN, params=dict(\n",
    "    pstart=PRICES,\n",
    "    dump_curves = O.DC_DEFAULT,\n",
    "    jach = 0.001,\n",
    "    verbose=True,\n",
    "    debug=False,\n",
    "    debug_j=True,\n",
    "    debug_dtkn=False,\n",
    "    debug_dtkn2=False,\n",
    "    debug_dtknd=True,\n",
    "))\n",
    "print(r.result)\n",
    "r"
   ]
  },
  {
   "cell_type": "code",
   "execution_count": null,
   "id": "a588a324-9865-46c6-ac87-2600ffe19e33",
   "metadata": {},
   "outputs": [],
   "source": []
  }
 ],
 "metadata": {
  "jupytext": {
   "formats": "ipynb,py:light"
  },
  "kernelspec": {
   "display_name": "Python 3 (ipykernel)",
   "language": "python",
   "name": "python3"
  },
  "language_info": {
   "codemirror_mode": {
    "name": "ipython",
    "version": 3
   },
   "file_extension": ".py",
   "mimetype": "text/x-python",
   "name": "python",
   "nbconvert_exporter": "python",
   "pygments_lexer": "ipython3",
   "version": "3.11.8"
  }
 },
 "nbformat": 4,
 "nbformat_minor": 5
}
