{
 "cells": [
  {
   "cell_type": "code",
   "execution_count": 1,
   "id": "initial_id",
   "metadata": {
    "ExecuteTime": {
     "end_time": "2023-10-31T18:11:37.240721Z",
     "start_time": "2023-10-31T18:11:37.238960Z"
    }
   },
   "outputs": [
    {
     "name": "stdout",
     "output_type": "stream",
     "text": [
      "ConstantProductCurve v3.3.1 (05/Oct/2023)\n",
      "CarbonBot v3-b2.2 (20/June/2023)\n",
      "UniswapV2 v0.0.2 (2023-08-27)\n",
      "UniswapV3 v0.0.2 (2023-08-27)\n",
      "SushiswapV2 v0.0.2 (2023-08-27)\n",
      "CarbonV1 v0.0.2 (2023-08-27)\n",
      "BancorV3 v0.0.2 (2023-08-27)\n",
      "imported m, np, pd, plt, os, sys, decimal; defined iseq, raises, require\n",
      "Version = 3-b2.2 [requirements >= 3.0 is met]\n"
     ]
    }
   ],
   "source": [
    "# coding=utf-8\n",
    "\"\"\"\n",
    "This module contains the tests which ensure that the flashloan tokens click parameters are respected.\n",
    "\"\"\"\n",
    "from fastlane_bot import Bot\n",
    "from fastlane_bot.tools.cpc import ConstantProductCurve as CPC\n",
    "from fastlane_bot.events.exchanges import UniswapV2, UniswapV3, SushiswapV2, CarbonV1, BancorV3\n",
    "import subprocess, os, sys\n",
    "import pytest\n",
    "print(\"{0.__name__} v{0.__VERSION__} ({0.__DATE__})\".format(CPC))\n",
    "print(\"{0.__name__} v{0.__VERSION__} ({0.__DATE__})\".format(Bot))\n",
    "print(\"{0.__name__} v{0.__VERSION__} ({0.__DATE__})\".format(UniswapV2))\n",
    "print(\"{0.__name__} v{0.__VERSION__} ({0.__DATE__})\".format(UniswapV3))\n",
    "print(\"{0.__name__} v{0.__VERSION__} ({0.__DATE__})\".format(SushiswapV2))\n",
    "print(\"{0.__name__} v{0.__VERSION__} ({0.__DATE__})\".format(CarbonV1))\n",
    "print(\"{0.__name__} v{0.__VERSION__} ({0.__DATE__})\".format(BancorV3))\n",
    "from fastlane_bot.testing import *\n",
    "plt.rcParams['figure.figsize'] = [12,6]\n",
    "from fastlane_bot import __VERSION__\n",
    "require(\"3.0\", __VERSION__)"
   ]
  },
  {
   "cell_type": "markdown",
   "id": "dfafc69730cbead3",
   "metadata": {},
   "source": [
    "# Setup"
   ]
  },
  {
   "cell_type": "code",
   "execution_count": 2,
   "id": "1640a40ee6ae871c",
   "metadata": {
    "ExecuteTime": {
     "end_time": "2023-10-31T18:11:37.260655Z",
     "start_time": "2023-10-31T18:11:37.245186Z"
    }
   },
   "outputs": [],
   "source": [
    "def find_main_py():\n",
    "    # Start at the directory of the current script\n",
    "    cwd = os.path.abspath(os.path.join(os.getcwd()))\n",
    "    \n",
    "    print(f\"Searching for main.py in {cwd}\")\n",
    "    while True:\n",
    "        # Check if main.py exists in the current directory\n",
    "        if \"main.py\" in os.listdir(cwd):\n",
    "            return cwd  # Found the directory containing main.py\n",
    "        else:\n",
    "            # If not, go up one directory\n",
    "            new_cwd = os.path.dirname(cwd)\n",
    "\n",
    "            # If we're already at the root directory, stop searching\n",
    "            if new_cwd == cwd:\n",
    "                raise FileNotFoundError(\"Could not find main.py in any parent directory\")\n",
    "\n",
    "            cwd = new_cwd\n",
    "       \n",
    "       \n",
    "def run_command(arb_mode, expected_log_line):\n",
    "    \n",
    "    # Find the correct path to main.py\n",
    "    main_script_path = find_main_py()\n",
    "    print(f\"Found main.py in {main_script_path}\")\n",
    "    main_script_path = os.path.normpath(main_script_path + \"/main.py\")\n",
    "\n",
    "    # Run the command\n",
    "    cmd = [\n",
    "        \"python\",\n",
    "        main_script_path,\n",
    "        f\"--arb_mode={arb_mode}\",\n",
    "        \"--default_min_profit_gas_token=60\",\n",
    "        \"--limit_bancor3_flashloan_tokens=False\",\n",
    "        \"--use_cached_events=True\",\n",
    "        \"--logging_path=fastlane_bot/data/\",\n",
    "        \"--timeout=1\",\n",
    "        \"--loglevel=DEBUG\",\n",
    "        \"--flashloan_tokens=BNT-FF1C,ETH-EEeE,ETH2x_FLI-65BD\",\n",
    "        \"--blockchain=ethereum\"\n",
    "    ]\n",
    "    subprocess.Popen(cmd)\n",
    "        \n",
    "    # Wait for the expected log line to appear\n",
    "    found = False\n",
    "    result = subprocess.run(cmd, text=True, capture_output=True, check=True, timeout=7)\n",
    "\n",
    "    # Check if the expected log line is in the output\n",
    "    if expected_log_line in result.stderr or expected_log_line in result.stdout:\n",
    "        found = True\n",
    "\n",
    "    if not found:\n",
    "        pytest.fail(\"Expected log line was not found within 1 minute\")  # If we reach this point, the test has failed"
   ]
  },
  {
   "cell_type": "markdown",
   "id": "614f482aec4be2f8",
   "metadata": {},
   "source": [
    "## Test flashloan_tokens is Respected"
   ]
  },
  {
   "cell_type": "code",
   "execution_count": 3,
   "id": "c6e198d0eeba3183",
   "metadata": {
    "ExecuteTime": {
     "end_time": "2023-10-31T18:11:40.119500Z",
     "start_time": "2023-10-31T18:11:37.255376Z"
    }
   },
   "outputs": [
    {
     "name": "stdout",
     "output_type": "stream",
     "text": [
      "Searching for main.py in c:\\Users\\Kveen\\PycharmProjects\\fastlane-bot\\resources\\NBTest\n",
      "Found main.py in c:\\Users\\Kveen\\PycharmProjects\\fastlane-bot\n"
     ]
    }
   ],
   "source": [
    "expected_log_line = \"Flashloan tokens are set as: ['BNT-FF1C', 'ETH-EEeE', 'ETH2x_FLI-65BD']\"\n",
    "arb_mode = \"multi\"\n",
    "run_command(arb_mode=arb_mode, expected_log_line=expected_log_line)"
   ]
  },
  {
   "cell_type": "code",
   "execution_count": null,
   "metadata": {},
   "outputs": [],
   "source": []
  }
 ],
 "metadata": {
  "kernelspec": {
   "display_name": "Python 3 (ipykernel)",
   "language": "python",
   "name": "python3"
  },
  "language_info": {
   "codemirror_mode": {
    "name": "ipython",
    "version": 3
   },
   "file_extension": ".py",
   "mimetype": "text/x-python",
   "name": "python",
   "nbconvert_exporter": "python",
   "pygments_lexer": "ipython3",
   "version": "3.10.1"
  }
 },
 "nbformat": 4,
 "nbformat_minor": 5
}
