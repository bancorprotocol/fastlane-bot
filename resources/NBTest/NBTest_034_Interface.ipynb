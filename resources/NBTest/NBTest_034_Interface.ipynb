{
 "cells": [
  {
   "cell_type": "code",
   "execution_count": 1,
   "id": "9f3487b3",
   "metadata": {
    "ExecuteTime": {
     "end_time": "2023-07-13T03:42:11.955598Z",
     "start_time": "2023-07-13T03:42:11.910038Z"
    }
   },
   "outputs": [
    {
     "name": "stdout",
     "output_type": "stream",
     "text": [
      "ConstantProductCurve v3.3.1 (05/Oct/2023)\n",
      "CarbonBot v3-b2.2 (20/June/2023)\n",
      "UniswapV2 v0.0.2 (2023-08-27)\n",
      "UniswapV3 v0.0.2 (2023-08-27)\n",
      "SushiswapV2 v0.0.2 (2023-08-27)\n",
      "CarbonV1 v0.0.2 (2023-08-27)\n",
      "BancorV3 v0.0.2 (2023-08-27)\n",
      "QueryInterface v0.0.1 (2023-07-03)\n",
      "Token v0.0.1 (2023-07-03)\n",
      "imported m, np, pd, plt, os, sys, decimal; defined iseq, raises, require\n",
      "Version = 3-b2.2 [requirements >= 3.0 is met]\n"
     ]
    }
   ],
   "source": [
    "from dataclasses import asdict\n",
    "from unittest.mock import MagicMock\n",
    "from unittest.mock import Mock\n",
    "\n",
    "import pytest\n",
    "\n",
    "from fastlane_bot import Bot\n",
    "from fastlane_bot.events.exchanges import UniswapV2, UniswapV3, SushiswapV2, CarbonV1, BancorV3\n",
    "from fastlane_bot.events.interface import QueryInterface, Token\n",
    "from fastlane_bot.tools.cpc import ConstantProductCurve as CPC\n",
    "\n",
    "print(\"{0.__name__} v{0.__VERSION__} ({0.__DATE__})\".format(CPC))\n",
    "print(\"{0.__name__} v{0.__VERSION__} ({0.__DATE__})\".format(Bot))\n",
    "print(\"{0.__name__} v{0.__VERSION__} ({0.__DATE__})\".format(UniswapV2))\n",
    "print(\"{0.__name__} v{0.__VERSION__} ({0.__DATE__})\".format(UniswapV3))\n",
    "print(\"{0.__name__} v{0.__VERSION__} ({0.__DATE__})\".format(SushiswapV2))\n",
    "print(\"{0.__name__} v{0.__VERSION__} ({0.__DATE__})\".format(CarbonV1))\n",
    "print(\"{0.__name__} v{0.__VERSION__} ({0.__DATE__})\".format(BancorV3))\n",
    "print(\"{0.__name__} v{0.__VERSION__} ({0.__DATE__})\".format(QueryInterface))\n",
    "print(\"{0.__name__} v{0.__VERSION__} ({0.__DATE__})\".format(Token))\n",
    "\n",
    "from fastlane_bot.testing import *\n",
    "\n",
    "#plt.style.use('seaborn-dark')\n",
    "plt.rcParams['figure.figsize'] = [12,6]\n",
    "from fastlane_bot import __VERSION__\n",
    "require(\"3.0\", __VERSION__)"
   ]
  },
  {
   "cell_type": "code",
   "execution_count": 2,
   "id": "de893aa9",
   "metadata": {
    "ExecuteTime": {
     "end_time": "2023-07-13T03:42:11.990889Z",
     "start_time": "2023-07-13T03:42:11.915128Z"
    }
   },
   "outputs": [],
   "source": [
    "cfg_mock = Mock()\n",
    "cfg_mock.logger = MagicMock()\n",
    "qi = QueryInterface(mgr=None, ConfigObj=cfg_mock)\n",
    "qi.state = [{'exchange_name': 'uniswap_v2', 'address': '0x123', 'tkn0_key': 'TKN-0x123', 'tkn1_key': 'TKN-0x456', 'pair_name': 'Pair-0x789', 'liquidity': 10}, {'exchange_name': 'sushiswap_v2', 'address': '0xabc', 'tkn0_key': 'TKN-0xabc', 'tkn1_key': 'TKN-0xdef', 'pair_name': 'Pair-0xghi', 'liquidity': 0}]"
   ]
  },
  {
   "cell_type": "markdown",
   "id": "0f8e3eeb",
   "metadata": {},
   "source": [
    "## test_remove_unsupported_exchanges"
   ]
  },
  {
   "cell_type": "code",
   "execution_count": 3,
   "id": "f2d533bc",
   "metadata": {
    "ExecuteTime": {
     "end_time": "2023-07-13T03:42:11.991750Z",
     "start_time": "2023-07-13T03:42:11.923642Z"
    }
   },
   "outputs": [],
   "source": [
    "qi.exchanges = ['uniswap_v2', 'fakeswap']\n",
    "qi.remove_unsupported_exchanges()\n",
    "assert (len(qi.state) == 1)"
   ]
  },
  {
   "cell_type": "markdown",
   "id": "1e87c645",
   "metadata": {},
   "source": [
    "## test_has_balance"
   ]
  },
  {
   "cell_type": "code",
   "execution_count": 4,
   "id": "799e5ab5",
   "metadata": {
    "ExecuteTime": {
     "end_time": "2023-07-13T03:42:11.992105Z",
     "start_time": "2023-07-13T03:42:11.929313Z"
    }
   },
   "outputs": [],
   "source": [
    "qi.state = [{'exchange_name': 'uniswap_v2', 'address': '0x123', 'tkn0_key': 'TKN-0x123', 'tkn1_key': 'TKN-0x456', 'pair_name': 'Pair-0x789', 'liquidity': 10}, {'exchange_name': 'sushiswap_v2', 'address': '0xabc', 'tkn0_key': 'TKN-0xabc', 'tkn1_key': 'TKN-0xdef', 'pair_name': 'Pair-0xghi', 'liquidity': 0}]\n",
    "assert (qi.has_balance(qi.state[0], ['liquidity']) == True)\n",
    "assert (qi.has_balance(qi.state[1], ['liquidity']) == False)"
   ]
  },
  {
   "cell_type": "markdown",
   "id": "21ddede1",
   "metadata": {},
   "source": [
    "## test_filter_pools"
   ]
  },
  {
   "cell_type": "code",
   "execution_count": 5,
   "id": "1666cdff",
   "metadata": {
    "ExecuteTime": {
     "end_time": "2023-07-13T03:42:11.992402Z",
     "start_time": "2023-07-13T03:42:11.933085Z"
    }
   },
   "outputs": [],
   "source": [
    "assert (len(qi.filter_pools('uniswap_v2')) == 1)"
   ]
  },
  {
   "cell_type": "markdown",
   "id": "e48366a0",
   "metadata": {},
   "source": [
    "## test_cleanup_token_key"
   ]
  },
  {
   "cell_type": "code",
   "execution_count": 6,
   "id": "4c30dcdd",
   "metadata": {
    "ExecuteTime": {
     "end_time": "2023-07-13T03:42:11.992488Z",
     "start_time": "2023-07-13T03:42:11.938134Z"
    }
   },
   "outputs": [],
   "source": [
    "assert (qi.cleanup_token_key('TKN-Hello-0x123') == 'TKN_Hello-0x123')"
   ]
  },
  {
   "cell_type": "markdown",
   "id": "b37f1344",
   "metadata": {},
   "source": [
    "## test_update_state"
   ]
  },
  {
   "cell_type": "code",
   "execution_count": 7,
   "id": "51455804",
   "metadata": {
    "ExecuteTime": {
     "end_time": "2023-07-13T03:42:11.993085Z",
     "start_time": "2023-07-13T03:42:11.944928Z"
    }
   },
   "outputs": [],
   "source": [
    "new_state = [{'exchange_name': 'bancor_v2', 'address': '0xabc', 'tkn0_key': 'TKN-0xabc', 'tkn1_key': 'TKN-0xdef', 'pair_name': 'Pair-0xghi', 'liquidity': 10}]\n",
    "qi.update_state(new_state)"
   ]
  },
  {
   "cell_type": "markdown",
   "id": "f4887f2f",
   "metadata": {},
   "source": [
    "## test_get_token"
   ]
  },
  {
   "cell_type": "code",
   "execution_count": 8,
   "id": "d2df5597",
   "metadata": {
    "ExecuteTime": {
     "end_time": "2023-07-13T03:42:11.993211Z",
     "start_time": "2023-07-13T03:42:11.950449Z"
    }
   },
   "outputs": [],
   "source": [
    "new_state = [{'exchange_name': 'bancor_v2', 'address': '0xabc', 'tkn0_key': 'TKN-0x123', 'tkn1_key': 'TKN-0xdef', 'pair_name': 'Pair-0xghi', 'liquidity': 10}]\n",
    "qi.update_state(new_state)\n",
    "token = qi.get_token('TKN-0x123')\n",
    "assert isinstance(token, Token)"
   ]
  },
  {
   "cell_type": "markdown",
   "id": "f34a7e2a",
   "metadata": {},
   "source": [
    "## test_get_pool"
   ]
  },
  {
   "cell_type": "code",
   "execution_count": 9,
   "id": "d2696dba",
   "metadata": {
    "ExecuteTime": {
     "end_time": "2023-07-13T03:42:11.994792Z",
     "start_time": "2023-07-13T03:42:11.958652Z"
    }
   },
   "outputs": [],
   "source": [
    "new_state = [{'last_updated_block': 17614344, 'address': '0xC537e898CD774e2dCBa3B14Ea6f34C93d5eA45e1', 'exchange_name': 'carbon_v1', 'tkn0_address': '0xEeeeeEeeeEeEeeEeEeEeeEEEeeeeEeeeeeeeEEeE', 'tkn1_address': '0xA0b86991c6218b36c1d19D4a2e9Eb0cE3606eB48', 'tkn0_symbol': 'ETH', 'tkn1_symbol': 'USDC', 'tkn0_decimals': 18, 'tkn1_decimals': 6, 'cid': 1701411834604692317316873037158841057365, 'tkn0_key': 'ETH-EEeE', 'tkn1_key': 'USDC-eB48', 'pair_name': 'ETH-EEeE/USDC-eB48', 'fee_float': 0.002, 'fee': '0.002', 'descr': 'carbon_v1 ETH-EEeE/USDC-eB48 0.002', 'y_0': 9882507039899549, 'y_1': 0, 'z_0': 9882507039899549, 'z_1': 17936137, 'A_0': 0, 'A_1': 99105201, 'B_0': 0, 'B_1': 11941971885}]\n",
    "qi.update_state(new_state)\n",
    "pool = qi.get_pool(cid=1701411834604692317316873037158841057365)"
   ]
  }
 ],
 "metadata": {
  "jupytext": {
   "formats": "ipynb,py:light"
  },
  "kernelspec": {
   "display_name": "Python 3",
   "language": "python",
   "name": "python3"
  },
  "language_info": {
   "codemirror_mode": {
    "name": "ipython",
    "version": 3
   },
   "file_extension": ".py",
   "mimetype": "text/x-python",
   "name": "python",
   "nbconvert_exporter": "python",
   "pygments_lexer": "ipython3",
   "version": "3.10.1"
  }
 },
 "nbformat": 4,
 "nbformat_minor": 5
}
