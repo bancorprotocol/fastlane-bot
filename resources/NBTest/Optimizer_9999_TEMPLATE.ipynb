{
 "cells": [
  {
   "cell_type": "code",
   "execution_count": 1,
   "id": "7c4e7ad0-9280-41ee-85b2-f4461058398b",
   "metadata": {
    "tags": []
   },
   "outputs": [
    {
     "name": "stdout",
     "output_type": "stream",
     "text": [
      "SimplePair v2.2 (30/Apr/2024)\n",
      "ConstantProductCurve v4.0-beta1 (04/May/2024)\n",
      "CurveContainer v4.0-beta1 (04/May/2024)\n",
      "PairOptimizer v6.0.2 (03/May/2024)\n",
      "MargPOptimizer v6.0-beta01 (04/May/2024)\n"
     ]
    }
   ],
   "source": [
    "from tools.curves import ConstantProductCurve, CurveContainer, SimplePair\n",
    "from tools.optimizer import CPCArbOptimizer, PairOptimizer, MargPOptimizer\n",
    "CPC = ConstantProductCurve\n",
    "\n",
    "import pandas as pd\n",
    "\n",
    "print(\"{0.__name__} v{0.__VERSION__} ({0.__DATE__})\".format(SimplePair))\n",
    "print(\"{0.__name__} v{0.__VERSION__} ({0.__DATE__})\".format(CPC))\n",
    "print(\"{0.__name__} v{0.__VERSION__} ({0.__DATE__})\".format(CurveContainer))\n",
    "print(\"{0.__name__} v{0.__VERSION__} ({0.__DATE__})\".format(PairOptimizer))\n",
    "print(\"{0.__name__} v{0.__VERSION__} ({0.__DATE__})\".format(MargPOptimizer))"
   ]
  },
  {
   "cell_type": "markdown",
   "id": "988c1f31-507c-4dd7-b8fc-14fa4aef8134",
   "metadata": {},
   "source": [
    "# Optimizer Testing (TEMPLATE)"
   ]
  },
  {
   "cell_type": "markdown",
   "id": "8ebde928-6a4b-448c-b6c3-6941310fccae",
   "metadata": {},
   "source": [
    "This is a light workbook allowing to look at issues that may arise when running the optimizer on a specific set of curves. \n",
    "\n",
    "Instructions:\n",
    "\n",
    "- locate the **exact** curve set to feed to the optimizer (it will be somewhere in the logging output, and it will be a list of ConstantProductCurve objects)\n",
    "- assign it to the `CurvesRaw` variable as shown below\n",
    "- add the missing token addresses to the `TOKENS` dict below\n",
    "- provide consistent values for `PSTART`\n",
    "- run the workbook\n",
    "- if the import statement fails, ensure `fastlane_bot` is on the path, or create symlink to `tools`"
   ]
  },
  {
   "cell_type": "markdown",
   "id": "7f38c5d2-6f6e-402c-b1a5-0fa00cf88f9a",
   "metadata": {
    "tags": []
   },
   "source": [
    "### >> Enter curves\n",
    "\n",
    "Place curves here in the form\n",
    "\n",
    "    CurvesRaw = [\n",
    "        ConstantProductCurve(k=27518385.40998667, x=1272.2926367501436, x_act=0, ...),\n",
    "        ConstantProductCurve(k=6.160500599566333e+18, x=11099999985.149971, x_act=0, ...),\n",
    "    ...\n",
    "    ]"
   ]
  },
  {
   "cell_type": "code",
   "execution_count": 2,
   "id": "c121e2d1-42c7-4d01-9711-ce0507be2bb3",
   "metadata": {
    "tags": []
   },
   "outputs": [],
   "source": [
    "CurvesRaw = [\n",
    "    CPC.from_pk(pair=\"ETH_/USDP_\",  cid=\"ETH/USDP1\",  p=2000,   k=1),   # 1E+$2000 @ 2000\n",
    "    # CPC.from_pk(pair=\"ETH_/USDP_\",  cid=\"ETH/USDP1\",  p=2000,   k=1*2000*1),   # 1E+$2000 @ 2000\n",
    "    # CPC.from_pk(pair=\"ETH_/USDP_\",  cid=\"ETH/USDP1\",  p=3000,   k=1*3000*1),   # 1E+$2000 @ 2000\n",
    "    CPC.from_pk(pair=\"LINK_/USDP_\", cid=\"LINK/USDP1\", p=  10,   k=100*1000), # 200L+$2000 @ 10\n",
    "    CPC.from_pk(pair=\"LINK_/USDP_\", cid=\"LINK/USDP1\", p=  15,   k=100*1500), # 200L+$2000 @ 10\n",
    "    # CPC.from_pk(pair=\"ETH_/LINK_\",  cid=\"ETH/LINK1\", p=  210,   k=1*210*0.0000000000001),    # ~1E @ 210\n",
    "]\n",
    "CCRaw = CurveContainer(CurvesRaw)"
   ]
  },
  {
   "cell_type": "code",
   "execution_count": 3,
   "id": "5c244d95-da00-449f-a879-ace4b5523a22",
   "metadata": {
    "tags": []
   },
   "outputs": [],
   "source": [
    "# CurvesRaw = [\n",
    "#     ConstantProductCurve(k=27518385.40998667, x=1272.2926367501436, x_act=0, y_act=2000.9999995236503, alpha=0.5, pair='0x514910771AF9Ca656af840dff83E8264EcF986CA/0x8E870D67F660D95d5be530380D0eC0bd388289E1', cid='0x425d5d4ad7243f88d9f4cde8da52863b45af1f64e05bede1299909bcaa6c52d1-0', fee=2000, descr='carbon_v1 0x514910771AF9Ca656af840dff83E8264EcF986CA\\\\/0x8E870D67F660D95d5be530380D0eC0bd388289E1 2000', constr='carb', params={'exchange': 'carbon_v1', 'y': 2000.9999995236503, 'yint': 2000.9999995236503, 'A': 0.38144823884371704, 'B': 3.7416573867739373, 'pa': 16.99999999999995, 'pb': 13.99999999999997}),\n",
    "#     ConstantProductCurve(k=6.160500599566333e+18, x=11099999985.149971, x_act=0, y_act=55.50000002646446, alpha=0.5, pair='0x8E870D67F660D95d5be530380D0eC0bd388289E1/0x514910771AF9Ca656af840dff83E8264EcF986CA', cid='0x425d5d4ad7243f88d9f4cde8da52863b45af1f64e05bede1299909bcaa6c52d1-1', fee=2000, descr='carbon_v1 0x514910771AF9Ca656af840dff83E8264EcF986CA\\\\/0x8E870D67F660D95d5be530380D0eC0bd388289E1 2000', constr='carb', params={'exchange': 'carbon_v1', 'y': 55.50000002646446, 'yint': 55.50000002646446, 'A': 0, 'B': 0.22360678656963742, 'pa': 0.04999999999999889, 'pb': 0.04999999999999889}),\n",
    "#     ConstantProductCurve(k=14449532.299465338, x=57487.82879658422, x_act=0, y_act=5.0, alpha=0.5, pair='0x514910771AF9Ca656af840dff83E8264EcF986CA/0xEeeeeEeeeEeEeeEeEeEeeEEEeeeeEeeeeeeeEEeE', cid='0x3fcccfe0063b71fc973fab8dea39b6be9da80125910c10e57b924b3e4687295a-0', fee=2000, descr='carbon_v1 0x514910771AF9Ca656af840dff83E8264EcF986CA/0xEeeeeEeeeEeEeeEeEeEeeEEEeeeeEeeeeeeeEEeE 2000', constr='carb', params={'exchange': 'carbon_v1', 'y': 5.0, 'yint': 8.582730309868262, 'A': 0.002257868117407469, 'B': 0.06480740698407672, 'pa': 0.004497751124437756, 'pb': 0.004199999999999756}),\n",
    "#     ConstantProductCurve(k=14456757.06563651, x=251.4750925240284, x_act=0, y_act=807.9145301701096, alpha=0.5, pair='0xEeeeeEeeeEeEeeEeEeEeeEEEeeeeEeeeeeeeEEeE/0x514910771AF9Ca656af840dff83E8264EcF986CA', cid='0x3fcccfe0063b71fc973fab8dea39b6be9da80125910c10e57b924b3e4687295a-1', fee=2000, descr='carbon_v1 0x514910771AF9Ca656af840dff83E8264EcF986CA/0xEeeeeEeeeEeEeeEeEeEeeEEEeeeeEeeeeeeeEEeE 2000', constr='carb', params={'exchange': 'carbon_v1', 'y': 807.9145301701096, 'yint': 1974.7090228584536, 'A': 0.519359008452966, 'B': 14.907119849998594, 'pa': 237.97624997025295, 'pb': 222.22222222222211}),\n",
    "#     ConstantProductCurve(k=56087178.30932376, x=131.6236694086859, x_act=0, y_act=15920.776548455418, alpha=0.5, pair='0xEeeeeEeeeEeEeeEeEeEeeEEEeeeeEeeeeeeeEEeE/0x8E870D67F660D95d5be530380D0eC0bd388289E1', cid='0x6cc4b198ec4cf17fdced081b5611279be73e200711238068b5340e606ba86646-0', fee=2000, descr='carbon_v1 0xEeeeeEeeeEeEeeEeEeEeeEEEeeeeEeeeeeeeEEeE\\\\/0x8E870D67F660D95d5be530380D0eC0bd388289E1 2000', constr='carb', params={'exchange': 'carbon_v1', 'y': 15920.776548455418, 'yint': 32755.67010983316, 'A': 4.373757425036729, 'B': 54.77225575051648, 'pa': 3498.2508745627138, 'pb': 2999.9999999999854}),\n",
    "#     ConstantProductCurve(k=56059148.73497429, x=426117.72306081816, x_act=0, y_act=5.0, alpha=0.5, pair='0x8E870D67F660D95d5be530380D0eC0bd388289E1/0xEeeeeEeeeEeEeeEeEeEeeEEEeeeeEeeeeeeeEEeE', cid='0x6cc4b198ec4cf17fdced081b5611279be73e200711238068b5340e606ba86646-1', fee=2000, descr='carbon_v1 0xEeeeeEeeeEeEeeEeEeEeeEEEeeeeEeeeeeeeEEeE\\\\/0x8E870D67F660D95d5be530380D0eC0bd388289E1 2000', constr='carb', params={'exchange': 'carbon_v1', 'y': 5.0, 'yint': 10.106093048875099, 'A': 0.0013497708452092638, 'B': 0.016903085094568837, 'pa': 0.0003331667499582927, 'pb': 0.0002857142857142352})\n",
    "# ]\n",
    "# CCRaw = CurveContainer(CurvesRaw)"
   ]
  },
  {
   "cell_type": "markdown",
   "id": "961f17f5-6286-4f4c-8bc3-9721811b50b1",
   "metadata": {},
   "source": [
    "### >> Enter prices\n",
    "\n",
    "Provide current prices (`pstart`) here, in the format\n",
    "\n",
    "    PRICES = {\n",
    "        '0x8E87...': 0.0003087360213944532, \n",
    "        '0x5149...': 0.004372219704179475, \n",
    "        '0xEeee...': 1\n",
    "    }\n",
    "    \n",
    "The price numeraire does not matter as long as they are all in the same numeraire. All tokens must be present. Additional tokens can be added and will be ignored. The keys in the dict here must correspond exactly to the \n",
    "keys that are used in the pairs in the curves above."
   ]
  },
  {
   "cell_type": "code",
   "execution_count": 4,
   "id": "2a4f3486-3db9-4721-8ca9-2f1e2b5fe8d2",
   "metadata": {
    "tags": []
   },
   "outputs": [],
   "source": [
    "PRICES_RAW = {\n",
    "    'ETH_': 1950, \n",
    "    'LINK_':  11, \n",
    "    'USDP_':   1\n",
    "}"
   ]
  },
  {
   "cell_type": "code",
   "execution_count": 5,
   "id": "5fc55588-ec8b-4bdc-9482-4fc97d909c2e",
   "metadata": {},
   "outputs": [],
   "source": [
    "# PRICES_RAW = {\n",
    "#     '0x8E870D67F660D95d5be530380D0eC0bd388289E1': 0.0003087360213944532, \n",
    "#     '0x514910771AF9Ca656af840dff83E8264EcF986CA': 0.004372219704179475, \n",
    "#     '0xEeeeeEeeeEeEeeEeEeEeeEEEeeeeEeeeeeeeEEeE': 1\n",
    "# }"
   ]
  },
  {
   "cell_type": "markdown",
   "id": "90127233-847b-4719-8f45-76638e5776d7",
   "metadata": {},
   "source": [
    "### >> Enter tokens\n",
    "\n",
    "Provide token tickers here, in the format\n",
    "\n",
    "    TOKENS = {\n",
    "        \"0x5149...\": \"LINK\",\n",
    "        \"0x8E87...\": \"USDP\",\n",
    "        \"0xEeee...\": \"ETH\",\n",
    "    }\n",
    "    \n",
    "All tokens must be present. Additional tokens will be ignored. You must also provide the `TARGET_TOKEN_RAW`,\n",
    "for example by picking from the token list"
   ]
  },
  {
   "cell_type": "code",
   "execution_count": 6,
   "id": "747c1dbf-d821-4214-8aa6-c1412bffeb50",
   "metadata": {
    "tags": []
   },
   "outputs": [],
   "source": [
    "# TOKENS = {\n",
    "#     \"0xEeeeeEeeeEeEeeEeEeEeeEEEeeeeEeeeeeeeEEeE\": \"ETH\",\n",
    "#     \"0x514910771AF9Ca656af840dff83E8264EcF986CA\": \"LINK\",\n",
    "#     \"0x8E870D67F660D95d5be530380D0eC0bd388289E1\": \"USDP\",\n",
    "# }\n",
    "\n",
    "# TARGET_TOKEN_RAW = list(TOKENS)[0]\n",
    "# TARGET_TOKEN_RAW"
   ]
  },
  {
   "cell_type": "code",
   "execution_count": 7,
   "id": "18404999-6d36-40d6-8f44-3f3394aa9a40",
   "metadata": {},
   "outputs": [
    {
     "data": {
      "text/plain": [
       "'USDP_'"
      ]
     },
     "execution_count": 7,
     "metadata": {},
     "output_type": "execute_result"
    }
   ],
   "source": [
    "TOKENS = {\n",
    "    \"ETH_\": \"ETH\",\n",
    "    \"LINK_\": \"LINK\",\n",
    "    \"USDP_\": \"USDP\",\n",
    "}\n",
    "\n",
    "TARGET_TOKEN_RAW = list(TOKENS)[-1]\n",
    "TARGET_TOKEN_RAW"
   ]
  },
  {
   "cell_type": "markdown",
   "id": "8bba7e8a-dbf8-4a89-9ee8-686afbef9901",
   "metadata": {},
   "source": [
    "### >>> Run optimizer\n",
    "\n",
    "please make sure that this line runs without errors (other than the error that needs to be addressed of course)"
   ]
  },
  {
   "cell_type": "code",
   "execution_count": 8,
   "id": "a49a49f8-b3e4-49c4-b991-c3cd8a123658",
   "metadata": {
    "tags": []
   },
   "outputs": [
    {
     "name": "stdout",
     "output_type": "stream",
     "text": [
      "[margp_optimizer] WARNING - providing `pstart` as parameter is deprecated; use `pstart` variable instead\n"
     ]
    },
    {
     "data": {
      "text/plain": [
       "CPCArbOptimizer.MargpOptimizerResult(result=-25.255128608410814, time=0.0013539791107177734, method='margp', targettkn='USDP_', p_optimal_t=(1999.9999999999998, 12.373724356957945), dtokens_t=(3.469446951953614e-18, 0.0), tokens_t=('ETH_', 'LINK_'), errormsg=None)"
      ]
     },
     "execution_count": 8,
     "metadata": {},
     "output_type": "execute_result"
    }
   ],
   "source": [
    "O = MargPOptimizer(CCRaw)\n",
    "r = O.optimize(sfc=TARGET_TOKEN_RAW, params=dict(pstart=PRICES_RAW))\n",
    "r"
   ]
  },
  {
   "cell_type": "markdown",
   "id": "f18727c8-f2d9-4436-9022-a6f1d6f9a2f6",
   "metadata": {},
   "source": [
    "**do not worry about the code below here; this is for the actual testing and will be adapted as need be**"
   ]
  },
  {
   "cell_type": "markdown",
   "id": "f4844ce6-dffa-4d79-b631-6b5fa8ff17a2",
   "metadata": {},
   "source": [
    "### >>> Preprocessing\n",
    "\n",
    "Please ensure that this code runs without error. Errors here mean that the data provided above is not consistent."
   ]
  },
  {
   "cell_type": "code",
   "execution_count": 9,
   "id": "b1a6af0f-89b0-443d-81cb-fcfea6722441",
   "metadata": {},
   "outputs": [],
   "source": [
    "def replace_tokens(dct):\n",
    "    \"\"\"replaces the token address with the token name in dct\"\"\"\n",
    "    tkns = dct[\"pair\"].split(\"/\")\n",
    "    for i in range(len(tkns)):\n",
    "        #tkns[i] = TOKENS.get(tkns[i]) or tkns[i]\n",
    "        tkns[i] = TOKENS[tkns[i]]\n",
    "    dct[\"pair\"] = \"/\".join(tkns)\n",
    "    return dct\n",
    "\n",
    "def p(pair=None, *, tknb=None, tknq=None, prices=None):\n",
    "    \"price of tknb in terms of tknq\"\n",
    "    if not pair is None:\n",
    "        tknb, tknq = pair.split(\"/\")\n",
    "    p = prices or PRICES\n",
    "    return p[tknb]/p[tknq]\n",
    "\n",
    "def round_(x, *args):\n",
    "    \"forgiving round()\"\n",
    "    try:\n",
    "        return round(x, *args)\n",
    "    except:\n",
    "        return x\n",
    "\n",
    "def wbp(c):\n",
    "    \"width of the range in bp [0 means infty]\"\n",
    "    try:\n",
    "        return max(int((c.p_max_primary()/c.p_min_primary() - 1)*10000), 1)\n",
    "    except:\n",
    "        return 0\n",
    "    \n",
    "def cid0(c):\n",
    "    \"shortened cid (for standard format ones)\"\n",
    "    if len(c.cid) < 20: return c.cid\n",
    "    return f\"{c.cid[2:6]}{c.cid[-2:]}\""
   ]
  },
  {
   "cell_type": "markdown",
   "id": "265bd6ae-c5c4-439c-99bc-b289d44cab63",
   "metadata": {},
   "source": [
    "If this fails this probably means that one of the tokens has not been defined above"
   ]
  },
  {
   "cell_type": "code",
   "execution_count": 10,
   "id": "f7651ba3-2fb2-444f-9971-779326ae4758",
   "metadata": {
    "tags": []
   },
   "outputs": [
    {
     "data": {
      "text/plain": [
       "{'ETH': 1950, 'LINK': 11, 'USDP': 1}"
      ]
     },
     "execution_count": 10,
     "metadata": {},
     "output_type": "execute_result"
    }
   ],
   "source": [
    "CC = CurveContainer.from_dicts([replace_tokens(d) for d in CCRaw.asdicts()])\n",
    "PRICES = {TOKENS[addr]:price for addr, price in PRICES_RAW.items()}\n",
    "TARGET_TOKEN = TOKENS[TARGET_TOKEN_RAW]\n",
    "PRICES"
   ]
  },
  {
   "cell_type": "markdown",
   "id": "9906cde3-7c6b-47dd-b322-c342189281d9",
   "metadata": {},
   "source": [
    "Here you can change the preference order of numeraire tokens (in a pair, the one with the lower number will be chosen as numeraire; tokens not present here are considered to have higher numbers; draw means alphabetic order). \n",
    "\n",
    "The specific code below ensures that in ETH/LINK, LINK is the quote token and ETH the base token. As LINK is not in the list, otherwise this would be the other way round."
   ]
  },
  {
   "cell_type": "code",
   "execution_count": 11,
   "id": "9366ca04-201c-448d-8db3-62b17946fdd9",
   "metadata": {
    "tags": []
   },
   "outputs": [],
   "source": [
    "SimplePair.NUMERAIRE_TOKENS[\"LINK\"] = SimplePair.NUMERAIRE_TOKENS[\"ETH\"] - 1\n",
    "#SimplePair.NUMERAIRE_TOKENS"
   ]
  },
  {
   "cell_type": "markdown",
   "id": "f8d51655-c7d6-4966-ad44-e002dc4aca62",
   "metadata": {},
   "source": [
    "## Curves"
   ]
  },
  {
   "cell_type": "code",
   "execution_count": 12,
   "id": "248d58be-fc70-4b24-a8c2-0cc3d59d54e9",
   "metadata": {
    "tags": []
   },
   "outputs": [
    {
     "name": "stdout",
     "output_type": "stream",
     "text": [
      "Num curves:    3\n",
      "Pairs:         {'ETH/USDP', 'LINK/USDP'}\n",
      "Target token:  USDP\n"
     ]
    }
   ],
   "source": [
    "print(\"Num curves:   \", len(CC))\n",
    "print(\"Pairs:        \", set(c.pairo.primary_n for c in CC))\n",
    "print(\"Target token: \", TARGET_TOKEN)"
   ]
  },
  {
   "cell_type": "code",
   "execution_count": 13,
   "id": "4dd5ccb9-f1a8-4d1b-8965-fc08021dd9a9",
   "metadata": {
    "tags": []
   },
   "outputs": [],
   "source": [
    "PRICE_DECIMALS = 2\n",
    "curvedata = [dict(\n",
    "    cid0 = cid0(c),\n",
    "    exch = c.params.get('exchange', \"na\"),\n",
    "    pair = c.pairo.primary_n,\n",
    "    mktp = round(p(c.pairo.primary_n), PRICE_DECIMALS),\n",
    "    bs = c.buysell(),\n",
    "    tkn = c.pairo.primary_tknb,\n",
    "    p = round_(c.primaryp(), PRICE_DECIMALS),\n",
    "    p_min = round_(c.p_min_primary(), PRICE_DECIMALS),\n",
    "    p_max = round_(c.p_max_primary(), PRICE_DECIMALS),\n",
    "    tknp = p(tknb=c.pairo.primary_tknb, tknq=TARGET_TOKEN),\n",
    "    wbp = wbp(c),\n",
    "    liq = round(c.tvl(tkn=c.pairo.primary_tknb), 2),\n",
    "    liqtt = round(c.x_act*p(tknb=c.tknx, tknq=TARGET_TOKEN) + c.y_act*p(tknb=c.tkny, tknq=TARGET_TOKEN), 2),\n",
    ") for c in CC]\n",
    "#curvedata"
   ]
  },
  {
   "cell_type": "markdown",
   "id": "907431f0-9bb0-467d-9230-154e92a0e259",
   "metadata": {
    "tags": []
   },
   "source": [
    "- `cid0`: shortened CID (same as in `debug_tkn2`)\n",
    "- `exch`: the type of the curve / exchange in question\n",
    "- `pair`: the normalized pair of the curve\n",
    "- `mktp`: the current market price of that pair (according to `PRICES_RAW`)\n",
    "- `bs`: whether curves buys (\"b\"),  sells (\"s\") the primary tokenm, or both\n",
    "- `tkn`: the primary token (base token of primary pair)\n",
    "- `p`, `p_min`, `p_max`: the current / minimum / maximum price of the curve\n",
    "- `tknp`: the price of `tkn` (as above) in terms of `TARGET_TOKEN`, as per the market price\n",
    "- `wbp`: width of the range (p_max/p_min) in basis points \n",
    "- `liq`: liquidity (in units of `tkn` as defined above; converted at curve price)\n",
    "- `liqtt`: total curve liquidity (in `TARGET_TOKEN` units; converted at `mktp`)\n"
   ]
  },
  {
   "cell_type": "code",
   "execution_count": 14,
   "id": "3deeac05-5364-413c-a93a-c9fe9f218c79",
   "metadata": {
    "tags": []
   },
   "outputs": [
    {
     "data": {
      "text/html": [
       "<div>\n",
       "<style scoped>\n",
       "    .dataframe tbody tr th:only-of-type {\n",
       "        vertical-align: middle;\n",
       "    }\n",
       "\n",
       "    .dataframe tbody tr th {\n",
       "        vertical-align: top;\n",
       "    }\n",
       "\n",
       "    .dataframe thead th {\n",
       "        text-align: right;\n",
       "    }\n",
       "</style>\n",
       "<table border=\"1\" class=\"dataframe\">\n",
       "  <thead>\n",
       "    <tr style=\"text-align: right;\">\n",
       "      <th></th>\n",
       "      <th>cid0</th>\n",
       "      <th>exch</th>\n",
       "      <th>pair</th>\n",
       "      <th>mktp</th>\n",
       "      <th>bs</th>\n",
       "      <th>tkn</th>\n",
       "      <th>p</th>\n",
       "      <th>p_min</th>\n",
       "      <th>p_max</th>\n",
       "      <th>tknp</th>\n",
       "      <th>wbp</th>\n",
       "      <th>liq</th>\n",
       "      <th>liqtt</th>\n",
       "    </tr>\n",
       "  </thead>\n",
       "  <tbody>\n",
       "    <tr>\n",
       "      <th>0</th>\n",
       "      <td>ETH/USDP1</td>\n",
       "      <td>na</td>\n",
       "      <td>ETH/USDP</td>\n",
       "      <td>1950.0</td>\n",
       "      <td>bs</td>\n",
       "      <td>ETH</td>\n",
       "      <td>2000.0</td>\n",
       "      <td>0</td>\n",
       "      <td>None</td>\n",
       "      <td>1950.0</td>\n",
       "      <td>0</td>\n",
       "      <td>0.04</td>\n",
       "      <td>88.32</td>\n",
       "    </tr>\n",
       "    <tr>\n",
       "      <th>1</th>\n",
       "      <td>LINK/USDP1</td>\n",
       "      <td>na</td>\n",
       "      <td>LINK/USDP</td>\n",
       "      <td>11.0</td>\n",
       "      <td>bs</td>\n",
       "      <td>LINK</td>\n",
       "      <td>10.0</td>\n",
       "      <td>0</td>\n",
       "      <td>None</td>\n",
       "      <td>11.0</td>\n",
       "      <td>0</td>\n",
       "      <td>200.00</td>\n",
       "      <td>2100.00</td>\n",
       "    </tr>\n",
       "    <tr>\n",
       "      <th>2</th>\n",
       "      <td>LINK/USDP1</td>\n",
       "      <td>na</td>\n",
       "      <td>LINK/USDP</td>\n",
       "      <td>11.0</td>\n",
       "      <td>bs</td>\n",
       "      <td>LINK</td>\n",
       "      <td>15.0</td>\n",
       "      <td>0</td>\n",
       "      <td>None</td>\n",
       "      <td>11.0</td>\n",
       "      <td>0</td>\n",
       "      <td>200.00</td>\n",
       "      <td>2600.00</td>\n",
       "    </tr>\n",
       "  </tbody>\n",
       "</table>\n",
       "</div>"
      ],
      "text/plain": [
       "         cid0 exch       pair    mktp  bs   tkn       p  p_min p_max    tknp  \\\n",
       "0   ETH/USDP1   na   ETH/USDP  1950.0  bs   ETH  2000.0      0  None  1950.0   \n",
       "1  LINK/USDP1   na  LINK/USDP    11.0  bs  LINK    10.0      0  None    11.0   \n",
       "2  LINK/USDP1   na  LINK/USDP    11.0  bs  LINK    15.0      0  None    11.0   \n",
       "\n",
       "   wbp     liq    liqtt  \n",
       "0    0    0.04    88.32  \n",
       "1    0  200.00  2100.00  \n",
       "2    0  200.00  2600.00  "
      ]
     },
     "execution_count": 14,
     "metadata": {},
     "output_type": "execute_result"
    }
   ],
   "source": [
    "curvedf = pd.DataFrame(curvedata)\n",
    "curvedf"
   ]
  },
  {
   "cell_type": "markdown",
   "id": "54d0478d-d748-4f9a-ae3a-753ab61cc8de",
   "metadata": {},
   "source": [
    "For reference, the CID dataframe `ciddf` (separate because the field is too long; can be joined to `curvedf` via index)"
   ]
  },
  {
   "cell_type": "code",
   "execution_count": 15,
   "id": "0cc8423f-726b-42f6-9144-2f1de1d98d12",
   "metadata": {
    "tags": []
   },
   "outputs": [
    {
     "data": {
      "text/html": [
       "<div>\n",
       "<style scoped>\n",
       "    .dataframe tbody tr th:only-of-type {\n",
       "        vertical-align: middle;\n",
       "    }\n",
       "\n",
       "    .dataframe tbody tr th {\n",
       "        vertical-align: top;\n",
       "    }\n",
       "\n",
       "    .dataframe thead th {\n",
       "        text-align: right;\n",
       "    }\n",
       "</style>\n",
       "<table border=\"1\" class=\"dataframe\">\n",
       "  <thead>\n",
       "    <tr style=\"text-align: right;\">\n",
       "      <th></th>\n",
       "      <th>cid</th>\n",
       "    </tr>\n",
       "  </thead>\n",
       "  <tbody>\n",
       "    <tr>\n",
       "      <th>0</th>\n",
       "      <td>ETH/USDP1</td>\n",
       "    </tr>\n",
       "    <tr>\n",
       "      <th>1</th>\n",
       "      <td>LINK/USDP1</td>\n",
       "    </tr>\n",
       "    <tr>\n",
       "      <th>2</th>\n",
       "      <td>LINK/USDP1</td>\n",
       "    </tr>\n",
       "  </tbody>\n",
       "</table>\n",
       "</div>"
      ],
      "text/plain": [
       "          cid\n",
       "0   ETH/USDP1\n",
       "1  LINK/USDP1\n",
       "2  LINK/USDP1"
      ]
     },
     "execution_count": 15,
     "metadata": {},
     "output_type": "execute_result"
    }
   ],
   "source": [
    "ciddf = pd.DataFrame([dict(cid=c.cid) for c in CC])\n",
    "ciddf"
   ]
  },
  {
   "cell_type": "markdown",
   "id": "94f35eba-137c-4adf-a167-2218e68410e6",
   "metadata": {},
   "source": [
    "## MargPOptimizer"
   ]
  },
  {
   "cell_type": "code",
   "execution_count": 16,
   "id": "d0200904-33d4-4dbe-951e-bd4ee834a59b",
   "metadata": {
    "tags": []
   },
   "outputs": [
    {
     "name": "stdout",
     "output_type": "stream",
     "text": [
      "[margp_optimizer] targettkn = USDP\n",
      "[margp_optimizer] WARNING - providing `pstart` as parameter is deprecated; use `pstart` variable instead\n",
      "[margp_optimizer] crit=rel (eps=1e-06, unit=1, norm=L2)\n",
      "\n",
      "[margp_optimizer] USDP <- LINK, ETH\n",
      "[margp_optimizer] p    11.00, 1,950.00\n",
      "[margp_optimizer] 1/p  0.09, 0.00\n",
      "\n",
      "[margp_optimizer]\n",
      "============= JACOBIAN% =============>>>\n",
      "tknq USDP\n",
      "dLINK/d%pLINK, dLINK/d%pETH\n",
      "dETH/d%pLINK, dETH/d%pETH\n",
      "<<<============= JACOBIAN% =============\n",
      "\n",
      "\n",
      "[margp_optimizer]\n",
      "============= JACOBIAN% =============>>>\n",
      "[[-1.05533124e+00  0.00000000e+00]\n",
      " [ 0.00000000e+00 -1.12663177e-04]]\n",
      "<<<============= JACOBIAN% =============\n",
      "\n",
      "\n",
      "[margp_optimizer]\n",
      "========== cycle 0 =======>>>\n",
      "USDP <- LINK, ETH\n",
      "dtkn   12.121, 0.000\n",
      "log p0 [1.0413926851582251, 3.290034611362518]\n",
      "d logp [0.04963352 0.01092629]\n",
      "log p  [1.09102621 3.3009609 ]\n",
      "p_t      (12.331792458048913, 1999.6818306633254) USDP\n",
      "p        12.33, 1,999.68\n",
      "1/p      0.08, 0.00\n",
      "crit     5.08e-02 [1; L2], eps=1e-06, c/e=5e+04]\n",
      "dtkn_d   {'LINK': 12.12110054878761, 'USDP': -167.2304491816911, 'ETH': 0.0002848609078940148}\n",
      "<<<========== cycle 0 =======\n",
      "\n",
      "[margp_optimizer]\n",
      "============= JACOBIAN% =============>>>\n",
      "[[-9.96717100e-01  0.00000000e+00]\n",
      " [ 0.00000000e+00 -1.11254817e-04]]\n",
      "<<<============= JACOBIAN% =============\n",
      "\n",
      "\n",
      "[margp_optimizer]\n",
      "========== cycle 1 =======>>>\n",
      "USDP <- LINK, ETH\n",
      "dtkn   0.340, 0.000\n",
      "log p0 [1.0910262070143644, 3.300960900574236]\n",
      "d logp [1.47298910e-03 6.90936545e-05]\n",
      "log p  [1.0924992  3.30102999]\n",
      "p_t      (12.37368899542703, 1999.9999933904442) USDP\n",
      "p        12.37, 2,000.00\n",
      "1/p      0.08, 0.00\n",
      "crit     1.47e-03 [1; L2], eps=1e-06, c/e=1e+03]\n",
      "dtkn_d   {'LINK': 0.3397422895124862, 'USDP': -29.455434369539958, 'ETH': 1.778832904499733e-06}\n",
      "<<<========== cycle 1 =======\n",
      "\n",
      "[margp_optimizer]\n",
      "============= JACOBIAN% =============>>>\n",
      "[[-9.95028249e-01  0.00000000e+00]\n",
      " [ 0.00000000e+00 -1.11245967e-04]]\n",
      "<<<============= JACOBIAN% =============\n",
      "\n",
      "\n",
      "[margp_optimizer]\n",
      "========== cycle 2 =======>>>\n",
      "USDP <- LINK, ETH\n",
      "dtkn   0.000, 0.000\n",
      "log p0 [1.0924991961136497, 3.301029994228734]\n",
      "d logp [1.24113200e-06 1.43527413e-09]\n",
      "log p  [1.09250044 3.30103   ]\n",
      "p_t      (12.37372435715507, 2000.0000000001257) USDP\n",
      "p        12.37, 2,000.00\n",
      "1/p      0.08, 0.00\n",
      "crit     1.24e-06 [1; L2], eps=1e-06, c/e=1e+00]\n",
      "dtkn_d   {'LINK': 0.00028577981608179925, 'USDP': -25.25866483792602, 'ETH': 3.694854144864479e-11}\n",
      "<<<========== cycle 2 =======\n",
      "\n",
      "[margp_optimizer]\n",
      "============= JACOBIAN% =============>>>\n",
      "[[-9.95026828e-01  0.00000000e+00]\n",
      " [ 0.00000000e+00 -1.11245967e-04]]\n",
      "<<<============= JACOBIAN% =============\n",
      "\n",
      "\n",
      "[margp_optimizer]\n",
      "========== cycle 3 =======>>>\n",
      "USDP <- LINK, ETH\n",
      "dtkn   -0.000, -0.000\n",
      "log p0 [1.0925004372456533, 3.3010299956640083]\n",
      "d logp [-6.91863792e-12 -2.73585985e-14]\n",
      "log p  [1.09250044 3.30103   ]\n",
      "p_t      (12.373724356957945, 1999.9999999999998) USDP\n",
      "p        12.37, 2,000.00\n",
      "1/p      0.08, 0.00\n",
      "crit     6.92e-12 [1; L2], eps=1e-06, c/e=7e-06]\n",
      "dtkn_d   {'LINK': -1.593065235283575e-09, 'USDP': -25.255128588697247, 'ETH': -7.042977312465837e-16}\n",
      "<<<========== cycle 3 =======\n"
     ]
    },
    {
     "data": {
      "text/plain": [
       "CPCArbOptimizer.MargpOptimizerResult(result=-25.255128608410814, time=0.0014278888702392578, method='margp', targettkn='USDP', p_optimal_t=(12.373724356957945, 1999.9999999999998), dtokens_t=(0.0, 3.469446951953614e-18), tokens_t=('LINK', 'ETH'), errormsg=None)"
      ]
     },
     "execution_count": 16,
     "metadata": {},
     "output_type": "execute_result"
    }
   ],
   "source": [
    "O = MargPOptimizer(CC)\n",
    "r = O.optimize(sfc=TARGET_TOKEN, params=dict(\n",
    "    pstart=PRICES,\n",
    "    verbose=True,\n",
    "    debug=False,\n",
    "    debug_j=True,\n",
    "    debug_dtkn=False,\n",
    "    debug_dtkn2=False,\n",
    "    debug_dtknd=True,\n",
    "))\n",
    "r"
   ]
  },
  {
   "cell_type": "code",
   "execution_count": 17,
   "id": "c35856f7-43b3-4c1a-9335-f5e66271fb0b",
   "metadata": {
    "tags": []
   },
   "outputs": [
    {
     "ename": "RuntimeError",
     "evalue": "No active exception to reraise",
     "output_type": "error",
     "traceback": [
      "\u001b[0;31m---------------------------------------------------------------------------\u001b[0m",
      "\u001b[0;31mRuntimeError\u001b[0m                              Traceback (most recent call last)",
      "Cell \u001b[0;32mIn[17], line 1\u001b[0m\n\u001b[0;32m----> 1\u001b[0m \u001b[38;5;28;01mraise\u001b[39;00m\n",
      "\u001b[0;31mRuntimeError\u001b[0m: No active exception to reraise"
     ]
    }
   ],
   "source": [
    "raise"
   ]
  },
  {
   "cell_type": "markdown",
   "id": "873df8d7-78da-4089-88d7-530eeea75570",
   "metadata": {},
   "source": [
    "### Explanation\n",
    "\n",
    "Convergence criterium is \"relative\" with given epsilon using L2 norm (unit does not matter here)\n",
    "\n",
    "    [margp_optimizer] crit=rel (eps=1e-06, unit=1, norm=L2)\n",
    "\n",
    "Base token is `USDP`; the prices and their inverses shown in order `ETH`, `LINK`\n",
    "\n",
    "    [margp_optimizer] USDP <- ETH, LINK\n",
    "    [margp_optimizer] p    1,950.00, 11.00\n",
    "    [margp_optimizer] 1/p  0.00, 0.09\n",
    "    \n",
    "Jacobian explainer: quote token us USDP\n",
    "`dETH/d%pLINK` means the change in ETH (in ETH units) when the `LINK/USDP` price changes by 1%\n",
    "\n",
    "    [margp_optimizer]\n",
    "    ============= JACOBIAN% =============>>>\n",
    "    tknq USDP\n",
    "    dETH/d%pETH, dLINK/d%pETH\n",
    "    dETH/d%pLINK, dLINK/d%pLINK\n",
    "    <<<============= JACOBIAN% =============\n",
    "\n",
    "Actual Jacobian in the same format as the explainer\n",
    "\n",
    "    [margp_optimizer]\n",
    "    ============= JACOBIAN% =============>>>\n",
    "    [[-0.01045332  0.005415  ]\n",
    "     [ 0.95994502 -1.90864222]]\n",
    "    <<<============= JACOBIAN% =============\n",
    "    \n",
    "Results of cycle 0\n",
    "\n",
    "    [margp_optimizer]\n",
    "    ========== cycle 0 =======>>>\n",
    "    USDP <- ETH, LINK\n",
    "    dtkn   0.101, -26.364\n",
    "    log p0 [3.290034611362518, 1.0413926851582251]\n",
    "    d logp [ 0.01472711 -0.05228352]\n",
    "    log p  [3.30476172 0.98910917]\n",
    "    p_t      (2017.2592691917046, 9.752347514669442) USDP\n",
    "    p        2,017.26, 9.75\n",
    "    1/p      0.00, 0.10\n",
    "    crit     5.43e-02 [1; L2], eps=1e-06, c/e=5e+04]\n",
    "    dtkn_d   {'ETH': 0.10113974590360497, 'USDP': 72.4594621534543, 'LINK': -26.36377863280171}\n",
    "    <<<========== cycle 0 ======="
   ]
  },
  {
   "cell_type": "code",
   "execution_count": null,
   "id": "1c5fb34b-2855-4db0-a9b0-92614510d7c5",
   "metadata": {},
   "outputs": [],
   "source": []
  }
 ],
 "metadata": {
  "jupytext": {
   "formats": "ipynb,py:light"
  },
  "kernelspec": {
   "display_name": "Python 3 (ipykernel)",
   "language": "python",
   "name": "python3"
  },
  "language_info": {
   "codemirror_mode": {
    "name": "ipython",
    "version": 3
   },
   "file_extension": ".py",
   "mimetype": "text/x-python",
   "name": "python",
   "nbconvert_exporter": "python",
   "pygments_lexer": "ipython3",
   "version": "3.11.8"
  }
 },
 "nbformat": 4,
 "nbformat_minor": 5
}
