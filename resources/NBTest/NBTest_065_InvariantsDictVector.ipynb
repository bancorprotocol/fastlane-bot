{
 "cells": [
  {
   "cell_type": "code",
   "execution_count": 1,
   "id": "3b17817f",
   "metadata": {},
   "outputs": [
    {
     "name": "stdout",
     "output_type": "stream",
     "text": [
      "imported m, np, pd, plt, os, sys, decimal; defined iseq, raises, require, Timer\n",
      "DictVector v0.9.1 (07/Feb/2024)\n"
     ]
    }
   ],
   "source": [
    "try:\n",
    "    import tools.invariants.vector as dv\n",
    "    from testing import *\n",
    "except:\n",
    "    import fastlane_bot.tools.invariants.vector as dv\n",
    "    from fastlane_bot.testing import *\n",
    "\n",
    "print(\"{0.__name__} v{0.__VERSION__} ({0.__DATE__})\".format(dv.DictVector))"
   ]
  },
  {
   "cell_type": "markdown",
   "id": "871933d0",
   "metadata": {},
   "source": [
    "# Dict Vectors (Invariants Module; NBTest065)"
   ]
  },
  {
   "cell_type": "markdown",
   "id": "ee918ac0",
   "metadata": {},
   "source": [
    "## Basic dict vector functions"
   ]
  },
  {
   "cell_type": "code",
   "execution_count": 2,
   "id": "f28b91de",
   "metadata": {},
   "outputs": [],
   "source": [
    "vec1 = dict(a=1, b=2)\n",
    "vec2 = dict(b=3, c=4)\n",
    "vec3 = dict(c=1, a=3)"
   ]
  },
  {
   "cell_type": "code",
   "execution_count": 3,
   "id": "83795829",
   "metadata": {},
   "outputs": [],
   "source": [
    "assert iseq(dv.norm(vec1)**2, 1+4)\n",
    "assert iseq(dv.norm(vec2)**2, 9+16)\n",
    "assert iseq(dv.norm(vec3)**2, 1+9)\n",
    "assert iseq(dv.norm(vec1)**2, dv.sprod(vec1, vec1))\n",
    "assert iseq(dv.norm(vec2)**2, dv.sprod(vec2, vec2))\n",
    "assert iseq(dv.norm(vec3)**2, dv.sprod(vec3, vec3))"
   ]
  },
  {
   "cell_type": "code",
   "execution_count": 4,
   "id": "29b1fbd6",
   "metadata": {},
   "outputs": [],
   "source": [
    "assert dv.eq(vec1, vec1)\n",
    "assert dv.eq(vec2, vec2)\n",
    "assert dv.eq(vec3, vec3)\n",
    "assert not dv.eq(vec1, vec2)\n",
    "assert not dv.eq(vec3, vec2)\n",
    "assert not dv.eq(vec1, vec3)"
   ]
  },
  {
   "cell_type": "code",
   "execution_count": 5,
   "id": "5868292a",
   "metadata": {},
   "outputs": [],
   "source": [
    "assert dv.add(vec1, vec2) == dict(a=1, b=5, c=4)\n",
    "assert dv.add(vec1, vec3) == dict(a=4, b=2, c=1)\n",
    "assert dv.add(vec2, vec3) == dict(a=3, b=3, c=5)\n",
    "assert dv.add(vec1, vec2) == dv.add(vec2, vec1)\n",
    "assert dv.add(vec1, vec3) == dv.add(vec3, vec1)\n",
    "assert dv.add(vec2, vec3) == dv.add(vec3, vec2)"
   ]
  },
  {
   "cell_type": "code",
   "execution_count": 6,
   "id": "b97ddce0",
   "metadata": {},
   "outputs": [],
   "source": [
    "assert dv.add(vec1, vec1) == dv.smul(vec1, 2)\n",
    "assert dv.add(vec2, vec2) == dv.smul(vec2, 2)\n",
    "assert dv.add(vec3, vec3) == dv.smul(vec3, 2)"
   ]
  },
  {
   "cell_type": "code",
   "execution_count": 7,
   "id": "2000a678",
   "metadata": {},
   "outputs": [],
   "source": [
    "assert dv.DictVector.dict_add == dv.add\n",
    "assert dv.DictVector.dict_sub == dv.sub\n",
    "assert dv.DictVector.dict_smul == dv.smul\n",
    "assert dv.DictVector.dict_sprod == dv.sprod\n",
    "assert dv.DictVector.dict_norm == dv.norm\n",
    "assert dv.DictVector.dict_eq == dv.eq"
   ]
  },
  {
   "cell_type": "markdown",
   "id": "de2b9d58",
   "metadata": {},
   "source": [
    "## DictVector object"
   ]
  },
  {
   "cell_type": "markdown",
   "id": "c2a470d0",
   "metadata": {},
   "source": [
    "null vector"
   ]
  },
  {
   "cell_type": "code",
   "execution_count": 8,
   "id": "32bc968b",
   "metadata": {},
   "outputs": [
    {
     "data": {
      "text/plain": [
       "(DictVector(vec={}), DictVector(vec={'a': 0, 'b': 0, 'x': 0}))"
      ]
     },
     "execution_count": 8,
     "metadata": {},
     "output_type": "execute_result"
    }
   ],
   "source": [
    "vec0 = dv.DictVector.null()\n",
    "vec0a = dv.DictVector()\n",
    "vec0b = dv.DictVector.n(a=0, b=0, x=0)\n",
    "\n",
    "assert bool(vec0) is False\n",
    "assert bool(vec0a) is False\n",
    "assert bool(vec0b) is False\n",
    "assert vec0 == vec0a\n",
    "assert vec0 == vec0b\n",
    "assert vec0a == vec0b\n",
    "assert len(vec0) == 0\n",
    "assert len(vec0a) == 0\n",
    "assert len(vec0b) == 0\n",
    "assert vec0.enorm == 0\n",
    "assert vec0a.enorm == 0\n",
    "assert vec0b.enorm == 0\n",
    "assert not \"a\" in vec0\n",
    "assert not \"a\" in vec0a\n",
    "assert not \"a\" in vec0b\n",
    "vec0, vec0b"
   ]
  },
  {
   "cell_type": "markdown",
   "id": "96978d7f",
   "metadata": {},
   "source": [
    "non-null vector"
   ]
  },
  {
   "cell_type": "code",
   "execution_count": 9,
   "id": "18719c7d",
   "metadata": {},
   "outputs": [
    {
     "data": {
      "text/plain": [
       "DictVector(vec={'a': 1, 'b': 2, 'x': 0})"
      ]
     },
     "execution_count": 9,
     "metadata": {},
     "output_type": "execute_result"
    }
   ],
   "source": [
    "vec1 = dv.DictVector.n(a=1, b=2, x=0)\n",
    "vec1b = dv.DictVector(vec1.vec)\n",
    "assert bool(vec1) is True\n",
    "assert bool(vec1b) is True\n",
    "assert vec1[\"a\"] == 1\n",
    "assert vec1[\"b\"] == 2\n",
    "assert vec1[\"c\"] == 0 # !!! <<== missing elements are 0!\n",
    "assert vec1[\"x\"] == 0\n",
    "assert \"a\" in vec1\n",
    "assert \"b\" in vec1\n",
    "assert not \"c\" in vec1\n",
    "assert not \"x\" in vec1\n",
    "assert vec1 == vec1b\n",
    "vec1"
   ]
  },
  {
   "cell_type": "markdown",
   "id": "1b749d41",
   "metadata": {},
   "source": [
    "various ways of creating a vector"
   ]
  },
  {
   "cell_type": "code",
   "execution_count": 10,
   "id": "c973ed36",
   "metadata": {},
   "outputs": [],
   "source": [
    "veca = dv.DictVector(dict(a=1, b=2, x=0))\n",
    "vecb = dv.DictVector.new(a=1, b=2, x=0)\n",
    "vecc = dv.DictVector.new(dict(a=1, b=2, x=0))\n",
    "vecd = dv.DictVector.n(a=1, b=2, x=0)\n",
    "vece = dv.DictVector.n(dict(a=1, b=2, x=0))\n",
    "vecf = dv.V(a=1, b=2, x=0)\n",
    "vecg = dv.V(dict(a=1, b=2, x=0))\n",
    "assert veca == vecb\n",
    "assert veca == vecc\n",
    "assert veca == vecd\n",
    "assert veca == vece\n",
    "assert veca == vecf\n",
    "assert veca == vecg"
   ]
  },
  {
   "cell_type": "markdown",
   "id": "c46d8985",
   "metadata": {},
   "source": [
    "vector arithmetic"
   ]
  },
  {
   "cell_type": "code",
   "execution_count": 11,
   "id": "01f992e8",
   "metadata": {},
   "outputs": [],
   "source": [
    "assert vec0 + vec1 == vec1\n",
    "assert vec0b + vec1 == vec1\n",
    "assert vec1 + vec1 == 2*vec1\n",
    "assert vec1 + vec1 == vec1*2\n",
    "assert 3*vec1 == vec1*3\n",
    "assert +vec1 == vec1\n",
    "assert -vec1 == vec1 * (-1)\n",
    "assert -vec1 == -1 * vec1\n",
    "assert bool(0*vec1) is False\n",
    "assert 0*vec1 == vec0\n",
    "assert 0*vec1 == vec0b\n",
    "assert 0*vec1 == vec1*0\n",
    "assert (0*vec1).enorm == 0\n",
    "assert 2*3*vec1 == 6*vec1\n",
    "assert 2*vec1*3 == vec1*6\n",
    "assert 2*3*vec1/6 == vec1"
   ]
  },
  {
   "cell_type": "markdown",
   "id": "a4c8deba",
   "metadata": {},
   "source": [
    "vector base"
   ]
  },
  {
   "cell_type": "code",
   "execution_count": 12,
   "id": "4530c06d",
   "metadata": {},
   "outputs": [],
   "source": [
    "labels = \"abcdefghijklmnop\"\n",
    "base = {l:dv.DictVector({l:1})for l in labels}\n",
    "for x in base.values():\n",
    "    for y in base.values():\n",
    "        if x == y:\n",
    "            #print(x,y,x*y)\n",
    "            assert x*y == 1\n",
    "        else:\n",
    "            assert x*y == 0\n",
    "            \n",
    "assert base[\"a\"] * dv.V(a=1, b=2) == 1\n",
    "assert base[\"b\"] * dv.V(a=1, b=2) == 2\n",
    "assert base[\"c\"] * dv.V(a=1, b=2) == 0\n",
    "assert base[\"a\"]+2*base[\"b\"] == dv.V(a=1, b=2)"
   ]
  },
  {
   "cell_type": "markdown",
   "id": "1ed3bbe8",
   "metadata": {},
   "source": [
    "floor / ceil / round / abs"
   ]
  },
  {
   "cell_type": "code",
   "execution_count": 13,
   "id": "0f316f4c",
   "metadata": {},
   "outputs": [],
   "source": [
    "vec2 = dv.V(a=1.2345, b=9.8765, c=3.5, d=1)\n",
    "assert m.floor(vec2) == dv.V(a=1, b=9, c=3, d=1)\n",
    "assert m.ceil(vec2) == dv.V(a=2, b=10, c=4, d=1)\n",
    "assert m.ceil(vec2) - m.floor(vec2) == dv.V(a=1, b=1, c=1)\n",
    "assert round(vec2) == dv.V(a=1, b=10, c=4, d=1)\n",
    "assert round(vec2, 1) == dv.V(a=1.2, b=9.9, c=3.5, d=1)\n",
    "assert abs(vec2) == vec2\n",
    "assert abs(-vec2) == vec2"
   ]
  },
  {
   "cell_type": "markdown",
   "id": "4d15d669",
   "metadata": {},
   "source": [
    "incremental actions"
   ]
  },
  {
   "cell_type": "code",
   "execution_count": 14,
   "id": "ff66a35e",
   "metadata": {},
   "outputs": [
    {
     "data": {
      "text/plain": [
       "DictVector(vec={'b': 0.0, 'c': 0.0, 'a': 0.0})"
      ]
     },
     "execution_count": 14,
     "metadata": {},
     "output_type": "execute_result"
    }
   ],
   "source": [
    "v = dv.V()\n",
    "assert not v\n",
    "v += dv.V(a=1, b=2)\n",
    "assert v\n",
    "assert v == dv.V(a=1, b=2)\n",
    "v *= 2\n",
    "assert v == 2*dv.V(a=1, b=2)\n",
    "v += dv.V(a=3, c=3)\n",
    "assert v == dv.V(a=5, b=4, c=3)\n",
    "v /= 2\n",
    "assert v == 0.5 * dv.V(a=5, b=4, c=3)\n",
    "v -= v\n",
    "assert bool(v) is False\n",
    "assert not v\n",
    "v"
   ]
  },
  {
   "cell_type": "markdown",
   "id": "034ef239",
   "metadata": {},
   "source": [
    "generic base vector "
   ]
  },
  {
   "cell_type": "code",
   "execution_count": 15,
   "id": "5670bd51",
   "metadata": {
    "lines_to_next_cell": 0
   },
   "outputs": [],
   "source": [
    "class Foo():\n",
    "    pass\n",
    "\n",
    "@dv.dataclass(frozen=True)\n",
    "class Bar():\n",
    "    val: str\n",
    "    \n",
    "foo1 = Foo()\n",
    "foo2 = Foo()\n",
    "assert foo1 != foo2\n",
    "\n",
    "bar1  = Bar(\"bang\")\n",
    "bar1a = Bar(\"bang\")\n",
    "assert bar1 == bar1a\n",
    "assert not bar1 is bar1a\n",
    "\n",
    "va = dv.V({foo1: 3, foo2:4})\n",
    "assert len(va) == 2\n",
    "assert va.enorm == 5\n",
    "\n",
    "va = dv.V({bar1: 3, foo1:4})\n",
    "assert len(va) == 2\n",
    "assert va.enorm == 5\n",
    "\n",
    "va = dv.V({bar1: 3, bar1a:4})\n",
    "assert len(va) == 1\n",
    "assert va.enorm == 4\n",
    "\n",
    "va = dv.V({bar1: 3})\n",
    "vb = dv.V({bar1a: 3})\n",
    "assert va == vb\n",
    "assert not va is vb"
   ]
  },
  {
   "cell_type": "markdown",
   "id": "6c41b05d",
   "metadata": {
    "lines_to_next_cell": 2
   },
   "source": [
    "items, elements and coeffs"
   ]
  },
  {
   "cell_type": "code",
   "execution_count": 16,
   "id": "6bd197e4",
   "metadata": {},
   "outputs": [],
   "source": [
    "elements = [el for el in \"abcdefghijklmnop\"]\n",
    "v = dv.DictVector({el:n+1 for n, el in enumerate(elements)})\n",
    "assert dv.DictVector.elements is dv.DictVector.el\n",
    "assert v.elements == elements\n",
    "assert v.coeffs == [n+1 for n in range(len(elements))]\n",
    "assert v.items == list(zip(v.elements, v.coeffs))\n",
    "assert v.elements[2] == elements[2]\n",
    "assert v.coeffs[4] == 5\n",
    "assert v.items[6] == ('g', 7)"
   ]
  },
  {
   "cell_type": "code",
   "execution_count": null,
   "id": "9de054d1",
   "metadata": {},
   "outputs": [],
   "source": []
  },
  {
   "cell_type": "code",
   "execution_count": null,
   "id": "55941962",
   "metadata": {},
   "outputs": [],
   "source": []
  }
 ],
 "metadata": {
  "jupytext": {
   "formats": "ipynb,py:light"
  },
  "kernelspec": {
   "display_name": "Python 3 (ipykernel)",
   "language": "python",
   "name": "python3"
  },
  "language_info": {
   "codemirror_mode": {
    "name": "ipython",
    "version": 3
   },
   "file_extension": ".py",
   "mimetype": "text/x-python",
   "name": "python",
   "nbconvert_exporter": "python",
   "pygments_lexer": "ipython3",
   "version": "3.11.8"
  }
 },
 "nbformat": 4,
 "nbformat_minor": 5
}
