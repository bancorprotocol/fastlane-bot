{
 "cells": [
  {
   "cell_type": "code",
   "execution_count": 1,
   "id": "d2f49384-7724-4758-b562-42111fe71be7",
   "metadata": {},
   "outputs": [
    {
     "name": "stdout",
     "output_type": "stream",
     "text": [
      "ConstantProductCurve v3.2 (15/Sep/2023)\n",
      "ArbGraph v2.2 (09/May/2023)\n",
      "imported m, np, pd, plt, os, sys, decimal; defined iseq, raises, require\n",
      "Version = 3-b2.2 [requirements >= 2.0 is met]\n"
     ]
    }
   ],
   "source": [
    "import fastlane_bot.tools.arbgraphs as ag\n",
    "from fastlane_bot.tools.cpc import ConstantProductCurve as CPC, CPCContainer\n",
    "print(\"{0.__name__} v{0.__VERSION__} ({0.__DATE__})\".format(CPC))\n",
    "print(\"{0.__name__} v{0.__VERSION__} ({0.__DATE__})\".format(ag.ArbGraph))\n",
    "\n",
    "from fastlane_bot.testing import *\n",
    "#plt.style.use('seaborn-dark')\n",
    "plt.rcParams['figure.figsize'] = [12,6]\n",
    "from fastlane_bot import __VERSION__\n",
    "require(\"2.0\", __VERSION__)"
   ]
  },
  {
   "cell_type": "markdown",
   "id": "feaede6f-89cb-48d2-b929-cd523e56b1bb",
   "metadata": {},
   "source": [
    "# Graph Code [NBTest065]"
   ]
  },
  {
   "cell_type": "markdown",
   "id": "349311dc-bd0b-4c3a-81b2-c05028a54324",
   "metadata": {},
   "source": [
    "## ArbGraphs test and demo"
   ]
  },
  {
   "cell_type": "code",
   "execution_count": 2,
   "id": "1714d883-35aa-4496-a96d-a2be376b345e",
   "metadata": {},
   "outputs": [
    {
     "data": {
      "text/plain": [
       "(ETH(0), USDC(1), WBTC(2), BNT(3))"
      ]
     },
     "execution_count": 2,
     "metadata": {},
     "output_type": "execute_result"
    }
   ],
   "source": [
    "nodes = lambda: ag.create_node_list(\"ETH, USDC, WBTC, BNT\")\n",
    "assert [str(n) for n in nodes()] == ['ETH(0)', 'USDC(1)', 'WBTC(2)', 'BNT(3)']\n",
    "nodes()"
   ]
  },
  {
   "cell_type": "code",
   "execution_count": 3,
   "id": "2ecaa6d4-4713-4b93-8089-de71581e7179",
   "metadata": {},
   "outputs": [
    {
     "data": {
      "text/plain": [
       "ArbGraph(nodes=(ETH(0), USDC(1), WBTC(2), BNT(3)), edges=[])"
      ]
     },
     "execution_count": 3,
     "metadata": {},
     "output_type": "execute_result"
    }
   ],
   "source": [
    "AG = ag.ArbGraph(nodes=nodes())\n",
    "N = AG.node_by_tkn\n",
    "assert str(N(\"ETH\")) == \"ETH(0)\"\n",
    "assert str(N(\"BNT\")) == \"BNT(3)\"\n",
    "assert str(AG.node_by_ix(1)) == \"USDC(1)\"\n",
    "assert str(AG.node_by_tkn(\"USDC\")) == \"USDC(1)\"\n",
    "AG"
   ]
  },
  {
   "cell_type": "code",
   "execution_count": 4,
   "id": "a31b2a82-3115-4141-921b-4319bf48454e",
   "metadata": {},
   "outputs": [],
   "source": [
    "assert str(N(\"ETH\")) == \"ETH(0)\""
   ]
  },
  {
   "cell_type": "code",
   "execution_count": 5,
   "id": "07703f2a-ac09-4d31-a6b1-db04e9fee9db",
   "metadata": {},
   "outputs": [
    {
     "data": {
      "text/plain": [
       "(Edge(node_in=ETH(0), amount_in=1, node_out=USDC(1), amount_out=2000, ix=None, inverse=False, uid=None),\n",
       " '1 ETH(0) --> 2000 USDC(1)',\n",
       " '1 ETH(0) --(10)-> 2000 USDC(1)')"
      ]
     },
     "execution_count": 5,
     "metadata": {},
     "output_type": "execute_result"
    }
   ],
   "source": [
    "edge = ag.Edge(N(\"ETH\"), 1, N(\"USDC\"), 2000)\n",
    "edge1 = ag.Edge(N(\"ETH\"), 1, N(\"USDC\"), 2000, inverse=True, ix=10)\n",
    "assert (edge.pair(), edge.price(), edge.convention()) == ('ETH/USDC', 2000.0, 'USDC per ETH')\n",
    "assert (edge1.pair(), edge1.price(), edge1.convention()) == ('USDC/ETH', 0.0005, 'ETH per USDC')\n",
    "edge, str(edge), str(edge1)"
   ]
  },
  {
   "cell_type": "code",
   "execution_count": 6,
   "id": "38aa5282-218e-4013-a490-0c3204889da5",
   "metadata": {},
   "outputs": [],
   "source": [
    "assert (edge+0).asdict() == edge.asdict()\n",
    "assert (edge+0) != edge # == means objects are the same\n",
    "assert not edge+0 is edge\n",
    "assert (2*edge).asdict() == (edge*2).asdict()\n",
    "assert (edge + 2*edge).asdict() == (3*edge).asdict()\n",
    "assert sum([edge,edge,edge]).asdict() == (3*edge).asdict()"
   ]
  },
  {
   "cell_type": "code",
   "execution_count": 7,
   "id": "a1d4b086-a587-4554-a2ee-7506505a2972",
   "metadata": {},
   "outputs": [
    {
     "data": {
      "text/plain": [
       "{'node_in': {'tkn': 'ETH', 'ix': 0},\n",
       " 'amount_in': 1,\n",
       " 'node_out': {'tkn': 'USDC', 'ix': 1},\n",
       " 'amount_out': 2000,\n",
       " 'ix': None,\n",
       " 'inverse': False,\n",
       " 'uid': None}"
      ]
     },
     "execution_count": 7,
     "metadata": {},
     "output_type": "execute_result"
    }
   ],
   "source": [
    "(edge+0).asdict()"
   ]
  },
  {
   "cell_type": "markdown",
   "id": "aaf48841-4b1f-4de5-9a96-5d5b652d4bb8",
   "metadata": {},
   "source": [
    "## Paths and cycles"
   ]
  },
  {
   "cell_type": "code",
   "execution_count": 8,
   "id": "4db94a89-fa62-4e3e-b768-c3c2c593dafb",
   "metadata": {},
   "outputs": [],
   "source": [
    "C = ag.Cycle([1,2,3,4,5])\n",
    "assert len(C) == 5\n",
    "assert [x for x in C.items()] == [1, 2, 3, 4, 5, 1]\n",
    "assert [x for x in C.items(start_ix=3)] == [4, 5, 1, 2, 3, 4]\n",
    "assert [x for x in C.items(start_val=3)] == [3, 4, 5, 1, 2, 3]\n",
    "assert [p for p in C.pairs()] == [(1, 2), (2, 3), (3, 4), (4, 5), (5, 1)]"
   ]
  },
  {
   "cell_type": "code",
   "execution_count": 9,
   "id": "024bfd2e-ab00-4bde-92a0-24bbc8e7662d",
   "metadata": {},
   "outputs": [],
   "source": [
    "c1 = ag.Cycle([1,2,3,4,5,6], \"c1\")\n",
    "assert ag.Cycle([8,9]).is_subcycle_of(c1) == False\n",
    "assert ag.Cycle([1,5,6]).is_subcycle_of(c1) == True\n",
    "assert ag.Cycle([1,6,5]).is_subcycle_of(c1) == False\n",
    "assert c1.filter_subcycles([ag.Cycle([8,9]), ag.Cycle([1,5,6]), ag.Cycle([1,6,5])]) == (ag.Cycle([1, 5, 6]),)\n",
    "assert c1.filter_subcycles(ag.Cycle([1,5,6])) == (ag.Cycle([1, 5, 6]),)\n",
    "assert str(c1) == 'cycle [c1]:  1 -> 2 -> 3 -> 4 -> 5 -> 6 ->...'"
   ]
  },
  {
   "cell_type": "code",
   "execution_count": 10,
   "id": "04460910-a86c-4bf2-bbd7-118c265a9e80",
   "metadata": {},
   "outputs": [],
   "source": [
    "assert c1.asdict() == {'data': [1, 2, 3, 4, 5, 6], 'uid': 'c1', 'graph': None}\n",
    "assert c1.astuple() == ([1, 2, 3, 4, 5, 6], 'c1', None)\n",
    "assert (c1.asdf().set_index(\"uid\")[\"data\"] == c1.asdf(index=\"uid\")[\"data\"]).iloc[0]\n",
    "assert list(c1.asdf(exclude=[\"data\"]).columns) == ['uid', 'graph']\n",
    "assert list(c1.asdf(include=[\"data\", \"graph\"], exclude=[\"graph\"]).columns) == ['data']"
   ]
  },
  {
   "cell_type": "code",
   "execution_count": 11,
   "id": "d1dd8b46-d376-46f5-8447-bf9176643c02",
   "metadata": {},
   "outputs": [
    {
     "name": "stdout",
     "output_type": "stream",
     "text": [
      "(ETH(0), USDC(1), WBTC(2), BNT(3))\n",
      "cycle [c2]: ETH->USDC->WBTC->BNT->...\n"
     ]
    }
   ],
   "source": [
    "import types\n",
    "nodes = ag.create_node_list(\"ETH, USDC, WBTC, BNT\")\n",
    "c2 = ag.Cycle(nodes, \"c2\")\n",
    "assert c2.uid == \"c2\"\n",
    "assert str(c2) == 'cycle [c2]: ETH->USDC->WBTC->BNT->...'\n",
    "print(nodes)\n",
    "print(c2)\n",
    "gc2 = (c for c in c2.items())\n",
    "assert isinstance(gc2, types.GeneratorType)\n",
    "tc2 = tuple(gc2)\n",
    "assert str(tc2) == \"(ETH(0), USDC(1), WBTC(2), BNT(3), ETH(0))\"\n",
    "assert tuple(gc2) == tuple() # generator spent\n",
    "pc2 = (p for p in c2.pairs())\n",
    "assert isinstance(pc2, types.GeneratorType)\n",
    "tpc2 = tuple(pc2)\n",
    "assert len(tpc2) == 4\n",
    "assert str(tpc2[0]) == '(ETH(0), USDC(1))'\n",
    "assert str(tpc2[-1]) == '(BNT(3), ETH(0))'\n",
    "assert c2.pairs_s() == ['ETH/USDC', 'USDC/WBTC', 'WBTC/BNT', 'BNT/ETH']"
   ]
  },
  {
   "cell_type": "code",
   "execution_count": 12,
   "id": "344a7f71-b70c-438a-838f-d78b9edd2f60",
   "metadata": {},
   "outputs": [],
   "source": [
    "p1 = ag.Path([1,2,3,4,5,6], \"p1\")\n",
    "assert p1.uid == \"p1\"\n",
    "assert (str(p1)).strip() == 'path [p1]:  1 -> 2 -> 3 -> 4 -> 5 -> 6'\n",
    "gp1 = (p for p in p1.items())\n",
    "assert isinstance(gp1, types.GeneratorType)\n",
    "tp1 = tuple(gp1)\n",
    "assert tp1 == (1, 2, 3, 4, 5, 6)"
   ]
  },
  {
   "cell_type": "code",
   "execution_count": 13,
   "id": "de7d7fd7-dffa-4086-ae83-69a99b0318f4",
   "metadata": {},
   "outputs": [],
   "source": [
    "nodes = ag.create_node_list(\"ETH, USDC, WBTC, BNT\")\n",
    "p2 = ag.Path(nodes, \"p2\")\n",
    "assert p2.uid == \"p2\"\n",
    "assert str(p2) == 'path [p2]: ETH->USDC->WBTC->BNT'\n",
    "gp2 = (c for c in p2.items())\n",
    "assert isinstance(gp2, types.GeneratorType)\n",
    "tp2 = tuple(gp2)\n",
    "assert str(tp2) == \"(ETH(0), USDC(1), WBTC(2), BNT(3))\"\n",
    "assert tuple(gp2) == tuple() # generator spent\n",
    "pp2 = (p for p in p2.pairs())\n",
    "assert isinstance(pp2, types.GeneratorType)\n",
    "tpp2 = tuple(pp2)\n",
    "assert len(tpp2) == 3\n",
    "assert str(tpp2[0]) == '(ETH(0), USDC(1))'\n",
    "assert str(tpp2[-1]) == '(WBTC(2), BNT(3))'\n",
    "assert p2.pairs_s() == ['ETH/USDC', 'USDC/WBTC', 'WBTC/BNT']"
   ]
  },
  {
   "cell_type": "markdown",
   "id": "442d8e05-b775-439c-a1de-fb1c47b01ece",
   "metadata": {},
   "source": [
    "## Arbgraph transport test and demo"
   ]
  },
  {
   "cell_type": "code",
   "execution_count": 14,
   "id": "d4126bfe-324e-42e5-ae91-39df2cfaace1",
   "metadata": {},
   "outputs": [],
   "source": [
    "n = ag.Node(\"ETH\")\n",
    "assert isinstance(n.state, n.State)\n",
    "assert n.state == n.State(amount = 0)"
   ]
  },
  {
   "cell_type": "code",
   "execution_count": 15,
   "id": "68523102-ae66-4158-81cb-1984af6849a2",
   "metadata": {},
   "outputs": [],
   "source": [
    "try:\n",
    "    ag.Edge(\"ETH\", 1, \"USDC\", 2000)\n",
    "    raise\n",
    "except:\n",
    "    pass"
   ]
  },
  {
   "cell_type": "code",
   "execution_count": 16,
   "id": "282648ae-3874-4099-9ddb-83e996ed9955",
   "metadata": {},
   "outputs": [],
   "source": [
    "ETH = ag.Node(\"ETH\")\n",
    "USDC = ag.Node(\"USDC\")\n",
    "assert ETH != n # nodes are only equal if they are the same object!\n",
    "assert ETH.asdict() == n.asdict()\n",
    "edge = ag.Edge(ETH, 1, USDC, 2000)\n",
    "edge2 = ag.Edge(ETH, 1, USDC, 2000)\n",
    "edge3 = ag.Edge(ETH, 2, USDC, 3500)\n",
    "assert (edge == edge2) == False\n",
    "assert edge != ag.Edge(ETH, 1, USDC, 2000)\n",
    "assert edge.asdict() == ag.Edge(ETH, 1, USDC, 2000).asdict()\n",
    "assert edge.node_in == ETH\n",
    "assert edge.node_out == USDC\n",
    "assert edge.amount_in == 1\n",
    "assert edge.amount_out == 2000\n",
    "assert edge.state == ag.Edge.State(amount_in_remaining=1)"
   ]
  },
  {
   "cell_type": "code",
   "execution_count": 17,
   "id": "83801a95-9240-4830-8e1a-93e0ad1c6e0b",
   "metadata": {},
   "outputs": [],
   "source": [
    "ETH.reset_state()\n",
    "USDC.reset_state()\n",
    "edge.reset_state()\n",
    "ETH.state.amount_.set(1)\n",
    "assert ETH.state.amount == 1\n",
    "edge.transport(1, record=True)\n",
    "assert ETH.state.amount == 0\n",
    "assert USDC.state.amount == 2000\n",
    "assert edge.state.amount_in_remaining == 0"
   ]
  },
  {
   "cell_type": "code",
   "execution_count": 18,
   "id": "d8f5eda1-53d3-4eb4-a839-74ad801c2f74",
   "metadata": {},
   "outputs": [],
   "source": [
    "ETH.reset_state()\n",
    "USDC.reset_state()\n",
    "edge.reset_state()\n",
    "ETH.state.amount_.set(1)\n",
    "edge.transport(0.25, record=True)\n",
    "assert ETH.state.amount == 0.75\n",
    "assert USDC.state.amount == 500\n",
    "assert edge.state.amount_in_remaining == 0.75\n",
    "edge.transport(0.25, record=True)\n",
    "assert ETH.state.amount == 0.5\n",
    "assert USDC.state.amount == 1000\n",
    "assert edge.state.amount_in_remaining == 0.50"
   ]
  },
  {
   "cell_type": "code",
   "execution_count": 19,
   "id": "28c9c286-f85e-44eb-8f54-f722e1985fba",
   "metadata": {},
   "outputs": [
    {
     "name": "stdout",
     "output_type": "stream",
     "text": [
      "amount 2 exceeds edge capacity 1\n"
     ]
    }
   ],
   "source": [
    "ETH.reset_state()\n",
    "USDC.reset_state()\n",
    "edge.reset_state()\n",
    "ETH.state.amount = 1\n",
    "try:\n",
    "    edge.transport(2, record=True)\n",
    "except Exception as e:\n",
    "    print(e)"
   ]
  },
  {
   "cell_type": "code",
   "execution_count": 20,
   "id": "6fce5fdf-000a-4fb9-af40-d9d634a42459",
   "metadata": {},
   "outputs": [
    {
     "name": "stdout",
     "output_type": "stream",
     "text": [
      "amount 1 exceeds node capacity -0.5\n"
     ]
    }
   ],
   "source": [
    "ETH.reset_state()\n",
    "USDC.reset_state()\n",
    "edge.reset_state()\n",
    "ETH.state.amount = 0.5\n",
    "try:\n",
    "    edge.transport(1, record=True)\n",
    "except Exception as e:\n",
    "    print(e)"
   ]
  },
  {
   "cell_type": "code",
   "execution_count": 21,
   "id": "874e343d-8592-43e8-ad9d-92772959f8ff",
   "metadata": {},
   "outputs": [
    {
     "name": "stdout",
     "output_type": "stream",
     "text": [
      "amount 1 exceeds remaining edge capacity -0.5\n"
     ]
    }
   ],
   "source": [
    "ETH.reset_state()\n",
    "USDC.reset_state()\n",
    "edge.reset_state()\n",
    "ETH.state.amount = 2\n",
    "edge.transport(0.5, record=True)\n",
    "try:\n",
    "    edge.transport(1, record=True)\n",
    "except Exception as e:\n",
    "    print(e)"
   ]
  },
  {
   "cell_type": "code",
   "execution_count": 22,
   "id": "a2c91953-f55a-45b0-9489-52a1e74c0b93",
   "metadata": {},
   "outputs": [],
   "source": [
    "ETH.state.amount = 10\n",
    "edge.state.amount_in_remaining = 10\n",
    "AG = ag.ArbGraph(nodes=[ETH, USDC], edges=[edge, edge2, edge3])\n",
    "assert AG.nodes == [ETH, USDC]\n",
    "assert AG.edges == [edge, edge2, edge3]\n",
    "assert AG.nodes[0].state.amount == 10\n",
    "assert AG.edges[0].state.amount_in_remaining == 10\n",
    "AG.reset_state()\n",
    "assert AG.nodes[0].state.amount == 0\n",
    "assert AG.edges[0].state.amount_in_remaining == 1\n",
    "assert AG.state.nodes[0] == ETH.state\n",
    "assert AG.state.edges[0] == edge.state"
   ]
  },
  {
   "cell_type": "code",
   "execution_count": 23,
   "id": "1fb09ac7-f8cf-49b0-99b4-b37754655778",
   "metadata": {},
   "outputs": [
    {
     "name": "stdout",
     "output_type": "stream",
     "text": [
      "the tkn provided ETH(None) does not match the node found ETH(0)\n"
     ]
    }
   ],
   "source": [
    "assert AG.node_by_tkn(\"ETH\") is ETH\n",
    "assert AG.node_by_tkn(ETH) is ETH\n",
    "try:\n",
    "    AG.node_by_tkn(ag.Node(\"ETH\"))\n",
    "    raise\n",
    "except Exception as e:\n",
    "    print(e)"
   ]
  },
  {
   "cell_type": "code",
   "execution_count": 24,
   "id": "6584af6f-3bcf-4cc0-8279-423087cfaf9e",
   "metadata": {},
   "outputs": [
    {
     "name": "stdout",
     "output_type": "stream",
     "text": [
      "routing_factor: 0.5; amounts_in: [0.5, 0.5, 1.0] 2 4\n",
      "routing_factor: 1.0; amounts_in: [0.5, 0.5, 1.0] 2 2.0\n"
     ]
    },
    {
     "data": {
      "text/plain": [
       "ArbGraph.TransportResult(amount_in=Amount(amount=2, node='ETH'), amount_out=Amount(amount=3750.0, node='USDC'), amounts_in=(0.5, 0.5, 1.0), amounts_out=(1000.0, 1000.0, 1750.0), edges=(Edge(node_in=ETH(0), amount_in=1, node_out=USDC(1), amount_out=2000, ix=0, inverse=False, uid=None), Edge(node_in=ETH(0), amount_in=1, node_out=USDC(1), amount_out=2000, ix=1, inverse=False, uid=None), Edge(node_in=ETH(0), amount_in=2, node_out=USDC(1), amount_out=3500, ix=2, inverse=False, uid=None)))"
      ]
     },
     "execution_count": 24,
     "metadata": {},
     "output_type": "execute_result"
    }
   ],
   "source": [
    "AG.reset_state()\n",
    "ETH.state.amount = 4\n",
    "r = AG.transport(2, \"ETH\", \"USDC\", record=True)\n",
    "assert ETH.state.amount == 2\n",
    "assert r.amount_in.amount == 2\n",
    "assert r.amount_in.tkn == \"ETH\"\n",
    "capacity_in = sum([e_.amount_in for e_ in r.edges])\n",
    "assert capacity_in == 4\n",
    "capacity_out = sum([e_.amount_out for e_ in r.edges])\n",
    "assert capacity_out == 7500\n",
    "assert r.amount_out.amount == r.amount_in.amount * capacity_out / capacity_in\n",
    "assert sum(r.amounts_in) == r.amount_in.amount\n",
    "assert sum(r.amounts_out) == r.amount_out.amount\n",
    "assert AG.has_capacity(\"ETH\", \"USDC\")\n",
    "assert AG.has_capacity()\n",
    "AG.transport(2, \"ETH\", \"USDC\", record=True)\n",
    "assert AG.has_capacity() == False\n",
    "r"
   ]
  },
  {
   "cell_type": "code",
   "execution_count": 25,
   "id": "e8a0f332-74d7-4716-8e87-cae1fc82ea99",
   "metadata": {},
   "outputs": [
    {
     "data": {
      "text/plain": [
       "ArbGraph.EdgeStatistics(len=3, edges=(Edge(node_in=ETH(0), amount_in=1, node_out=USDC(1), amount_out=2000, ix=0, inverse=False, uid=None), Edge(node_in=ETH(0), amount_in=1, node_out=USDC(1), amount_out=2000, ix=1, inverse=False, uid=None), Edge(node_in=ETH(0), amount_in=2, node_out=USDC(1), amount_out=3500, ix=2, inverse=False, uid=None)), amount_in=Amount(amount=4, node='ETH'), amount_in_remaining=Amount(amount=0.0, node='ETH'), amount_out=Amount(amount=7500, node='USDC'), price=1875.0, utilization=1.0, amounts_in=(1, 1, 2), amounts_in_remaining=(0.0, 0.0, 0.0), amounts_out=(2000, 2000, 3500), prices=(2000.0, 2000.0, 1750.0), utilizations=(1.0, 1.0, 1.0))"
      ]
     },
     "execution_count": 25,
     "metadata": {},
     "output_type": "execute_result"
    }
   ],
   "source": [
    "rs = AG.edge_statistics(edges=r.edges)\n",
    "assert rs.len == 3\n",
    "assert rs.edges is r.edges\n",
    "assert rs.amounts_in == (1, 1, 2)\n",
    "assert rs.amounts_in_remaining == (0.0, 0.0, 0.0)\n",
    "assert rs.amounts_out == (2000, 2000, 3500)\n",
    "assert rs.prices == (2000.0, 2000.0, 1750.0)\n",
    "assert rs.utilizations == (1.0, 1.0, 1.0)\n",
    "assert rs.amount_in.amount == 4\n",
    "assert rs.amount_in_remaining.amount == 0.0\n",
    "assert rs.amount_out.amount == 7500\n",
    "assert rs.amount_in.tkn == \"ETH\"\n",
    "assert rs.amount_in_remaining.tkn == \"ETH\"\n",
    "assert rs.amount_out.tkn == \"USDC\"\n",
    "assert rs.utilization == 1.0\n",
    "assert rs.price == 1875.0\n",
    "rs"
   ]
  },
  {
   "cell_type": "code",
   "execution_count": 26,
   "id": "a471a038-7477-4ede-bffe-098fe93ab5d6",
   "metadata": {},
   "outputs": [
    {
     "data": {
      "text/plain": [
       "ArbGraph.NodeStatistics(node=ETH(0), edges_in=(), edges_out=(Edge(node_in=ETH(0), amount_in=1, node_out=USDC(1), amount_out=2000, ix=0, inverse=False, uid=None), Edge(node_in=ETH(0), amount_in=1, node_out=USDC(1), amount_out=2000, ix=1, inverse=False, uid=None), Edge(node_in=ETH(0), amount_in=2, node_out=USDC(1), amount_out=3500, ix=2, inverse=False, uid=None)), nodes_in=set(), nodes_out={'USDC'}, amount_in=Amount(amount=0, node=ETH(0)), amount_out=Amount(amount=4, node=ETH(0)), amount_out_remaining=Amount(amount=0.0, node=ETH(0)))"
      ]
     },
     "execution_count": 26,
     "metadata": {},
     "output_type": "execute_result"
    }
   ],
   "source": [
    "rns = AG.node_statistics(\"ETH\")\n",
    "assert len(rns.edges_out) == 3\n",
    "assert len(rns.edges_in) == 0\n",
    "assert rns.amount_in.amount == 0\n",
    "assert rns.amount_out.amount == 4\n",
    "assert rns.amount_out_remaining.amount == 0\n",
    "assert rns.nodes_in==set()\n",
    "assert rns.nodes_out=={\"USDC\"}\n",
    "rns"
   ]
  },
  {
   "cell_type": "code",
   "execution_count": 27,
   "id": "4fc1604d-1677-4602-9170-9505974eed03",
   "metadata": {},
   "outputs": [
    {
     "data": {
      "text/plain": [
       "ArbGraph.NodeStatistics(node=USDC(1), edges_in=(Edge(node_in=ETH(0), amount_in=1, node_out=USDC(1), amount_out=2000, ix=0, inverse=False, uid=None), Edge(node_in=ETH(0), amount_in=1, node_out=USDC(1), amount_out=2000, ix=1, inverse=False, uid=None), Edge(node_in=ETH(0), amount_in=2, node_out=USDC(1), amount_out=3500, ix=2, inverse=False, uid=None)), edges_out=(), nodes_in={'ETH'}, nodes_out=set(), amount_in=Amount(amount=7500, node=USDC(1)), amount_out=Amount(amount=0, node=USDC(1)), amount_out_remaining=Amount(amount=0, node=USDC(1)))"
      ]
     },
     "execution_count": 27,
     "metadata": {},
     "output_type": "execute_result"
    }
   ],
   "source": [
    "rns2 = AG.node_statistics(\"USDC\")\n",
    "assert len(rns2.edges_out) == 0\n",
    "assert len(rns2.edges_in) == 3\n",
    "assert rns2.amount_in.amount == 7500\n",
    "assert rns2.amount_out.amount == 0\n",
    "assert rns2.amount_out_remaining.amount == 0\n",
    "assert rns2.nodes_in==set([\"ETH\",])\n",
    "assert rns2.nodes_out==set()\n",
    "rns2"
   ]
  },
  {
   "cell_type": "markdown",
   "id": "4869b700-e5c0-4199-87c2-ff4b76c04d85",
   "metadata": {},
   "source": [
    "## Arbgraph transport test and demo 2"
   ]
  },
  {
   "cell_type": "code",
   "execution_count": 28,
   "id": "a3f0b780-aef8-41ad-8e40-87d7ae227e7e",
   "metadata": {},
   "outputs": [],
   "source": [
    "@ag.dataclass\n",
    "class MyState():\n",
    "    myval_: ag.TrackedStateFloat = ag.field(default_factory=ag.TrackedStateFloat, init=False)\n",
    "    myval: ag.InitVar=None\n",
    "        \n",
    "    def __post_init__(self, myval):\n",
    "        self.myval = myval\n",
    "\n",
    "    @property\n",
    "    def myval(self):\n",
    "        return self.myval_.value\n",
    "    \n",
    "    @myval.setter\n",
    "    def myval(self, value):\n",
    "        self.myval_.set(value)"
   ]
  },
  {
   "cell_type": "code",
   "execution_count": 29,
   "id": "6ed91cb7-86de-4a1c-9243-940932d29dd4",
   "metadata": {},
   "outputs": [],
   "source": [
    "mystate = MyState(0)\n",
    "mystate.myval_.set(10)\n",
    "assert mystate.myval == 10\n",
    "mystate.myval += 5\n",
    "assert mystate.myval == 15\n",
    "mystate.myval -= 4\n",
    "assert mystate.myval == 11\n",
    "assert mystate.myval_.history == [0, 0, 10, 15, 11]"
   ]
  },
  {
   "cell_type": "code",
   "execution_count": 30,
   "id": "6e7285db-5f69-4beb-a189-0d86e1b798ea",
   "metadata": {},
   "outputs": [],
   "source": [
    "mystate = MyState(10)\n",
    "assert mystate.myval == 10\n",
    "assert mystate.myval_.history == [0,10]\n",
    "mystate.myval = 20\n",
    "assert mystate.myval == 20\n",
    "assert mystate.myval_.history == [0,10,20]\n",
    "mystate.myval += 5\n",
    "assert mystate.myval == 25\n",
    "mystate.myval -= 4\n",
    "assert mystate.myval == 21\n",
    "assert mystate.myval_.history == [0,10,20,25,21]\n",
    "assert mystate.myval_.reset(42)\n",
    "assert mystate.myval == 42\n",
    "assert mystate.myval_.history == [42]"
   ]
  },
  {
   "cell_type": "code",
   "execution_count": 31,
   "id": "673ed709-aa4f-4711-9221-fd2ce38305f8",
   "metadata": {},
   "outputs": [],
   "source": [
    "n = ag.Node(\"MEH\")\n",
    "n.state.amount = 10\n",
    "n.state.amount += 5\n",
    "n.state.amount -= 4\n",
    "assert n.state.amount == 11\n",
    "assert n.state.amount_.history == [0, 10, 15, 11]\n",
    "n.reset_state()\n",
    "assert n.state.amount_.history == [0]"
   ]
  },
  {
   "cell_type": "code",
   "execution_count": 32,
   "id": "a97dd47b-b81f-40d7-ba4f-6fedfddb3b71",
   "metadata": {},
   "outputs": [],
   "source": [
    "nodes = ag.Node.create_node_list(\"USDC, LINK, ETH, WBTC\")\n",
    "assert len(nodes)==4\n",
    "assert nodes[0].tkn == \"USDC\"\n",
    "AG = ag.ArbGraph(nodes)\n",
    "AG.add_edge(\"USDC\", 10000, \"ETH\", 5)\n",
    "AG.add_edge_obj(AG.edges[-1].R())\n",
    "AG.add_edge(\"USDC\", 10000, \"WBTC\", 1)\n",
    "AG.add_edge_obj(AG.edges[-1].R())\n",
    "AG.add_edge(\"USDC\", 10000, \"LINK\", 1000)\n",
    "AG.add_edge_obj(AG.edges[-1].R())\n",
    "AG.add_edge(\"LINK\", 1000, \"ETH\", 5)\n",
    "AG.add_edge_obj(AG.edges[-1].R())\n",
    "AG.add_edge(\"ETH\", 5, \"WBTC\", 1)\n",
    "AG.add_edge_obj(AG.edges[-1].R())\n",
    "assert len(AG.edges)==10\n",
    "assert len(AG.cycles())==11\n",
    "ns = AG.node_statistics(\"USDC\")\n",
    "assert ns.amount_in.amount == 30000\n",
    "assert ns.amount_out.amount == 30000\n",
    "assert ns.amount_out_remaining == ns.amount_out\n",
    "assert ns.nodes_out==set(['WBTC', 'ETH', 'LINK'])\n",
    "assert ns.nodes_in==set(['WBTC', 'ETH', 'LINK'])\n",
    "#_=AG.plot()"
   ]
  },
  {
   "cell_type": "markdown",
   "id": "f798a897-5a14-4029-8827-db38d4cfcfa9",
   "metadata": {},
   "source": [
    "## Transport 3 and prices"
   ]
  },
  {
   "cell_type": "code",
   "execution_count": 33,
   "id": "505fe3f8-bba4-4435-b370-55f6151783ab",
   "metadata": {},
   "outputs": [],
   "source": [
    "AG = ag.ArbGraph()\n",
    "prices = dict(USDC=1, LINK=5, AAVE=100, WETH=2000, BTC=10000)\n",
    "for t1,p1 in prices.items():\n",
    "    for t2,p2 in prices.items():\n",
    "        if t1<t2:\n",
    "            AG.add_edge_ct(tkn_in=t1, tkn_out=t2, price_outperin=p1/p2, symmetric=True)\n",
    "USDC, WETH, LINK, AAVE, BTC = AG.nodes\n",
    "assert str(USDC) == \"USDC(0)\"\n",
    "assert str(AAVE) == \"AAVE(3)\"\n",
    "assert BTC.tkn == \"BTC\"\n",
    "assert AG.ptransport(ag.Path([USDC, WETH])).multiplier == prices[USDC.tkn]/prices[WETH.tkn]\n",
    "assert AG.ptransport(ag.Path([USDC, WETH, AAVE, LINK, BTC])).multiplier == AG.ptransport(ag.Path([USDC, BTC])).multiplier\n",
    "for n1 in AG.nodes:\n",
    "    for n2 in AG.nodes:\n",
    "        if n1 != n2:\n",
    "            assert AG.ptransport(ag.Path([n1, n2])).multiplier == prices[n1.tkn]/prices[n2.tkn]\n",
    "#AG.plot(rnone=True)"
   ]
  },
  {
   "cell_type": "code",
   "execution_count": 34,
   "id": "150d0c81-6eae-42b1-a4b7-7dc322067cdb",
   "metadata": {},
   "outputs": [],
   "source": [
    "AG = ag.ArbGraph()\n",
    "prices = dict(USDC=1, LINK=5, AAVE=100, WETH=2000, BTC=10000)\n",
    "for t1,p1 in prices.items():\n",
    "    for t2,p2 in prices.items():\n",
    "        if t1==\"USDC\" and t2!=t1:\n",
    "            AG.add_edge_ct(tkn_in=t1, tkn_out=t2, price_outperin=p1/p2, symmetric=True)\n",
    "assert str(AG.nodes) == \"[USDC(0), LINK(1), AAVE(2), WETH(3), BTC(4)]\"\n",
    "USDC, LINK, AAVE, WETH, BTC = AG.nodes\n",
    "assert str(USDC) == \"USDC(0)\"\n",
    "assert BTC.tkn == \"BTC\"\n",
    "assert AG.ptransport(ag.Path([USDC, WETH])).multiplier == prices[USDC.tkn]/prices[WETH.tkn]\n",
    "assert AG.ptransport(AG.shortest_path(USDC, WETH)).multiplier == prices[USDC.tkn]/prices[WETH.tkn]\n",
    "assert AG.ptransport(AG.shortest_path(BTC, WETH)).multiplier == prices[BTC.tkn]/prices[WETH.tkn]\n",
    "assert AG.price(node_tknb=WETH, node_tknq=USDC) == AG.price(WETH, USDC)\n",
    "assert AG.price(WETH, USDC, with_units=True) == (2000.0, 'USDC per WETH [WETH/USDC]')\n",
    "assert AG.price(WETH, WETH, with_units=True) == (1, 'WETH per WETH [WETH/WETH]')\n",
    "assert AG.price(\"WETH\", \"USDC\", with_units = True) == AG.price(WETH, USDC, with_units =  True)\n",
    "assert raises(AG.price, \"ETH\", \"USDC\")\n",
    "for n1 in AG.nodes:\n",
    "    for n2 in AG.nodes:\n",
    "        if n1 != n2:\n",
    "            assert AG.ptransport(AG.shortest_path(n1, n2)).multiplier == prices[n1.tkn]/prices[n2.tkn]\n",
    "            assert AG.price(node_tknb=n1, node_tknq=n2) == prices[n1.tkn]/prices[n2.tkn]\n",
    "#AG.plot(rnone=True)"
   ]
  },
  {
   "cell_type": "code",
   "execution_count": 35,
   "id": "0fb503b8-8129-45bb-8929-17c2bceda227",
   "metadata": {},
   "outputs": [
    {
     "data": {
      "text/html": [
       "<div>\n",
       "<style scoped>\n",
       "    .dataframe tbody tr th:only-of-type {\n",
       "        vertical-align: middle;\n",
       "    }\n",
       "\n",
       "    .dataframe tbody tr th {\n",
       "        vertical-align: top;\n",
       "    }\n",
       "\n",
       "    .dataframe thead th {\n",
       "        text-align: right;\n",
       "    }\n",
       "</style>\n",
       "<table border=\"1\" class=\"dataframe\">\n",
       "  <thead>\n",
       "    <tr style=\"text-align: right;\">\n",
       "      <th></th>\n",
       "      <th>USDC</th>\n",
       "      <th>LINK</th>\n",
       "      <th>AAVE</th>\n",
       "      <th>WETH</th>\n",
       "      <th>BTC</th>\n",
       "    </tr>\n",
       "    <tr>\n",
       "      <th>tknb</th>\n",
       "      <th></th>\n",
       "      <th></th>\n",
       "      <th></th>\n",
       "      <th></th>\n",
       "      <th></th>\n",
       "    </tr>\n",
       "  </thead>\n",
       "  <tbody>\n",
       "    <tr>\n",
       "      <th>USDC</th>\n",
       "      <td>1.0</td>\n",
       "      <td>0.2</td>\n",
       "      <td>0.01</td>\n",
       "      <td>0.0005</td>\n",
       "      <td>0.0001</td>\n",
       "    </tr>\n",
       "    <tr>\n",
       "      <th>LINK</th>\n",
       "      <td>5.0</td>\n",
       "      <td>1.0</td>\n",
       "      <td>0.05</td>\n",
       "      <td>0.0025</td>\n",
       "      <td>0.0005</td>\n",
       "    </tr>\n",
       "    <tr>\n",
       "      <th>AAVE</th>\n",
       "      <td>100.0</td>\n",
       "      <td>20.0</td>\n",
       "      <td>1.00</td>\n",
       "      <td>0.0500</td>\n",
       "      <td>0.0100</td>\n",
       "    </tr>\n",
       "    <tr>\n",
       "      <th>WETH</th>\n",
       "      <td>2000.0</td>\n",
       "      <td>400.0</td>\n",
       "      <td>20.00</td>\n",
       "      <td>1.0000</td>\n",
       "      <td>0.2000</td>\n",
       "    </tr>\n",
       "    <tr>\n",
       "      <th>BTC</th>\n",
       "      <td>10000.0</td>\n",
       "      <td>2000.0</td>\n",
       "      <td>100.00</td>\n",
       "      <td>5.0000</td>\n",
       "      <td>1.0000</td>\n",
       "    </tr>\n",
       "  </tbody>\n",
       "</table>\n",
       "</div>"
      ],
      "text/plain": [
       "         USDC    LINK    AAVE    WETH     BTC\n",
       "tknb                                         \n",
       "USDC      1.0     0.2    0.01  0.0005  0.0001\n",
       "LINK      5.0     1.0    0.05  0.0025  0.0005\n",
       "AAVE    100.0    20.0    1.00  0.0500  0.0100\n",
       "WETH   2000.0   400.0   20.00  1.0000  0.2000\n",
       "BTC   10000.0  2000.0  100.00  5.0000  1.0000"
      ]
     },
     "execution_count": 35,
     "metadata": {},
     "output_type": "execute_result"
    }
   ],
   "source": [
    "AG.pricetable()"
   ]
  },
  {
   "cell_type": "code",
   "execution_count": 36,
   "id": "b999442c-7119-4dc6-8d91-de8acaed33f7",
   "metadata": {},
   "outputs": [],
   "source": [
    "pt = AG.pricetable(asdf=False)\n",
    "assert pt[\"labels\"] == ['USDC', 'LINK', 'AAVE', 'WETH', 'BTC']\n",
    "assert len(pt[\"data\"]) == len(pt[\"labels\"])\n",
    "assert pt[\"data\"][0] == [1, 0.2, 0.01, 0.0005, 0.0001]"
   ]
  },
  {
   "cell_type": "markdown",
   "id": "4f383864-957d-4ae5-92c9-0fae2343b6de",
   "metadata": {},
   "source": [
    "## Arbraph connection only edges test"
   ]
  },
  {
   "cell_type": "code",
   "execution_count": 37,
   "id": "b3353635-f182-4e79-824e-d4c2f2228a03",
   "metadata": {},
   "outputs": [],
   "source": [
    "nodes = lambda: ag.create_node_list(\"ETH, USDC\")\n",
    "ETH, USDC = nodes()"
   ]
  },
  {
   "cell_type": "code",
   "execution_count": 38,
   "id": "4ee65b5f-7045-4a08-8d01-1f33d56a6d99",
   "metadata": {},
   "outputs": [],
   "source": [
    "e = e1 = ag.Edge.connection_edge(node_in=ETH, node_out=USDC, price=3000)\n",
    "e = e2 = ag.Edge.connection_edge(node_in=ETH, node_out=USDC, price=2000)\n",
    "assert e.convention() == 'USDC per ETH'\n",
    "assert e.convention_outperin() == 'USDC per ETH'\n",
    "assert e.price() == 2000\n",
    "assert e.price_outperin == 2000\n",
    "assert e.edgetype == e.EDGE_CONNECTION\n",
    "assert e.is_amounttype == False\n",
    "assert not raises(e.assert_edgetype, e.EDGE_CONNECTION)\n",
    "assert raises(e.assert_edgetype, e.EDGE_AMOUNT)\n",
    "assert e1.label == '3000.0 [None]'\n",
    "assert e2.label == '2000.0 [None]'\n",
    "assert (e1+e2).price() == 2500\n",
    "assert (e1+3*e2).price() == 2250\n",
    "assert raises(lambda: e1*0)\n",
    "assert raises(lambda: e1*(-10))\n",
    "assert raises(lambda: 0*e1)\n",
    "assert raises(lambda: -10*e1)"
   ]
  },
  {
   "cell_type": "code",
   "execution_count": 39,
   "id": "ced876f3-17ce-42fb-b928-be4267d453f5",
   "metadata": {},
   "outputs": [],
   "source": [
    "e = e3 = ag.Edge.connection_edge(node_out=ETH, node_in=USDC, price=2000, inverse=True)\n",
    "assert e.convention() == 'USDC per ETH'\n",
    "assert e.convention_outperin() == 'ETH per USDC'\n",
    "assert e.price() == 2000\n",
    "assert e.price_outperin == 1/2000\n",
    "assert e.edgetype == e.EDGE_CONNECTION\n",
    "assert e.is_amounttype == False\n",
    "assert not raises(e.assert_edgetype, e.EDGE_CONNECTION)\n",
    "assert raises(e.assert_edgetype, e.EDGE_AMOUNT)\n",
    "assert e3.label == '0.0005 [None]'"
   ]
  },
  {
   "cell_type": "code",
   "execution_count": 40,
   "id": "5aa80d7f-c1b8-4025-8b69-8307035d086a",
   "metadata": {},
   "outputs": [],
   "source": [
    "e= e4 = ag.Edge(node_in=ETH, node_out=USDC, amount_in=1, amount_out=2000, inverse=True)\n",
    "assert e.edgetype == e.EDGE_AMOUNT\n",
    "assert e.is_amounttype\n",
    "assert not raises(e.assert_edgetype, e.EDGE_AMOUNT)\n",
    "assert raises(e.assert_edgetype, e.EDGE_CONNECTION)\n",
    "e = e5 = 2*e4\n",
    "assert e.edgetype == e.EDGE_AMOUNT\n",
    "assert e.is_amounttype\n",
    "assert not raises(e.assert_edgetype, e.EDGE_AMOUNT)\n",
    "assert raises(e.assert_edgetype, e.EDGE_CONNECTION)\n",
    "e = e6 = ag.Edge(node_in=ETH, node_out=USDC, amount_in=1, amount_out=3000)\n",
    "assert e.price() == e1.price()\n",
    "assert e.price_outperin == e1.price_outperin\n",
    "assert e4.label == '1 ETH(0) --> 2000 USDC(1)'"
   ]
  },
  {
   "cell_type": "code",
   "execution_count": 41,
   "id": "a4f3d14f-2c36-48c9-b9b3-169a69bc66c9",
   "metadata": {},
   "outputs": [],
   "source": [
    "assert raises (lambda: e1+e3)\n",
    "assert raises (lambda: -2*e1)\n",
    "assert raises (lambda: e3*(-2))\n",
    "try:\n",
    "    e1 += e3\n",
    "    raise\n",
    "except ValueError as e:\n",
    "    pass"
   ]
  },
  {
   "cell_type": "code",
   "execution_count": 42,
   "id": "7b6ad261-5eb6-4560-878f-bfb74cda33a9",
   "metadata": {},
   "outputs": [],
   "source": [
    "assert not raises (lambda: e4+e5)\n",
    "assert not raises (lambda: 2*e4)\n",
    "assert not raises (lambda: e4*2)\n",
    "e4 += e5"
   ]
  },
  {
   "cell_type": "code",
   "execution_count": 43,
   "id": "a85d1b67-ea52-4e09-be6c-e01a5b8b42f2",
   "metadata": {},
   "outputs": [],
   "source": [
    "assert e6.amount_in == 1\n",
    "assert e1.transport() == e6.transport()\n",
    "assert e1.transport(amount_in=1e6) == 1e6*e1.transport()"
   ]
  },
  {
   "cell_type": "code",
   "execution_count": 44,
   "id": "3cdc6998-cdd3-4f40-9723-4cadb0796110",
   "metadata": {},
   "outputs": [],
   "source": [
    "AG = ag.ArbGraph(nodes = [ETH, USDC])\n",
    "assert AG.edgetype is None\n",
    "AG.add_edge_obj(e1)\n",
    "assert AG.edgetype == AG.EDGE_CONNECTION\n",
    "assert AG.edgetype == e1.EDGE_CONNECTION\n",
    "AG.add_edge_obj(e2)\n",
    "assert raises(AG.add_edge_obj, e4)\n",
    "assert AG.edgetype == e1.EDGE_CONNECTION"
   ]
  },
  {
   "cell_type": "code",
   "execution_count": 45,
   "id": "7d8a7329-62a0-4a44-a8e2-ad4dd45c8994",
   "metadata": {},
   "outputs": [],
   "source": [
    "AG = ag.ArbGraph(nodes = [ETH, USDC])\n",
    "assert AG.edgetype is None\n",
    "AG.add_edge_obj(e4)\n",
    "assert AG.edgetype == AG.EDGE_AMOUNT\n",
    "assert AG.edgetype == e1.EDGE_AMOUNT\n",
    "AG.add_edge_obj(e5)\n",
    "assert raises(AG.add_edge_obj, e1)\n",
    "assert AG.edgetype == e1.EDGE_AMOUNT"
   ]
  },
  {
   "cell_type": "code",
   "execution_count": 46,
   "id": "ae4b80ec-153c-457e-bcd1-94cd0658897f",
   "metadata": {},
   "outputs": [],
   "source": [
    "AG = ag.ArbGraph()\n",
    "AG.add_edge_connectiontype(tkn_in=\"ETH\", tkn_out=\"USDC\", price=2000)\n",
    "AG.add_edge_connectiontype(tkn_in=\"ETH\", tkn_out=\"BTC\", price=1/5)\n",
    "AG.add_edge_connectiontype(tkn_in=\"BTC\", tkn_out=\"USDC\", price=10000)\n",
    "assert AG.edgetype == AG.EDGE_CONNECTION\n",
    "assert len(AG) == 6\n",
    "#_=AG.plot()"
   ]
  },
  {
   "cell_type": "code",
   "execution_count": 47,
   "id": "718b0faf-3f94-41b7-8b8b-4878ea413559",
   "metadata": {},
   "outputs": [],
   "source": [
    "AG = ag.ArbGraph()\n",
    "AG.add_edge_connectiontype(tkn_in=\"ETH\", tkn_out=\"USDC\", price=2000, symmetric=False)\n",
    "AG.add_edge_connectiontype(tkn_in=\"ETH\", tkn_out=\"BTC\", price=1/5, symmetric=False)\n",
    "AG.add_edge_connectiontype(tkn_in=\"BTC\", tkn_out=\"USDC\", price=10000, symmetric=False)\n",
    "assert AG.edgetype == AG.EDGE_CONNECTION\n",
    "assert len(AG) == 3\n",
    "#_=AG.plot()"
   ]
  },
  {
   "cell_type": "code",
   "execution_count": 48,
   "id": "54d2538b-4a24-462a-95cc-a9369570c9b4",
   "metadata": {},
   "outputs": [],
   "source": [
    "AG = ag.ArbGraph()\n",
    "assert raises (AG.add_edge_connectiontype, tkn_in=\"ETH\", tkn_out=\"USDC\", price=2000, price_outperin=2000)\n",
    "assert raises (AG.add_edge_connectiontype, tkn_in=\"ETH\", tkn_out=\"USDC\", inverse = True, price_outperin=2000)\n",
    "assert AG.add_edge_connectiontype == AG.add_edge_ct"
   ]
  },
  {
   "cell_type": "code",
   "execution_count": 49,
   "id": "2c853729-60ce-4597-9ab0-5404ffbff61f",
   "metadata": {},
   "outputs": [
    {
     "ename": "AttributeError",
     "evalue": "module 'scipy.sparse' has no attribute 'coo_array'",
     "output_type": "error",
     "traceback": [
      "\u001b[0;31m---------------------------------------------------------------------------\u001b[0m",
      "\u001b[0;31mAttributeError\u001b[0m                            Traceback (most recent call last)",
      "\u001b[0;32m<ipython-input-49-721918538a0d>\u001b[0m in \u001b[0;36m<module>\u001b[0;34m\u001b[0m\n\u001b[1;32m      7\u001b[0m \u001b[0;32massert\u001b[0m \u001b[0mAG\u001b[0m\u001b[0;34m.\u001b[0m\u001b[0mlen\u001b[0m\u001b[0;34m(\u001b[0m\u001b[0;34m)\u001b[0m \u001b[0;34m==\u001b[0m \u001b[0;34m(\u001b[0m\u001b[0;36m2\u001b[0m\u001b[0;34m*\u001b[0m\u001b[0;36m3\u001b[0m\u001b[0;34m*\u001b[0m\u001b[0;36m5\u001b[0m\u001b[0;34m,\u001b[0m \u001b[0;36m3\u001b[0m\u001b[0;34m)\u001b[0m\u001b[0;34m\u001b[0m\u001b[0;34m\u001b[0m\u001b[0m\n\u001b[1;32m      8\u001b[0m \u001b[0;32massert\u001b[0m \u001b[0mlen\u001b[0m\u001b[0;34m(\u001b[0m\u001b[0mAG\u001b[0m\u001b[0;34m.\u001b[0m\u001b[0mcycles\u001b[0m\u001b[0;34m(\u001b[0m\u001b[0;34m)\u001b[0m\u001b[0;34m)\u001b[0m \u001b[0;34m==\u001b[0m \u001b[0;36m5\u001b[0m\u001b[0;34m\u001b[0m\u001b[0;34m\u001b[0m\u001b[0m\n\u001b[0;32m----> 9\u001b[0;31m \u001b[0;32massert\u001b[0m \u001b[0mnp\u001b[0m\u001b[0;34m.\u001b[0m\u001b[0marray_equal\u001b[0m\u001b[0;34m(\u001b[0m\u001b[0mAG\u001b[0m\u001b[0;34m.\u001b[0m\u001b[0mA\u001b[0m\u001b[0;34m.\u001b[0m\u001b[0mtoarray\u001b[0m\u001b[0;34m(\u001b[0m\u001b[0;34m)\u001b[0m\u001b[0;34m,\u001b[0m \u001b[0mnp\u001b[0m\u001b[0;34m.\u001b[0m\u001b[0marray\u001b[0m\u001b[0;34m(\u001b[0m\u001b[0;34m[\u001b[0m\u001b[0;34m[\u001b[0m\u001b[0;36m0\u001b[0m\u001b[0;34m,\u001b[0m \u001b[0;36m1\u001b[0m\u001b[0;34m,\u001b[0m \u001b[0;36m1\u001b[0m\u001b[0;34m]\u001b[0m\u001b[0;34m,\u001b[0m \u001b[0;34m[\u001b[0m\u001b[0;36m1\u001b[0m\u001b[0;34m,\u001b[0m \u001b[0;36m0\u001b[0m\u001b[0;34m,\u001b[0m \u001b[0;36m1\u001b[0m\u001b[0;34m]\u001b[0m\u001b[0;34m,\u001b[0m \u001b[0;34m[\u001b[0m\u001b[0;36m1\u001b[0m\u001b[0;34m,\u001b[0m \u001b[0;36m1\u001b[0m\u001b[0;34m,\u001b[0m \u001b[0;36m0\u001b[0m\u001b[0;34m]\u001b[0m\u001b[0;34m]\u001b[0m\u001b[0;34m)\u001b[0m\u001b[0;34m)\u001b[0m\u001b[0;34m\u001b[0m\u001b[0;34m\u001b[0m\u001b[0m\n\u001b[0m\u001b[1;32m     10\u001b[0m \u001b[0mprint\u001b[0m\u001b[0;34m(\u001b[0m\u001b[0mAG\u001b[0m\u001b[0;34m.\u001b[0m\u001b[0mA\u001b[0m\u001b[0;34m)\u001b[0m\u001b[0;34m\u001b[0m\u001b[0;34m\u001b[0m\u001b[0m\n\u001b[1;32m     11\u001b[0m \u001b[0mAG2\u001b[0m \u001b[0;34m=\u001b[0m \u001b[0mAG\u001b[0m\u001b[0;34m.\u001b[0m\u001b[0mduplicate\u001b[0m\u001b[0;34m(\u001b[0m\u001b[0;34m)\u001b[0m\u001b[0;34m\u001b[0m\u001b[0;34m\u001b[0m\u001b[0m\n",
      "\u001b[0;32m~/REPOES/Bancor/FLBot/resources/NBTest/fastlane_bot/tools/arbgraphs.py\u001b[0m in \u001b[0;36mA\u001b[0;34m(self)\u001b[0m\n\u001b[1;32m   1475\u001b[0m     \u001b[0;32mdef\u001b[0m \u001b[0mA\u001b[0m\u001b[0;34m(\u001b[0m\u001b[0mself\u001b[0m\u001b[0;34m)\u001b[0m\u001b[0;34m:\u001b[0m\u001b[0;34m\u001b[0m\u001b[0;34m\u001b[0m\u001b[0m\n\u001b[1;32m   1476\u001b[0m         \u001b[0;34m\"\"\"alias for Adjacency(directed=True, weighted=False, include_eigenvalues=False)\"\"\"\u001b[0m\u001b[0;34m\u001b[0m\u001b[0;34m\u001b[0m\u001b[0m\n\u001b[0;32m-> 1477\u001b[0;31m         \u001b[0;32mreturn\u001b[0m \u001b[0mself\u001b[0m\u001b[0;34m.\u001b[0m\u001b[0mAdjacency\u001b[0m\u001b[0;34m(\u001b[0m\u001b[0mdirected\u001b[0m\u001b[0;34m=\u001b[0m\u001b[0;32mTrue\u001b[0m\u001b[0;34m,\u001b[0m \u001b[0mweighted\u001b[0m\u001b[0;34m=\u001b[0m\u001b[0;32mFalse\u001b[0m\u001b[0;34m,\u001b[0m \u001b[0minclude_eigenvalues\u001b[0m\u001b[0;34m=\u001b[0m\u001b[0;32mFalse\u001b[0m\u001b[0;34m)\u001b[0m\u001b[0;34m\u001b[0m\u001b[0;34m\u001b[0m\u001b[0m\n\u001b[0m\u001b[1;32m   1478\u001b[0m \u001b[0;34m\u001b[0m\u001b[0m\n\u001b[1;32m   1479\u001b[0m     \u001b[0;32mdef\u001b[0m \u001b[0mshortest_path\u001b[0m\u001b[0;34m(\u001b[0m\u001b[0mself\u001b[0m\u001b[0;34m,\u001b[0m \u001b[0mnode_start\u001b[0m\u001b[0;34m,\u001b[0m \u001b[0mnode_end\u001b[0m\u001b[0;34m)\u001b[0m\u001b[0;34m:\u001b[0m\u001b[0;34m\u001b[0m\u001b[0;34m\u001b[0m\u001b[0m\n",
      "\u001b[0;32m~/REPOES/Bancor/FLBot/resources/NBTest/fastlane_bot/tools/arbgraphs.py\u001b[0m in \u001b[0;36mAdjacency\u001b[0;34m(self, directed, weighted, include_eigenvalues)\u001b[0m\n\u001b[1;32m   1466\u001b[0m         \"\"\"\n\u001b[1;32m   1467\u001b[0m         \u001b[0mG\u001b[0m \u001b[0;34m=\u001b[0m \u001b[0mself\u001b[0m\u001b[0;34m.\u001b[0m\u001b[0mas_graph\u001b[0m\u001b[0;34m(\u001b[0m\u001b[0mdirected\u001b[0m\u001b[0;34m=\u001b[0m\u001b[0mdirected\u001b[0m\u001b[0;34m,\u001b[0m \u001b[0mweighted\u001b[0m\u001b[0;34m=\u001b[0m\u001b[0mweighted\u001b[0m\u001b[0;34m)\u001b[0m\u001b[0;34m\u001b[0m\u001b[0;34m\u001b[0m\u001b[0m\n\u001b[0;32m-> 1468\u001b[0;31m         \u001b[0mA\u001b[0m \u001b[0;34m=\u001b[0m \u001b[0mnx\u001b[0m\u001b[0;34m.\u001b[0m\u001b[0madjacency_matrix\u001b[0m\u001b[0;34m(\u001b[0m\u001b[0mG\u001b[0m\u001b[0;34m)\u001b[0m\u001b[0;34m\u001b[0m\u001b[0;34m\u001b[0m\u001b[0m\n\u001b[0m\u001b[1;32m   1469\u001b[0m         \u001b[0;32mif\u001b[0m \u001b[0;32mnot\u001b[0m \u001b[0minclude_eigenvalues\u001b[0m\u001b[0;34m:\u001b[0m\u001b[0;34m\u001b[0m\u001b[0;34m\u001b[0m\u001b[0m\n\u001b[1;32m   1470\u001b[0m             \u001b[0;32mreturn\u001b[0m \u001b[0mA\u001b[0m\u001b[0;34m\u001b[0m\u001b[0;34m\u001b[0m\u001b[0m\n",
      "\u001b[0;32m~/opt/anaconda3/lib/python3.8/site-packages/networkx/linalg/graphmatrix.py\u001b[0m in \u001b[0;36madjacency_matrix\u001b[0;34m(G, nodelist, dtype, weight)\u001b[0m\n\u001b[1;32m    155\u001b[0m     \u001b[0madjacency_spectrum\u001b[0m\u001b[0;34m\u001b[0m\u001b[0;34m\u001b[0m\u001b[0m\n\u001b[1;32m    156\u001b[0m     \"\"\"\n\u001b[0;32m--> 157\u001b[0;31m     \u001b[0;32mreturn\u001b[0m \u001b[0mnx\u001b[0m\u001b[0;34m.\u001b[0m\u001b[0mto_scipy_sparse_array\u001b[0m\u001b[0;34m(\u001b[0m\u001b[0mG\u001b[0m\u001b[0;34m,\u001b[0m \u001b[0mnodelist\u001b[0m\u001b[0;34m=\u001b[0m\u001b[0mnodelist\u001b[0m\u001b[0;34m,\u001b[0m \u001b[0mdtype\u001b[0m\u001b[0;34m=\u001b[0m\u001b[0mdtype\u001b[0m\u001b[0;34m,\u001b[0m \u001b[0mweight\u001b[0m\u001b[0;34m=\u001b[0m\u001b[0mweight\u001b[0m\u001b[0;34m)\u001b[0m\u001b[0;34m\u001b[0m\u001b[0;34m\u001b[0m\u001b[0m\n\u001b[0m",
      "\u001b[0;32m~/opt/anaconda3/lib/python3.8/site-packages/networkx/convert_matrix.py\u001b[0m in \u001b[0;36mto_scipy_sparse_array\u001b[0;34m(G, nodelist, dtype, weight, format)\u001b[0m\n\u001b[1;32m    577\u001b[0m \u001b[0;34m\u001b[0m\u001b[0m\n\u001b[1;32m    578\u001b[0m     \u001b[0;32mif\u001b[0m \u001b[0mG\u001b[0m\u001b[0;34m.\u001b[0m\u001b[0mis_directed\u001b[0m\u001b[0;34m(\u001b[0m\u001b[0;34m)\u001b[0m\u001b[0;34m:\u001b[0m\u001b[0;34m\u001b[0m\u001b[0;34m\u001b[0m\u001b[0m\n\u001b[0;32m--> 579\u001b[0;31m         \u001b[0mA\u001b[0m \u001b[0;34m=\u001b[0m \u001b[0msp\u001b[0m\u001b[0;34m.\u001b[0m\u001b[0msparse\u001b[0m\u001b[0;34m.\u001b[0m\u001b[0mcoo_array\u001b[0m\u001b[0;34m(\u001b[0m\u001b[0;34m(\u001b[0m\u001b[0mdata\u001b[0m\u001b[0;34m,\u001b[0m \u001b[0;34m(\u001b[0m\u001b[0mrow\u001b[0m\u001b[0;34m,\u001b[0m \u001b[0mcol\u001b[0m\u001b[0;34m)\u001b[0m\u001b[0;34m)\u001b[0m\u001b[0;34m,\u001b[0m \u001b[0mshape\u001b[0m\u001b[0;34m=\u001b[0m\u001b[0;34m(\u001b[0m\u001b[0mnlen\u001b[0m\u001b[0;34m,\u001b[0m \u001b[0mnlen\u001b[0m\u001b[0;34m)\u001b[0m\u001b[0;34m,\u001b[0m \u001b[0mdtype\u001b[0m\u001b[0;34m=\u001b[0m\u001b[0mdtype\u001b[0m\u001b[0;34m)\u001b[0m\u001b[0;34m\u001b[0m\u001b[0;34m\u001b[0m\u001b[0m\n\u001b[0m\u001b[1;32m    580\u001b[0m     \u001b[0;32melse\u001b[0m\u001b[0;34m:\u001b[0m\u001b[0;34m\u001b[0m\u001b[0;34m\u001b[0m\u001b[0m\n\u001b[1;32m    581\u001b[0m         \u001b[0;31m# symmetrize matrix\u001b[0m\u001b[0;34m\u001b[0m\u001b[0;34m\u001b[0m\u001b[0;34m\u001b[0m\u001b[0m\n",
      "\u001b[0;31mAttributeError\u001b[0m: module 'scipy.sparse' has no attribute 'coo_array'"
     ]
    }
   ],
   "source": [
    "AG = ag.ArbGraph()\n",
    "for i in range(5):\n",
    "    mul = 1+i/50\n",
    "    AG.add_edge_ct(tkn_in=\"ETH\", tkn_out=\"USDC\", price=2000*mul)\n",
    "    AG.add_edge_ct(tkn_in=\"WBTC\", tkn_out=\"USDC\", price=10000*mul)\n",
    "    AG.add_edge_ct(tkn_in=\"ETH\", tkn_out=\"WBTC\", price=0.2/mul)\n",
    "assert AG.len() == (2*3*5, 3)\n",
    "assert len(AG.cycles()) == 5\n",
    "assert np.array_equal(AG.A.toarray(), np.array([[0, 1, 1], [1, 0, 1], [1, 1, 0]]))\n",
    "print(AG.A)\n",
    "AG2 = AG.duplicate()\n",
    "assert AG2.len() == (6,3)\n",
    "edges = AG.filter_edges(\"ETH\", \"USDC\")\n",
    "assert len(edges) == 5\n",
    "edges2 = AG2.filter_edges(\"ETH\", \"USDC\")\n",
    "assert len(edges2) == 1\n",
    "assert [e.p_outperin for e in edges] == [2000.0, 2040.0, 2080.0, 2120.0, 2160.0]\n",
    "assert edges2[0].p_outperin == np.mean([e.p_outperin for e in edges])"
   ]
  },
  {
   "cell_type": "markdown",
   "id": "20d0e72b-ff68-4f6d-a3f1-0311e59cd7f6",
   "metadata": {},
   "source": [
    "    AttributeError: module 'scipy.sparse' has no attribute 'coo_array'\n",
    "        \n",
    "I had this one before -- I believe this is a version issue; unfortunately I do not quite remember how I fixed it at the time"
   ]
  },
  {
   "cell_type": "markdown",
   "id": "4db52bf5-bad1-4e91-8ecd-19dfbdc39435",
   "metadata": {},
   "source": [
    "## Interaction with CPC"
   ]
  },
  {
   "cell_type": "code",
   "execution_count": null,
   "id": "94d3d623-0868-4987-8832-6ff39f2bac27",
   "metadata": {},
   "outputs": [],
   "source": [
    "c1  = CPC.from_univ2(x_tknb=1, y_tknq=2000, pair=\"ETH/USDC\", fee=0, cid=\"1\", descr=\"UniV2\")\n",
    "c2  = CPC.from_univ2(x_tknb=1, y_tknq=10000, pair=\"WBTC/USDC\", fee=0, cid=\"2\", descr=\"UniV2\")\n",
    "c3  = CPC.from_univ2(x_tknb=1, y_tknq=5, pair=\"WBTC/ETH\", fee=0, cid=\"3\", descr=\"UniV2\")\n",
    "assert c1.p == 2000\n",
    "assert c2.p == 10000\n",
    "assert c3.p == 5"
   ]
  },
  {
   "cell_type": "code",
   "execution_count": null,
   "id": "9c0f82b7-fc39-48be-9465-09198266060a",
   "metadata": {},
   "outputs": [],
   "source": [
    "AG = ag.ArbGraph()\n",
    "AG.add_edges_cpc(c1)\n",
    "AG.add_edges_cpc(c2)\n",
    "AG.add_edges_cpc(c3)\n",
    "#_=AG.plot()"
   ]
  },
  {
   "cell_type": "code",
   "execution_count": null,
   "id": "44580cb8-1a34-4fc8-9cfe-e95948771995",
   "metadata": {},
   "outputs": [],
   "source": [
    "AG = ag.ArbGraph()\n",
    "AG.add_edges_cpc([c1, c2, c3])\n",
    "#_=AG.plot()"
   ]
  },
  {
   "cell_type": "code",
   "execution_count": null,
   "id": "e8c79e3e-b41e-4920-ada2-3ca5e67126d7",
   "metadata": {},
   "outputs": [],
   "source": [
    "AG = ag.ArbGraph()\n",
    "AG.add_edges_cpc(c for c in [c1, c2, c3])\n",
    "#_=AG.plot()"
   ]
  },
  {
   "cell_type": "code",
   "execution_count": null,
   "id": "8529263f-1472-4332-a684-8eef6a562a95",
   "metadata": {},
   "outputs": [],
   "source": [
    "AG = ag.ArbGraph()\n",
    "CC = CPCContainer([c1,c2,c3])\n",
    "AG.add_edges_cpc(CC)\n",
    "#_=AG.plot()"
   ]
  },
  {
   "cell_type": "code",
   "execution_count": null,
   "id": "f032a193-a6f9-4f13-b311-86ddbeaa43d3",
   "metadata": {},
   "outputs": [],
   "source": [
    "print(AG.A)"
   ]
  },
  {
   "cell_type": "code",
   "execution_count": null,
   "id": "f1e0e122-72dc-417d-8628-6379edb36a40",
   "metadata": {},
   "outputs": [],
   "source": [
    "AG.cycles()"
   ]
  },
  {
   "cell_type": "markdown",
   "id": "b18b27a6-3d38-4e03-a8be-30d35424c1b5",
   "metadata": {},
   "source": [
    "## With real data from CPC"
   ]
  },
  {
   "cell_type": "code",
   "execution_count": null,
   "id": "6e98f201-62f2-4f1c-9f58-f787e1a7267b",
   "metadata": {},
   "outputs": [],
   "source": [
    "try:\n",
    "    df = pd.read_csv(\"_data/NBTEST_002_Curves.csv.gz\")\n",
    "except:\n",
    "    df = pd.read_csv(\"fastlane_bot/tests/_data/NBTEST_002_Curves.csv.gz\")\n",
    "CC0 = CPCContainer.from_df(df)\n",
    "print(\"Num curves:\", len(CC0))\n",
    "print(\"Num pairs:\", len(CC0.pairs()))\n",
    "print(\"Num tokens:\", len(CC0.tokens()))\n",
    "print(CC0.tokens_s())"
   ]
  },
  {
   "cell_type": "code",
   "execution_count": null,
   "id": "1de1050e-ecbc-4377-a540-c08bd9a48432",
   "metadata": {},
   "outputs": [],
   "source": [
    "AG0 = ag.ArbGraph().add_edges_cpc(CC0)\n",
    "#AG0.plot()\n",
    "assert AG0.len() == (918, 141)"
   ]
  },
  {
   "cell_type": "code",
   "execution_count": null,
   "id": "4aa3bb42-9842-43c0-9fe2-70dace48bb63",
   "metadata": {},
   "outputs": [],
   "source": [
    "assert str(AG0.A)[:60] =='  (0, 1)\\t1\\n  (1, 0)\\t1\\n  (2, 3)\\t1\\n  (2, 4)\\t1\\n  (2, 5)\\t1\\n  (2,'"
   ]
  },
  {
   "cell_type": "code",
   "execution_count": null,
   "id": "6903c18c-e046-4031-b3d6-04d0fb7b528e",
   "metadata": {},
   "outputs": [],
   "source": [
    "pairs = CC0.filter_pairs(bothin=\"WETH, USDC, UNI, AAVE, LINK\")\n",
    "CC = CC0.bypairs(pairs, ascc=True)\n",
    "AG = ag.ArbGraph().add_edges_cpc(CC)\n",
    "#AG.plot()\n",
    "AG.len() == (24, 5)"
   ]
  },
  {
   "cell_type": "code",
   "execution_count": null,
   "id": "f3e69f0b-99f0-4196-89af-bc5bf11f5e41",
   "metadata": {},
   "outputs": [],
   "source": [
    "assert np.all(AG.A.toarray() == np.array(\n",
    "      [[0, 1, 1, 0, 0],\n",
    "       [1, 0, 1, 1, 1],\n",
    "       [1, 1, 0, 1, 1],\n",
    "       [0, 1, 1, 0, 0],\n",
    "       [0, 1, 1, 0, 0]]))"
   ]
  },
  {
   "cell_type": "code",
   "execution_count": null,
   "id": "61f65aad-7493-4aaf-9819-dd19950e032f",
   "metadata": {},
   "outputs": [],
   "source": [
    "assert raises(AG.edge_statistics,\"WETH\", \"USDC\")"
   ]
  },
  {
   "cell_type": "code",
   "execution_count": null,
   "id": "8ba71383-94a7-4224-aa74-e9601839a68a",
   "metadata": {},
   "outputs": [],
   "source": [
    "AG.edgedf(consolidated=False)"
   ]
  },
  {
   "cell_type": "code",
   "execution_count": null,
   "id": "adb634cb-a53e-4a8b-8bf3-3e99602d1d6a",
   "metadata": {},
   "outputs": [],
   "source": [
    "df = AG.edgedf(consolidated=True)\n",
    "df"
   ]
  },
  {
   "cell_type": "code",
   "execution_count": null,
   "id": "74fa4d4f-e077-4f54-8719-d91ce21bff3f",
   "metadata": {},
   "outputs": [],
   "source": [
    "dx,dy = ((71.22, -0.28, 3.4, -10.82, 755278.31, -65.01, -5.93, -3.38, -0.02, 60.27, -49.45, 1507698.66, -2263343.63), \n",
    "         (-0.3, 1.99, -0.14, 0.04, -393.48, 0.27, 46.42, 0.13, 1.41, -0.2, 316.84, -786.1, 833.78))\n",
    "AG2 = ag.ArbGraph()\n",
    "for cpc, dx_, dy_ in zip(CC, dx, dy):\n",
    "    print(dx_, cpc.tknx, dy_, cpc.tkny, cpc.cid)\n",
    "    AG2.add_edge_dxdy(cpc.tknx, dx_, cpc.tkny, dy_, uid=cpc.cid)\n",
    "    #print(\"---\")"
   ]
  },
  {
   "cell_type": "code",
   "execution_count": null,
   "id": "519e81fb-180b-4003-9104-09df28bda6a4",
   "metadata": {},
   "outputs": [],
   "source": [
    "#_=AG2.plot()\n",
    "assert AG2.len() == (12,5)"
   ]
  },
  {
   "cell_type": "code",
   "execution_count": null,
   "id": "7657cc5e-b0fc-459c-8a10-bbe1f9960ecb",
   "metadata": {},
   "outputs": [],
   "source": [
    "assert np.all(AG2.A.toarray() == np.array(\n",
    "      [[0, 1, 0, 0, 0],\n",
    "       [1, 0, 0, 1, 1],\n",
    "       [1, 1, 0, 1, 1],\n",
    "       [0, 1, 0, 0, 0],\n",
    "       [0, 1, 0, 0, 0]]))\n",
    "print(AG2.A.toarray())"
   ]
  },
  {
   "cell_type": "code",
   "execution_count": null,
   "id": "5fe9565c-71a6-4efd-a690-44341813c423",
   "metadata": {},
   "outputs": [],
   "source": [
    "assert AG2.edge_statistics(\"WETH\", \"USDC\", bothways=False) is None\n",
    "assert len(AG2.edge_statistics(\"WETH\", \"USDC\", bothways=True)) == 2\n",
    "assert AG2.edge_statistics(\"WETH\", \"USDC\", bothways=True)[1].asdict()[\"amounts_in_remaining\"] == (755278.31, 1507698.66)\n",
    "AG2.edge_statistics(\"WETH\", \"USDC\", bothways=True)[1].asdict()"
   ]
  },
  {
   "cell_type": "code",
   "execution_count": null,
   "id": "80e653d3-8c77-4085-b8f7-c74ec83de173",
   "metadata": {},
   "outputs": [],
   "source": [
    "assert AG2.filter_edges(\"WETH\", \"USDC\") == []\n",
    "assert AG2.filter_edges(\"WETH\", \"USDC\", bothways=True)[0].amount_in == 755278.31\n",
    "assert AG2.filter_edges(\"WETH\", \"USDC\", bothways=True) == AG2.filter_edges(\"USDC\", \"WETH\")\n",
    "assert AG2.filter_edges(pair=\"WETH/USDC\", bothways=False) == []\n",
    "assert AG2.filter_edges(pair=\"WETH/USDC\") == AG2.filter_edges(\"WETH\", \"USDC\", bothways=True)\n",
    "assert AG2.filter_edges == AG2.fe\n",
    "assert AG2.fep(\"WETH/USDC\") == AG2.filter_edges(pair=\"WETH/USDC\")\n",
    "assert AG2.fep(\"WETH/USDC\", bothways=False) == AG2.filter_edges(pair=\"WETH/USDC\", bothways=False)\n",
    "assert tuple(AG2.edgedf(consolidated=True, resetindex=False).iloc[0]) == (1.41, 0.02)\n",
    "assert len(AG2.edgedf(consolidated=False)) == len(AG2)"
   ]
  },
  {
   "cell_type": "code",
   "execution_count": null,
   "id": "18c718aa-6539-4e32-b2ac-cce270a48356",
   "metadata": {},
   "outputs": [],
   "source": [
    "assert len(AG2.edgedf(consolidated=False)) == 12\n",
    "AG2.edgedf(consolidated=False)"
   ]
  },
  {
   "cell_type": "code",
   "execution_count": null,
   "id": "1f40c9ae-767e-4b68-9cf1-c5cd32fc7d35",
   "metadata": {},
   "outputs": [],
   "source": [
    "assert len(AG2.edgedf(consolidated=True, resetindex=False)) == 10\n",
    "AG2.edgedf(consolidated=True, resetindex=False)"
   ]
  },
  {
   "cell_type": "markdown",
   "id": "b73a9fe5-f486-4cae-b86d-c59a8139451f",
   "metadata": {},
   "source": [
    "## Amount algebra"
   ]
  },
  {
   "cell_type": "code",
   "execution_count": null,
   "id": "818d1633-8b04-459d-9c1b-9756c9b1b0b3",
   "metadata": {},
   "outputs": [],
   "source": [
    "A = ag.Amount\n",
    "nodes = lambda: ag.create_node_list(\"ETH, USDC\")\n",
    "ETH, USDC = nodes()"
   ]
  },
  {
   "cell_type": "code",
   "execution_count": null,
   "id": "e1666418-0dd0-4b22-8470-ca881bb2a291",
   "metadata": {},
   "outputs": [],
   "source": [
    "ae1, ae2, au1 = A(1, ETH), A(2, ETH), A(1, USDC)"
   ]
  },
  {
   "cell_type": "code",
   "execution_count": null,
   "id": "de56707f-35c3-402e-9b29-b651475380d3",
   "metadata": {},
   "outputs": [],
   "source": [
    "assert ae1 + ae2 == 3*ae1\n",
    "assert ae2 - ae1 == ae1\n",
    "assert -ae1 + ae2 == ae1\n",
    "assert 2*ae1 == ae2\n",
    "assert ae1*2 == ae2\n",
    "assert ae1/2 +ae1/2 == ae1\n",
    "assert round(ae1/9,2) == round(1/9,2)*ae1\n",
    "assert round(ae1/9,4) == round(1/9,4)*ae1\n",
    "assert m.floor(ae1/9) == m.floor(1/9)*ae1\n",
    "assert m.ceil(ae1/9) == m.ceil(1/9)*ae1\n",
    "assert (ae1 + 2*ae1)/ae1 == 3"
   ]
  },
  {
   "cell_type": "code",
   "execution_count": null,
   "id": "274aea35-d311-4995-8878-fc8cf447452d",
   "metadata": {},
   "outputs": [],
   "source": [
    "assert raises (lambda: ae1 + 1)\n",
    "assert raises (lambda: ae1 - 1)\n",
    "assert raises (lambda: 1 + ae1)\n",
    "assert raises (lambda: 1 - ae1)"
   ]
  },
  {
   "cell_type": "code",
   "execution_count": null,
   "id": "b325f79e-f43a-49d5-b74f-7fbaf4cac6ca",
   "metadata": {},
   "outputs": [],
   "source": [
    "assert 2*ae1 > ae1\n",
    "assert 2*ae1 >= ae1\n",
    "assert .2*ae1 < ae1\n",
    "assert .2*ae1 <= ae1\n",
    "assert ae1 <= ae1\n",
    "assert ae1 >= ae1\n",
    "assert not ae1 < ae1\n",
    "assert not ae1 > ae1"
   ]
  },
  {
   "cell_type": "markdown",
   "id": "6a863003-9227-4fa8-953f-d338a18605c8",
   "metadata": {},
   "source": [
    "## Specific Arb examples"
   ]
  },
  {
   "cell_type": "markdown",
   "id": "0f849ba9-36bf-4f17-9559-7b1a38f48e2d",
   "metadata": {},
   "source": [
    "### USDC/ETH"
   ]
  },
  {
   "cell_type": "code",
   "execution_count": null,
   "id": "91c93306-b019-468a-ba5a-c345490f362c",
   "metadata": {},
   "outputs": [],
   "source": [
    "AG = ag.ArbGraph()\n",
    "AG.add_edge(\"ETH\", 1, \"USDC\", 2000)\n",
    "AG.add_edge(\"USDC\", 1800, \"ETH\", 1, inverse=True)\n",
    "G = AG.as_graph()\n",
    "print(AG.cycles())\n",
    "#_=AG.plot()"
   ]
  },
  {
   "cell_type": "code",
   "execution_count": null,
   "id": "0b259f89-6537-4b6e-bc37-853f84c6fafd",
   "metadata": {},
   "outputs": [],
   "source": [
    "for C in AG.cycles():\n",
    "    print(f\"==={C}===\")\n",
    "    for c in C.pairs(start_val=AG.n(\"ETH\")): \n",
    "        print(c)"
   ]
  },
  {
   "cell_type": "code",
   "execution_count": null,
   "id": "0decf9b2-28cb-4327-9821-ff8b6b08db33",
   "metadata": {},
   "outputs": [],
   "source": [
    "c, AG.filter_edges(*c)"
   ]
  },
  {
   "cell_type": "code",
   "execution_count": null,
   "id": "ac6983c1-c55c-4666-aed5-0acd26d0819e",
   "metadata": {},
   "outputs": [],
   "source": [
    "AG.A.toarray()"
   ]
  },
  {
   "cell_type": "markdown",
   "id": "926914d2-d515-412c-ab15-be5cc577ce7d",
   "metadata": {},
   "source": [
    "### USDC/LINK to ETH (oneway)"
   ]
  },
  {
   "cell_type": "code",
   "execution_count": null,
   "id": "f0743e1d-8709-41f9-8ae7-dd13cdfe40a0",
   "metadata": {},
   "outputs": [],
   "source": [
    "AG = ag.ArbGraph()\n",
    "AG.add_edge(\"USDC\", 100, \"ETH\", 100/2000)\n",
    "AG.add_edge(\"LINK\", 100, \"USDC\", 1000)\n",
    "AG.add_edge(\"USDC\", 900, \"LINK\", 100, inverse=True)\n",
    "G = AG.as_graph()\n",
    "print(AG.cycles())\n",
    "#_=AG.plot()"
   ]
  },
  {
   "cell_type": "markdown",
   "id": "3e8b2ed6",
   "metadata": {},
   "source": [
    "_=AG.duplicate().plot()"
   ]
  },
  {
   "cell_type": "code",
   "execution_count": null,
   "id": "69797a28-a7e7-43aa-8442-c164c8bedfed",
   "metadata": {},
   "outputs": [],
   "source": [
    "for C in AG.cycles():\n",
    "    print(f\"==={C}===\")\n",
    "    for c in C.pairs(start_val=AG.n(\"USDC\")): \n",
    "        print(c)"
   ]
  },
  {
   "cell_type": "code",
   "execution_count": null,
   "id": "5958e342-d8d5-4a19-8692-4cf8f3c90ca1",
   "metadata": {},
   "outputs": [],
   "source": [
    "c, AG.filter_edges(*c)"
   ]
  },
  {
   "cell_type": "code",
   "execution_count": null,
   "id": "5aa7ed65-ce02-4680-9508-cc793ec287bf",
   "metadata": {},
   "outputs": [],
   "source": [
    "AG.A.toarray()"
   ]
  },
  {
   "cell_type": "markdown",
   "id": "d118509e-94d0-4f1a-9b19-772a80b60966",
   "metadata": {},
   "source": [
    "### USDD, LINK, ETH cycle"
   ]
  },
  {
   "cell_type": "code",
   "execution_count": null,
   "id": "2f5230ec-578a-4c93-bf17-daaa9468d9e2",
   "metadata": {},
   "outputs": [],
   "source": [
    "AG = ag.ArbGraph()\n",
    "AG.add_edge(\"ETH\", 1, \"USDC\", 2000)\n",
    "AG.add_edge(\"USDC\", 1500, \"LINK\", 200, inverse=True)\n",
    "AG.add_edge(\"LINK\", 200, \"ETH\", 1, inverse=True)\n",
    "G = AG.as_graph()\n",
    "print(AG.cycles())\n",
    "#_=AG.plot()"
   ]
  },
  {
   "cell_type": "code",
   "execution_count": null,
   "id": "12706bbd-0e07-4e2f-a54e-51bf60956311",
   "metadata": {},
   "outputs": [],
   "source": [
    "for C in AG.cycles():\n",
    "    print(f\"==={C}===\")\n",
    "    for c in C.pairs(start_val=AG.n(\"USDC\")): \n",
    "        print(c)"
   ]
  },
  {
   "cell_type": "code",
   "execution_count": null,
   "id": "af355336-48d0-481b-bcef-d49692a5e275",
   "metadata": {},
   "outputs": [],
   "source": [
    "c, AG.filter_edges(*c)"
   ]
  },
  {
   "cell_type": "code",
   "execution_count": null,
   "id": "0ad02c8f-c4b1-4eb8-a84e-3071e3e40434",
   "metadata": {},
   "outputs": [],
   "source": [
    "AG.A.toarray()"
   ]
  },
  {
   "cell_type": "markdown",
   "id": "22382914-2714-4c8c-a234-739c0b2c88da",
   "metadata": {},
   "source": [
    "### USDD, LINK, ETH cycle plus ETH/USDC"
   ]
  },
  {
   "cell_type": "code",
   "execution_count": null,
   "id": "3aa752af-03db-4d32-816e-199fe861e1d2",
   "metadata": {},
   "outputs": [],
   "source": [
    "AG = ag.ArbGraph()\n",
    "AG.add_edge(\"ETH\", 1, \"USDC\", 2000)\n",
    "AG.add_edge(\"ETH\", 1, \"USDC\", 2000)\n",
    "AG.add_edge(\"USDC\", 1500, \"LINK\", 200, inverse=True)\n",
    "AG.add_edge(\"LINK\", 200, \"ETH\", 1, inverse=True)\n",
    "AG.add_edge(\"USDC\", 1800, \"ETH\", 1, inverse=True)\n",
    "G = AG.as_graph()\n",
    "print(AG.cycles())\n",
    "#_=AG.plot()"
   ]
  },
  {
   "cell_type": "code",
   "execution_count": null,
   "id": "b8008e76-42c0-4bea-ab27-c5f76622837f",
   "metadata": {},
   "outputs": [],
   "source": [
    "#_=AG.duplicate().plot()"
   ]
  },
  {
   "cell_type": "code",
   "execution_count": null,
   "id": "d788ef90-4537-41f7-beec-a3c8edb63589",
   "metadata": {},
   "outputs": [],
   "source": [
    "AG.edges"
   ]
  },
  {
   "cell_type": "code",
   "execution_count": null,
   "id": "150bc2d2-91cb-40de-bb5c-c99aca5750c0",
   "metadata": {},
   "outputs": [],
   "source": [
    "AG.duplicate().edges"
   ]
  },
  {
   "cell_type": "code",
   "execution_count": null,
   "id": "b739e7f3-2fb7-4def-901b-37aea603632d",
   "metadata": {},
   "outputs": [],
   "source": [
    "AG.A.toarray()"
   ]
  },
  {
   "cell_type": "code",
   "execution_count": null,
   "id": "75a82201-5489-489e-aadd-49d5b2f002a8",
   "metadata": {},
   "outputs": [],
   "source": [
    "for C in AG.cycles():\n",
    "    print(f\"==={C}===\")\n",
    "    for c in C.pairs(start_val=AG.n(\"ETH\")): \n",
    "        print(c)"
   ]
  },
  {
   "cell_type": "code",
   "execution_count": null,
   "id": "06b66d5c-a52d-40ee-ad3f-d0facbd60d3d",
   "metadata": {},
   "outputs": [],
   "source": [
    "cycle = AG.cycles()[1]\n",
    "cycle"
   ]
  },
  {
   "cell_type": "code",
   "execution_count": null,
   "id": "548a9736-819c-4adc-9d6c-966462b6bcec",
   "metadata": {},
   "outputs": [],
   "source": [
    "for cycle in AG.cycles():\n",
    "    result = AG.run_arbitrage_cycle(cycle=cycle, verbose=True)\n",
    "    print(result)\n",
    "    print(\"---\")"
   ]
  },
  {
   "cell_type": "code",
   "execution_count": null,
   "id": "6b182784-b8eb-433f-867a-4e38d4bc5839",
   "metadata": {},
   "outputs": [],
   "source": [
    "assert raises(AG.price, AG.nodes[0], AG.nodes[1])\n",
    "raises(AG.price, AG.nodes[0], AG.nodes[1])"
   ]
  },
  {
   "cell_type": "code",
   "execution_count": null,
   "id": "bc5a98c8-5750-4a9c-9afd-38a0d36ff213",
   "metadata": {},
   "outputs": [],
   "source": []
  },
  {
   "cell_type": "code",
   "execution_count": null,
   "id": "6ac7f39d-b457-46cc-a5d6-5f73d00c356e",
   "metadata": {},
   "outputs": [],
   "source": []
  },
  {
   "cell_type": "code",
   "execution_count": null,
   "id": "fdc42a32-dd22-46f8-ac97-dbe59cebce18",
   "metadata": {},
   "outputs": [],
   "source": []
  },
  {
   "cell_type": "code",
   "execution_count": null,
   "id": "4e84b58c-c488-49a4-9d3e-27111baeddfe",
   "metadata": {
    "lines_to_next_cell": 2
   },
   "outputs": [],
   "source": []
  }
 ],
 "metadata": {
  "jupytext": {
   "encoding": "# -*- coding: utf-8 -*-",
   "formats": "ipynb,py:light"
  },
  "kernelspec": {
   "display_name": "Python 3",
   "language": "python",
   "name": "python3"
  },
  "language_info": {
   "codemirror_mode": {
    "name": "ipython",
    "version": 3
   },
   "file_extension": ".py",
   "mimetype": "text/x-python",
   "name": "python",
   "nbconvert_exporter": "python",
   "pygments_lexer": "ipython3",
   "version": "3.8.8"
  }
 },
 "nbformat": 4,
 "nbformat_minor": 5
}
