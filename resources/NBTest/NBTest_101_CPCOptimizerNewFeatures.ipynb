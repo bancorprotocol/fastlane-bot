{
 "cells": [
  {
   "cell_type": "code",
   "execution_count": 1,
   "id": "cc40bc23-abde-4094-abec-419f0a7fa81e",
   "metadata": {},
   "outputs": [
    {
     "name": "stdout",
     "output_type": "stream",
     "text": [
      "imported m, np, pd, plt, os, sys, decimal; defined iseq, raises, require, Timer\n",
      "ConstantProductCurve v4.0-beta1 (04/May/2024)\n",
      "CurveContainer v4.0-beta1 (04/May/2024)\n",
      "CPCArbOptimizer v5.2 (03/May/2024)\n",
      "MargPOptimizer v6.0-beta01 (04/May/2024)\n",
      "PairOptimizer v6.0.2 (03/May/2024)\n"
     ]
    }
   ],
   "source": [
    "try:\n",
    "    from fastlane_bot.tools.cpc import ConstantProductCurve as CPC, CPCContainer\n",
    "    from fastlane_bot.tools.optimizer import CPCArbOptimizer, MargPOptimizer, PairOptimizer\n",
    "    from fastlane_bot.testing import *\n",
    "\n",
    "except:\n",
    "    from tools.cpc import ConstantProductCurve as CPC, CPCContainer\n",
    "    from tools.optimizer import CPCArbOptimizer, MargPOptimizer, PairOptimizer\n",
    "    from testing import *\n",
    "ConstantProductCurve = CPC\n",
    "\n",
    "from io import StringIO\n",
    "\n",
    "print(\"{0.__name__} v{0.__VERSION__} ({0.__DATE__})\".format(CPC))\n",
    "print(\"{0.__name__} v{0.__VERSION__} ({0.__DATE__})\".format(CPCContainer))\n",
    "print(\"{0.__name__} v{0.__VERSION__} ({0.__DATE__})\".format(CPCArbOptimizer))\n",
    "print(\"{0.__name__} v{0.__VERSION__} ({0.__DATE__})\".format(MargPOptimizer))\n",
    "print(\"{0.__name__} v{0.__VERSION__} ({0.__DATE__})\".format(PairOptimizer))\n",
    "\n",
    "#plt.style.use('seaborn-dark')\n",
    "#plt.rcParams['figure.figsize'] = [12,6]\n",
    "# from fastlane_bot import __VERSION__\n",
    "# require(\"3.0\", __VERSION__)"
   ]
  },
  {
   "cell_type": "markdown",
   "id": "b3f59f14-b91b-4dba-94b0-3d513aaf41c7",
   "metadata": {},
   "source": [
    "# CPC and Optimizer New Features [NBTest101]"
   ]
  },
  {
   "cell_type": "code",
   "execution_count": 2,
   "id": "d5b9c0a7-2697-417c-bdcc-b19084db6552",
   "metadata": {
    "tags": []
   },
   "outputs": [],
   "source": [
    "Curves = [\n",
    "    ConstantProductCurve(k=27518385.40998667, x=1272.2926367501436, x_act=0, y_act=2000.9999995236503, alpha=0.5, pair='LINK/USDP', cid='0x425d5d4ad7243f88d9f4cde8da52863b45af1f64e05bede1299909bcaa6c52d1-0', fee=2000, descr='carbon_v1 0x514910771AF9Ca656af840dff83E8264EcF986CA\\\\/0x8E870D67F660D95d5be530380D0eC0bd388289E1 2000', constr='carb', params={'exchange': 'carbon_v1', 'y': 2000.9999995236503, 'yint': 2000.9999995236503, 'A': 0.38144823884371704, 'B': 3.7416573867739373, 'pa': 16.99999999999995, 'pb': 13.99999999999997}),\n",
    "    ConstantProductCurve(k=6.160500599566333e+18, x=11099999985.149971, x_act=0, y_act=55.50000002646446, alpha=0.5, pair='USDP/LINK', cid='0x425d5d4ad7243f88d9f4cde8da52863b45af1f64e05bede1299909bcaa6c52d1-1', fee=2000, descr='carbon_v1 0x514910771AF9Ca656af840dff83E8264EcF986CA\\\\/0x8E870D67F660D95d5be530380D0eC0bd388289E1 2000', constr='carb', params={'exchange': 'carbon_v1', 'y': 55.50000002646446, 'yint': 55.50000002646446, 'A': 0, 'B': 0.22360678656963742, 'pa': 0.04999999999999889, 'pb': 0.04999999999999889}),\n",
    "    ConstantProductCurve(k=14449532.299465338, x=57487.82879658422, x_act=0, y_act=5.0, alpha=0.5, pair='LINK/ETH', cid='0x3fcccfe0063b71fc973fab8dea39b6be9da80125910c10e57b924b3e4687295a-0', fee=2000, descr='carbon_v1 0x514910771AF9Ca656af840dff83E8264EcF986CA/0xEeeeeEeeeEeEeeEeEeEeeEEEeeeeEeeeeeeeEEeE 2000', constr='carb', params={'exchange': 'carbon_v1', 'y': 5.0, 'yint': 8.582730309868262, 'A': 0.002257868117407469, 'B': 0.06480740698407672, 'pa': 0.004497751124437756, 'pb': 0.004199999999999756}),\n",
    "    ConstantProductCurve(k=14456757.06563651, x=251.4750925240284, x_act=0, y_act=807.9145301701096, alpha=0.5, pair='ETH/LINK', cid='0x3fcccfe0063b71fc973fab8dea39b6be9da80125910c10e57b924b3e4687295a-1', fee=2000, descr='carbon_v1 0x514910771AF9Ca656af840dff83E8264EcF986CA/0xEeeeeEeeeEeEeeEeEeEeeEEEeeeeEeeeeeeeEEeE 2000', constr='carb', params={'exchange': 'carbon_v1', 'y': 807.9145301701096, 'yint': 1974.7090228584536, 'A': 0.519359008452966, 'B': 14.907119849998594, 'pa': 237.97624997025295, 'pb': 222.22222222222211}),\n",
    "    ConstantProductCurve(k=56087178.30932376, x=131.6236694086859, x_act=0, y_act=15920.776548455418, alpha=0.5, pair='ETH/USDP', cid='0x6cc4b198ec4cf17fdced081b5611279be73e200711238068b5340e606ba86646-0', fee=2000, descr='carbon_v1 0xEeeeeEeeeEeEeeEeEeEeeEEEeeeeEeeeeeeeEEeE\\\\/0x8E870D67F660D95d5be530380D0eC0bd388289E1 2000', constr='carb', params={'exchange': 'carbon_v1', 'y': 15920.776548455418, 'yint': 32755.67010983316, 'A': 4.373757425036729, 'B': 54.77225575051648, 'pa': 3498.2508745627138, 'pb': 2999.9999999999854}),\n",
    "    ConstantProductCurve(k=56059148.73497429, x=426117.72306081816, x_act=0, y_act=5.0, alpha=0.5, pair='USDP/ETH', cid='0x6cc4b198ec4cf17fdced081b5611279be73e200711238068b5340e606ba86646-1', fee=2000, descr='carbon_v1 0xEeeeeEeeeEeEeeEeEeEeeEEEeeeeEeeeeeeeEEeE\\\\/0x8E870D67F660D95d5be530380D0eC0bd388289E1 2000', constr='carb', params={'exchange': 'carbon_v1', 'y': 5.0, 'yint': 10.106093048875099, 'A': 0.0013497708452092638, 'B': 0.016903085094568837, 'pa': 0.0003331667499582927, 'pb': 0.0002857142857142352}),\n",
    "]"
   ]
  },
  {
   "cell_type": "code",
   "execution_count": 3,
   "id": "4bd5baac-72c1-4f3b-8b99-b9de147bf32d",
   "metadata": {
    "tags": []
   },
   "outputs": [],
   "source": [
    "CC1 = CPCContainer(Curves[0:1])\n",
    "CC2 = CPCContainer(Curves[0:2])\n",
    "CC6 = CPCContainer(Curves)"
   ]
  },
  {
   "cell_type": "code",
   "execution_count": 4,
   "id": "be5cb7bb-9227-4083-9c55-d0a259076c3f",
   "metadata": {
    "tags": []
   },
   "outputs": [],
   "source": [
    "O1 = MargPOptimizer(CC1)\n",
    "O2 = MargPOptimizer(CC2)\n",
    "O6 = MargPOptimizer(CC6)"
   ]
  },
  {
   "cell_type": "markdown",
   "id": "5d33fbc5-bf2f-45e0-8b50-b7bdef16f0ad",
   "metadata": {},
   "source": [
    "## CPCArbOptimizer Dump Curves [NOTEST]"
   ]
  },
  {
   "cell_type": "code",
   "execution_count": 5,
   "id": "2b0023d2-0a75-4a6c-aeb9-c74ce7d4d97b",
   "metadata": {
    "tags": []
   },
   "outputs": [],
   "source": [
    "O = O6"
   ]
  },
  {
   "cell_type": "markdown",
   "id": "78244239-11d4-4cd7-9d86-0587ff979a9d",
   "metadata": {},
   "source": [
    "### Dump as json\n",
    "\n",
    "dumps the dict representation as json"
   ]
  },
  {
   "cell_type": "code",
   "execution_count": 6,
   "id": "e8a17f53-966b-407c-b997-62febffdda57",
   "metadata": {
    "tags": []
   },
   "outputs": [
    {
     "name": "stdout",
     "output_type": "stream",
     "text": [
      "[{\"k\": 27518385.40998667, \"x\": 1272.2926367501436, \"x_act\": 0, \"y_act\": 2000.9999995236503, \"alpha\": 0.5, \"pair\": \"LINK/USDP\", \"cid\": \"0x425d5d4ad7243f88d9f4cde8da52863b45af1f64e05bede1299909bcaa6c52d1-0\", \"fee\": 2000, \"descr\": \"carbon_v1 0x514910771AF9Ca656af840dff83E8264EcF986CA\\\\/0x8E870D67F660D95d5be530380D0eC0bd388289E1 2000\", \"constr\": \"carb\", \"params\": {\"exchange\": \"carbon_v1\", \"y\": 2000.9999995236503, \"yint\": 2000.9999995236503, \"A\": 0.38144823884371704, \"B\": 3.7416573867739373, \"pa\": 16.99999999999995, \"pb\": 13.99999999999997}}, {\"k\": 6.160500599566333e+18, \"x\": 11099999985.149971, \"x_act\": 0, \"y_act\": 55.50000002646446, \"alpha\": 0.5, \"pair\": \"USDP/LINK\", \"cid\": \"0x425d5d4ad7243f88d9f4cde8da52863b45af1f64e05bede1299909bcaa6c52d1-1\", \"fee\": 2000, \"descr\": \"carbon_v1 0x514910771AF9Ca656af840dff83E8264EcF986CA\\\\/0x8E870D67F660D95d5be530380D0eC0bd388289E1 2000\", \"constr\": \"carb\", \"params\": {\"exchange\": \"carbon_v1\", \"y\": 55.50000002646446, \"yint\": 55.50000002646446, \"A\": 0, \"B\": 0.22360678656963742, \"pa\": 0.04999999999999889, \"pb\": 0.04999999999999889}}]\n"
     ]
    }
   ],
   "source": [
    "O2.dump_curves(O.DC_JSON)"
   ]
  },
  {
   "cell_type": "markdown",
   "id": "b2368443-0531-4330-8ca9-afed099dd838",
   "metadata": {},
   "source": [
    "### Dump as dicts\n",
    "\n",
    "similar to json dumping, except that the result is a Python representation of dicts that can be directly run as Python code"
   ]
  },
  {
   "cell_type": "code",
   "execution_count": 7,
   "id": "7c37f971-628d-4225-8702-9aaa3705252f",
   "metadata": {
    "tags": []
   },
   "outputs": [
    {
     "name": "stdout",
     "output_type": "stream",
     "text": [
      "[{'k': 27518385.40998667, 'x': 1272.2926367501436, 'x_act': 0, 'y_act': 2000.9999995236503, 'alpha': 0.5, 'pair': 'LINK/USDP', 'cid': '0x425d5d4ad7243f88d9f4cde8da52863b45af1f64e05bede1299909bcaa6c52d1-0', 'fee': 2000, 'descr': 'carbon_v1 0x514910771AF9Ca656af840dff83E8264EcF986CA\\\\/0x8E870D67F660D95d5be530380D0eC0bd388289E1 2000', 'constr': 'carb', 'params': {'exchange': 'carbon_v1', 'y': 2000.9999995236503, 'yint': 2000.9999995236503, 'A': 0.38144823884371704, 'B': 3.7416573867739373, 'pa': 16.99999999999995, 'pb': 13.99999999999997}}, {'k': 6.160500599566333e+18, 'x': 11099999985.149971, 'x_act': 0, 'y_act': 55.50000002646446, 'alpha': 0.5, 'pair': 'USDP/LINK', 'cid': '0x425d5d4ad7243f88d9f4cde8da52863b45af1f64e05bede1299909bcaa6c52d1-1', 'fee': 2000, 'descr': 'carbon_v1 0x514910771AF9Ca656af840dff83E8264EcF986CA\\\\/0x8E870D67F660D95d5be530380D0eC0bd388289E1 2000', 'constr': 'carb', 'params': {'exchange': 'carbon_v1', 'y': 55.50000002646446, 'yint': 55.50000002646446, 'A': 0, 'B': 0.22360678656963742, 'pa': 0.04999999999999889, 'pb': 0.04999999999999889}}]\n"
     ]
    }
   ],
   "source": [
    "O2.dump_curves(O.DC_DICTS)"
   ]
  },
  {
   "cell_type": "markdown",
   "id": "a9e5cf16-e71b-4fc4-b282-39e3b83158d9",
   "metadata": {},
   "source": [
    "### Dump as data frame\n",
    "\n",
    "dumps as Pandas data frame"
   ]
  },
  {
   "cell_type": "code",
   "execution_count": 8,
   "id": "6730aad0-48ff-4263-87f6-5dcdf4e2768a",
   "metadata": {
    "tags": []
   },
   "outputs": [],
   "source": [
    "#O1.dump_curves(O.DC_DF)"
   ]
  },
  {
   "cell_type": "markdown",
   "id": "131ee279-7a81-4109-80e7-6daff4e5c6ae",
   "metadata": {},
   "source": [
    "### Dump as constructor\n",
    "\n",
    "dumps as CPC constructors (one per line; every line ends with comma, including last)"
   ]
  },
  {
   "cell_type": "code",
   "execution_count": 9,
   "id": "389e8e8b-a6e4-4181-81f9-2d090f23ccbc",
   "metadata": {
    "tags": []
   },
   "outputs": [
    {
     "name": "stdout",
     "output_type": "stream",
     "text": [
      "ConstantProductCurve(k=27518385.40998667, x=1272.2926367501436, x_act=0, y_act=2000.9999995236503, alpha=0.5, pair='LINK/USDP', cid='0x425d5d4ad7243f88d9f4cde8da52863b45af1f64e05bede1299909bcaa6c52d1-0', fee=2000, descr='carbon_v1 0x514910771AF9Ca656af840dff83E8264EcF986CA\\\\/0x8E870D67F660D95d5be530380D0eC0bd388289E1 2000', constr='carb', params={'exchange': 'carbon_v1', 'y': 2000.9999995236503, 'yint': 2000.9999995236503, 'A': 0.38144823884371704, 'B': 3.7416573867739373, 'pa': 16.99999999999995, 'pb': 13.99999999999997}),\n",
      "ConstantProductCurve(k=6.160500599566333e+18, x=11099999985.149971, x_act=0, y_act=55.50000002646446, alpha=0.5, pair='USDP/LINK', cid='0x425d5d4ad7243f88d9f4cde8da52863b45af1f64e05bede1299909bcaa6c52d1-1', fee=2000, descr='carbon_v1 0x514910771AF9Ca656af840dff83E8264EcF986CA\\\\/0x8E870D67F660D95d5be530380D0eC0bd388289E1 2000', constr='carb', params={'exchange': 'carbon_v1', 'y': 55.50000002646446, 'yint': 55.50000002646446, 'A': 0, 'B': 0.22360678656963742, 'pa': 0.04999999999999889, 'pb': 0.04999999999999889}),\n"
     ]
    }
   ],
   "source": [
    "O2.dump_curves(O.DC_CONSTR)"
   ]
  },
  {
   "cell_type": "markdown",
   "id": "c9ad1ac8-f7d6-4126-af25-88a7c8de146b",
   "metadata": {},
   "source": [
    "### Dump into StringIO to capture output\n",
    "\n",
    "A StringIO object (or any other open file object for that matter) can be passed via the `dest` parameter. The value can then be extracted using `getvalue()`, or as generally for file using `seek(0)` and `read()`"
   ]
  },
  {
   "cell_type": "code",
   "execution_count": 10,
   "id": "fe4dde42-6d4b-43e6-a7b2-444a078f9cbc",
   "metadata": {
    "tags": []
   },
   "outputs": [
    {
     "data": {
      "text/plain": [
       "(6,\n",
       " \"ConstantProductCurve(k=27518385.40998667, x=1272.2926367501436, x_act=0, y_act=2000.9999995236503, alpha=0.5, pair='LINK/USDP', cid='0x425d5d4ad7243f88d9f4cde8da52863b45af1f64e05bede1299909bcaa6c52d1-0', fee=2000, descr='carbon_v1 0x514910771AF9Ca656af840dff83E8264EcF986CA\\\\\\\\/0x8E870D67F660D95d5be530380D0eC0bd388289E1 2000', constr='carb', params={'exchange': 'carbon_v1', 'y': 2000.9999995236503, 'yint': 2000.9999995236503, 'A': 0.38144823884371704, 'B': 3.7416573867739373, 'pa': 16.99999999999995, 'pb': 13.99999999999997}),\")"
      ]
     },
     "execution_count": 10,
     "metadata": {},
     "output_type": "execute_result"
    }
   ],
   "source": [
    "out = StringIO()\n",
    "O6.dump_curves(O.DC_CONSTR, dest=out)\n",
    "outl = out.getvalue().splitlines()\n",
    "len(outl), outl[0]"
   ]
  },
  {
   "cell_type": "markdown",
   "id": "61c1f220-2d54-4141-9de7-edf75ba94d7e",
   "metadata": {},
   "source": [
    "## CPCArbOptimizer"
   ]
  },
  {
   "cell_type": "code",
   "execution_count": 11,
   "id": "ff884fc5-7a11-468e-b26b-61ea962ff005",
   "metadata": {
    "tags": []
   },
   "outputs": [],
   "source": [
    "O = O6"
   ]
  },
  {
   "cell_type": "code",
   "execution_count": 12,
   "id": "bfc298e7-171a-49ee-807c-24b0f6d357c6",
   "metadata": {
    "tags": []
   },
   "outputs": [],
   "source": [
    "out1 = StringIO()\n",
    "O.dump_curves(O.DC_JSON, dest=out1)\n",
    "r = out1.getvalue()\n",
    "assert r.startswith('[{\"k\": 27518385.40998667, \"x\": 1272.2926367501436,')\n",
    "#r"
   ]
  },
  {
   "cell_type": "code",
   "execution_count": 13,
   "id": "aabf93e5-694f-458c-ba98-d0f29c36f07c",
   "metadata": {
    "tags": []
   },
   "outputs": [],
   "source": [
    "out1 = StringIO()\n",
    "O.dump_curves(O.DC_DICTS, dest=out1)\n",
    "r = out1.getvalue()\n",
    "assert r.startswith(\"[{'k': 27518385.40998667, 'x': 1272.2926367501436,\")\n",
    "#r"
   ]
  },
  {
   "cell_type": "code",
   "execution_count": 14,
   "id": "b58446c1-e879-4212-ab42-c986b385b589",
   "metadata": {
    "tags": []
   },
   "outputs": [],
   "source": [
    "out1 = StringIO()\n",
    "O.dump_curves(O.DC_CONSTR, dest=out1)\n",
    "rl = out1.getvalue().splitlines()\n",
    "assert len(rl) == len(O.curves)\n",
    "assert rl[0].startswith(\"ConstantProductCurve(k=27518385\")"
   ]
  },
  {
   "cell_type": "code",
   "execution_count": 15,
   "id": "ae0e958d-a073-4a5a-b26a-453092b2487d",
   "metadata": {
    "tags": []
   },
   "outputs": [
    {
     "data": {
      "text/plain": [
       "\"ConstantProductCurve(k=27518385.40998667, x=1272.2926367501436, x_act=0, y_act=2000.9999995236503, alpha=0.5, pair='LINK/USDP', cid='0x425d5d4ad7243f88d9f4cde8da52863b45af1f64e05bede1299909bcaa6c52d1-0', fee=2000, descr='carbon_v1 0x514910771AF9Ca656af840dff83E8264EcF986CA\\\\\\\\/0x8E870D67F660D95d5be530380D0eC0bd388289E1 2000', constr='carb', params={'exchange': 'carbon_v1', 'y': 2000.9999995236503, 'yint': 2000.9999995236503, 'A': 0.38144823884371704, 'B': 3.7416573867739373, 'pa': 16.99999999999995, 'pb': 13.99999999999997}),\""
      ]
     },
     "execution_count": 15,
     "metadata": {},
     "output_type": "execute_result"
    }
   ],
   "source": [
    "rl[0]"
   ]
  },
  {
   "cell_type": "markdown",
   "id": "c7d786d6-e57a-4f37-95f7-f8153720f88b",
   "metadata": {},
   "source": [
    "## MargPOptimizer"
   ]
  },
  {
   "cell_type": "code",
   "execution_count": 16,
   "id": "4e44296a-1b7f-4a26-bc00-31e680007c84",
   "metadata": {
    "tags": []
   },
   "outputs": [],
   "source": [
    "pass"
   ]
  },
  {
   "cell_type": "markdown",
   "id": "fe9ceba0-b63c-44da-98ba-ffd105d7a915",
   "metadata": {
    "tags": []
   },
   "source": [
    "## CPC"
   ]
  },
  {
   "cell_type": "code",
   "execution_count": 17,
   "id": "37248169-fbfb-4e86-85fb-b5135329ea42",
   "metadata": {
    "tags": []
   },
   "outputs": [],
   "source": [
    "pass"
   ]
  },
  {
   "cell_type": "code",
   "execution_count": 18,
   "id": "298e4f31-24d1-4ff5-b9c4-8238ee272589",
   "metadata": {},
   "outputs": [
    {
     "data": {
      "text/plain": [
       "1"
      ]
     },
     "execution_count": 18,
     "metadata": {},
     "output_type": "execute_result"
    }
   ],
   "source": [
    "1"
   ]
  }
 ],
 "metadata": {
  "jupytext": {
   "encoding": "# -*- coding: utf-8 -*-",
   "formats": "ipynb,py:light"
  },
  "kernelspec": {
   "display_name": "Python 3 (ipykernel)",
   "language": "python",
   "name": "python3"
  },
  "language_info": {
   "codemirror_mode": {
    "name": "ipython",
    "version": 3
   },
   "file_extension": ".py",
   "mimetype": "text/x-python",
   "name": "python",
   "nbconvert_exporter": "python",
   "pygments_lexer": "ipython3",
   "version": "3.11.8"
  }
 },
 "nbformat": 4,
 "nbformat_minor": 5
}
