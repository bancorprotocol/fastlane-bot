{
 "cells": [
  {
   "cell_type": "code",
   "execution_count": 7,
   "id": "initial_id",
   "metadata": {
    "ExecuteTime": {
     "end_time": "2023-08-09T17:45:55.576598Z",
     "start_time": "2023-08-09T17:45:55.569839Z"
    }
   },
   "outputs": [
    {
     "name": "stdout",
     "output_type": "stream",
     "text": [
      "ConstantProductCurve v2.14 (23/May/2023)\n",
      "CarbonBot v3-b2.2 (20/June/2023)\n",
      "UniswapV2 v0.0.1 (2023-07-03)\n",
      "UniswapV3 v0.0.1 (2023-07-03)\n",
      "SushiswapV2 v0.0.1 (2023-07-03)\n",
      "CarbonV1 v0.0.1 (2023-07-03)\n",
      "BancorV3 v0.0.1 (2023-07-03)\n",
      "Version = 3-b2.2 [requirements >= 3.0 is met]\n"
     ]
    }
   ],
   "source": [
    "# coding=utf-8\n",
    "\"\"\"\n",
    "This module contains the tests which ensure the target_tokens parameter is respected.\n",
    "\"\"\"\n",
    "from fastlane_bot import Bot\n",
    "from fastlane_bot.tools.cpc import ConstantProductCurve as CPC\n",
    "from fastlane_bot.events.exchanges import UniswapV2, UniswapV3, SushiswapV2, CarbonV1, BancorV3\n",
    "import subprocess, os, sys\n",
    "import pytest\n",
    "print(\"{0.__name__} v{0.__VERSION__} ({0.__DATE__})\".format(CPC))\n",
    "print(\"{0.__name__} v{0.__VERSION__} ({0.__DATE__})\".format(Bot))\n",
    "print(\"{0.__name__} v{0.__VERSION__} ({0.__DATE__})\".format(UniswapV2))\n",
    "print(\"{0.__name__} v{0.__VERSION__} ({0.__DATE__})\".format(UniswapV3))\n",
    "print(\"{0.__name__} v{0.__VERSION__} ({0.__DATE__})\".format(SushiswapV2))\n",
    "print(\"{0.__name__} v{0.__VERSION__} ({0.__DATE__})\".format(CarbonV1))\n",
    "print(\"{0.__name__} v{0.__VERSION__} ({0.__DATE__})\".format(BancorV3))\n",
    "from fastlane_bot.testing import *\n",
    "plt.rcParams['figure.figsize'] = [12,6]\n",
    "from fastlane_bot import __VERSION__\n",
    "require(\"3.0\", __VERSION__)"
   ]
  },
  {
   "cell_type": "markdown",
   "id": "dfafc69730cbead3",
   "metadata": {},
   "source": [
    "# Setup"
   ]
  },
  {
   "cell_type": "code",
   "execution_count": 8,
   "id": "1640a40ee6ae871c",
   "metadata": {
    "ExecuteTime": {
     "end_time": "2023-08-09T17:45:55.588072Z",
     "start_time": "2023-08-09T17:45:55.575696Z"
    }
   },
   "outputs": [],
   "source": [
    "from fastlane_bot.tools.cpc import T\n",
    "\n",
    "\n",
    "def find_main_py():\n",
    "    # Start at the directory of the current script\n",
    "    cwd = os.path.abspath(os.path.join(os.getcwd()))\n",
    "    \n",
    "    with open(\"log.txt\", \"w\") as f:\n",
    "        f.write(f\"Searching for main.py in {cwd}\")\n",
    "                \n",
    "    print(f\"Searching for main.py in {cwd}\")\n",
    "    while True:\n",
    "        # Check if main.py exists in the current directory\n",
    "        if \"main.py\" in os.listdir(cwd):\n",
    "            return cwd  # Found the directory containing main.py\n",
    "        else:\n",
    "            # If not, go up one directory\n",
    "            new_cwd = os.path.dirname(cwd)\n",
    "\n",
    "            # If we're already at the root directory, stop searching\n",
    "            if new_cwd == cwd:\n",
    "                raise FileNotFoundError(\"Could not find main.py in any parent directory\")\n",
    "\n",
    "            cwd = new_cwd\n",
    "       \n",
    "       \n",
    "def run_command(mode):\n",
    "    \n",
    "    # Find the correct path to main.py\n",
    "    main_script_path = find_main_py()\n",
    "    print(f\"Found main.py in {main_script_path}\")\n",
    "    main_script_path = main_script_path + \"/main.py\"\n",
    "\n",
    "    # Run the command\n",
    "    cmd = [\n",
    "        \"python\",\n",
    "        main_script_path,\n",
    "        f\"--arb_mode={mode}\",\n",
    "        \"--use_cached_events=True\",\n",
    "        \"--logging_path=fastlane_bot/data/\",\n",
    "        \"--timeout=45\",\n",
    "        f\"--target_tokens={T.WETH},{T.DAI}\"\n",
    "    ]\n",
    "    subprocess.Popen(cmd)\n",
    "        \n",
    "    # Wait for the expected log line to appear\n",
    "    expected_log_line = \"Limiting pools by target_tokens. Removed \"\n",
    "    found = False\n",
    "    result = subprocess.run(cmd, text=True, capture_output=True, check=True, timeout=120)\n",
    "\n",
    "    # Check if the expected log line is in the output\n",
    "    if expected_log_line in result.stderr:\n",
    "        found = True\n",
    "\n",
    "    if not found:\n",
    "        pytest.fail(\"Expected log line was not found within 1 minute\")  # If we reach this point, the test has failed"
   ]
  },
  {
   "cell_type": "markdown",
   "id": "614f482aec4be2f8",
   "metadata": {},
   "source": [
    "## Test Flashloan Tokens b3_two_hop"
   ]
  },
  {
   "cell_type": "code",
   "execution_count": 9,
   "id": "c6e198d0eeba3183",
   "metadata": {
    "ExecuteTime": {
     "end_time": "2023-08-09T17:46:55.475498Z",
     "start_time": "2023-08-09T17:45:55.578507Z"
    }
   },
   "outputs": [
    {
     "name": "stdout",
     "output_type": "stream",
     "text": [
      "Searching for main.py in /Users/mikewcasale/Documents/GitHub/fastlane-bot/resources/NBTest\n",
      "Found main.py in /Users/mikewcasale/Documents/GitHub/fastlane-bot\n"
     ]
    },
    {
     "name": "stderr",
     "output_type": "stream",
     "text": [
      "Python-dotenv could not parse statement starting at line 3\n",
      "Python-dotenv could not parse statement starting at line 4\n",
      "Python-dotenv could not parse statement starting at line 5\n",
      "Python-dotenv could not parse statement starting at line 6\n",
      "Python-dotenv could not parse statement starting at line 3\n",
      "Python-dotenv could not parse statement starting at line 4\n",
      "Python-dotenv could not parse statement starting at line 5\n",
      "Python-dotenv could not parse statement starting at line 6\n",
      "Python-dotenv could not parse statement starting at line 3\n",
      "Python-dotenv could not parse statement starting at line 4\n",
      "Python-dotenv could not parse statement starting at line 5\n",
      "Python-dotenv could not parse statement starting at line 6\n",
      "Python-dotenv could not parse statement starting at line 3\n",
      "Python-dotenv could not parse statement starting at line 4\n",
      "Python-dotenv could not parse statement starting at line 5\n",
      "Python-dotenv could not parse statement starting at line 6\n",
      "Python-dotenv could not parse statement starting at line 3\n",
      "Python-dotenv could not parse statement starting at line 4\n",
      "Python-dotenv could not parse statement starting at line 5\n",
      "Python-dotenv could not parse statement starting at line 6\n",
      "Python-dotenv could not parse statement starting at line 3\n",
      "Python-dotenv could not parse statement starting at line 4\n",
      "Python-dotenv could not parse statement starting at line 5\n",
      "Python-dotenv could not parse statement starting at line 6\n",
      "Python-dotenv could not parse statement starting at line 3\n",
      "Python-dotenv could not parse statement starting at line 4\n",
      "Python-dotenv could not parse statement starting at line 5\n",
      "Python-dotenv could not parse statement starting at line 6\n",
      "2023-08-09 10:45:59,352 [fastlane:INFO] - Using mainnet config\n",
      "2023-08-09 10:45:59,352 [fastlane:INFO] - Flashloan tokens are set as: ['WETH-6Cc2', 'DAI-1d0F', 'USDC-eB48', 'USDT-1ec7', 'WBTC-C599', 'BNT-FF1C', 'ETH-EEeE'], <class 'list'>\n",
      "2023-08-09 10:45:59,352 [fastlane:WARNING] - Falshloan token USDC-eB48 not in target tokens. Adding it to target tokens.\n",
      "2023-08-09 10:45:59,352 [fastlane:WARNING] - Falshloan token USDT-1ec7 not in target tokens. Adding it to target tokens.\n",
      "2023-08-09 10:45:59,352 [fastlane:WARNING] - Falshloan token WBTC-C599 not in target tokens. Adding it to target tokens.\n",
      "2023-08-09 10:45:59,352 [fastlane:WARNING] - Falshloan token BNT-FF1C not in target tokens. Adding it to target tokens.\n",
      "2023-08-09 10:45:59,352 [fastlane:WARNING] - Falshloan token ETH-EEeE not in target tokens. Adding it to target tokens.\n",
      "2023-08-09 10:45:59,352 [fastlane:INFO] - Target tokens are set as: ['WETH-6Cc2', 'DAI-1d0F', 'USDC-eB48', 'USDT-1ec7', 'WBTC-C599', 'BNT-FF1C', 'ETH-EEeE'], <class 'list'>\n",
      "2023-08-09 10:45:59,352 [fastlane:INFO] - Running data fetching for exchanges: ['carbon_v1', 'bancor_v3', 'uniswap_v3', 'uniswap_v2', 'sushiswap_v2']\n",
      "2023-08-09 10:45:59,631 [fastlane:INFO] - Time taken to add initial pools: 0.08833503723144531\n",
      "2023-08-09 10:45:59,840 [fastlane:INFO] - Fetching events from 17876915 to 17878915... 0\n",
      "2023-08-09 10:45:59,840 [fastlane:INFO] - Using cached events\n",
      "2023-08-09 10:45:59,841 [fastlane:INFO] - Found 25 new events\n",
      "2023-08-09 10:46:02,626 [fastlane:INFO] - Updating carbon pools w/ multicall...\n",
      "2023-08-09 10:46:03,654 [fastlane:INFO] - Fetched 281 carbon strategies in 1.0274429321289062 seconds\n",
      "2023-08-09 10:46:09,610 [fastlane:INFO] - Updated 281 carbon strategies info in 5.956198215484619 seconds\n",
      "2023-08-09 10:46:27,709 [fastlane:INFO] - Initializing the bot...\n",
      "2023-08-09 10:46:27,818 [fastlane:INFO] - State has changed...\n",
      "2023-08-09 10:46:27,825 [fastlane:INFO] - Removed 122 unmapped uniswap_v2/sushi pools. 5078 uniswap_v2/sushi pools remaining\n",
      "2023-08-09 10:46:27,825 [fastlane:INFO] - Unmapped uniswap_v2/sushi pools:\n",
      "2023-08-09 10:46:28,146 [fastlane:INFO] - uniswap_v3: 0\n",
      "2023-08-09 10:46:28,146 [fastlane:INFO] - uniswap_v2: 122\n",
      "2023-08-09 10:46:28,146 [fastlane:INFO] - sushiswap_v2: 0\n",
      "2023-08-09 10:46:40,251 [fastlane:INFO] - Fetching events from 17878916 to 17878919... 17878915\n",
      "2023-08-09 10:46:40,251 [fastlane:INFO] - Using cached events\n",
      "2023-08-09 10:46:40,251 [fastlane:INFO] - Found 25 new events\n",
      "2023-08-09 10:46:42,744 [fastlane:INFO] - Initializing the bot...\n",
      "2023-08-09 10:46:42,873 [fastlane:INFO] - Removed 122 unmapped uniswap_v2/sushi pools. 5078 uniswap_v2/sushi pools remaining\n",
      "2023-08-09 10:46:42,873 [fastlane:INFO] - Unmapped uniswap_v2/sushi pools:\n",
      "2023-08-09 10:46:43,219 [fastlane:INFO] - uniswap_v3: 0\n",
      "2023-08-09 10:46:43,219 [fastlane:INFO] - uniswap_v2: 122\n",
      "2023-08-09 10:46:43,219 [fastlane:INFO] - sushiswap_v2: 0\n",
      "2023-08-09 10:46:43,221 [fastlane:INFO] - uniswap_v3: 11\n",
      "2023-08-09 10:46:43,221 [fastlane:INFO] - sushiswap_v2: 2\n",
      "2023-08-09 10:46:43,221 [fastlane:INFO] - uniswap_v2: 13\n",
      "2023-08-09 10:46:43,221 [fastlane:INFO] - bancor_v2: 0\n",
      "2023-08-09 10:46:43,221 [fastlane:INFO] - bancor_v3: 33\n",
      "2023-08-09 10:46:43,221 [fastlane:INFO] - carbon_v1: 281\n",
      "2023-08-09 10:46:43,238 [fastlane:INFO] - uniswap_v3_zero_liquidity_pools: 1483\n",
      "2023-08-09 10:46:43,238 [fastlane:INFO] - sushiswap_v2_zero_liquidity_pools: 87\n",
      "2023-08-09 10:46:43,239 [fastlane:INFO] - uniswap_v2_zero_liquidity_pools: 3130\n",
      "2023-08-09 10:46:43,239 [fastlane:INFO] - bancor_v2_zero_liquidity_pools: 0\n",
      "2023-08-09 10:46:43,239 [fastlane:INFO] - bancor_v3_zero_liquidity_pools: 38\n",
      "2023-08-09 10:46:43,239 [fastlane:INFO] - carbon_v1_zero_liquidity_pools: 0\n",
      "2023-08-09 10:46:43,239 [fastlane:INFO] - Removed 0 unsupported exchanges. 340 pools remaining\n",
      "2023-08-09 10:46:43,239 [fastlane:INFO] - Pools remaining per exchange:\n",
      "2023-08-09 10:46:43,239 [fastlane:INFO] - carbon_v1: 281\n",
      "2023-08-09 10:46:43,239 [fastlane:INFO] - bancor_v3: 33\n",
      "2023-08-09 10:46:43,239 [fastlane:INFO] - uniswap_v3: 11\n",
      "2023-08-09 10:46:43,239 [fastlane:INFO] - uniswap_v2: 13\n",
      "2023-08-09 10:46:43,239 [fastlane:INFO] - sushiswap_v2: 2\n",
      "2023-08-09 10:46:43,240 [fastlane:INFO] - Limiting pools by target_tokens. Removed 194 non target-pools. 146 pools remaining\n",
      "0it [00:00, ?it/s]\n",
      "0it [00:00, ?it/s]\n",
      "100%|██████████| 7/7 [00:00<00:00, 638263.65it/s]\n",
      "100%|██████████| 5/5 [00:00<00:00, 262144.00it/s]\n",
      "0it [00:00, ?it/s]\n",
      "100%|██████████| 7/7 [00:00<00:00, 458752.00it/s]\n",
      "0it [00:00, ?it/s]\n",
      "100%|██████████| 69/69 [00:00<00:00, 2097152.00it/s]\n",
      "100%|██████████| 26/26 [00:00<00:00, 1028791.55it/s]\n",
      "0it [00:00, ?it/s]\n",
      "0it [00:00, ?it/s]\n",
      "0it [00:00, ?it/s]\n",
      "0it [00:00, ?it/s]\n",
      "100%|██████████| 5/5 [00:00<00:00, 388361.48it/s]\n",
      "100%|██████████| 69/69 [00:00<00:00, 1982239.56it/s]\n",
      "0it [00:00, ?it/s]\n",
      "0it [00:00, ?it/s]\n",
      "100%|██████████| 26/26 [00:00<00:00, 1380403.85it/s]\n",
      "/Users/mikewcasale/Documents/GitHub/fastlane-bot/fastlane_bot/tools/optimizer/margpoptimizer.py:217: RuntimeWarning: divide by zero encountered in scalar divide\n",
      "  price = get(p, tokens_ix.get(tknb)) / get(p, tokens_ix.get(tknq))\n",
      "/Users/mikewcasale/Documents/GitHub/fastlane-bot/fastlane_bot/tools/optimizer/margpoptimizer.py:61: RuntimeWarning: invalid value encountered in subtract\n",
      "  jac[:, j] = (func(x_plus, quiet=True) - y) / Dxj\n",
      "0it [00:00, ?it/s]\n",
      "0it [00:00, ?it/s]\n",
      "2023-08-09 10:46:43,646 [fastlane:INFO] - No eligible arb opportunities.\n"
     ]
    },
    {
     "name": "stdout",
     "output_type": "stream",
     "text": [
      "[FindArbitrageSinglePairwise] Exception:  float division by zero\n",
      "[FindArbitrageSinglePairwise] Exception:  float division by zero\n",
      "[FindArbitrageSinglePairwise] Exception:  bad operand type for unary -: 'NoneType'\n",
      "[FindArbitrageSinglePairwise] Exception:  float division by zero\n",
      "[FindArbitrageSinglePairwise] Exception:  float division by zero\n",
      "[FindArbitrageSinglePairwise] Exception:  bad operand type for unary -: 'NoneType'\n",
      "[FindArbitrageSinglePairwise] Exception:  float division by zero\n",
      "[FindArbitrageSinglePairwise] Exception:  bad operand type for unary -: 'NoneType'\n",
      "[FindArbitrageSinglePairwise] Exception:  float division by zero\n",
      "[FindArbitrageSinglePairwise] Exception:  bad operand type for unary -: 'NoneType'\n",
      "[FindArbitrageSinglePairwise] Exception:  float division by zero\n",
      "[FindArbitrageSinglePairwise] Exception:  float division by zero\n",
      "[FindArbitrageSinglePairwise] Exception:  bad operand type for unary -: 'NoneType'\n"
     ]
    }
   ],
   "source": [
    "run_command(\"single\")"
   ]
  }
 ],
 "metadata": {
  "kernelspec": {
   "display_name": "Python 3 (ipykernel)",
   "language": "python",
   "name": "python3"
  },
  "language_info": {
   "codemirror_mode": {
    "name": "ipython",
    "version": 3
   },
   "file_extension": ".py",
   "mimetype": "text/x-python",
   "name": "python",
   "nbconvert_exporter": "python",
   "pygments_lexer": "ipython3",
   "version": "3.9.17"
  }
 },
 "nbformat": 4,
 "nbformat_minor": 5
}
