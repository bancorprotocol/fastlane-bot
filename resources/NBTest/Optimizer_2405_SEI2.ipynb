{
 "cells": [
  {
   "cell_type": "code",
   "execution_count": 1,
   "id": "7c4e7ad0-9280-41ee-85b2-f4461058398b",
   "metadata": {
    "tags": []
   },
   "outputs": [
    {
     "name": "stdout",
     "output_type": "stream",
     "text": [
      "MargPOptimizer v6.0-beta01 (04/May/2024)\n"
     ]
    }
   ],
   "source": [
    "from tools.curves import ConstantProductCurve, CurveContainer, SimplePair\n",
    "from tools.optimizer import CPCArbOptimizer, PairOptimizer, MargPOptimizer\n",
    "CPC = ConstantProductCurve\n",
    "\n",
    "import pandas as pd\n",
    "import math as m\n",
    "\n",
    "#print(\"{0.__name__} v{0.__VERSION__} ({0.__DATE__})\".format(SimplePair))\n",
    "#print(\"{0.__name__} v{0.__VERSION__} ({0.__DATE__})\".format(CPC))\n",
    "#print(\"{0.__name__} v{0.__VERSION__} ({0.__DATE__})\".format(CurveContainer))\n",
    "#print(\"{0.__name__} v{0.__VERSION__} ({0.__DATE__})\".format(PairOptimizer))\n",
    "print(\"{0.__name__} v{0.__VERSION__} ({0.__DATE__})\".format(MargPOptimizer))"
   ]
  },
  {
   "cell_type": "markdown",
   "id": "988c1f31-507c-4dd7-b8fc-14fa4aef8134",
   "metadata": {},
   "source": [
    "# Optimizer Testing (SEI2, May 2024)"
   ]
  },
  {
   "cell_type": "markdown",
   "id": "8ebde928-6a4b-448c-b6c3-6941310fccae",
   "metadata": {},
   "source": [
    "This is a light workbook allowing to look at issues that may arise when running the optimizer on a specific set of curves. \n",
    "\n",
    "Instructions:\n",
    "\n",
    "- locate the **exact** curve set to feed to the optimizer (it will be somewhere in the logging output, and it will be a list of ConstantProductCurve objects)\n",
    "- assign it to the `CurvesRaw` variable as shown below\n",
    "- add the missing token addresses to the `TOKENS` dict below\n",
    "- provide consistent values for `PSTART`\n",
    "- run the workbook"
   ]
  },
  {
   "cell_type": "markdown",
   "id": "7f38c5d2-6f6e-402c-b1a5-0fa00cf88f9a",
   "metadata": {
    "tags": []
   },
   "source": [
    "### >> Enter curves\n",
    "\n",
    "Place curves here in the form\n",
    "\n",
    "    CurvesRaw = [\n",
    "        ConstantProductCurve(k=27518385.40998667, x=1272.2926367501436, x_act=0, ...),\n",
    "        ConstantProductCurve(k=6.160500599566333e+18, x=11099999985.149971, x_act=0, ...),\n",
    "    ...\n",
    "    ]"
   ]
  },
  {
   "cell_type": "code",
   "execution_count": 2,
   "id": "5c244d95-da00-449f-a879-ace4b5523a22",
   "metadata": {
    "tags": []
   },
   "outputs": [],
   "source": [
    "# CurvesRaw = [\n",
    "#     ConstantProductCurve(k=27518385.40998667, x=1272.2926367501436, x_act=0, y_act=2000.9999995236503, alpha=0.5, pair='0x514910771AF9Ca656af840dff83E8264EcF986CA/0x8E870D67F660D95d5be530380D0eC0bd388289E1', cid='0x425d5d4ad7243f88d9f4cde8da52863b45af1f64e05bede1299909bcaa6c52d1-0', fee=2000, descr='carbon_v1 0x514910771AF9Ca656af840dff83E8264EcF986CA\\\\/0x8E870D67F660D95d5be530380D0eC0bd388289E1 2000', constr='carb', params={'exchange': 'carbon_v1', 'y': 2000.9999995236503, 'yint': 2000.9999995236503, 'A': 0.38144823884371704, 'B': 3.7416573867739373, 'pa': 16.99999999999995, 'pb': 13.99999999999997}),\n",
    "#     ConstantProductCurve(k=6.160500599566333e+18, x=11099999985.149971, x_act=0, y_act=55.50000002646446, alpha=0.5, pair='0x8E870D67F660D95d5be530380D0eC0bd388289E1/0x514910771AF9Ca656af840dff83E8264EcF986CA', cid='0x425d5d4ad7243f88d9f4cde8da52863b45af1f64e05bede1299909bcaa6c52d1-1', fee=2000, descr='carbon_v1 0x514910771AF9Ca656af840dff83E8264EcF986CA\\\\/0x8E870D67F660D95d5be530380D0eC0bd388289E1 2000', constr='carb', params={'exchange': 'carbon_v1', 'y': 55.50000002646446, 'yint': 55.50000002646446, 'A': 0, 'B': 0.22360678656963742, 'pa': 0.04999999999999889, 'pb': 0.04999999999999889}),\n",
    "#     ConstantProductCurve(k=14449532.299465338, x=57487.82879658422, x_act=0, y_act=5.0, alpha=0.5, pair='0x514910771AF9Ca656af840dff83E8264EcF986CA/0xEeeeeEeeeEeEeeEeEeEeeEEEeeeeEeeeeeeeEEeE', cid='0x3fcccfe0063b71fc973fab8dea39b6be9da80125910c10e57b924b3e4687295a-0', fee=2000, descr='carbon_v1 0x514910771AF9Ca656af840dff83E8264EcF986CA/0xEeeeeEeeeEeEeeEeEeEeeEEEeeeeEeeeeeeeEEeE 2000', constr='carb', params={'exchange': 'carbon_v1', 'y': 5.0, 'yint': 8.582730309868262, 'A': 0.002257868117407469, 'B': 0.06480740698407672, 'pa': 0.004497751124437756, 'pb': 0.004199999999999756}),\n",
    "#     ConstantProductCurve(k=14456757.06563651, x=251.4750925240284, x_act=0, y_act=807.9145301701096, alpha=0.5, pair='0xEeeeeEeeeEeEeeEeEeEeeEEEeeeeEeeeeeeeEEeE/0x514910771AF9Ca656af840dff83E8264EcF986CA', cid='0x3fcccfe0063b71fc973fab8dea39b6be9da80125910c10e57b924b3e4687295a-1', fee=2000, descr='carbon_v1 0x514910771AF9Ca656af840dff83E8264EcF986CA/0xEeeeeEeeeEeEeeEeEeEeeEEEeeeeEeeeeeeeEEeE 2000', constr='carb', params={'exchange': 'carbon_v1', 'y': 807.9145301701096, 'yint': 1974.7090228584536, 'A': 0.519359008452966, 'B': 14.907119849998594, 'pa': 237.97624997025295, 'pb': 222.22222222222211}),\n",
    "#     ConstantProductCurve(k=56087178.30932376, x=131.6236694086859, x_act=0, y_act=15920.776548455418, alpha=0.5, pair='0xEeeeeEeeeEeEeeEeEeEeeEEEeeeeEeeeeeeeEEeE/0x8E870D67F660D95d5be530380D0eC0bd388289E1', cid='0x6cc4b198ec4cf17fdced081b5611279be73e200711238068b5340e606ba86646-0', fee=2000, descr='carbon_v1 0xEeeeeEeeeEeEeeEeEeEeeEEEeeeeEeeeeeeeEEeE\\\\/0x8E870D67F660D95d5be530380D0eC0bd388289E1 2000', constr='carb', params={'exchange': 'carbon_v1', 'y': 15920.776548455418, 'yint': 32755.67010983316, 'A': 4.373757425036729, 'B': 54.77225575051648, 'pa': 3498.2508745627138, 'pb': 2999.9999999999854}),\n",
    "#     ConstantProductCurve(k=56059148.73497429, x=426117.72306081816, x_act=0, y_act=5.0, alpha=0.5, pair='0x8E870D67F660D95d5be530380D0eC0bd388289E1/0xEeeeeEeeeEeEeeEeEeEeeEEEeeeeEeeeeeeeEEeE', cid='0x6cc4b198ec4cf17fdced081b5611279be73e200711238068b5340e606ba86646-1', fee=2000, descr='carbon_v1 0xEeeeeEeeeEeEeeEeEeEeeEEEeeeeEeeeeeeeEEeE\\\\/0x8E870D67F660D95d5be530380D0eC0bd388289E1 2000', constr='carb', params={'exchange': 'carbon_v1', 'y': 5.0, 'yint': 10.106093048875099, 'A': 0.0013497708452092638, 'B': 0.016903085094568837, 'pa': 0.0003331667499582927, 'pb': 0.0002857142857142352})\n",
    "# ]\n",
    "# CCRaw = CurveContainer(CurvesRaw)"
   ]
  },
  {
   "cell_type": "code",
   "execution_count": 3,
   "id": "25fdf902-90cc-4364-911e-c1f577b9b4e2",
   "metadata": {
    "tags": []
   },
   "outputs": [],
   "source": [
    "CurvesRaw = [\n",
    "    ConstantProductCurve(k=27518385.40998667, x=1272.2926367501436, x_act=0, y_act=2000.9999995236503, alpha=0.5, pair='0x514910771AF9Ca656af840dff83E8264EcF986CA/0x8E870D67F660D95d5be530380D0eC0bd388289E1', cid='0x425d5d4ad7243f88d9f4cde8da52863b45af1f64e05bede1299909bcaa6c52d1-0', fee=2000, descr='carbon_v1 0x514910771AF9Ca656af840dff83E8264EcF986CA\\\\/0x8E870D67F660D95d5be530380D0eC0bd388289E1 2000', constr='carb', params={'exchange': 'carbon_v1', 'y': 2000.9999995236503, 'yint': 2000.9999995236503, 'A': 0.38144823884371704, 'B': 3.7416573867739373, 'pa': 16.99999999999995, 'pb': 13.99999999999997}),\n",
    "    #ConstantProductCurve(k=6.160500599566333e+18, x=11099999985.149971, x_act=0, y_act=55.50000002646446, alpha=0.5, pair='0x8E870D67F660D95d5be530380D0eC0bd388289E1/0x514910771AF9Ca656af840dff83E8264EcF986CA', cid='0x425d5d4ad7243f88d9f4cde8da52863b45af1f64e05bede1299909bcaa6c52d1-1', fee=2000, descr='carbon_v1 0x514910771AF9Ca656af840dff83E8264EcF986CA\\\\/0x8E870D67F660D95d5be530380D0eC0bd388289E1 2000', constr='carb', params={'exchange': 'carbon_v1', 'y': 55.50000002646446, 'yint': 55.50000002646446, 'A': 0, 'B': 0.22360678656963742, 'pa': 0.04999999999999889, 'pb': 0.04999999999999889}),\n",
    "    CPC.from_pk(p= 230,  k=1*230*(100**2),  cid=\"ETH/LINK\", pair='0xEeeeeEeeeEeEeeEeEeEeeEEEeeeeEeeeeeeeEEeE/0x514910771AF9Ca656af840dff83E8264EcF986CA', ), \n",
    "    CPC.from_pk(p=3220,  k=1*3220*(100**2), cid=\"ETH/USDP\", pair='0xEeeeeEeeeEeEeeEeEeEeeEEEeeeeEeeeeeeeEEeE/0x8E870D67F660D95d5be530380D0eC0bd388289E1', ), \n",
    "]\n",
    "CCRaw = CurveContainer(CurvesRaw)"
   ]
  },
  {
   "cell_type": "code",
   "execution_count": 4,
   "id": "a7057199-13bf-4f52-ac3a-c90bb7161523",
   "metadata": {
    "tags": []
   },
   "outputs": [
    {
     "name": "stdout",
     "output_type": "stream",
     "text": [
      "Help on method from_pk in module tools.curves.cpc:\n",
      "\n",
      "from_pk(p, k, *, x_act=None, y_act=None, pair=None, cid=None, fee=None, descr=None, params=None) method of abc.ABCMeta instance\n",
      "    constructor: from k,p (and x_act, y_act)\n",
      "\n"
     ]
    }
   ],
   "source": [
    "help(ConstantProductCurve.from_pk)"
   ]
  },
  {
   "cell_type": "markdown",
   "id": "961f17f5-6286-4f4c-8bc3-9721811b50b1",
   "metadata": {},
   "source": [
    "### >> Enter prices\n",
    "\n",
    "Provide current prices (`pstart`) here, in the format\n",
    "\n",
    "    PRICES = {\n",
    "        '0x8E87...': 0.0003087360213944532, \n",
    "        '0x5149...': 0.004372219704179475, \n",
    "        '0xEeee...': 1\n",
    "    }\n",
    "    \n",
    "The price numeraire does not matter as long as they are all in the same numeraire. All tokens must be present. Additional tokens can be added and will be ignored. "
   ]
  },
  {
   "cell_type": "code",
   "execution_count": 5,
   "id": "5fc55588-ec8b-4bdc-9482-4fc97d909c2e",
   "metadata": {},
   "outputs": [],
   "source": [
    "PRICES_RAW = {\n",
    "    '0x8E870D67F660D95d5be530380D0eC0bd388289E1': 0.0003087360213944532, \n",
    "    '0x514910771AF9Ca656af840dff83E8264EcF986CA': 0.004372219704179475, \n",
    "    '0xEeeeeEeeeEeEeeEeEeEeeEEEeeeeEeeeeeeeEEeE': 1\n",
    "}"
   ]
  },
  {
   "cell_type": "markdown",
   "id": "90127233-847b-4719-8f45-76638e5776d7",
   "metadata": {},
   "source": [
    "### >> Enter tokens\n",
    "\n",
    "Provide token tickers here, in the format\n",
    "\n",
    "    TOKENS = {\n",
    "        \"0x5149...\": \"LINK\",\n",
    "        \"0x8E87...\": \"USDP\",\n",
    "        \"0xEeee...\": \"ETH\",\n",
    "    }\n",
    "    \n",
    "All tokens must be present. Additional tokens will be ignored. You must also provide the `TARGET_TOKEN` (default: first token of `TOKENS`)\n"
   ]
  },
  {
   "cell_type": "code",
   "execution_count": 6,
   "id": "747c1dbf-d821-4214-8aa6-c1412bffeb50",
   "metadata": {
    "tags": []
   },
   "outputs": [
    {
     "data": {
      "text/plain": [
       "'0xEeeeeEeeeEeEeeEeEeEeeEEEeeeeEeeeeeeeEEeE'"
      ]
     },
     "execution_count": 6,
     "metadata": {},
     "output_type": "execute_result"
    }
   ],
   "source": [
    "TOKENS = {\n",
    "    \"0xEeeeeEeeeEeEeeEeEeEeeEEEeeeeEeeeeeeeEEeE\": \"ETH\",\n",
    "    \"0x514910771AF9Ca656af840dff83E8264EcF986CA\": \"LINK\",\n",
    "    \"0x8E870D67F660D95d5be530380D0eC0bd388289E1\": \"USDP\",\n",
    "}\n",
    "\n",
    "TARGET_TOKEN_RAW = list(TOKENS)[0]\n",
    "TARGET_TOKEN_RAW"
   ]
  },
  {
   "cell_type": "markdown",
   "id": "8bba7e8a-dbf8-4a89-9ee8-686afbef9901",
   "metadata": {},
   "source": [
    "### >>> Run optimizer\n",
    "\n",
    "please make sure that this line runs without errors (other than the error that needs to be addressed of course)"
   ]
  },
  {
   "cell_type": "code",
   "execution_count": 7,
   "id": "a49a49f8-b3e4-49c4-b991-c3cd8a123658",
   "metadata": {
    "tags": []
   },
   "outputs": [
    {
     "name": "stdout",
     "output_type": "stream",
     "text": [
      "[margp_optimizer] WARNING - providing `pstart` as parameter is deprecated; use `pstart` variable instead\n"
     ]
    },
    {
     "data": {
      "text/plain": [
       "CPCArbOptimizer.MargpOptimizerResult(result=-0.05121777885030099, time=0.00048828125, method='margp', targettkn='0xEeeeeEeeeEeEeeEeEeEeeEEEeeeeEeeeeeeeEEeE', p_optimal_t=(0.00030712990834734163, 0.004391622735940103), dtokens_t=(3.128661774098873e-10, 1.659827830735594e-11), tokens_t=('0x8E870D67F660D95d5be530380D0eC0bd388289E1', '0x514910771AF9Ca656af840dff83E8264EcF986CA'), errormsg=None)"
      ]
     },
     "execution_count": 7,
     "metadata": {},
     "output_type": "execute_result"
    }
   ],
   "source": [
    "O = MargPOptimizer(CCRaw)\n",
    "r = O.optimize(sfc=TARGET_TOKEN_RAW, params=dict(pstart=PRICES_RAW))\n",
    "r"
   ]
  },
  {
   "cell_type": "markdown",
   "id": "f18727c8-f2d9-4436-9022-a6f1d6f9a2f6",
   "metadata": {},
   "source": [
    "**do not worry about the code below here; this is for the actual testing and will be adapted as need be**"
   ]
  },
  {
   "cell_type": "markdown",
   "id": "f4844ce6-dffa-4d79-b631-6b5fa8ff17a2",
   "metadata": {},
   "source": [
    "### >>> Preprocessing\n",
    "\n",
    "Please ensure that this code runs without error. Errors here mean that the data provided above is not consistent."
   ]
  },
  {
   "cell_type": "code",
   "execution_count": 8,
   "id": "b1a6af0f-89b0-443d-81cb-fcfea6722441",
   "metadata": {},
   "outputs": [],
   "source": [
    "def replace_tokens(dct):\n",
    "    \"\"\"replaces the token address with the token name in dct\"\"\"\n",
    "    tkns = dct[\"pair\"].split(\"/\")\n",
    "    for i in range(len(tkns)):\n",
    "        #tkns[i] = TOKENS.get(tkns[i]) or tkns[i]\n",
    "        tkns[i] = TOKENS[tkns[i]]\n",
    "    dct[\"pair\"] = \"/\".join(tkns)\n",
    "    return dct\n",
    "\n",
    "def p(pair=None, *, tknb=None, tknq=None, prices=None):\n",
    "    \"price of tknb in terms of tknq\"\n",
    "    if not pair is None:\n",
    "        tknb, tknq = pair.split(\"/\")\n",
    "    p = prices or PRICES\n",
    "    return p[tknb]/p[tknq]\n",
    "\n",
    "def round_(x, *args):\n",
    "    \"forgiving round()\"\n",
    "    try:\n",
    "        return round(x, *args)\n",
    "    except:\n",
    "        return x\n",
    "\n",
    "def wbp(c):\n",
    "    \"width of the range in bp [0 means infty]\"\n",
    "    try:\n",
    "        return max(int((c.p_max_primary()/c.p_min_primary() - 1)*10000), 1)\n",
    "    except:\n",
    "        return 0\n",
    "    \n",
    "def cid0(c):\n",
    "    \"shortened cid (for standard format ones)\"\n",
    "    if len(c.cid) < 20: return c.cid\n",
    "    return f\"{c.cid[2:6]}{c.cid[-2:]}\""
   ]
  },
  {
   "cell_type": "markdown",
   "id": "265bd6ae-c5c4-439c-99bc-b289d44cab63",
   "metadata": {},
   "source": [
    "If this fails this probably means that one of the tokens has not been defined above"
   ]
  },
  {
   "cell_type": "code",
   "execution_count": 9,
   "id": "f7651ba3-2fb2-444f-9971-779326ae4758",
   "metadata": {
    "tags": []
   },
   "outputs": [
    {
     "data": {
      "text/plain": [
       "{'USDP': 0.0003087360213944532, 'LINK': 0.004372219704179475, 'ETH': 1}"
      ]
     },
     "execution_count": 9,
     "metadata": {},
     "output_type": "execute_result"
    }
   ],
   "source": [
    "CC = CurveContainer.from_dicts([replace_tokens(d) for d in CCRaw.asdicts()])\n",
    "PRICES = {TOKENS[addr]:price for addr, price in PRICES_RAW.items()}\n",
    "TARGET_TOKEN = TOKENS[TARGET_TOKEN_RAW]\n",
    "PRICES"
   ]
  },
  {
   "cell_type": "code",
   "execution_count": 10,
   "id": "c7ce8e24-8ee6-48c0-bccd-0d268873128c",
   "metadata": {},
   "outputs": [],
   "source": [
    "def p(pair=None, *, tknb=None, tknq=None, prices=None):\n",
    "    \"price of tknb in terms of tknq\"\n",
    "    if not pair is None:\n",
    "        tknb, tknq = pair.split(\"/\")\n",
    "    p = prices or PRICES\n",
    "    return p[tknb]/p[tknq]"
   ]
  },
  {
   "cell_type": "markdown",
   "id": "9906cde3-7c6b-47dd-b322-c342189281d9",
   "metadata": {},
   "source": [
    "The code below ensures that in ETH/LINK, LINK is the quote token and ETH the base token (for better price displays)"
   ]
  },
  {
   "cell_type": "code",
   "execution_count": 11,
   "id": "9366ca04-201c-448d-8db3-62b17946fdd9",
   "metadata": {
    "tags": []
   },
   "outputs": [],
   "source": [
    "SimplePair.NUMERAIRE_TOKENS[\"LINK\"] = SimplePair.NUMERAIRE_TOKENS[\"ETH\"] - 1\n",
    "#SimplePair.NUMERAIRE_TOKENS"
   ]
  },
  {
   "cell_type": "markdown",
   "id": "f8d51655-c7d6-4966-ad44-e002dc4aca62",
   "metadata": {},
   "source": [
    "## Curves"
   ]
  },
  {
   "cell_type": "code",
   "execution_count": 12,
   "id": "248d58be-fc70-4b24-a8c2-0cc3d59d54e9",
   "metadata": {
    "tags": []
   },
   "outputs": [
    {
     "name": "stdout",
     "output_type": "stream",
     "text": [
      "Num curves:    3\n",
      "Pairs:         {'LINK/USDP', 'ETH/USDP', 'ETH/LINK'}\n",
      "Target token:  ETH\n"
     ]
    }
   ],
   "source": [
    "print(\"Num curves:   \", len(CC))\n",
    "print(\"Pairs:        \", set(c.pairo.primary_n for c in CC))\n",
    "print(\"Target token: \", TARGET_TOKEN)"
   ]
  },
  {
   "cell_type": "code",
   "execution_count": 13,
   "id": "4dd5ccb9-f1a8-4d1b-8965-fc08021dd9a9",
   "metadata": {
    "tags": []
   },
   "outputs": [],
   "source": [
    "PRICE_DECIMALS = 2\n",
    "curvedata = [dict(\n",
    "    cid0 = cid0(c),\n",
    "    exch = c.params.get('exchange', \"na\"),\n",
    "    pair = c.pairo.primary_n,\n",
    "    mktp = round(p(c.pairo.primary_n), PRICE_DECIMALS),\n",
    "    bs = c.buysell(),\n",
    "    tkn = c.pairo.primary_tknb,\n",
    "    p = round_(c.primaryp(), PRICE_DECIMALS),\n",
    "    p_min = round_(c.p_min_primary(), PRICE_DECIMALS),\n",
    "    p_max = round_(c.p_max_primary(), PRICE_DECIMALS),\n",
    "    tknp = p(tknb=c.pairo.primary_tknb, tknq=TARGET_TOKEN),\n",
    "    wbp = wbp(c),\n",
    "    liq = round(c.tvl(tkn=c.pairo.primary_tknb), 2),\n",
    "    liqtt = round(c.x_act*p(tknb=c.tknx, tknq=TARGET_TOKEN) + c.y_act*p(tknb=c.tkny, tknq=TARGET_TOKEN), 2),\n",
    ") for c in CC]\n",
    "#curvedata"
   ]
  },
  {
   "cell_type": "markdown",
   "id": "907431f0-9bb0-467d-9230-154e92a0e259",
   "metadata": {
    "tags": []
   },
   "source": [
    "- `cid0`: shortened CID (same as in `debug_tkn2`)\n",
    "- `exch`: the type of the curve / exchange in question\n",
    "- `pair`: the normalized pair of the curve\n",
    "- `mktp`: the current market price of that pair (according to `PRICES_RAW`)\n",
    "- `bs`: whether curves buys (\"b\"),  sells (\"s\") the primary tokenm, or both\n",
    "- `tkn`: the primary token (base token of primary pair)\n",
    "- `p`, `p_min`, `p_max`: the current / minimum / maximum price of the curve\n",
    "- `tknp`: the price of `tkn` (as above) in terms of `TARGET_TOKEN`, as per the market price\n",
    "- `wbp`: width of the range (p_max/p_min) in basis points \n",
    "- `liq`: liquidity (in units of `tkn` as defined above; converted at curve price)\n",
    "- `liqtt`: total curve liquidity (in `TARGET_TOKEN` units; converted at `mktp`)\n"
   ]
  },
  {
   "cell_type": "code",
   "execution_count": 14,
   "id": "3deeac05-5364-413c-a93a-c9fe9f218c79",
   "metadata": {
    "tags": []
   },
   "outputs": [
    {
     "data": {
      "text/html": [
       "<div>\n",
       "<style scoped>\n",
       "    .dataframe tbody tr th:only-of-type {\n",
       "        vertical-align: middle;\n",
       "    }\n",
       "\n",
       "    .dataframe tbody tr th {\n",
       "        vertical-align: top;\n",
       "    }\n",
       "\n",
       "    .dataframe thead th {\n",
       "        text-align: right;\n",
       "    }\n",
       "</style>\n",
       "<table border=\"1\" class=\"dataframe\">\n",
       "  <thead>\n",
       "    <tr style=\"text-align: right;\">\n",
       "      <th></th>\n",
       "      <th>cid0</th>\n",
       "      <th>exch</th>\n",
       "      <th>pair</th>\n",
       "      <th>mktp</th>\n",
       "      <th>bs</th>\n",
       "      <th>tkn</th>\n",
       "      <th>p</th>\n",
       "      <th>p_min</th>\n",
       "      <th>p_max</th>\n",
       "      <th>tknp</th>\n",
       "      <th>wbp</th>\n",
       "      <th>liq</th>\n",
       "      <th>liqtt</th>\n",
       "    </tr>\n",
       "  </thead>\n",
       "  <tbody>\n",
       "    <tr>\n",
       "      <th>0</th>\n",
       "      <td>425d-0</td>\n",
       "      <td>carbon_v1</td>\n",
       "      <td>LINK/USDP</td>\n",
       "      <td>14.16</td>\n",
       "      <td>b</td>\n",
       "      <td>LINK</td>\n",
       "      <td>17.0</td>\n",
       "      <td>14.0</td>\n",
       "      <td>17.0</td>\n",
       "      <td>0.004372</td>\n",
       "      <td>2142</td>\n",
       "      <td>117.71</td>\n",
       "      <td>0.62</td>\n",
       "    </tr>\n",
       "    <tr>\n",
       "      <th>1</th>\n",
       "      <td>ETH/LINK</td>\n",
       "      <td>na</td>\n",
       "      <td>ETH/LINK</td>\n",
       "      <td>228.72</td>\n",
       "      <td>bs</td>\n",
       "      <td>ETH</td>\n",
       "      <td>230.0</td>\n",
       "      <td>0.0</td>\n",
       "      <td>NaN</td>\n",
       "      <td>1.000000</td>\n",
       "      <td>0</td>\n",
       "      <td>200.00</td>\n",
       "      <td>200.56</td>\n",
       "    </tr>\n",
       "    <tr>\n",
       "      <th>2</th>\n",
       "      <td>ETH/USDP</td>\n",
       "      <td>na</td>\n",
       "      <td>ETH/USDP</td>\n",
       "      <td>3239.01</td>\n",
       "      <td>bs</td>\n",
       "      <td>ETH</td>\n",
       "      <td>3220.0</td>\n",
       "      <td>0.0</td>\n",
       "      <td>NaN</td>\n",
       "      <td>1.000000</td>\n",
       "      <td>0</td>\n",
       "      <td>200.00</td>\n",
       "      <td>199.41</td>\n",
       "    </tr>\n",
       "  </tbody>\n",
       "</table>\n",
       "</div>"
      ],
      "text/plain": [
       "       cid0       exch       pair     mktp  bs   tkn       p  p_min  p_max  \\\n",
       "0    425d-0  carbon_v1  LINK/USDP    14.16   b  LINK    17.0   14.0   17.0   \n",
       "1  ETH/LINK         na   ETH/LINK   228.72  bs   ETH   230.0    0.0    NaN   \n",
       "2  ETH/USDP         na   ETH/USDP  3239.01  bs   ETH  3220.0    0.0    NaN   \n",
       "\n",
       "       tknp   wbp     liq   liqtt  \n",
       "0  0.004372  2142  117.71    0.62  \n",
       "1  1.000000     0  200.00  200.56  \n",
       "2  1.000000     0  200.00  199.41  "
      ]
     },
     "execution_count": 14,
     "metadata": {},
     "output_type": "execute_result"
    }
   ],
   "source": [
    "curvedf = pd.DataFrame(curvedata)\n",
    "curvedf"
   ]
  },
  {
   "cell_type": "markdown",
   "id": "71c9a7f7-afb4-4e91-a625-d85a8c750c7b",
   "metadata": {},
   "source": [
    "- The arbitrageable curve is #0 that buys LINK against USDP on the way down from `17 to 14`, at an average price of `15.4 LINK/USDP`; liquidity is `0.6 ETH ~ 2000 USDP`\n",
    "- The triangle is made up via two massive curves (20 ETH each) with price points at `230 ETH/LINK` and `3220 ETH/USDP` respectively, yielding an effective `ETH/LINK of 14`\n",
    "- The average profit is `10%`, on a volume of `2000 USDP or 0.6 ETH`, ie `200 USD or 0.06 ETH`\n",
    "- That is close enough to the actual `result 0.05 ETH` (see below), keeping in mind that there is still some slippage on the big curves"
   ]
  },
  {
   "cell_type": "code",
   "execution_count": 15,
   "id": "1849f948-f69b-400e-8d02-bd49fde91ca8",
   "metadata": {
    "tags": []
   },
   "outputs": [
    {
     "data": {
      "text/plain": [
       "(1932.0, 15.427248620541512, 14.0, 0.10000000000000009)"
      ]
     },
     "execution_count": 15,
     "metadata": {},
     "output_type": "execute_result"
    }
   ],
   "source": [
    "0.6*3220, m.sqrt(17*14), 3220/230, 15.4/14-1"
   ]
  },
  {
   "cell_type": "markdown",
   "id": "54d0478d-d748-4f9a-ae3a-753ab61cc8de",
   "metadata": {},
   "source": [
    "For reference, the CID dataframe `ciddf` (separate because the field is too long; can be joined to `curvedf` via index)"
   ]
  },
  {
   "cell_type": "code",
   "execution_count": 16,
   "id": "0cc8423f-726b-42f6-9144-2f1de1d98d12",
   "metadata": {
    "tags": []
   },
   "outputs": [
    {
     "data": {
      "text/html": [
       "<div>\n",
       "<style scoped>\n",
       "    .dataframe tbody tr th:only-of-type {\n",
       "        vertical-align: middle;\n",
       "    }\n",
       "\n",
       "    .dataframe tbody tr th {\n",
       "        vertical-align: top;\n",
       "    }\n",
       "\n",
       "    .dataframe thead th {\n",
       "        text-align: right;\n",
       "    }\n",
       "</style>\n",
       "<table border=\"1\" class=\"dataframe\">\n",
       "  <thead>\n",
       "    <tr style=\"text-align: right;\">\n",
       "      <th></th>\n",
       "      <th>cid</th>\n",
       "    </tr>\n",
       "  </thead>\n",
       "  <tbody>\n",
       "    <tr>\n",
       "      <th>0</th>\n",
       "      <td>0x425d5d4ad7243f88d9f4cde8da52863b45af1f64e05b...</td>\n",
       "    </tr>\n",
       "    <tr>\n",
       "      <th>1</th>\n",
       "      <td>ETH/LINK</td>\n",
       "    </tr>\n",
       "    <tr>\n",
       "      <th>2</th>\n",
       "      <td>ETH/USDP</td>\n",
       "    </tr>\n",
       "  </tbody>\n",
       "</table>\n",
       "</div>"
      ],
      "text/plain": [
       "                                                 cid\n",
       "0  0x425d5d4ad7243f88d9f4cde8da52863b45af1f64e05b...\n",
       "1                                           ETH/LINK\n",
       "2                                           ETH/USDP"
      ]
     },
     "execution_count": 16,
     "metadata": {},
     "output_type": "execute_result"
    }
   ],
   "source": [
    "ciddf = pd.DataFrame([dict(cid=c.cid) for c in CC])\n",
    "ciddf"
   ]
  },
  {
   "cell_type": "code",
   "execution_count": 17,
   "id": "16d86f58-0c20-4c38-9e62-25ad33fafe1b",
   "metadata": {
    "tags": []
   },
   "outputs": [],
   "source": [
    "#help(CC[0])"
   ]
  },
  {
   "cell_type": "code",
   "execution_count": 18,
   "id": "4cdabeff-acae-49c2-b211-d37858a4910e",
   "metadata": {
    "tags": []
   },
   "outputs": [],
   "source": [
    "#help(CC[0].pairo)"
   ]
  },
  {
   "cell_type": "markdown",
   "id": "94f35eba-137c-4adf-a167-2218e68410e6",
   "metadata": {},
   "source": [
    "## MargPOptimizer"
   ]
  },
  {
   "cell_type": "code",
   "execution_count": 19,
   "id": "d0200904-33d4-4dbe-951e-bd4ee834a59b",
   "metadata": {
    "tags": []
   },
   "outputs": [
    {
     "name": "stdout",
     "output_type": "stream",
     "text": [
      "[margp_optimizer] targettkn = ETH\n",
      "[margp_optimizer] WARNING - providing `pstart` as parameter is deprecated; use `pstart` variable instead\n",
      "[margp_optimizer] crit=rel (eps=1e-06, unit=1, norm=L2)\n",
      "\n",
      "[margp_optimizer] ETH <- USDP, LINK\n",
      "[margp_optimizer] p    0.00, 0.00\n",
      "[margp_optimizer] 1/p  3,239.01, 228.72\n",
      "\n",
      "[margp_optimizer]\n",
      "============= JACOBIAN% =============>>>\n",
      "tknq ETH\n",
      "dUSDP/d%pUSDP, dUSDP/d%pLINK\n",
      "dLINK/d%pUSDP, dLINK/d%pLINK\n",
      "<<<============= JACOBIAN% =============\n",
      "\n",
      "\n",
      "[margp_optimizer]\n",
      "============= JACOBIAN% =============>>>\n",
      "[[-1704.90616999    98.21599834]\n",
      " [    6.93538284  -121.04274482]]\n",
      "<<<============= JACOBIAN% =============\n",
      "\n",
      "\n",
      "[margp_optimizer]\n",
      "========== cycle 0 =======>>>\n",
      "ETH <- USDP, LINK\n",
      "dtkn   -938.737, 57.429\n",
      "log p0 [-3.51041269678875, -2.359298022862449]\n",
      "d logp [-0.00226877  0.00192028]\n",
      "log p  [-3.51268146 -2.35737774]\n",
      "p_t      (0.000307127382149018, 0.004391594784368945) ETH\n",
      "p        0.00, 0.00\n",
      "1/p      3,255.98, 227.71\n",
      "crit     2.97e-03 [1; L2], eps=1e-06, c/e=3e+03]\n",
      "dtkn_d   {'USDP': -938.7372148645118, 'LINK': 57.428760378646075, 'ETH': -0.013798315023322516}\n",
      "<<<========== cycle 0 =======\n",
      "\n",
      "[margp_optimizer]\n",
      "============= JACOBIAN% =============>>>\n",
      "[[-1709.58314294    98.69081945]\n",
      " [    6.90201535  -120.75738836]]\n",
      "<<<============= JACOBIAN% =============\n",
      "\n",
      "\n",
      "[margp_optimizer]\n",
      "========== cycle 1 =======>>>\n",
      "ETH <- USDP, LINK\n",
      "dtkn   1.350, 0.072\n",
      "log p0 [-3.5126814620131683, -2.3573777393756634]\n",
      "d logp [3.57223418e-06 2.76422511e-06]\n",
      "log p  [-3.51267789 -2.35737498]\n",
      "p_t      (0.0003071299083967377, 0.00439162273635938) ETH\n",
      "p        0.00, 0.00\n",
      "1/p      3,255.95, 227.71\n",
      "crit     4.52e-06 [1; L2], eps=1e-06, c/e=5e+00]\n",
      "dtkn_d   {'USDP': 1.35008633628604, 'LINK': 0.07153859061031653, 'ETH': -0.0519465985387626}\n",
      "<<<========== cycle 1 =======\n",
      "\n",
      "[margp_optimizer]\n",
      "============= JACOBIAN% =============>>>\n",
      "[[-1709.57642611    98.69072764]\n",
      " [    6.90202177  -120.75703245]]\n",
      "<<<============= JACOBIAN% =============\n",
      "\n",
      "\n",
      "[margp_optimizer]\n",
      "========== cycle 2 =======>>>\n",
      "ETH <- USDP, LINK\n",
      "dtkn   -0.000, -0.000\n",
      "log p0 [-3.512677889778987, -2.357374975150554]\n",
      "d logp [-6.98486252e-11 -4.14631051e-11]\n",
      "log p  [-3.51267789 -2.35737498]\n",
      "p_t      (0.00030712990834734163, 0.004391622735940103) ETH\n",
      "p        0.00, 0.00\n",
      "1/p      3,255.95, 227.71\n",
      "crit     8.12e-11 [1; L2], eps=1e-06, c/e=8e-05]\n",
      "dtkn_d   {'USDP': -2.6685851480579004e-05, 'LINK': -1.0470894267200492e-06, 'ETH': -0.05121776605568584}\n",
      "<<<========== cycle 2 =======\n"
     ]
    },
    {
     "data": {
      "text/plain": [
       "CPCArbOptimizer.MargpOptimizerResult(result=-0.05121777885030099, time=0.0017211437225341797, method='margp', targettkn='ETH', p_optimal_t=(0.00030712990834734163, 0.004391622735940103), dtokens_t=(3.128661774098873e-10, 1.659827830735594e-11), tokens_t=('USDP', 'LINK'), errormsg=None)"
      ]
     },
     "execution_count": 19,
     "metadata": {},
     "output_type": "execute_result"
    }
   ],
   "source": [
    "O = MargPOptimizer(CC)\n",
    "r = O.optimize(sfc=TARGET_TOKEN, params=dict(\n",
    "    pstart=PRICES,\n",
    "    verbose=True,\n",
    "    debug=False,\n",
    "    debug_j=True,\n",
    "    debug_dtkn=False,\n",
    "    debug_dtkn2=False,\n",
    "    debug_dtknd=True,\n",
    "))\n",
    "r"
   ]
  },
  {
   "cell_type": "code",
   "execution_count": 20,
   "id": "bdb71913-d35b-4396-b21d-1f67d9a6ad5d",
   "metadata": {},
   "outputs": [
    {
     "data": {
      "text/plain": [
       "(-0.05121777885030099, 'ETH', 174.14044809102336)"
      ]
     },
     "execution_count": 20,
     "metadata": {},
     "output_type": "execute_result"
    }
   ],
   "source": [
    "r.result, r.targettkn, -r.result*3400"
   ]
  },
  {
   "cell_type": "code",
   "execution_count": null,
   "id": "a2742dde-6074-4494-a308-3229c50a176f",
   "metadata": {},
   "outputs": [],
   "source": []
  },
  {
   "cell_type": "code",
   "execution_count": null,
   "id": "c19b0b7f-011c-45c4-9de5-151304147660",
   "metadata": {},
   "outputs": [],
   "source": []
  }
 ],
 "metadata": {
  "jupytext": {
   "formats": "ipynb,py:light"
  },
  "kernelspec": {
   "display_name": "Python 3 (ipykernel)",
   "language": "python",
   "name": "python3"
  },
  "language_info": {
   "codemirror_mode": {
    "name": "ipython",
    "version": 3
   },
   "file_extension": ".py",
   "mimetype": "text/x-python",
   "name": "python",
   "nbconvert_exporter": "python",
   "pygments_lexer": "ipython3",
   "version": "3.11.8"
  }
 },
 "nbformat": 4,
 "nbformat_minor": 5
}
