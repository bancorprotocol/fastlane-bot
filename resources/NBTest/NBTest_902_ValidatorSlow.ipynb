{
 "cells": [
  {
   "cell_type": "code",
   "execution_count": 28,
   "id": "84fa264b",
   "metadata": {
    "ExecuteTime": {
     "end_time": "2023-07-30T12:11:37.954948Z",
     "start_time": "2023-07-30T12:11:37.924078Z"
    }
   },
   "outputs": [
    {
     "name": "stdout",
     "output_type": "stream",
     "text": [
      "ConstantProductCurve v2.14 (23/May/2023)\n",
      "CarbonBot v3-b2.2 (20/June/2023)\n",
      "UniswapV2 v0.0.1 (2023-07-03)\n",
      "UniswapV3 v0.0.1 (2023-07-03)\n",
      "SushiswapV2 v0.0.1 (2023-07-03)\n",
      "CarbonV1 v0.0.1 (2023-07-03)\n",
      "BancorV3 v0.0.1 (2023-07-03)\n",
      "Version = 3-b2.2 [requirements >= 3.0 is met]\n"
     ]
    }
   ],
   "source": [
    "# coding=utf-8\n",
    "\"\"\"\n",
    "This module contains the tests for the exchanges classes\n",
    "\"\"\"\n",
    "from fastlane_bot import Bot, Config\n",
    "from fastlane_bot.bot import CarbonBot\n",
    "from fastlane_bot.tools.cpc import ConstantProductCurve\n",
    "from fastlane_bot.tools.cpc import ConstantProductCurve as CPC\n",
    "from fastlane_bot.events.exchanges import UniswapV2, UniswapV3, SushiswapV2, CarbonV1, BancorV3\n",
    "from fastlane_bot.events.interface import QueryInterface\n",
    "from fastlane_bot.helpers.poolandtokens import PoolAndTokens\n",
    "from fastlane_bot.helpers import TradeInstruction, TxReceiptHandler, TxRouteHandler, TxSubmitHandler, TxHelpers, TxHelper\n",
    "from fastlane_bot.events.managers.manager import Manager\n",
    "from fastlane_bot.events.interface import QueryInterface\n",
    "from joblib import Parallel, delayed\n",
    "import pytest\n",
    "import math\n",
    "import json\n",
    "print(\"{0.__name__} v{0.__VERSION__} ({0.__DATE__})\".format(CPC))\n",
    "print(\"{0.__name__} v{0.__VERSION__} ({0.__DATE__})\".format(Bot))\n",
    "print(\"{0.__name__} v{0.__VERSION__} ({0.__DATE__})\".format(UniswapV2))\n",
    "print(\"{0.__name__} v{0.__VERSION__} ({0.__DATE__})\".format(UniswapV3))\n",
    "print(\"{0.__name__} v{0.__VERSION__} ({0.__DATE__})\".format(SushiswapV2))\n",
    "print(\"{0.__name__} v{0.__VERSION__} ({0.__DATE__})\".format(CarbonV1))\n",
    "print(\"{0.__name__} v{0.__VERSION__} ({0.__DATE__})\".format(BancorV3))\n",
    "from fastlane_bot.testing import *\n",
    "from fastlane_bot.modes import triangle_single_bancor3\n",
    "#plt.style.use('seaborn-dark')\n",
    "plt.rcParams['figure.figsize'] = [12,6]\n",
    "from fastlane_bot import __VERSION__\n",
    "require(\"3.0\", __VERSION__)"
   ]
  },
  {
   "cell_type": "markdown",
   "id": "4c4e2283",
   "metadata": {},
   "source": [
    "# Multi Mode [NB039]"
   ]
  },
  {
   "cell_type": "code",
   "execution_count": 29,
   "id": "a51e5ec2",
   "metadata": {
    "ExecuteTime": {
     "end_time": "2023-07-30T12:11:39.298473Z",
     "start_time": "2023-07-30T12:11:37.935377Z"
    }
   },
   "outputs": [
    {
     "name": "stderr",
     "output_type": "stream",
     "text": [
      "2023-07-30 05:11:38,844 [fastlane:INFO] - Time taken to add initial pools: 0.06961727142333984\n",
      "2023-07-30 05:11:38,844 [fastlane:INFO] - Time taken to add initial pools: 0.06961727142333984\n",
      "2023-07-30 05:11:38,844 [fastlane:INFO] - Time taken to add initial pools: 0.06961727142333984\n",
      "2023-07-30 05:11:38,844 [fastlane:INFO] - Time taken to add initial pools: 0.06961727142333984\n",
      "2023-07-30 05:11:38,844 [fastlane:INFO] - Time taken to add initial pools: 0.06961727142333984\n",
      "2023-07-30 05:11:38,847 [fastlane:INFO] - Initializing the bot...\n",
      "2023-07-30 05:11:38,847 [fastlane:INFO] - Initializing the bot...\n",
      "2023-07-30 05:11:38,847 [fastlane:INFO] - Initializing the bot...\n",
      "2023-07-30 05:11:38,847 [fastlane:INFO] - Initializing the bot...\n",
      "2023-07-30 05:11:38,847 [fastlane:INFO] - Initializing the bot...\n",
      "2023-07-30 05:11:38,970 [fastlane:INFO] - Removed 3242 unmapped uniswap_v2/sushi pools. 1897 uniswap_v2/sushi pools remaining\n",
      "2023-07-30 05:11:38,970 [fastlane:INFO] - Removed 3242 unmapped uniswap_v2/sushi pools. 1897 uniswap_v2/sushi pools remaining\n",
      "2023-07-30 05:11:38,970 [fastlane:INFO] - Removed 3242 unmapped uniswap_v2/sushi pools. 1897 uniswap_v2/sushi pools remaining\n",
      "2023-07-30 05:11:38,970 [fastlane:INFO] - Removed 3242 unmapped uniswap_v2/sushi pools. 1897 uniswap_v2/sushi pools remaining\n",
      "2023-07-30 05:11:38,970 [fastlane:INFO] - Removed 3242 unmapped uniswap_v2/sushi pools. 1897 uniswap_v2/sushi pools remaining\n",
      "2023-07-30 05:11:38,971 [fastlane:INFO] - Unmapped uniswap_v2/sushi pools:\n",
      "2023-07-30 05:11:38,971 [fastlane:INFO] - Unmapped uniswap_v2/sushi pools:\n",
      "2023-07-30 05:11:38,971 [fastlane:INFO] - Unmapped uniswap_v2/sushi pools:\n",
      "2023-07-30 05:11:38,971 [fastlane:INFO] - Unmapped uniswap_v2/sushi pools:\n",
      "2023-07-30 05:11:38,971 [fastlane:INFO] - Unmapped uniswap_v2/sushi pools:\n",
      "2023-07-30 05:11:39,162 [fastlane:INFO] - uniswap_v3: 0\n",
      "2023-07-30 05:11:39,162 [fastlane:INFO] - uniswap_v3: 0\n",
      "2023-07-30 05:11:39,162 [fastlane:INFO] - uniswap_v3: 0\n",
      "2023-07-30 05:11:39,162 [fastlane:INFO] - uniswap_v3: 0\n",
      "2023-07-30 05:11:39,162 [fastlane:INFO] - uniswap_v3: 0\n",
      "2023-07-30 05:11:39,164 [fastlane:INFO] - uniswap_v2: 3242\n",
      "2023-07-30 05:11:39,164 [fastlane:INFO] - uniswap_v2: 3242\n",
      "2023-07-30 05:11:39,164 [fastlane:INFO] - uniswap_v2: 3242\n",
      "2023-07-30 05:11:39,164 [fastlane:INFO] - uniswap_v2: 3242\n",
      "2023-07-30 05:11:39,164 [fastlane:INFO] - uniswap_v2: 3242\n",
      "2023-07-30 05:11:39,165 [fastlane:INFO] - sushiswap_v2: 0\n",
      "2023-07-30 05:11:39,165 [fastlane:INFO] - sushiswap_v2: 0\n",
      "2023-07-30 05:11:39,165 [fastlane:INFO] - sushiswap_v2: 0\n",
      "2023-07-30 05:11:39,165 [fastlane:INFO] - sushiswap_v2: 0\n",
      "2023-07-30 05:11:39,165 [fastlane:INFO] - sushiswap_v2: 0\n",
      "2023-07-30 05:11:39,168 [fastlane:INFO] - uniswap_v3: 636\n",
      "2023-07-30 05:11:39,168 [fastlane:INFO] - uniswap_v3: 636\n",
      "2023-07-30 05:11:39,168 [fastlane:INFO] - uniswap_v3: 636\n",
      "2023-07-30 05:11:39,168 [fastlane:INFO] - uniswap_v3: 636\n",
      "2023-07-30 05:11:39,168 [fastlane:INFO] - uniswap_v3: 636\n",
      "2023-07-30 05:11:39,169 [fastlane:INFO] - sushiswap_v2: 78\n",
      "2023-07-30 05:11:39,169 [fastlane:INFO] - sushiswap_v2: 78\n",
      "2023-07-30 05:11:39,169 [fastlane:INFO] - sushiswap_v2: 78\n",
      "2023-07-30 05:11:39,169 [fastlane:INFO] - sushiswap_v2: 78\n",
      "2023-07-30 05:11:39,169 [fastlane:INFO] - sushiswap_v2: 78\n",
      "2023-07-30 05:11:39,170 [fastlane:INFO] - uniswap_v2: 0\n",
      "2023-07-30 05:11:39,170 [fastlane:INFO] - uniswap_v2: 0\n",
      "2023-07-30 05:11:39,170 [fastlane:INFO] - uniswap_v2: 0\n",
      "2023-07-30 05:11:39,170 [fastlane:INFO] - uniswap_v2: 0\n",
      "2023-07-30 05:11:39,170 [fastlane:INFO] - uniswap_v2: 0\n",
      "2023-07-30 05:11:39,171 [fastlane:INFO] - bancor_v2: 0\n",
      "2023-07-30 05:11:39,171 [fastlane:INFO] - bancor_v2: 0\n",
      "2023-07-30 05:11:39,171 [fastlane:INFO] - bancor_v2: 0\n",
      "2023-07-30 05:11:39,171 [fastlane:INFO] - bancor_v2: 0\n",
      "2023-07-30 05:11:39,171 [fastlane:INFO] - bancor_v2: 0\n",
      "2023-07-30 05:11:39,172 [fastlane:INFO] - bancor_v3: 34\n",
      "2023-07-30 05:11:39,172 [fastlane:INFO] - bancor_v3: 34\n",
      "2023-07-30 05:11:39,172 [fastlane:INFO] - bancor_v3: 34\n",
      "2023-07-30 05:11:39,172 [fastlane:INFO] - bancor_v3: 34\n",
      "2023-07-30 05:11:39,172 [fastlane:INFO] - bancor_v3: 34\n",
      "2023-07-30 05:11:39,173 [fastlane:INFO] - carbon_v1: 220\n",
      "2023-07-30 05:11:39,173 [fastlane:INFO] - carbon_v1: 220\n",
      "2023-07-30 05:11:39,173 [fastlane:INFO] - carbon_v1: 220\n",
      "2023-07-30 05:11:39,173 [fastlane:INFO] - carbon_v1: 220\n",
      "2023-07-30 05:11:39,173 [fastlane:INFO] - carbon_v1: 220\n",
      "2023-07-30 05:11:39,205 [fastlane:INFO] - uniswap_v3_zero_liquidity_pools: 858\n",
      "2023-07-30 05:11:39,205 [fastlane:INFO] - uniswap_v3_zero_liquidity_pools: 858\n",
      "2023-07-30 05:11:39,205 [fastlane:INFO] - uniswap_v3_zero_liquidity_pools: 858\n",
      "2023-07-30 05:11:39,205 [fastlane:INFO] - uniswap_v3_zero_liquidity_pools: 858\n",
      "2023-07-30 05:11:39,205 [fastlane:INFO] - uniswap_v3_zero_liquidity_pools: 858\n",
      "2023-07-30 05:11:39,206 [fastlane:INFO] - sushiswap_v2_zero_liquidity_pools: 34\n",
      "2023-07-30 05:11:39,206 [fastlane:INFO] - sushiswap_v2_zero_liquidity_pools: 34\n",
      "2023-07-30 05:11:39,206 [fastlane:INFO] - sushiswap_v2_zero_liquidity_pools: 34\n",
      "2023-07-30 05:11:39,206 [fastlane:INFO] - sushiswap_v2_zero_liquidity_pools: 34\n",
      "2023-07-30 05:11:39,206 [fastlane:INFO] - sushiswap_v2_zero_liquidity_pools: 34\n",
      "2023-07-30 05:11:39,207 [fastlane:INFO] - uniswap_v2_zero_liquidity_pools: 0\n",
      "2023-07-30 05:11:39,207 [fastlane:INFO] - uniswap_v2_zero_liquidity_pools: 0\n",
      "2023-07-30 05:11:39,207 [fastlane:INFO] - uniswap_v2_zero_liquidity_pools: 0\n",
      "2023-07-30 05:11:39,207 [fastlane:INFO] - uniswap_v2_zero_liquidity_pools: 0\n",
      "2023-07-30 05:11:39,207 [fastlane:INFO] - uniswap_v2_zero_liquidity_pools: 0\n",
      "2023-07-30 05:11:39,208 [fastlane:INFO] - bancor_v2_zero_liquidity_pools: 0\n",
      "2023-07-30 05:11:39,208 [fastlane:INFO] - bancor_v2_zero_liquidity_pools: 0\n",
      "2023-07-30 05:11:39,208 [fastlane:INFO] - bancor_v2_zero_liquidity_pools: 0\n",
      "2023-07-30 05:11:39,208 [fastlane:INFO] - bancor_v2_zero_liquidity_pools: 0\n",
      "2023-07-30 05:11:39,208 [fastlane:INFO] - bancor_v2_zero_liquidity_pools: 0\n",
      "2023-07-30 05:11:39,208 [fastlane:INFO] - bancor_v3_zero_liquidity_pools: 37\n",
      "2023-07-30 05:11:39,208 [fastlane:INFO] - bancor_v3_zero_liquidity_pools: 37\n",
      "2023-07-30 05:11:39,208 [fastlane:INFO] - bancor_v3_zero_liquidity_pools: 37\n",
      "2023-07-30 05:11:39,208 [fastlane:INFO] - bancor_v3_zero_liquidity_pools: 37\n",
      "2023-07-30 05:11:39,208 [fastlane:INFO] - bancor_v3_zero_liquidity_pools: 37\n",
      "2023-07-30 05:11:39,209 [fastlane:INFO] - carbon_v1_zero_liquidity_pools: 0\n",
      "2023-07-30 05:11:39,209 [fastlane:INFO] - carbon_v1_zero_liquidity_pools: 0\n",
      "2023-07-30 05:11:39,209 [fastlane:INFO] - carbon_v1_zero_liquidity_pools: 0\n",
      "2023-07-30 05:11:39,209 [fastlane:INFO] - carbon_v1_zero_liquidity_pools: 0\n",
      "2023-07-30 05:11:39,209 [fastlane:INFO] - carbon_v1_zero_liquidity_pools: 0\n",
      "2023-07-30 05:11:39,210 [fastlane:INFO] - Removed 0 unsupported exchanges. 968 pools remaining\n",
      "2023-07-30 05:11:39,210 [fastlane:INFO] - Removed 0 unsupported exchanges. 968 pools remaining\n",
      "2023-07-30 05:11:39,210 [fastlane:INFO] - Removed 0 unsupported exchanges. 968 pools remaining\n",
      "2023-07-30 05:11:39,210 [fastlane:INFO] - Removed 0 unsupported exchanges. 968 pools remaining\n",
      "2023-07-30 05:11:39,210 [fastlane:INFO] - Removed 0 unsupported exchanges. 968 pools remaining\n",
      "2023-07-30 05:11:39,211 [fastlane:INFO] - Pools remaining per exchange:\n",
      "2023-07-30 05:11:39,211 [fastlane:INFO] - Pools remaining per exchange:\n",
      "2023-07-30 05:11:39,211 [fastlane:INFO] - Pools remaining per exchange:\n",
      "2023-07-30 05:11:39,211 [fastlane:INFO] - Pools remaining per exchange:\n",
      "2023-07-30 05:11:39,211 [fastlane:INFO] - Pools remaining per exchange:\n",
      "2023-07-30 05:11:39,211 [fastlane:INFO] - uniswap_v3: 636\n",
      "2023-07-30 05:11:39,211 [fastlane:INFO] - uniswap_v3: 636\n",
      "2023-07-30 05:11:39,211 [fastlane:INFO] - uniswap_v3: 636\n",
      "2023-07-30 05:11:39,211 [fastlane:INFO] - uniswap_v3: 636\n",
      "2023-07-30 05:11:39,211 [fastlane:INFO] - uniswap_v3: 636\n",
      "2023-07-30 05:11:39,212 [fastlane:INFO] - carbon_v1: 220\n",
      "2023-07-30 05:11:39,212 [fastlane:INFO] - carbon_v1: 220\n",
      "2023-07-30 05:11:39,212 [fastlane:INFO] - carbon_v1: 220\n",
      "2023-07-30 05:11:39,212 [fastlane:INFO] - carbon_v1: 220\n",
      "2023-07-30 05:11:39,212 [fastlane:INFO] - carbon_v1: 220\n",
      "2023-07-30 05:11:39,213 [fastlane:INFO] - uniswap_v2: 0\n",
      "2023-07-30 05:11:39,213 [fastlane:INFO] - uniswap_v2: 0\n",
      "2023-07-30 05:11:39,213 [fastlane:INFO] - uniswap_v2: 0\n",
      "2023-07-30 05:11:39,213 [fastlane:INFO] - uniswap_v2: 0\n",
      "2023-07-30 05:11:39,213 [fastlane:INFO] - uniswap_v2: 0\n",
      "2023-07-30 05:11:39,214 [fastlane:INFO] - sushiswap_v2: 78\n",
      "2023-07-30 05:11:39,214 [fastlane:INFO] - sushiswap_v2: 78\n",
      "2023-07-30 05:11:39,214 [fastlane:INFO] - sushiswap_v2: 78\n",
      "2023-07-30 05:11:39,214 [fastlane:INFO] - sushiswap_v2: 78\n",
      "2023-07-30 05:11:39,214 [fastlane:INFO] - sushiswap_v2: 78\n",
      "2023-07-30 05:11:39,215 [fastlane:INFO] - bancor_v3: 34\n",
      "2023-07-30 05:11:39,215 [fastlane:INFO] - bancor_v3: 34\n",
      "2023-07-30 05:11:39,215 [fastlane:INFO] - bancor_v3: 34\n",
      "2023-07-30 05:11:39,215 [fastlane:INFO] - bancor_v3: 34\n",
      "2023-07-30 05:11:39,215 [fastlane:INFO] - bancor_v3: 34\n"
     ]
    }
   ],
   "source": [
    "C = cfg = Config.new(config=Config.CONFIG_MAINNET)\n",
    "C.DEFAULT_MIN_PROFIT_BNT = 0.02\n",
    "C.DEFAULT_MIN_PROFIT = 0.02\n",
    "cfg.DEFAULT_MIN_PROFIT_BNT = 0.02\n",
    "cfg.DEFAULT_MIN_PROFIT = 0.02\n",
    "assert (C.NETWORK == C.NETWORK_MAINNET)\n",
    "assert (C.PROVIDER == C.PROVIDER_ALCHEMY)\n",
    "setup_bot = CarbonBot(ConfigObj=C)\n",
    "pools = None\n",
    "with open('fastlane_bot/data/tests/latest_pool_data_testing.json') as f:\n",
    "    pools = json.load(f)\n",
    "pools = [pool for pool in pools]\n",
    "pools[0]\n",
    "static_pools = pools\n",
    "state = pools\n",
    "exchanges = list({ex['exchange_name'] for ex in state})\n",
    "db = QueryInterface(state=state, ConfigObj=C, exchanges=exchanges)\n",
    "setup_bot.db = db\n",
    "\n",
    "static_pool_data_filename = \"static_pool_data\"\n",
    "\n",
    "static_pool_data = pd.read_csv(f\"fastlane_bot/data/{static_pool_data_filename}.csv\", low_memory=False)\n",
    "    \n",
    "uniswap_v2_event_mappings = pd.read_csv(\"fastlane_bot/data/uniswap_v2_event_mappings.csv\", low_memory=False)\n",
    "        \n",
    "tokens = pd.read_csv(\"fastlane_bot/data/tokens.csv\", low_memory=False)\n",
    "        \n",
    "exchanges = \"carbon_v1,bancor_v3,uniswap_v3,uniswap_v2,sushiswap_v2\"\n",
    "\n",
    "exchanges = exchanges.split(\",\")\n",
    "\n",
    "\n",
    "alchemy_max_block_fetch = 20\n",
    "static_pool_data[\"cid\"] = [\n",
    "        cfg.w3.keccak(text=f\"{row['descr']}\").hex()\n",
    "        for index, row in static_pool_data.iterrows()\n",
    "    ]\n",
    "# Filter out pools that are not in the supported exchanges\n",
    "static_pool_data = [\n",
    "    row for index, row in static_pool_data.iterrows()\n",
    "    if row[\"exchange_name\"] in exchanges\n",
    "]\n",
    "\n",
    "static_pool_data = pd.DataFrame(static_pool_data)\n",
    "static_pool_data['exchange_name'].unique()\n",
    "# Initialize data fetch manager\n",
    "mgr = Manager(\n",
    "    web3=cfg.w3,\n",
    "    cfg=cfg,\n",
    "    pool_data=static_pool_data.to_dict(orient=\"records\"),\n",
    "    SUPPORTED_EXCHANGES=exchanges,\n",
    "    alchemy_max_block_fetch=alchemy_max_block_fetch,\n",
    "    uniswap_v2_event_mappings=uniswap_v2_event_mappings,\n",
    "    tokens=tokens.to_dict(orient=\"records\"),\n",
    ")\n",
    "\n",
    "# Add initial pools for each row in the static_pool_data\n",
    "start_time = time.time()\n",
    "Parallel(n_jobs=-1, backend=\"threading\")(\n",
    "    delayed(mgr.add_pool_to_exchange)(row) for row in mgr.pool_data\n",
    ")\n",
    "cfg.logger.info(f\"Time taken to add initial pools: {time.time() - start_time}\")\n",
    "\n",
    "# check if any duplicate cid's exist in the pool data\n",
    "mgr.deduplicate_pool_data()\n",
    "cids = [pool[\"cid\"] for pool in mgr.pool_data]\n",
    "assert len(cids) == len(set(cids)), \"duplicate cid's exist in the pool data\"\n",
    "def init_bot(mgr: Manager) -> CarbonBot:\n",
    "    \"\"\"\n",
    "    Initializes the bot.\n",
    "\n",
    "    Parameters\n",
    "    ----------\n",
    "    mgr : Manager\n",
    "        The manager object.\n",
    "\n",
    "    Returns\n",
    "    -------\n",
    "    CarbonBot\n",
    "        The bot object.\n",
    "    \"\"\"\n",
    "    mgr.cfg.logger.info(\"Initializing the bot...\")\n",
    "    bot = CarbonBot(ConfigObj=mgr.cfg)\n",
    "    bot.db = db\n",
    "    bot.db.mgr = mgr\n",
    "    assert isinstance(\n",
    "        bot.db, QueryInterface\n",
    "    ), \"QueryInterface not initialized correctly\"\n",
    "    return bot\n",
    "bot = init_bot(mgr)\n",
    "# add data cleanup steps from main.py\n",
    "bot.db.handle_token_key_cleanup()\n",
    "bot.db.remove_unmapped_uniswap_v2_pools()\n",
    "bot.db.remove_zero_liquidity_pools()\n",
    "bot.db.remove_unsupported_exchanges()\n",
    "tokens = bot.db.get_tokens()\n",
    "ADDRDEC = {t.key: (t.address, int(t.decimals)) for t in tokens if not math.isnan(t.decimals)}\n",
    "flashloan_tokens = bot.setup_flashloan_tokens(None)\n",
    "CCm = bot.setup_CCm(None)\n",
    "pools = db.get_pool_data_with_tokens()\n",
    "\n",
    "arb_mode = \"multi\""
   ]
  },
  {
   "cell_type": "markdown",
   "id": "a70cf16f",
   "metadata": {},
   "source": [
    "## Test_MIN_PROFIT"
   ]
  },
  {
   "cell_type": "code",
   "execution_count": 30,
   "id": "c8f41237",
   "metadata": {
    "ExecuteTime": {
     "end_time": "2023-07-30T12:11:39.298673Z",
     "start_time": "2023-07-30T12:11:39.289074Z"
    }
   },
   "outputs": [],
   "source": [
    "assert(cfg.DEFAULT_MIN_PROFIT_BNT <= 0.02), f\"[TestMultiMode], DEFAULT_MIN_PROFIT_BNT must be <= 0.02 for this Notebook to run, currently set to {cfg.DEFAULT_MIN_PROFIT_BNT}\"\n",
    "assert(C.DEFAULT_MIN_PROFIT_BNT <= 0.02), f\"[TestMultiMode], DEFAULT_MIN_PROFIT_BNT must be <= 0.02 for this Notebook to run, currently set to {cfg.DEFAULT_MIN_PROFIT_BNT}\""
   ]
  },
  {
   "cell_type": "markdown",
   "id": "eddfdea7",
   "metadata": {},
   "source": [
    "## Test_validator_in_out"
   ]
  },
  {
   "cell_type": "code",
   "execution_count": 31,
   "id": "aaaf7423",
   "metadata": {
    "ExecuteTime": {
     "end_time": "2023-07-30T12:11:39.298737Z",
     "start_time": "2023-07-30T12:11:39.291624Z"
    }
   },
   "outputs": [],
   "source": [
    "arb_finder = bot._get_arb_finder(\"multi\")\n",
    "assert arb_finder.__name__ == \"FindArbitrageMultiPairwise\", f\"[TestMultiMode] Expected arb_finder class name name = FindArbitrageMultiPairwise, found {arb_finder.__name__}\""
   ]
  },
  {
   "cell_type": "markdown",
   "id": "96ef3bf0",
   "metadata": {},
   "source": [
    "## Test_validator_multi"
   ]
  },
  {
   "cell_type": "code",
   "execution_count": 32,
   "id": "db7ec9ec",
   "metadata": {
    "ExecuteTime": {
     "end_time": "2023-07-30T12:11:39.579514Z",
     "start_time": "2023-07-30T12:11:39.301732Z"
    }
   },
   "outputs": [],
   "source": [
    "arb_finder = bot._get_arb_finder(\"multi\")\n",
    "finder = arb_finder(\n",
    "            flashloan_tokens=flashloan_tokens,\n",
    "            CCm=CCm,\n",
    "            mode=\"bothin\",\n",
    "            result=bot.AO_CANDIDATES,\n",
    "            ConfigObj=bot.ConfigObj,\n",
    "        )\n",
    "r = finder.find_arbitrage()\n",
    "\n",
    "arb_opp = r[0]\n",
    "\n",
    "validated = bot.validate_optimizer_trades(arb_opp=arb_opp, arb_mode=\"multi\", arb_finder=finder)\n",
    "\n",
    "\n",
    "\n",
    "assert arb_opp == validated"
   ]
  },
  {
   "cell_type": "markdown",
   "id": "5b195f52",
   "metadata": {},
   "source": [
    "## Test_validator_single"
   ]
  },
  {
   "cell_type": "code",
   "execution_count": 33,
   "id": "78d0dbc1",
   "metadata": {
    "ExecuteTime": {
     "end_time": "2023-07-30T12:11:41.693352Z",
     "start_time": "2023-07-30T12:11:39.582702Z"
    }
   },
   "outputs": [
    {
     "data": {
      "text/plain": "0it [00:00, ?it/s]",
      "application/vnd.jupyter.widget-view+json": {
       "version_major": 2,
       "version_minor": 0,
       "model_id": "0ffd217eaf094ef3aee20c6700f642f0"
      }
     },
     "metadata": {},
     "output_type": "display_data"
    },
    {
     "data": {
      "text/plain": "  0%|          | 0/1 [00:00<?, ?it/s]",
      "application/vnd.jupyter.widget-view+json": {
       "version_major": 2,
       "version_minor": 0,
       "model_id": "5fbdba6e8f0642959635dd3e9d56181f"
      }
     },
     "metadata": {},
     "output_type": "display_data"
    },
    {
     "data": {
      "text/plain": "  0%|          | 0/2 [00:00<?, ?it/s]",
      "application/vnd.jupyter.widget-view+json": {
       "version_major": 2,
       "version_minor": 0,
       "model_id": "178aa8f7844647779a87822c845ddcb4"
      }
     },
     "metadata": {},
     "output_type": "display_data"
    },
    {
     "data": {
      "text/plain": "  0%|          | 0/2 [00:00<?, ?it/s]",
      "application/vnd.jupyter.widget-view+json": {
       "version_major": 2,
       "version_minor": 0,
       "model_id": "27c7b29f39f0457583d01fb6ecd26f77"
      }
     },
     "metadata": {},
     "output_type": "display_data"
    },
    {
     "data": {
      "text/plain": "0it [00:00, ?it/s]",
      "application/vnd.jupyter.widget-view+json": {
       "version_major": 2,
       "version_minor": 0,
       "model_id": "99d283e6a5674b09868c79839a203da9"
      }
     },
     "metadata": {},
     "output_type": "display_data"
    },
    {
     "data": {
      "text/plain": "0it [00:00, ?it/s]",
      "application/vnd.jupyter.widget-view+json": {
       "version_major": 2,
       "version_minor": 0,
       "model_id": "08ea1c7ce5144e05a565984810ae31e1"
      }
     },
     "metadata": {},
     "output_type": "display_data"
    },
    {
     "data": {
      "text/plain": "0it [00:00, ?it/s]",
      "application/vnd.jupyter.widget-view+json": {
       "version_major": 2,
       "version_minor": 0,
       "model_id": "7f7cdcd0d64d444c802cbb145f73d363"
      }
     },
     "metadata": {},
     "output_type": "display_data"
    },
    {
     "data": {
      "text/plain": "0it [00:00, ?it/s]",
      "application/vnd.jupyter.widget-view+json": {
       "version_major": 2,
       "version_minor": 0,
       "model_id": "1b43243987164585aa7a245bb1c24edb"
      }
     },
     "metadata": {},
     "output_type": "display_data"
    },
    {
     "data": {
      "text/plain": "0it [00:00, ?it/s]",
      "application/vnd.jupyter.widget-view+json": {
       "version_major": 2,
       "version_minor": 0,
       "model_id": "8d8890c052b3459ebda2f324de97ea75"
      }
     },
     "metadata": {},
     "output_type": "display_data"
    },
    {
     "data": {
      "text/plain": "0it [00:00, ?it/s]",
      "application/vnd.jupyter.widget-view+json": {
       "version_major": 2,
       "version_minor": 0,
       "model_id": "ffabe0f305f14b63a32ddec877e74747"
      }
     },
     "metadata": {},
     "output_type": "display_data"
    },
    {
     "data": {
      "text/plain": "0it [00:00, ?it/s]",
      "application/vnd.jupyter.widget-view+json": {
       "version_major": 2,
       "version_minor": 0,
       "model_id": "9d3fb7d94a3a425eaa3f01554140c332"
      }
     },
     "metadata": {},
     "output_type": "display_data"
    },
    {
     "data": {
      "text/plain": "0it [00:00, ?it/s]",
      "application/vnd.jupyter.widget-view+json": {
       "version_major": 2,
       "version_minor": 0,
       "model_id": "6406d451949349d5ba99f7b524b7b15b"
      }
     },
     "metadata": {},
     "output_type": "display_data"
    },
    {
     "data": {
      "text/plain": "0it [00:00, ?it/s]",
      "application/vnd.jupyter.widget-view+json": {
       "version_major": 2,
       "version_minor": 0,
       "model_id": "94f2139efb2b48f69fffafe4e320dc89"
      }
     },
     "metadata": {},
     "output_type": "display_data"
    },
    {
     "data": {
      "text/plain": "0it [00:00, ?it/s]",
      "application/vnd.jupyter.widget-view+json": {
       "version_major": 2,
       "version_minor": 0,
       "model_id": "da6bd99912b94881b31180d1e231f964"
      }
     },
     "metadata": {},
     "output_type": "display_data"
    },
    {
     "data": {
      "text/plain": "  0%|          | 0/14 [00:00<?, ?it/s]",
      "application/vnd.jupyter.widget-view+json": {
       "version_major": 2,
       "version_minor": 0,
       "model_id": "ee1374d9289c45cbba7c042da56c2deb"
      }
     },
     "metadata": {},
     "output_type": "display_data"
    },
    {
     "data": {
      "text/plain": "  0%|          | 0/1 [00:00<?, ?it/s]",
      "application/vnd.jupyter.widget-view+json": {
       "version_major": 2,
       "version_minor": 0,
       "model_id": "4caa4ff8452b473c82f5115e0f014e0e"
      }
     },
     "metadata": {},
     "output_type": "display_data"
    },
    {
     "data": {
      "text/plain": "  0%|          | 0/16 [00:00<?, ?it/s]",
      "application/vnd.jupyter.widget-view+json": {
       "version_major": 2,
       "version_minor": 0,
       "model_id": "292f4ddce79b4f21a4e5a62bdfc522a3"
      }
     },
     "metadata": {},
     "output_type": "display_data"
    },
    {
     "data": {
      "text/plain": "  0%|          | 0/16 [00:00<?, ?it/s]",
      "application/vnd.jupyter.widget-view+json": {
       "version_major": 2,
       "version_minor": 0,
       "model_id": "1028084afe424207b826a595e1ad30c3"
      }
     },
     "metadata": {},
     "output_type": "display_data"
    },
    {
     "data": {
      "text/plain": "  0%|          | 0/1 [00:00<?, ?it/s]",
      "application/vnd.jupyter.widget-view+json": {
       "version_major": 2,
       "version_minor": 0,
       "model_id": "786fb6d4400646debbae1c2902f94199"
      }
     },
     "metadata": {},
     "output_type": "display_data"
    },
    {
     "data": {
      "text/plain": "  0%|          | 0/4 [00:00<?, ?it/s]",
      "application/vnd.jupyter.widget-view+json": {
       "version_major": 2,
       "version_minor": 0,
       "model_id": "0e3d0f01e7694de3bdb7229a7b3b048d"
      }
     },
     "metadata": {},
     "output_type": "display_data"
    },
    {
     "data": {
      "text/plain": "  0%|          | 0/4 [00:00<?, ?it/s]",
      "application/vnd.jupyter.widget-view+json": {
       "version_major": 2,
       "version_minor": 0,
       "model_id": "7beaaee4d68a4dc1bed2861078198ec6"
      }
     },
     "metadata": {},
     "output_type": "display_data"
    },
    {
     "data": {
      "text/plain": "  0%|          | 0/18 [00:00<?, ?it/s]",
      "application/vnd.jupyter.widget-view+json": {
       "version_major": 2,
       "version_minor": 0,
       "model_id": "0c93019e3ea340dab7f74ff4a157c3a5"
      }
     },
     "metadata": {},
     "output_type": "display_data"
    },
    {
     "data": {
      "text/plain": "0it [00:00, ?it/s]",
      "application/vnd.jupyter.widget-view+json": {
       "version_major": 2,
       "version_minor": 0,
       "model_id": "387b41b9e0394e6391a919950013478c"
      }
     },
     "metadata": {},
     "output_type": "display_data"
    },
    {
     "data": {
      "text/plain": "  0%|          | 0/6 [00:00<?, ?it/s]",
      "application/vnd.jupyter.widget-view+json": {
       "version_major": 2,
       "version_minor": 0,
       "model_id": "0be879d1384f4701a3231111a3b044fa"
      }
     },
     "metadata": {},
     "output_type": "display_data"
    },
    {
     "data": {
      "text/plain": "  0%|          | 0/4 [00:00<?, ?it/s]",
      "application/vnd.jupyter.widget-view+json": {
       "version_major": 2,
       "version_minor": 0,
       "model_id": "81874854c5f447d59455d6422c46e8b7"
      }
     },
     "metadata": {},
     "output_type": "display_data"
    },
    {
     "data": {
      "text/plain": "0it [00:00, ?it/s]",
      "application/vnd.jupyter.widget-view+json": {
       "version_major": 2,
       "version_minor": 0,
       "model_id": "f0ec5bc02719429f9490791a070287fd"
      }
     },
     "metadata": {},
     "output_type": "display_data"
    },
    {
     "data": {
      "text/plain": "  0%|          | 0/4 [00:00<?, ?it/s]",
      "application/vnd.jupyter.widget-view+json": {
       "version_major": 2,
       "version_minor": 0,
       "model_id": "db69e5a0ebcd4c228affbb766330c488"
      }
     },
     "metadata": {},
     "output_type": "display_data"
    },
    {
     "data": {
      "text/plain": "0it [00:00, ?it/s]",
      "application/vnd.jupyter.widget-view+json": {
       "version_major": 2,
       "version_minor": 0,
       "model_id": "397e89931caa4d83aea435cb128c39d7"
      }
     },
     "metadata": {},
     "output_type": "display_data"
    },
    {
     "data": {
      "text/plain": "  0%|          | 0/2 [00:00<?, ?it/s]",
      "application/vnd.jupyter.widget-view+json": {
       "version_major": 2,
       "version_minor": 0,
       "model_id": "8774f934846c4423a1e33e28390dfd7e"
      }
     },
     "metadata": {},
     "output_type": "display_data"
    },
    {
     "data": {
      "text/plain": "0it [00:00, ?it/s]",
      "application/vnd.jupyter.widget-view+json": {
       "version_major": 2,
       "version_minor": 0,
       "model_id": "a00dfbdf2bfb4a07b6252b60854e4877"
      }
     },
     "metadata": {},
     "output_type": "display_data"
    },
    {
     "data": {
      "text/plain": "0it [00:00, ?it/s]",
      "application/vnd.jupyter.widget-view+json": {
       "version_major": 2,
       "version_minor": 0,
       "model_id": "f70a20624005482bbed02cb8f24d4856"
      }
     },
     "metadata": {},
     "output_type": "display_data"
    },
    {
     "data": {
      "text/plain": "0it [00:00, ?it/s]",
      "application/vnd.jupyter.widget-view+json": {
       "version_major": 2,
       "version_minor": 0,
       "model_id": "7b5e1f5fb5ed409f93212bf8b5266a5b"
      }
     },
     "metadata": {},
     "output_type": "display_data"
    },
    {
     "data": {
      "text/plain": "0it [00:00, ?it/s]",
      "application/vnd.jupyter.widget-view+json": {
       "version_major": 2,
       "version_minor": 0,
       "model_id": "228ed5497ef8444d961c3836a1b54a07"
      }
     },
     "metadata": {},
     "output_type": "display_data"
    },
    {
     "data": {
      "text/plain": "  0%|          | 0/1 [00:00<?, ?it/s]",
      "application/vnd.jupyter.widget-view+json": {
       "version_major": 2,
       "version_minor": 0,
       "model_id": "be1226c3ef0942e6ba82419fcf19824c"
      }
     },
     "metadata": {},
     "output_type": "display_data"
    },
    {
     "data": {
      "text/plain": "0it [00:00, ?it/s]",
      "application/vnd.jupyter.widget-view+json": {
       "version_major": 2,
       "version_minor": 0,
       "model_id": "f43ec4991d904e2daac626eb965c818e"
      }
     },
     "metadata": {},
     "output_type": "display_data"
    },
    {
     "data": {
      "text/plain": "0it [00:00, ?it/s]",
      "application/vnd.jupyter.widget-view+json": {
       "version_major": 2,
       "version_minor": 0,
       "model_id": "e44ea6e015bf45019b3b55c7ba1fcbee"
      }
     },
     "metadata": {},
     "output_type": "display_data"
    },
    {
     "data": {
      "text/plain": "0it [00:00, ?it/s]",
      "application/vnd.jupyter.widget-view+json": {
       "version_major": 2,
       "version_minor": 0,
       "model_id": "6d98500c6c75458a9b15bbdec1d4068d"
      }
     },
     "metadata": {},
     "output_type": "display_data"
    },
    {
     "data": {
      "text/plain": "0it [00:00, ?it/s]",
      "application/vnd.jupyter.widget-view+json": {
       "version_major": 2,
       "version_minor": 0,
       "model_id": "d0314864cd024ec5bee0c46b380b1a4b"
      }
     },
     "metadata": {},
     "output_type": "display_data"
    },
    {
     "data": {
      "text/plain": "0it [00:00, ?it/s]",
      "application/vnd.jupyter.widget-view+json": {
       "version_major": 2,
       "version_minor": 0,
       "model_id": "439d13cf348b4f118a60284086062878"
      }
     },
     "metadata": {},
     "output_type": "display_data"
    },
    {
     "data": {
      "text/plain": "0it [00:00, ?it/s]",
      "application/vnd.jupyter.widget-view+json": {
       "version_major": 2,
       "version_minor": 0,
       "model_id": "60ea39e5c624411ea0005241661df3e4"
      }
     },
     "metadata": {},
     "output_type": "display_data"
    },
    {
     "data": {
      "text/plain": "0it [00:00, ?it/s]",
      "application/vnd.jupyter.widget-view+json": {
       "version_major": 2,
       "version_minor": 0,
       "model_id": "802ede4dddbd464aa5a94f468b9b53cf"
      }
     },
     "metadata": {},
     "output_type": "display_data"
    },
    {
     "data": {
      "text/plain": "0it [00:00, ?it/s]",
      "application/vnd.jupyter.widget-view+json": {
       "version_major": 2,
       "version_minor": 0,
       "model_id": "95133763d50243db80a01549056323fb"
      }
     },
     "metadata": {},
     "output_type": "display_data"
    },
    {
     "data": {
      "text/plain": "  0%|          | 0/18 [00:00<?, ?it/s]",
      "application/vnd.jupyter.widget-view+json": {
       "version_major": 2,
       "version_minor": 0,
       "model_id": "7b045404936d4a1bbe35db96c9de7bcf"
      }
     },
     "metadata": {},
     "output_type": "display_data"
    },
    {
     "data": {
      "text/plain": "  0%|          | 0/39 [00:00<?, ?it/s]",
      "application/vnd.jupyter.widget-view+json": {
       "version_major": 2,
       "version_minor": 0,
       "model_id": "6a2506ce78454ee3bb472f9259dc7089"
      }
     },
     "metadata": {},
     "output_type": "display_data"
    },
    {
     "data": {
      "text/plain": "  0%|          | 0/54 [00:00<?, ?it/s]",
      "application/vnd.jupyter.widget-view+json": {
       "version_major": 2,
       "version_minor": 0,
       "model_id": "ba14e012d3ab419e9377e2de4254b438"
      }
     },
     "metadata": {},
     "output_type": "display_data"
    },
    {
     "data": {
      "text/plain": "  0%|          | 0/4 [00:00<?, ?it/s]",
      "application/vnd.jupyter.widget-view+json": {
       "version_major": 2,
       "version_minor": 0,
       "model_id": "fd9ab8616b3d41eebfeeec35d358833d"
      }
     },
     "metadata": {},
     "output_type": "display_data"
    },
    {
     "data": {
      "text/plain": "  0%|          | 0/16 [00:00<?, ?it/s]",
      "application/vnd.jupyter.widget-view+json": {
       "version_major": 2,
       "version_minor": 0,
       "model_id": "17caf47c882c413abc208b653bf5d3a1"
      }
     },
     "metadata": {},
     "output_type": "display_data"
    },
    {
     "data": {
      "text/plain": "  0%|          | 0/2 [00:00<?, ?it/s]",
      "application/vnd.jupyter.widget-view+json": {
       "version_major": 2,
       "version_minor": 0,
       "model_id": "15200855d6634c049f285713862af1b8"
      }
     },
     "metadata": {},
     "output_type": "display_data"
    },
    {
     "data": {
      "text/plain": "0it [00:00, ?it/s]",
      "application/vnd.jupyter.widget-view+json": {
       "version_major": 2,
       "version_minor": 0,
       "model_id": "4cb9d755f04247f0a1438ab073fc6dc8"
      }
     },
     "metadata": {},
     "output_type": "display_data"
    },
    {
     "data": {
      "text/plain": "0it [00:00, ?it/s]",
      "application/vnd.jupyter.widget-view+json": {
       "version_major": 2,
       "version_minor": 0,
       "model_id": "ec050408af25439abc25f578894affe6"
      }
     },
     "metadata": {},
     "output_type": "display_data"
    },
    {
     "data": {
      "text/plain": "0it [00:00, ?it/s]",
      "application/vnd.jupyter.widget-view+json": {
       "version_major": 2,
       "version_minor": 0,
       "model_id": "44592ecb1e3344749e40dd52021eb133"
      }
     },
     "metadata": {},
     "output_type": "display_data"
    },
    {
     "data": {
      "text/plain": "0it [00:00, ?it/s]",
      "application/vnd.jupyter.widget-view+json": {
       "version_major": 2,
       "version_minor": 0,
       "model_id": "75f7ca1ce06441c19fb867e39f76000b"
      }
     },
     "metadata": {},
     "output_type": "display_data"
    },
    {
     "data": {
      "text/plain": "0it [00:00, ?it/s]",
      "application/vnd.jupyter.widget-view+json": {
       "version_major": 2,
       "version_minor": 0,
       "model_id": "b5c43ab274474871bdd2125eeddcee0c"
      }
     },
     "metadata": {},
     "output_type": "display_data"
    },
    {
     "data": {
      "text/plain": "  0%|          | 0/4 [00:00<?, ?it/s]",
      "application/vnd.jupyter.widget-view+json": {
       "version_major": 2,
       "version_minor": 0,
       "model_id": "762d54df1e6c4b8ba85fca905886566d"
      }
     },
     "metadata": {},
     "output_type": "display_data"
    },
    {
     "data": {
      "text/plain": "  0%|          | 0/10 [00:00<?, ?it/s]",
      "application/vnd.jupyter.widget-view+json": {
       "version_major": 2,
       "version_minor": 0,
       "model_id": "66c37af4f92d477ab9bd154764113aa0"
      }
     },
     "metadata": {},
     "output_type": "display_data"
    },
    {
     "data": {
      "text/plain": "  0%|          | 0/39 [00:00<?, ?it/s]",
      "application/vnd.jupyter.widget-view+json": {
       "version_major": 2,
       "version_minor": 0,
       "model_id": "c43bd1f12f0142ae8db7da32e287f776"
      }
     },
     "metadata": {},
     "output_type": "display_data"
    },
    {
     "data": {
      "text/plain": "  0%|          | 0/1 [00:00<?, ?it/s]",
      "application/vnd.jupyter.widget-view+json": {
       "version_major": 2,
       "version_minor": 0,
       "model_id": "930f75b6ff284a4cbf4e6dca81ded86c"
      }
     },
     "metadata": {},
     "output_type": "display_data"
    },
    {
     "data": {
      "text/plain": "  0%|          | 0/4 [00:00<?, ?it/s]",
      "application/vnd.jupyter.widget-view+json": {
       "version_major": 2,
       "version_minor": 0,
       "model_id": "b39752388acc466f8f6f863e38f66118"
      }
     },
     "metadata": {},
     "output_type": "display_data"
    },
    {
     "data": {
      "text/plain": "  0%|          | 0/10 [00:00<?, ?it/s]",
      "application/vnd.jupyter.widget-view+json": {
       "version_major": 2,
       "version_minor": 0,
       "model_id": "14a876b32ae2413cb3200c0938b0c44f"
      }
     },
     "metadata": {},
     "output_type": "display_data"
    },
    {
     "data": {
      "text/plain": "  0%|          | 0/6 [00:00<?, ?it/s]",
      "application/vnd.jupyter.widget-view+json": {
       "version_major": 2,
       "version_minor": 0,
       "model_id": "15b04f756b74475fb10e0f30bed7e1e6"
      }
     },
     "metadata": {},
     "output_type": "display_data"
    },
    {
     "data": {
      "text/plain": "  0%|          | 0/54 [00:00<?, ?it/s]",
      "application/vnd.jupyter.widget-view+json": {
       "version_major": 2,
       "version_minor": 0,
       "model_id": "777c33fdb085476f909cee3b3bedea81"
      }
     },
     "metadata": {},
     "output_type": "display_data"
    },
    {
     "data": {
      "text/plain": "  0%|          | 0/16 [00:00<?, ?it/s]",
      "application/vnd.jupyter.widget-view+json": {
       "version_major": 2,
       "version_minor": 0,
       "model_id": "dfe2e22a116f40e18e0de4a1e820046d"
      }
     },
     "metadata": {},
     "output_type": "display_data"
    },
    {
     "data": {
      "text/plain": "0it [00:00, ?it/s]",
      "application/vnd.jupyter.widget-view+json": {
       "version_major": 2,
       "version_minor": 0,
       "model_id": "b093efe8803a4db496f40261d9997988"
      }
     },
     "metadata": {},
     "output_type": "display_data"
    },
    {
     "data": {
      "text/plain": "0it [00:00, ?it/s]",
      "application/vnd.jupyter.widget-view+json": {
       "version_major": 2,
       "version_minor": 0,
       "model_id": "69a6143258f34d31809e51e477694819"
      }
     },
     "metadata": {},
     "output_type": "display_data"
    },
    {
     "data": {
      "text/plain": "0it [00:00, ?it/s]",
      "application/vnd.jupyter.widget-view+json": {
       "version_major": 2,
       "version_minor": 0,
       "model_id": "66a6cdbf5da6475281f7600ab56569b6"
      }
     },
     "metadata": {},
     "output_type": "display_data"
    },
    {
     "data": {
      "text/plain": "0it [00:00, ?it/s]",
      "application/vnd.jupyter.widget-view+json": {
       "version_major": 2,
       "version_minor": 0,
       "model_id": "fc05ffee52c345b29b6081f166deaf2a"
      }
     },
     "metadata": {},
     "output_type": "display_data"
    },
    {
     "data": {
      "text/plain": "0it [00:00, ?it/s]",
      "application/vnd.jupyter.widget-view+json": {
       "version_major": 2,
       "version_minor": 0,
       "model_id": "464cfcbbcfbe4c32921cb1eaf4cbe43f"
      }
     },
     "metadata": {},
     "output_type": "display_data"
    },
    {
     "data": {
      "text/plain": "0it [00:00, ?it/s]",
      "application/vnd.jupyter.widget-view+json": {
       "version_major": 2,
       "version_minor": 0,
       "model_id": "711ba13f503f460dad7f4229355ba685"
      }
     },
     "metadata": {},
     "output_type": "display_data"
    },
    {
     "data": {
      "text/plain": "0it [00:00, ?it/s]",
      "application/vnd.jupyter.widget-view+json": {
       "version_major": 2,
       "version_minor": 0,
       "model_id": "07a37c85d129465f9f933bb904b3f7b0"
      }
     },
     "metadata": {},
     "output_type": "display_data"
    },
    {
     "data": {
      "text/plain": "  0%|          | 0/3 [00:00<?, ?it/s]",
      "application/vnd.jupyter.widget-view+json": {
       "version_major": 2,
       "version_minor": 0,
       "model_id": "fc8e055e9a824cdabbc2659fca01995f"
      }
     },
     "metadata": {},
     "output_type": "display_data"
    },
    {
     "data": {
      "text/plain": "  0%|          | 0/4 [00:00<?, ?it/s]",
      "application/vnd.jupyter.widget-view+json": {
       "version_major": 2,
       "version_minor": 0,
       "model_id": "07109390c0684073bb86a8f00f6e1574"
      }
     },
     "metadata": {},
     "output_type": "display_data"
    },
    {
     "data": {
      "text/plain": "0it [00:00, ?it/s]",
      "application/vnd.jupyter.widget-view+json": {
       "version_major": 2,
       "version_minor": 0,
       "model_id": "ddfb3e3eae1e4632bf74a634e0cf2699"
      }
     },
     "metadata": {},
     "output_type": "display_data"
    },
    {
     "data": {
      "text/plain": "0it [00:00, ?it/s]",
      "application/vnd.jupyter.widget-view+json": {
       "version_major": 2,
       "version_minor": 0,
       "model_id": "a7128f7aacb04818a12ff132692d2f67"
      }
     },
     "metadata": {},
     "output_type": "display_data"
    },
    {
     "data": {
      "text/plain": "  0%|          | 0/1 [00:00<?, ?it/s]",
      "application/vnd.jupyter.widget-view+json": {
       "version_major": 2,
       "version_minor": 0,
       "model_id": "565bf26dda7741bbaac972cb735deaf5"
      }
     },
     "metadata": {},
     "output_type": "display_data"
    },
    {
     "data": {
      "text/plain": "0it [00:00, ?it/s]",
      "application/vnd.jupyter.widget-view+json": {
       "version_major": 2,
       "version_minor": 0,
       "model_id": "0ddbdf030ee247518a021b3e25350a66"
      }
     },
     "metadata": {},
     "output_type": "display_data"
    },
    {
     "data": {
      "text/plain": "  0%|          | 0/2 [00:00<?, ?it/s]",
      "application/vnd.jupyter.widget-view+json": {
       "version_major": 2,
       "version_minor": 0,
       "model_id": "aff9282c371049188aa7be2aeafb3cc3"
      }
     },
     "metadata": {},
     "output_type": "display_data"
    },
    {
     "data": {
      "text/plain": "0it [00:00, ?it/s]",
      "application/vnd.jupyter.widget-view+json": {
       "version_major": 2,
       "version_minor": 0,
       "model_id": "927217a344684f59a518d7b6b524e66f"
      }
     },
     "metadata": {},
     "output_type": "display_data"
    },
    {
     "data": {
      "text/plain": "0it [00:00, ?it/s]",
      "application/vnd.jupyter.widget-view+json": {
       "version_major": 2,
       "version_minor": 0,
       "model_id": "ef2f54a8311e46b2ac0c085c6f06e23c"
      }
     },
     "metadata": {},
     "output_type": "display_data"
    },
    {
     "data": {
      "text/plain": "0it [00:00, ?it/s]",
      "application/vnd.jupyter.widget-view+json": {
       "version_major": 2,
       "version_minor": 0,
       "model_id": "b663b7da65ce45a3beb30d4fdda7296d"
      }
     },
     "metadata": {},
     "output_type": "display_data"
    },
    {
     "data": {
      "text/plain": "  0%|          | 0/2 [00:00<?, ?it/s]",
      "application/vnd.jupyter.widget-view+json": {
       "version_major": 2,
       "version_minor": 0,
       "model_id": "4e61f9974c4741c388fb6b62e4a4c617"
      }
     },
     "metadata": {},
     "output_type": "display_data"
    },
    {
     "data": {
      "text/plain": "0it [00:00, ?it/s]",
      "application/vnd.jupyter.widget-view+json": {
       "version_major": 2,
       "version_minor": 0,
       "model_id": "ba032a92da73470ca682e51fe54684fa"
      }
     },
     "metadata": {},
     "output_type": "display_data"
    },
    {
     "data": {
      "text/plain": "0it [00:00, ?it/s]",
      "application/vnd.jupyter.widget-view+json": {
       "version_major": 2,
       "version_minor": 0,
       "model_id": "f2a3fca6f0ac4065bd34d1423a605a19"
      }
     },
     "metadata": {},
     "output_type": "display_data"
    },
    {
     "data": {
      "text/plain": "0it [00:00, ?it/s]",
      "application/vnd.jupyter.widget-view+json": {
       "version_major": 2,
       "version_minor": 0,
       "model_id": "e0e0d0dc1b9442c68e9114fee90adb49"
      }
     },
     "metadata": {},
     "output_type": "display_data"
    },
    {
     "data": {
      "text/plain": "  0%|          | 0/4 [00:00<?, ?it/s]",
      "application/vnd.jupyter.widget-view+json": {
       "version_major": 2,
       "version_minor": 0,
       "model_id": "58c8d31ec9d043fc99e4929511852c03"
      }
     },
     "metadata": {},
     "output_type": "display_data"
    },
    {
     "data": {
      "text/plain": "  0%|          | 0/6 [00:00<?, ?it/s]",
      "application/vnd.jupyter.widget-view+json": {
       "version_major": 2,
       "version_minor": 0,
       "model_id": "52b639eec2824d68b045ebe128e89804"
      }
     },
     "metadata": {},
     "output_type": "display_data"
    },
    {
     "data": {
      "text/plain": "0it [00:00, ?it/s]",
      "application/vnd.jupyter.widget-view+json": {
       "version_major": 2,
       "version_minor": 0,
       "model_id": "184eb603f3134802a76ad9cff25ce1c2"
      }
     },
     "metadata": {},
     "output_type": "display_data"
    },
    {
     "data": {
      "text/plain": "0it [00:00, ?it/s]",
      "application/vnd.jupyter.widget-view+json": {
       "version_major": 2,
       "version_minor": 0,
       "model_id": "7784618c561046a782cb16d4f049deb1"
      }
     },
     "metadata": {},
     "output_type": "display_data"
    },
    {
     "data": {
      "text/plain": "0it [00:00, ?it/s]",
      "application/vnd.jupyter.widget-view+json": {
       "version_major": 2,
       "version_minor": 0,
       "model_id": "bdff7a2b519c42789fa36722c44bfcf4"
      }
     },
     "metadata": {},
     "output_type": "display_data"
    },
    {
     "data": {
      "text/plain": "0it [00:00, ?it/s]",
      "application/vnd.jupyter.widget-view+json": {
       "version_major": 2,
       "version_minor": 0,
       "model_id": "2085bda01a484692977c9af50be141e0"
      }
     },
     "metadata": {},
     "output_type": "display_data"
    },
    {
     "data": {
      "text/plain": "0it [00:00, ?it/s]",
      "application/vnd.jupyter.widget-view+json": {
       "version_major": 2,
       "version_minor": 0,
       "model_id": "715c99ad2d9f4113a07a27d2bc6c6005"
      }
     },
     "metadata": {},
     "output_type": "display_data"
    },
    {
     "data": {
      "text/plain": "0it [00:00, ?it/s]",
      "application/vnd.jupyter.widget-view+json": {
       "version_major": 2,
       "version_minor": 0,
       "model_id": "e2dcedbf95d144edaa88f1bf5bf3d4a4"
      }
     },
     "metadata": {},
     "output_type": "display_data"
    },
    {
     "data": {
      "text/plain": "0it [00:00, ?it/s]",
      "application/vnd.jupyter.widget-view+json": {
       "version_major": 2,
       "version_minor": 0,
       "model_id": "a18cf91287fe441ba40ee5debfc8caf2"
      }
     },
     "metadata": {},
     "output_type": "display_data"
    },
    {
     "data": {
      "text/plain": "0it [00:00, ?it/s]",
      "application/vnd.jupyter.widget-view+json": {
       "version_major": 2,
       "version_minor": 0,
       "model_id": "961148d15439421c84aec610066c06d0"
      }
     },
     "metadata": {},
     "output_type": "display_data"
    },
    {
     "data": {
      "text/plain": "0it [00:00, ?it/s]",
      "application/vnd.jupyter.widget-view+json": {
       "version_major": 2,
       "version_minor": 0,
       "model_id": "e6ea5ae9b229450ea42a7e9bc06a872a"
      }
     },
     "metadata": {},
     "output_type": "display_data"
    },
    {
     "data": {
      "text/plain": "  0%|          | 0/2 [00:00<?, ?it/s]",
      "application/vnd.jupyter.widget-view+json": {
       "version_major": 2,
       "version_minor": 0,
       "model_id": "0cf4ca15deb04e6cb0c1cd8cd7756a67"
      }
     },
     "metadata": {},
     "output_type": "display_data"
    },
    {
     "data": {
      "text/plain": "0it [00:00, ?it/s]",
      "application/vnd.jupyter.widget-view+json": {
       "version_major": 2,
       "version_minor": 0,
       "model_id": "608d73b7115c4e7cb53adbf92e500d66"
      }
     },
     "metadata": {},
     "output_type": "display_data"
    },
    {
     "data": {
      "text/plain": "0it [00:00, ?it/s]",
      "application/vnd.jupyter.widget-view+json": {
       "version_major": 2,
       "version_minor": 0,
       "model_id": "ab780d21994b4df1900b69ec72d60f75"
      }
     },
     "metadata": {},
     "output_type": "display_data"
    },
    {
     "data": {
      "text/plain": "0it [00:00, ?it/s]",
      "application/vnd.jupyter.widget-view+json": {
       "version_major": 2,
       "version_minor": 0,
       "model_id": "fda0d67835044692b05d7b87a7015b90"
      }
     },
     "metadata": {},
     "output_type": "display_data"
    },
    {
     "data": {
      "text/plain": "0it [00:00, ?it/s]",
      "application/vnd.jupyter.widget-view+json": {
       "version_major": 2,
       "version_minor": 0,
       "model_id": "8470e0a3b51b4b42b251ea45d0b0857a"
      }
     },
     "metadata": {},
     "output_type": "display_data"
    },
    {
     "data": {
      "text/plain": "0it [00:00, ?it/s]",
      "application/vnd.jupyter.widget-view+json": {
       "version_major": 2,
       "version_minor": 0,
       "model_id": "bee07ca2d0c043b886fa46ba7736c63b"
      }
     },
     "metadata": {},
     "output_type": "display_data"
    },
    {
     "data": {
      "text/plain": "0it [00:00, ?it/s]",
      "application/vnd.jupyter.widget-view+json": {
       "version_major": 2,
       "version_minor": 0,
       "model_id": "e68ba31a99af47da84e8cbad6ae9c662"
      }
     },
     "metadata": {},
     "output_type": "display_data"
    },
    {
     "data": {
      "text/plain": "  0%|          | 0/10 [00:00<?, ?it/s]",
      "application/vnd.jupyter.widget-view+json": {
       "version_major": 2,
       "version_minor": 0,
       "model_id": "91b22638de914c4e83895f7c9e50374c"
      }
     },
     "metadata": {},
     "output_type": "display_data"
    },
    {
     "data": {
      "text/plain": "0it [00:00, ?it/s]",
      "application/vnd.jupyter.widget-view+json": {
       "version_major": 2,
       "version_minor": 0,
       "model_id": "13a7614fb5d0460d8aff12c24caf2fa5"
      }
     },
     "metadata": {},
     "output_type": "display_data"
    },
    {
     "data": {
      "text/plain": "0it [00:00, ?it/s]",
      "application/vnd.jupyter.widget-view+json": {
       "version_major": 2,
       "version_minor": 0,
       "model_id": "9e67702591a84f8196787fb86c99d464"
      }
     },
     "metadata": {},
     "output_type": "display_data"
    },
    {
     "data": {
      "text/plain": "0it [00:00, ?it/s]",
      "application/vnd.jupyter.widget-view+json": {
       "version_major": 2,
       "version_minor": 0,
       "model_id": "c151acbba1a942138e102427521284e1"
      }
     },
     "metadata": {},
     "output_type": "display_data"
    }
   ],
   "source": [
    "arb_mode=\"single\"\n",
    "arb_finder = bot._get_arb_finder(arb_mode)\n",
    "finder = arb_finder(\n",
    "            flashloan_tokens=flashloan_tokens,\n",
    "            CCm=CCm,\n",
    "            mode=\"bothin\",\n",
    "            result=bot.AO_CANDIDATES,\n",
    "            ConfigObj=bot.ConfigObj,\n",
    "        )\n",
    "r = finder.find_arbitrage()\n",
    "\n",
    "arb_opp = r[0]\n",
    "\n",
    "validated = bot.validate_optimizer_trades(arb_opp=arb_opp, arb_mode=arb_mode, arb_finder=finder)\n",
    "\n",
    "\n",
    "assert arb_opp == validated"
   ]
  },
  {
   "cell_type": "markdown",
   "id": "a1e72f0a",
   "metadata": {},
   "source": [
    "## Test_validator_bancor_v3"
   ]
  },
  {
   "cell_type": "code",
   "execution_count": 34,
   "id": "11cdbbd9",
   "metadata": {
    "ExecuteTime": {
     "start_time": "2023-07-30T12:11:42.092343Z"
    }
   },
   "outputs": [
    {
     "name": "stderr",
     "output_type": "stream",
     "text": [
      "2023-07-30 05:11:41,692 [fastlane:WARNING] - base_exchange must be bancor_v3 for single_triangle_bancor3, setting it to bancor_v3\n",
      "2023-07-30 05:11:41,692 [fastlane:WARNING] - base_exchange must be bancor_v3 for single_triangle_bancor3, setting it to bancor_v3\n",
      "2023-07-30 05:11:41,692 [fastlane:WARNING] - base_exchange must be bancor_v3 for single_triangle_bancor3, setting it to bancor_v3\n",
      "2023-07-30 05:11:41,692 [fastlane:WARNING] - base_exchange must be bancor_v3 for single_triangle_bancor3, setting it to bancor_v3\n",
      "2023-07-30 05:11:41,692 [fastlane:WARNING] - base_exchange must be bancor_v3 for single_triangle_bancor3, setting it to bancor_v3\n",
      "2023-07-30 05:11:41,694 [fastlane:INFO] - flashloan_tokens for arb_mode=single_triangle_bancor3 will be overwritten. \n",
      "2023-07-30 05:11:41,694 [fastlane:INFO] - flashloan_tokens for arb_mode=single_triangle_bancor3 will be overwritten. \n",
      "2023-07-30 05:11:41,694 [fastlane:INFO] - flashloan_tokens for arb_mode=single_triangle_bancor3 will be overwritten. \n",
      "2023-07-30 05:11:41,694 [fastlane:INFO] - flashloan_tokens for arb_mode=single_triangle_bancor3 will be overwritten. \n",
      "2023-07-30 05:11:41,694 [fastlane:INFO] - flashloan_tokens for arb_mode=single_triangle_bancor3 will be overwritten. \n",
      "2023-07-30 05:11:41,696 [fastlane:INFO] - limiting flashloan_tokens to ['WETH-6Cc2', 'WBTC-C599', 'DAI-1d0F', 'USDT-1ec7', 'USDC-eB48']\n",
      "2023-07-30 05:11:41,696 [fastlane:INFO] - limiting flashloan_tokens to ['WETH-6Cc2', 'WBTC-C599', 'DAI-1d0F', 'USDT-1ec7', 'USDC-eB48']\n",
      "2023-07-30 05:11:41,696 [fastlane:INFO] - limiting flashloan_tokens to ['WETH-6Cc2', 'WBTC-C599', 'DAI-1d0F', 'USDT-1ec7', 'USDC-eB48']\n",
      "2023-07-30 05:11:41,696 [fastlane:INFO] - limiting flashloan_tokens to ['WETH-6Cc2', 'WBTC-C599', 'DAI-1d0F', 'USDT-1ec7', 'USDC-eB48']\n",
      "2023-07-30 05:11:41,696 [fastlane:INFO] - limiting flashloan_tokens to ['WETH-6Cc2', 'WBTC-C599', 'DAI-1d0F', 'USDT-1ec7', 'USDC-eB48']\n",
      "/Users/mikewcasale/Documents/GitHub/fastlane-bot/fastlane_bot/tools/optimizer/margpoptimizer.py:217: RuntimeWarning: divide by zero encountered in scalar divide\n",
      "  price = get(p, tokens_ix.get(tknb)) / get(p, tokens_ix.get(tknq))\n",
      "/Users/mikewcasale/Documents/GitHub/fastlane-bot/fastlane_bot/tools/optimizer/margpoptimizer.py:61: RuntimeWarning: invalid value encountered in subtract\n",
      "  jac[:, j] = (func(x_plus, quiet=True) - y) / Dxj\n",
      "/Users/mikewcasale/Documents/GitHub/fastlane-bot/fastlane_bot/tools/optimizer/margpoptimizer.py:217: RuntimeWarning: divide by zero encountered in scalar divide\n",
      "  price = get(p, tokens_ix.get(tknb)) / get(p, tokens_ix.get(tknq))\n",
      "/Users/mikewcasale/Documents/GitHub/fastlane-bot/fastlane_bot/tools/optimizer/margpoptimizer.py:61: RuntimeWarning: invalid value encountered in subtract\n",
      "  jac[:, j] = (func(x_plus, quiet=True) - y) / Dxj\n",
      "/Users/mikewcasale/Documents/GitHub/fastlane-bot/fastlane_bot/tools/optimizer/margpoptimizer.py:217: RuntimeWarning: divide by zero encountered in scalar divide\n",
      "  price = get(p, tokens_ix.get(tknb)) / get(p, tokens_ix.get(tknq))\n",
      "/Users/mikewcasale/Documents/GitHub/fastlane-bot/fastlane_bot/tools/optimizer/margpoptimizer.py:61: RuntimeWarning: invalid value encountered in subtract\n",
      "  jac[:, j] = (func(x_plus, quiet=True) - y) / Dxj\n",
      "/Users/mikewcasale/Documents/GitHub/fastlane-bot/fastlane_bot/tools/optimizer/margpoptimizer.py:217: RuntimeWarning: divide by zero encountered in scalar divide\n",
      "  price = get(p, tokens_ix.get(tknb)) / get(p, tokens_ix.get(tknq))\n",
      "/Users/mikewcasale/Documents/GitHub/fastlane-bot/fastlane_bot/tools/optimizer/margpoptimizer.py:61: RuntimeWarning: invalid value encountered in subtract\n",
      "  jac[:, j] = (func(x_plus, quiet=True) - y) / Dxj\n"
     ]
    }
   ],
   "source": [
    "arb_mode=\"bancor_v3\"\n",
    "\n",
    "arb_finder = bot._get_arb_finder(arb_mode)\n",
    "finder = arb_finder(\n",
    "            flashloan_tokens=flashloan_tokens,\n",
    "            CCm=CCm,\n",
    "            mode=\"bothin\",\n",
    "            result=bot.AO_CANDIDATES,\n",
    "            ConfigObj=bot.ConfigObj,\n",
    "        )\n",
    "r = finder.find_arbitrage()\n",
    "\n",
    "arb_opp = r[0]\n",
    "\n",
    "validated = bot.validate_optimizer_trades(arb_opp=arb_opp, arb_mode=arb_mode, arb_finder=finder)\n",
    "\n",
    "\n",
    "assert arb_opp == validated"
   ]
  },
  {
   "cell_type": "markdown",
   "id": "7b3dca20",
   "metadata": {},
   "source": [
    "## Test_validator_multi_triangle"
   ]
  },
  {
   "cell_type": "code",
   "execution_count": 35,
   "id": "e8ae63d9",
   "metadata": {
    "ExecuteTime": {
     "end_time": "2023-07-30T12:11:54.910375Z",
     "start_time": "2023-07-30T12:11:42.104613Z"
    }
   },
   "outputs": [],
   "source": [
    "arb_mode=\"multi_triangle\"\n",
    "arb_finder = bot._get_arb_finder(arb_mode)\n",
    "finder = arb_finder(\n",
    "            flashloan_tokens=flashloan_tokens,\n",
    "            CCm=CCm,\n",
    "            mode=\"bothin\",\n",
    "            result=bot.AO_CANDIDATES,\n",
    "            ConfigObj=bot.ConfigObj,\n",
    "        )\n",
    "r = finder.find_arbitrage()\n",
    "\n",
    "arb_opp = r[0]\n",
    "\n",
    "validated = bot.validate_optimizer_trades(arb_opp=arb_opp, arb_mode=arb_mode, arb_finder=finder)\n",
    "\n",
    "\n",
    "\n",
    "assert arb_opp == validated"
   ]
  }
 ],
 "metadata": {
  "jupytext": {
   "formats": "ipynb,py:light"
  },
  "kernelspec": {
   "display_name": "Python 3",
   "language": "python",
   "name": "python3"
  },
  "language_info": {
   "codemirror_mode": {
    "name": "ipython",
    "version": 3
   },
   "file_extension": ".py",
   "mimetype": "text/x-python",
   "name": "python",
   "nbconvert_exporter": "python",
   "pygments_lexer": "ipython3",
   "version": "3.8.8"
  }
 },
 "nbformat": 4,
 "nbformat_minor": 5
}
