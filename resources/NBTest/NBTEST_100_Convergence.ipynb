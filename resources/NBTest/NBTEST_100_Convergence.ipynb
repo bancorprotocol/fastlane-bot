{
 "cells": [
  {
   "cell_type": "code",
   "execution_count": 1,
   "id": "dce7f14d-b45a-40fb-9caa-cc82a4ec28be",
   "metadata": {},
   "outputs": [
    {
     "name": "stdout",
     "output_type": "stream",
     "text": [
      "imported m, np, pd, plt, os, sys, decimal; defined iseq, raises, require, Timer\n",
      "SimplePair v2.2 (30/Apr/2024)\n",
      "ConstantProductCurve v3.5+dev01 (01/May/2024)\n",
      "CPCArbOptimizer v5.1 (15/Sep/2023)\n",
      "MargPOptimizer v5.3.1 (01/May/2024)\n",
      "PairOptimizer v6.0.1 (21/Sep/2023)\n"
     ]
    }
   ],
   "source": [
    "try:\n",
    "    from fastlane_bot.tools.cpc import ConstantProductCurve as CPC, CPCContainer, T, CPCInverter, Pair\n",
    "    from fastlane_bot.tools.optimizer import CPCArbOptimizer, F, MargPOptimizer, PairOptimizer\n",
    "    from fastlane_bot.tools.analyzer import CPCAnalyzer\n",
    "    from fastlane_bot.testing import *\n",
    "\n",
    "except:\n",
    "    from tools.cpc import ConstantProductCurve as CPC, CPCContainer, T, CPCInverter, Pair\n",
    "    from tools.optimizer import CPCArbOptimizer, F, MargPOptimizer, PairOptimizer\n",
    "    from tools.analyzer import CPCAnalyzer\n",
    "    from tools.testing import *\n",
    "\n",
    "\n",
    "import numpy as np\n",
    "import matplotlib.pyplot as plt\n",
    "\n",
    "print(\"{0.__name__} v{0.__VERSION__} ({0.__DATE__})\".format(Pair))\n",
    "print(\"{0.__name__} v{0.__VERSION__} ({0.__DATE__})\".format(CPC))\n",
    "print(\"{0.__name__} v{0.__VERSION__} ({0.__DATE__})\".format(CPCArbOptimizer))\n",
    "print(\"{0.__name__} v{0.__VERSION__} ({0.__DATE__})\".format(MargPOptimizer))\n",
    "print(\"{0.__name__} v{0.__VERSION__} ({0.__DATE__})\".format(PairOptimizer))\n",
    "\n",
    "plt.style.use('seaborn-v0_8-dark')\n",
    "plt.rcParams['figure.figsize'] = [12,6]"
   ]
  },
  {
   "cell_type": "markdown",
   "id": "4c19328a-c4b5-453e-9555-465ef6a34a60",
   "metadata": {},
   "source": [
    "# Optimizer Testing Convergence Changes [NBTest 100]"
   ]
  },
  {
   "cell_type": "markdown",
   "id": "b970aaac-b29c-468d-a1af-5b094eea1398",
   "metadata": {},
   "source": [
    "## THOR related Tests\n",
    "\n",
    "this test originates in the `Optimizer_2312_THOR` notebook"
   ]
  },
  {
   "cell_type": "code",
   "execution_count": 2,
   "id": "bb524ba1-5481-4a6d-b551-48f778b7e427",
   "metadata": {},
   "outputs": [],
   "source": [
    "curves_as_dicts = [{'k': 4.3078885616238194e+24,\n",
    "  'x': 1250505254484.4102,\n",
    "  'x_act': 0,\n",
    "  'y_act': 344491.8061533139,\n",
    "  'alpha': 0.5,\n",
    "  'pair': 'USDC-eB48/THOR-8044',\n",
    "  'cid': '74181555988764585035015664420125470098056-1',\n",
    "  'fee': 2000.0,\n",
    "  'descr': 'carbon_v1 THOR-8044/USDC-eB48 2000',\n",
    "  'constr': 'carb',\n",
    "  'params': {'exchange': 'carbon_v1',\n",
    "   'tknx_dec': 18,\n",
    "   'tkny_dec': 6,\n",
    "   'tknx_addr': '0xa5f2211B9b8170F694421f2046281775E8468044',\n",
    "   'tkny_addr': '0xA0b86991c6218b36c1d19D4a2e9Eb0cE3606eB48',\n",
    "   'blocklud': 18758319,\n",
    "   'y': 344491.8061533139,\n",
    "   'yint': 344491.8061533139,\n",
    "   'A': 0,\n",
    "   'B': 1.659765242784964,\n",
    "   'pa': 2.754820936639097,\n",
    "   'pb': 2.754820936639097}},\n",
    " {'k': 1106096356.8039548,\n",
    "  'x': 2619874.8519412754,\n",
    "  'x_act': 2619874.8519412754,\n",
    "  'y_act': 422.1943487049999,\n",
    "  'alpha': 0.5,\n",
    "  'pair': 'THOR-8044/WETH-6Cc2',\n",
    "  'cid': '0xbf1875da0431343b56ec6295f706e257dbe85696e5270a5bdad005d37cc2fd9c',\n",
    "  'fee': 0.003,\n",
    "  'descr': 'sushiswap_v2 THOR-8044/WETH-6Cc2 0.003',\n",
    "  'constr': 'uv2',\n",
    "  'params': {'exchange': 'sushiswap_v2',\n",
    "   'tknx_dec': 18,\n",
    "   'tkny_dec': 18,\n",
    "   'tknx_addr': '0xa5f2211B9b8170F694421f2046281775E8468044',\n",
    "   'tkny_addr': '0xC02aaA39b223FE8D0A0e5C4F27eAD9083C756Cc2',\n",
    "   'blocklud': 18758340}},\n",
    " {'k': 1233376864385.0625,\n",
    "  'x': 54102579.539405,\n",
    "  'x_act': 54102579.539405,\n",
    "  'y_act': 22797.00662861641,\n",
    "  'alpha': 0.5,\n",
    "  'pair': 'USDC-eB48/WETH-6Cc2',\n",
    "  'cid': '0x68bd2250b4b44996e193e9e001f74a5e5a31b31fbd0bb7df34c66eb8da7e6be2',\n",
    "  'fee': 3000.0,\n",
    "  'descr': 'uniswap_v2 USDC-eB48/WETH-6Cc2 0.003',\n",
    "  'constr': 'uv2',\n",
    "  'params': {'exchange': 'uniswap_v2',\n",
    "   'tknx_dec': 6,\n",
    "   'tkny_dec': 18,\n",
    "   'tknx_addr': '0xA0b86991c6218b36c1d19D4a2e9Eb0cE3606eB48',\n",
    "   'tkny_addr': '0xC02aaA39b223FE8D0A0e5C4F27eAD9083C756Cc2',\n",
    "   'blocklud': 18758413}}]"
   ]
  },
  {
   "cell_type": "code",
   "execution_count": 3,
   "id": "45121819-184f-469c-a51d-6e25616591d8",
   "metadata": {},
   "outputs": [
    {
     "data": {
      "text/plain": [
       "(3, 3)"
      ]
     },
     "execution_count": 3,
     "metadata": {},
     "output_type": "execute_result"
    }
   ],
   "source": [
    "CC = CPCContainer.from_dicts(curves_as_dicts)\n",
    "len(CC), len(curves_as_dicts)"
   ]
  },
  {
   "cell_type": "markdown",
   "id": "0784424b-ba27-42fb-8c45-9b527b155ae2",
   "metadata": {},
   "source": [
    "### CPC min range width functionality"
   ]
  },
  {
   "cell_type": "code",
   "execution_count": 4,
   "id": "52949438-148a-4581-b9c8-d44a7e4c8d0a",
   "metadata": {},
   "outputs": [
    {
     "data": {
      "text/plain": [
       "ConstantProductCurve(k=400000399924037.75, x=2000000.4998099068, x_act=0, y_act=100, alpha=0.5, pair='WETH-6Cc2/USDC-eB48', cid='None', fee=None, descr=None, constr='carb', params={'y': 100, 'yint': 100, 'A': 0, 'B': 9.999997500001562, 'pa': 100, 'pb': 100, 'minrw': 1e-06})"
      ]
     },
     "execution_count": 4,
     "metadata": {},
     "output_type": "execute_result"
    }
   ],
   "source": [
    "cdata = dict(y=100, yint=100, pa=100, pb=100, pair=\"WETH-6Cc2/USDC-eB48\", tkny=\"USDC-eB48\")\n",
    "c  = CPC.from_carbon(**cdata)\n",
    "c2 = CPC.from_carbon(**cdata, minrw=1e-2)\n",
    "c4 = CPC.from_carbon(**cdata, minrw=1e-4)\n",
    "c6 = CPC.from_carbon(**cdata, minrw=1e-6)\n",
    "c"
   ]
  },
  {
   "cell_type": "code",
   "execution_count": 5,
   "id": "78b7c8ab-9f65-4318-9dce-bdb1e68b0871",
   "metadata": {},
   "outputs": [],
   "source": [
    "assert c2.params.minrw==0.01\n",
    "assert c4.params.minrw==0.0001\n",
    "assert c6.params.minrw==0.000001\n",
    "assert c.params.minrw==0.000001"
   ]
  },
  {
   "cell_type": "code",
   "execution_count": 6,
   "id": "44170a39-b0e6-4b08-867a-7e5960c9233a",
   "metadata": {},
   "outputs": [],
   "source": [
    "assert iseq(c2.p**2/100**2, 1.01)\n",
    "assert iseq(c4.p**2/100**2, 1.0001)\n",
    "assert iseq(c6.p**2/100**2, 1.000001)\n",
    "assert iseq(c.p, c6.p)"
   ]
  },
  {
   "cell_type": "code",
   "execution_count": 7,
   "id": "0cfdf148-064c-4f8c-8d1d-ca9aca61e117",
   "metadata": {},
   "outputs": [],
   "source": [
    "assert iseq(c2.p-100, 0.49875621120, eps=1e-3)\n",
    "assert iseq(c4.p-100, 0.00499987500, eps=1e-3)\n",
    "assert iseq(c6.p-100, 0.00004999875, eps=1e-3)\n",
    "assert iseq((c2.p-100)/(c4.p-100), 99.75373596136635, eps=1e-4)\n",
    "assert iseq((c4.p-100)/(c6.p-100), 99.99752507444194, eps=1e-4)"
   ]
  },
  {
   "cell_type": "markdown",
   "id": "0aa09514-2ee9-4208-8f6d-2165f357946e",
   "metadata": {},
   "source": [
    "### margpoptimizer absolute convergence"
   ]
  },
  {
   "cell_type": "code",
   "execution_count": 8,
   "id": "bd50fc37-580f-480b-af91-a86670b25e54",
   "metadata": {},
   "outputs": [
    {
     "name": "stdout",
     "output_type": "stream",
     "text": [
      "[margp_optimizer] targettkn = USDC-eB48\n",
      "[margp_optimizer] calculating price estimates\n",
      "[margp_optimizer] tknq=USDC-eB48, tknbs=('WETH-6Cc2',)\n",
      "[margp_optimizer] error calculating price estimates: [('no price found for 1 pairs', {'WETH-6Cc2/USDC-eB48'}, array([[None]], dtype=object))]\n",
      "[margp_optimizer] price estimates =  None\n",
      "[margp_optimizer] crit=rel (eps=1e-06, unit=1, norm=L2)\n"
     ]
    }
   ],
   "source": [
    "cdata = dict(y=100, yint=100, pa=100, pb=100, pair=\"WETH-6Cc2/USDC-eB48\", tkny=\"USDC-eB48\")\n",
    "c  = CPC.from_carbon(**cdata)\n",
    "O = MargPOptimizer(CPCContainer([c,c]))\n",
    "r = O.optimize(\"USDC-eB48\", params=dict(verbose=True, debug=True), result=O.MO_DEBUG)\n",
    "assert r[\"crit\"][\"crit\"] is None\n",
    "assert r[\"crit\"][\"eps\"] == O.MOEPS\n",
    "assert r[\"crit\"][\"epsa\"] == O.MOEPSA\n",
    "assert r[\"crit\"][\"epsaunit\"] == O.MOEPSAUNIT\n",
    "assert r[\"crit\"][\"pstart\"] is None"
   ]
  },
  {
   "cell_type": "code",
   "execution_count": 9,
   "id": "bc2ce9fb-7deb-4dc3-87d4-99a6284e9996",
   "metadata": {},
   "outputs": [],
   "source": [
    "assert raises(O.optimize, \"USDC-eB48\", params=dict(crit=\"meh\"), result=O.MO_DEBUG) ==\\\n",
    "  'crit must be self.MOCRITR or self.MOCRITA'\n",
    "assert raises(O.optimize, \"USDC-eB48\", params=dict(crit=O.MOCRITA), result=O.MO_DEBUG) == \\\n",
    "  \"pstart must be provided if crit is self.MOCRITA\"\n",
    "assert raises(O.optimize, \"USDC-eB48\", params=dict(crit=O.MOCRITA, pstart=dict(FOO=1))) ==\\\n",
    "  \"pstart does not contain all required tokens ['WETH-6Cc2'; pstart={'FOO': 1}, tokens_t=('WETH-6Cc2',)]\"\n",
    "assert raises(O.optimize, \"USDC-eB48\", params=dict(crit=O.MOCRITA, pstart={\"WETH-6Cc2\":2000, \"USDC-eB48\":1})) ==\\\n",
    "  \"epsaunit USD not in pstart {'WETH-6Cc2': 2000, 'USDC-eB48': 1}\""
   ]
  },
  {
   "cell_type": "code",
   "execution_count": 10,
   "id": "432209be-590e-4838-9bd0-7493a57756c1",
   "metadata": {},
   "outputs": [],
   "source": [
    "r = O.optimize(\"USDC-eB48\", params=dict(\n",
    "    crit = O.MOCRITA,\n",
    "    eps = 1e-10,\n",
    "    epsa = 100,\n",
    "    epsaunit = \"dollah\",\n",
    "    pstart = {\"dollah\":1, \"WETH-6Cc2\": 2000, \"USDC-eB48\":1},\n",
    "), result=O.MO_DEBUG)\n",
    "assert r[\"crit\"][\"crit\"] == O.MOCRITA\n",
    "assert r[\"crit\"][\"eps\"] == 1e-10\n",
    "assert r[\"crit\"][\"epsa\"] == 100\n",
    "assert r[\"crit\"][\"epsaunit\"] == \"dollah\"\n",
    "assert r[\"crit\"][\"pstart\"] == {\"dollah\":1, \"WETH-6Cc2\": 2000, \"USDC-eB48\":1}"
   ]
  },
  {
   "cell_type": "code",
   "execution_count": 11,
   "id": "843f54e3-2e56-4d00-bdb6-6b2d235aa21a",
   "metadata": {},
   "outputs": [
    {
     "name": "stdout",
     "output_type": "stream",
     "text": [
      "inf\n"
     ]
    }
   ],
   "source": [
    "print(np.inf)"
   ]
  },
  {
   "cell_type": "code",
   "execution_count": null,
   "id": "65df8111",
   "metadata": {},
   "outputs": [],
   "source": []
  },
  {
   "cell_type": "code",
   "execution_count": null,
   "id": "e3fdfa3b-d3dc-4c1c-884e-ca48b730d602",
   "metadata": {},
   "outputs": [],
   "source": []
  },
  {
   "cell_type": "code",
   "execution_count": null,
   "id": "838edaa9-0186-4fab-8786-c2c44fdecd25",
   "metadata": {},
   "outputs": [],
   "source": []
  }
 ],
 "metadata": {
  "jupytext": {
   "formats": "ipynb,py:light"
  },
  "kernelspec": {
   "display_name": "Python 3 (ipykernel)",
   "language": "python",
   "name": "python3"
  },
  "language_info": {
   "codemirror_mode": {
    "name": "ipython",
    "version": 3
   },
   "file_extension": ".py",
   "mimetype": "text/x-python",
   "name": "python",
   "nbconvert_exporter": "python",
   "pygments_lexer": "ipython3",
   "version": "3.11.8"
  }
 },
 "nbformat": 4,
 "nbformat_minor": 5
}
