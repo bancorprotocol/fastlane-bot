{
 "cells": [
  {
   "cell_type": "code",
   "execution_count": 1,
   "id": "84fa264b",
   "metadata": {
    "ExecuteTime": {
     "end_time": "2023-07-09T13:54:12.577531Z",
     "start_time": "2023-07-09T13:54:12.514167Z"
    }
   },
   "outputs": [
    {
     "name": "stdout",
     "output_type": "stream",
     "text": [
      "ConstantProductCurve v3.3.1 (05/Oct/2023)\n",
      "CarbonBot v3-b2.2 (20/June/2023)\n",
      "UniswapV2 v0.0.2 (2023-08-27)\n",
      "UniswapV3 v0.0.2 (2023-08-27)\n",
      "SushiswapV2 v0.0.2 (2023-08-27)\n",
      "CarbonV1 v0.0.2 (2023-08-27)\n",
      "BancorV3 v0.0.2 (2023-08-27)\n",
      "imported m, np, pd, plt, os, sys, decimal; defined iseq, raises, require\n",
      "Version = 3-b2.2 [requirements >= 3.0 is met]\n"
     ]
    }
   ],
   "source": [
    "# coding=utf-8\n",
    "\"\"\"\n",
    "This module contains the tests for the exchanges classes\n",
    "\"\"\"\n",
    "from fastlane_bot import Bot, Config\n",
    "from fastlane_bot.bot import CarbonBot\n",
    "from fastlane_bot.tools.cpc import ConstantProductCurve\n",
    "from fastlane_bot.tools.cpc import ConstantProductCurve as CPC\n",
    "from fastlane_bot.events.exchanges import UniswapV2, UniswapV3, SushiswapV2, CarbonV1, BancorV3\n",
    "from fastlane_bot.events.interface import QueryInterface\n",
    "from fastlane_bot.helpers.poolandtokens import PoolAndTokens\n",
    "from fastlane_bot.helpers import TradeInstruction, TxReceiptHandler, TxRouteHandler, TxSubmitHandler, TxHelpers, TxHelper\n",
    "from fastlane_bot.events.managers.manager import Manager\n",
    "from fastlane_bot.events.interface import QueryInterface\n",
    "from joblib import Parallel, delayed\n",
    "import pytest\n",
    "import math\n",
    "import json\n",
    "print(\"{0.__name__} v{0.__VERSION__} ({0.__DATE__})\".format(CPC))\n",
    "print(\"{0.__name__} v{0.__VERSION__} ({0.__DATE__})\".format(Bot))\n",
    "print(\"{0.__name__} v{0.__VERSION__} ({0.__DATE__})\".format(UniswapV2))\n",
    "print(\"{0.__name__} v{0.__VERSION__} ({0.__DATE__})\".format(UniswapV3))\n",
    "print(\"{0.__name__} v{0.__VERSION__} ({0.__DATE__})\".format(SushiswapV2))\n",
    "print(\"{0.__name__} v{0.__VERSION__} ({0.__DATE__})\".format(CarbonV1))\n",
    "print(\"{0.__name__} v{0.__VERSION__} ({0.__DATE__})\".format(BancorV3))\n",
    "from fastlane_bot.testing import *\n",
    "from fastlane_bot.modes import triangle_single_bancor3\n",
    "#plt.style.use('seaborn-dark')\n",
    "plt.rcParams['figure.figsize'] = [12,6]\n",
    "from fastlane_bot import __VERSION__\n",
    "require(\"3.0\", __VERSION__)"
   ]
  },
  {
   "cell_type": "markdown",
   "id": "4c4e2283",
   "metadata": {},
   "source": [
    "# Multi Mode [NB038]"
   ]
  },
  {
   "cell_type": "code",
   "execution_count": 2,
   "id": "a51e5ec2",
   "metadata": {
    "ExecuteTime": {
     "end_time": "2023-07-09T13:54:13.771032Z",
     "start_time": "2023-07-09T13:54:12.517536Z"
    }
   },
   "outputs": [
    {
     "name": "stderr",
     "output_type": "stream",
     "text": [
      "2023-10-27 10:20:05,945 [fastlane:INFO] - \n",
      "2023-10-27 10:20:05,946 [fastlane:INFO] - **********************************************\n",
      "2023-10-27 10:20:05,946 [fastlane:INFO] - The logging path is set to: logs/20231027-102005\\bot.log\n",
      "2023-10-27 10:20:05,947 [fastlane:INFO] - **********************************************\n",
      "2023-10-27 10:20:05,948 [fastlane:INFO] - \n",
      "2023-10-27 10:20:07,770 [fastlane:INFO] - Retrieved 200 carbon pairs from contract\n",
      "2023-10-27 10:20:09,211 [fastlane:INFO] - Time taken to add initial pools: 0.09163355827331543\n",
      "2023-10-27 10:20:09,215 [fastlane:INFO] - Initializing the bot...\n",
      "2023-10-27 10:20:09,396 [fastlane:INFO] - Removed 3242 unmapped uniswap_v2/sushi pools. 1897 uniswap_v2/sushi pools remaining\n",
      "2023-10-27 10:20:09,396 [fastlane:INFO] - Unmapped uniswap_v2/sushi pools:\n",
      "2023-10-27 10:20:09,558 [fastlane:INFO] - uniswap_v2: 3242\n",
      "2023-10-27 10:20:09,560 [fastlane:INFO] - sushiswap_v2: 0\n",
      "2023-10-27 10:20:09,562 [fastlane:INFO] - uniswap_v3: 636\n",
      "2023-10-27 10:20:09,562 [fastlane:INFO] - sushiswap_v2: 78\n",
      "2023-10-27 10:20:09,562 [fastlane:INFO] - uniswap_v2: 0\n",
      "2023-10-27 10:20:09,562 [fastlane:INFO] - bancor_v2: 0\n",
      "2023-10-27 10:20:09,563 [fastlane:INFO] - bancor_v3: 34\n",
      "2023-10-27 10:20:09,564 [fastlane:INFO] - bancor_pol: 0\n",
      "2023-10-27 10:20:09,564 [fastlane:INFO] - carbon_v1: 144\n",
      "2023-10-27 10:20:09,564 [fastlane:INFO] - pancakeswap_v2: 0\n",
      "2023-10-27 10:20:09,565 [fastlane:INFO] - pancakeswap_v3: 0\n",
      "2023-10-27 10:20:09,565 [fastlane:INFO] - balancer: 0\n",
      "2023-10-27 10:20:09,588 [fastlane:INFO] - uniswap_v3_zero_liquidity_pools: 858\n",
      "2023-10-27 10:20:09,589 [fastlane:INFO] - sushiswap_v2_zero_liquidity_pools: 34\n",
      "2023-10-27 10:20:09,589 [fastlane:INFO] - uniswap_v2_zero_liquidity_pools: 0\n",
      "2023-10-27 10:20:09,590 [fastlane:INFO] - bancor_v2_zero_liquidity_pools: 0\n",
      "2023-10-27 10:20:09,590 [fastlane:INFO] - bancor_v3_zero_liquidity_pools: 37\n",
      "2023-10-27 10:20:09,591 [fastlane:INFO] - bancor_pol_zero_liquidity_pools: 0\n",
      "2023-10-27 10:20:09,592 [fastlane:INFO] - carbon_v1_zero_liquidity_pools: 76\n",
      "2023-10-27 10:20:09,592 [fastlane:INFO] - pancakeswap_v2_zero_liquidity_pools: 0\n",
      "2023-10-27 10:20:09,593 [fastlane:INFO] - pancakeswap_v3_zero_liquidity_pools: 0\n",
      "2023-10-27 10:20:09,593 [fastlane:INFO] - balancer_zero_liquidity_pools: 0\n",
      "2023-10-27 10:20:09,594 [fastlane:INFO] - Removed 0 unsupported exchanges. 892 pools remaining\n",
      "2023-10-27 10:20:09,594 [fastlane:INFO] - Pools remaining per exchange:\n",
      "2023-10-27 10:20:09,595 [fastlane:INFO] - sushiswap_v2: 78\n",
      "2023-10-27 10:20:09,595 [fastlane:INFO] - uniswap_v3: 636\n",
      "2023-10-27 10:20:09,595 [fastlane:INFO] - carbon_v1: 144\n",
      "2023-10-27 10:20:09,596 [fastlane:INFO] - uniswap_v2: 0\n",
      "2023-10-27 10:20:09,596 [fastlane:INFO] - bancor_v3: 34\n"
     ]
    }
   ],
   "source": [
    "C = cfg = Config.new(config=Config.CONFIG_MAINNET)\n",
    "C.DEFAULT_MIN_PROFIT_BNT = 0.02\n",
    "C.DEFAULT_MIN_PROFIT = 0.02\n",
    "cfg.DEFAULT_MIN_PROFIT_BNT = 0.02\n",
    "cfg.DEFAULT_MIN_PROFIT = 0.02\n",
    "assert (C.NETWORK == C.NETWORK_MAINNET)\n",
    "assert (C.PROVIDER == C.PROVIDER_ALCHEMY)\n",
    "setup_bot = CarbonBot(ConfigObj=C)\n",
    "pools = None\n",
    "with open('fastlane_bot/data/tests/latest_pool_data_testing.json') as f:\n",
    "    pools = json.load(f)\n",
    "pools = [pool for pool in pools]\n",
    "pools[0]\n",
    "static_pools = pools\n",
    "state = pools\n",
    "exchanges = list({ex['exchange_name'] for ex in state})\n",
    "db = QueryInterface(state=state, ConfigObj=C, exchanges=exchanges)\n",
    "setup_bot.db = db\n",
    "\n",
    "static_pool_data_filename = \"static_pool_data\"\n",
    "\n",
    "static_pool_data = pd.read_csv(f\"fastlane_bot/data/{static_pool_data_filename}.csv\", low_memory=False)\n",
    "    \n",
    "uniswap_v2_event_mappings = pd.read_csv(\"fastlane_bot/data/uniswap_v2_event_mappings.csv\", low_memory=False)\n",
    "        \n",
    "tokens = pd.read_csv(\"fastlane_bot/data/tokens.csv\", low_memory=False)\n",
    "        \n",
    "exchanges = \"carbon_v1,bancor_v3,uniswap_v3,uniswap_v2,sushiswap_v2\"\n",
    "\n",
    "exchanges = exchanges.split(\",\")\n",
    "\n",
    "\n",
    "alchemy_max_block_fetch = 20\n",
    "static_pool_data[\"cid\"] = [\n",
    "        cfg.w3.keccak(text=f\"{row['descr']}\").hex()\n",
    "        for index, row in static_pool_data.iterrows()\n",
    "    ]\n",
    "# Filter out pools that are not in the supported exchanges\n",
    "static_pool_data = [\n",
    "    row for index, row in static_pool_data.iterrows()\n",
    "    if row[\"exchange_name\"] in exchanges\n",
    "]\n",
    "\n",
    "static_pool_data = pd.DataFrame(static_pool_data)\n",
    "static_pool_data['exchange_name'].unique()\n",
    "# Initialize data fetch manager\n",
    "mgr = Manager(\n",
    "    web3=cfg.w3,\n",
    "    cfg=cfg,\n",
    "    pool_data=static_pool_data.to_dict(orient=\"records\"),\n",
    "    SUPPORTED_EXCHANGES=exchanges,\n",
    "    alchemy_max_block_fetch=alchemy_max_block_fetch,\n",
    "    uniswap_v2_event_mappings=uniswap_v2_event_mappings,\n",
    "    tokens=tokens.to_dict(orient=\"records\"),\n",
    ")\n",
    "\n",
    "# Add initial pools for each row in the static_pool_data\n",
    "start_time = time.time()\n",
    "Parallel(n_jobs=-1, backend=\"threading\")(\n",
    "    delayed(mgr.add_pool_to_exchange)(row) for row in mgr.pool_data\n",
    ")\n",
    "cfg.logger.info(f\"Time taken to add initial pools: {time.time() - start_time}\")\n",
    "\n",
    "# check if any duplicate cid's exist in the pool data\n",
    "mgr.deduplicate_pool_data()\n",
    "cids = [pool[\"cid\"] for pool in mgr.pool_data]\n",
    "assert len(cids) == len(set(cids)), \"duplicate cid's exist in the pool data\"\n",
    "def init_bot(mgr: Manager) -> CarbonBot:\n",
    "    \"\"\"\n",
    "    Initializes the bot.\n",
    "\n",
    "    Parameters\n",
    "    ----------\n",
    "    mgr : Manager\n",
    "        The manager object.\n",
    "\n",
    "    Returns\n",
    "    -------\n",
    "    CarbonBot\n",
    "        The bot object.\n",
    "    \"\"\"\n",
    "    mgr.cfg.logger.info(\"Initializing the bot...\")\n",
    "    bot = CarbonBot(ConfigObj=mgr.cfg)\n",
    "    bot.db = db\n",
    "    bot.db.mgr = mgr\n",
    "    assert isinstance(\n",
    "        bot.db, QueryInterface\n",
    "    ), \"QueryInterface not initialized correctly\"\n",
    "    return bot\n",
    "bot = init_bot(mgr)\n",
    "# add data cleanup steps from main.py\n",
    "bot.db.handle_token_key_cleanup()\n",
    "bot.db.remove_unmapped_uniswap_v2_pools()\n",
    "bot.db.remove_zero_liquidity_pools()\n",
    "bot.db.remove_unsupported_exchanges()\n",
    "tokens = bot.db.get_tokens()\n",
    "ADDRDEC = {t.key: (t.address, int(t.decimals)) for t in tokens if not math.isnan(t.decimals)}\n",
    "flashloan_tokens = bot.setup_flashloan_tokens(None)\n",
    "CCm = bot.setup_CCm(None)\n",
    "pools = db.get_pool_data_with_tokens()\n",
    "\n",
    "arb_mode = \"multi_triangle\""
   ]
  },
  {
   "cell_type": "markdown",
   "id": "f3dce4e9",
   "metadata": {},
   "source": [
    "## Test_min_profit"
   ]
  },
  {
   "cell_type": "code",
   "execution_count": 3,
   "id": "c8f41237",
   "metadata": {},
   "outputs": [],
   "source": [
    "assert(cfg.DEFAULT_MIN_PROFIT_BNT <= 0.02), f\"[TestMultiTriangleMode], DEFAULT_MIN_PROFIT_BNT must be <= 0.02 for this Notebook to run, currently set to {cfg.DEFAULT_MIN_PROFIT_BNT}\"\n",
    "assert(C.DEFAULT_MIN_PROFIT_BNT <= 0.02), f\"[TestMultiTriangleMode], DEFAULT_MIN_PROFIT_BNT must be <= 0.02 for this Notebook to run, currently set to {cfg.DEFAULT_MIN_PROFIT_BNT}\"\n",
    "assert bot.ConfigObj.DEFAULT_MIN_PROFIT_BNT == 0.02"
   ]
  },
  {
   "cell_type": "markdown",
   "id": "87d950bd",
   "metadata": {},
   "source": [
    "### Test_arb_mode_class"
   ]
  },
  {
   "cell_type": "code",
   "execution_count": 4,
   "id": "84cf37eb",
   "metadata": {},
   "outputs": [],
   "source": [
    "arb_finder = bot._get_arb_finder(\"multi_triangle\")\n",
    "assert arb_finder.__name__ == \"ArbitrageFinderTriangleMulti\", f\"[TestMultiTriangleMode] Expected arb_finder class name name = FindArbitrageMultiPairwise, found {arb_finder.__name__}\""
   ]
  },
  {
   "cell_type": "markdown",
   "id": "187ba058",
   "metadata": {},
   "source": [
    "## Test_combos"
   ]
  },
  {
   "cell_type": "code",
   "execution_count": 5,
   "id": "b1f40498",
   "metadata": {},
   "outputs": [],
   "source": [
    "arb_finder = bot._get_arb_finder(\"multi_triangle\")\n",
    "finder2 = arb_finder(\n",
    "            flashloan_tokens=flashloan_tokens,\n",
    "            CCm=CCm,\n",
    "            mode=\"bothin\",\n",
    "            result=bot.AO_TOKENS,\n",
    "            ConfigObj=bot.ConfigObj,\n",
    "        )\n",
    "combos = finder2.get_combos(flashloan_tokens=flashloan_tokens, CCm=CCm, arb_mode=\"multi_triangle\")\n",
    "assert len(combos) >= 1225, f\"[TestMultiTriangleMode] Using wrong dataset, expected at least 1225 combos, found {len(combos)}\""
   ]
  },
  {
   "cell_type": "code",
   "execution_count": 6,
   "metadata": {},
   "outputs": [],
   "source": [
    "# print(len(combos))\n",
    "# for ex in exchanges:\n",
    "#     count = 0\n",
    "#     for pool in CCm:\n",
    "#         if ex in pool.descr:\n",
    "#             count +=1\n",
    "#     print(f\"found {count} pools for {ex}\")"
   ]
  },
  {
   "cell_type": "markdown",
   "id": "e703ba6b",
   "metadata": {},
   "source": [
    "### Test_find_arbitrage"
   ]
  },
  {
   "cell_type": "code",
   "execution_count": 7,
   "id": "48e2f5a1",
   "metadata": {},
   "outputs": [],
   "source": [
    "arb_finder = bot._get_arb_finder(\"multi_triangle\")\n",
    "finder = arb_finder(\n",
    "            flashloan_tokens=flashloan_tokens,\n",
    "            CCm=CCm,\n",
    "            mode=\"bothin\",\n",
    "            result=bot.AO_CANDIDATES,\n",
    "            ConfigObj=bot.ConfigObj,\n",
    "        )\n",
    "r = finder.find_arbitrage()\n",
    "multi_carbon_count = 0\n",
    "for arb in r:\n",
    "    (\n",
    "            best_profit,\n",
    "            best_trade_instructions_df,\n",
    "            best_trade_instructions_dic,\n",
    "            best_src_token,\n",
    "            best_trade_instructions,\n",
    "        ) = arb\n",
    "    if len(best_trade_instructions_dic) > 3:\n",
    "        multi_carbon_count += 1\n",
    "        has_zero_curves = False\n",
    "        has_one_curves = False\n",
    "        for curve in best_trade_instructions_dic:\n",
    "            if \"-0\" in curve['cid']:\n",
    "                has_zero_curves = True\n",
    "            if \"-1\" in curve['cid']:\n",
    "                has_one_curves = True\n",
    "        assert not has_zero_curves or not has_one_curves, f\"[TestMultiTriangleMode] Finding Carbon curves in opposite directions - not supported in this mode.\"\n",
    "assert multi_carbon_count > 0, f\"[TestMultiTriangleMode] Not finding arbs with multiple Carbon curves.\"\n",
    "assert len(r) >= 58, f\"[TestMultiTriangleMode] Expected at least 58 arbs, found {len(r)}\""
   ]
  }
 ],
 "metadata": {
  "jupytext": {
   "formats": "ipynb,py:light"
  },
  "kernelspec": {
   "display_name": "Python 3",
   "language": "python",
   "name": "python3"
  },
  "language_info": {
   "codemirror_mode": {
    "name": "ipython",
    "version": 3
   },
   "file_extension": ".py",
   "mimetype": "text/x-python",
   "name": "python",
   "nbconvert_exporter": "python",
   "pygments_lexer": "ipython3",
   "version": "3.10.1"
  }
 },
 "nbformat": 4,
 "nbformat_minor": 5
}
