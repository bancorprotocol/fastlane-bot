{
 "cells": [
  {
   "cell_type": "code",
   "execution_count": 5,
   "id": "6b800d59",
   "metadata": {
    "ExecuteTime": {
     "end_time": "2023-08-08T18:34:24.182284Z",
     "start_time": "2023-08-08T18:34:24.166228Z"
    }
   },
   "outputs": [
    {
     "name": "stdout",
     "output_type": "stream",
     "text": [
      "ConstantProductCurve v2.14 (23/May/2023)\n",
      "CarbonBot v3-b2.2 (20/June/2023)\n",
      "UniswapV2 v0.0.1 (2023-07-03)\n",
      "UniswapV3 v0.0.1 (2023-07-03)\n",
      "SushiswapV2 v0.0.1 (2023-07-03)\n",
      "CarbonV1 v0.0.1 (2023-07-03)\n",
      "BancorV3 v0.0.1 (2023-07-03)\n",
      "Version = 3-b2.2 [requirements >= 3.0 is met]\n"
     ]
    }
   ],
   "source": [
    "from unittest.mock import Mock, patch, call\n",
    "\n",
    "import brownie\n",
    "import pytest\n",
    "from unittest.mock import MagicMock\n",
    "from brownie import multicall as brownie_multicall\n",
    "\n",
    "from fastlane_bot import Bot, Config\n",
    "from fastlane_bot.events.exchanges import UniswapV2, UniswapV3, SushiswapV2, CarbonV1, BancorV3\n",
    "from fastlane_bot.events.managers.manager import Manager\n",
    "Base = None\n",
    "from fastlane_bot.tools.cpc import ConstantProductCurve as CPC\n",
    "\n",
    "print(\"{0.__name__} v{0.__VERSION__} ({0.__DATE__})\".format(CPC))\n",
    "print(\"{0.__name__} v{0.__VERSION__} ({0.__DATE__})\".format(Bot))\n",
    "print(\"{0.__name__} v{0.__VERSION__} ({0.__DATE__})\".format(UniswapV2))\n",
    "print(\"{0.__name__} v{0.__VERSION__} ({0.__DATE__})\".format(UniswapV3))\n",
    "print(\"{0.__name__} v{0.__VERSION__} ({0.__DATE__})\".format(SushiswapV2))\n",
    "print(\"{0.__name__} v{0.__VERSION__} ({0.__DATE__})\".format(CarbonV1))\n",
    "print(\"{0.__name__} v{0.__VERSION__} ({0.__DATE__})\".format(BancorV3))\n",
    "from fastlane_bot.testing import *\n",
    "\n",
    "#plt.style.use('seaborn-dark')\n",
    "plt.rcParams['figure.figsize'] = [12,6]\n",
    "from fastlane_bot import __VERSION__\n",
    "require(\"3.0\", __VERSION__)\n"
   ]
  },
  {
   "cell_type": "markdown",
   "id": "2776105f",
   "metadata": {},
   "source": []
  },
  {
   "cell_type": "code",
   "execution_count": 6,
   "id": "80ddef38",
   "metadata": {
    "ExecuteTime": {
     "end_time": "2023-08-08T18:34:24.218017Z",
     "start_time": "2023-08-08T18:34:24.170385Z"
    }
   },
   "outputs": [],
   "source": [
    "import json\n",
    "\n",
    "with open(\"fastlane_bot/data/event_test_data.json\", \"r\") as f:\n",
    "    event_data = json.load(f)\n",
    "\n",
    "with open(\"fastlane_bot/data/test_pool_data.json\", \"r\") as f:\n",
    "    pool_data = json.load(f)"
   ]
  },
  {
   "cell_type": "code",
   "execution_count": 7,
   "id": "7919999a",
   "metadata": {
    "ExecuteTime": {
     "end_time": "2023-08-08T18:34:25.657870Z",
     "start_time": "2023-08-08T18:34:24.203132Z"
    }
   },
   "outputs": [],
   "source": [
    "\n",
    "# Create mock instances for all required parameters\n",
    "cfg = Config.new(config=Config.CONFIG_TENDERLY)\n",
    "\n",
    "# create manager instance for all tests\n",
    "manager = Manager(cfg.w3, cfg, pool_data, 20, SUPPORTED_EXCHANGES=['bancor_v3', 'carbon_v1', 'uniswap_v2', 'uniswap_v3'])\n"
   ]
  },
  {
   "cell_type": "markdown",
   "id": "6006eed4-a1e7-4d65-831e-98722b35a0ec",
   "metadata": {},
   "source": [
    "## test_update_from_event_uniswap_v2"
   ]
  },
  {
   "cell_type": "code",
   "execution_count": 40,
   "id": "584c8056",
   "metadata": {
    "ExecuteTime": {
     "end_time": "2023-08-08T19:05:37.554627Z",
     "start_time": "2023-08-08T19:05:36.916462Z"
    }
   },
   "outputs": [
    {
     "data": {
      "text/plain": "2000"
     },
     "execution_count": 40,
     "metadata": {},
     "output_type": "execute_result"
    }
   ],
   "source": [
    "carbon_controller = manager.get_pool_contract('carbon_v1', '0xC537e898CD774e2dCBa3B14Ea6f34C93d5eA45e1')\n",
    "\n",
    "carbon_controller.caller.pairTradingFeePPM(\n",
    "    manager.cfg.USDC_ADDRESS, manager.cfg.LINK_ADDRESS\n",
    ")"
   ]
  },
  {
   "cell_type": "code",
   "execution_count": 45,
   "outputs": [
    {
     "data": {
      "text/plain": "[<Function admin()>,\n <Function implementation()>,\n <Function upgradeTo(address)>,\n <Function upgradeToAndCall(address,bytes)>,\n <Function DEFAULT_ADMIN_ROLE()>,\n <Function accumulatedFees(address)>,\n <Function calculateTradeSourceAmount(address,address,tuple[])>,\n <Function calculateTradeTargetAmount(address,address,tuple[])>,\n <Function controllerType()>,\n <Function createPair(address,address)>,\n <Function createStrategy(address,address,tuple[2])>,\n <Function deleteStrategy(uint256)>,\n <Function getRoleAdmin(bytes32)>,\n <Function getRoleMember(bytes32,uint256)>,\n <Function getRoleMemberCount(bytes32)>,\n <Function grantRole(bytes32,address)>,\n <Function hasRole(bytes32,address)>,\n <Function initialize()>,\n <Function pair(address,address)>,\n <Function pairTradingFeePPM(address,address)>,\n <Function pairs()>,\n <Function pause()>,\n <Function paused()>,\n <Function postUpgrade(bytes)>,\n <Function renounceRole(bytes32,address)>,\n <Function revokeRole(bytes32,address)>,\n <Function roleAdmin()>,\n <Function roleEmergencyStopper()>,\n <Function roleFeesManager()>,\n <Function setPairTradingFeePPM(address,address,uint32)>,\n <Function setTradingFeePPM(uint32)>,\n <Function strategiesByPair(address,address,uint256,uint256)>,\n <Function strategiesByPairCount(address,address)>,\n <Function strategy(uint256)>,\n <Function supportsInterface(bytes4)>,\n <Function tradeBySourceAmount(address,address,tuple[],uint256,uint128)>,\n <Function tradeByTargetAmount(address,address,tuple[],uint256,uint128)>,\n <Function tradingFeePPM()>,\n <Function unpause()>,\n <Function updateStrategy(uint256,tuple[2],tuple[2])>,\n <Function version()>,\n <Function withdrawFees(address,uint256,address)>]"
     },
     "execution_count": 45,
     "metadata": {},
     "output_type": "execute_result"
    }
   ],
   "source": [
    "carbon_controller.all_functions()"
   ],
   "metadata": {
    "collapsed": false,
    "ExecuteTime": {
     "end_time": "2023-08-08T19:12:55.438493Z",
     "start_time": "2023-08-08T19:12:55.424881Z"
    }
   },
   "id": "9eeb8a8e577f2aec"
  },
  {
   "cell_type": "code",
   "execution_count": 44,
   "outputs": [
    {
     "data": {
      "text/plain": "[(8847341539944400050047739793225973497903,\n  '0x245A0838F3ef2aB66BAb0D4a82eE17Eb0B4eA5BC',\n  ['0x514910771AF9Ca656af840dff83E8264EcF986CA',\n   '0xA0b86991c6218b36c1d19D4a2e9Eb0cE3606eB48'],\n  [(0, 0, 0, 0), (0, 0, 0, 0)])]"
     },
     "execution_count": 44,
     "metadata": {},
     "output_type": "execute_result"
    }
   ],
   "source": [
    "carbon_controller.caller.strategiesByPair(\n",
    "    manager.cfg.USDC_ADDRESS, manager.cfg.LINK_ADDRESS, 0, 0\n",
    ")"
   ],
   "metadata": {
    "collapsed": false,
    "ExecuteTime": {
     "end_time": "2023-08-08T19:07:10.406521Z",
     "start_time": "2023-08-08T19:07:09.849358Z"
    }
   },
   "id": "e3320ba7e3eabba1"
  },
  {
   "cell_type": "markdown",
   "id": "aa01b503",
   "metadata": {},
   "source": [
    "## test_update_from_event_uniswap_v3"
   ]
  },
  {
   "cell_type": "code",
   "execution_count": 9,
   "id": "2baa6f73",
   "metadata": {
    "ExecuteTime": {
     "end_time": "2023-08-08T18:34:25.672810Z",
     "start_time": "2023-08-08T18:34:25.670870Z"
    }
   },
   "outputs": [],
   "source": [
    "event = event_data['uniswap_v3_event']\n",
    "\n",
    "assert event['args']['liquidity'] != [pool['liquidity'] for pool in manager.pool_data if pool['address'] == event['address']][0]\n",
    "\n",
    "manager.update_from_event(event)\n",
    "\n",
    "assert event['address'] in [pool['address'] for pool in manager.pool_data]\n",
    "assert event['args']['liquidity'] == [pool['liquidity'] for pool in manager.pool_data if pool['address'] == event['address']][0]"
   ]
  },
  {
   "cell_type": "markdown",
   "id": "c1f8f821",
   "metadata": {},
   "source": []
  },
  {
   "cell_type": "markdown",
   "id": "b14ead21",
   "metadata": {},
   "source": [
    "## test_update_from_event_carbon_v1_update"
   ]
  },
  {
   "cell_type": "code",
   "execution_count": 10,
   "id": "71334cab",
   "metadata": {
    "ExecuteTime": {
     "end_time": "2023-08-08T18:34:25.677715Z",
     "start_time": "2023-08-08T18:34:25.675979Z"
    }
   },
   "outputs": [],
   "source": [
    "event = event_data['carbon_v1_event_update']\n",
    "assert event['args']['order0'][0] != [pool['y_0'] for pool in manager.pool_data if pool['cid'] == event['args']['id']][0]\n",
    "\n",
    "manager.update_from_event(event)\n",
    "\n",
    "assert event['args']['order0'][0] == [pool['y_0'] for pool in manager.pool_data if pool['cid'] == event['args']['id']][0]"
   ]
  },
  {
   "cell_type": "markdown",
   "id": "a34a2862",
   "metadata": {},
   "source": [
    "## test_update_from_event_carbon_v1_create\n"
   ]
  },
  {
   "cell_type": "code",
   "execution_count": 11,
   "id": "71d67e1c",
   "metadata": {
    "ExecuteTime": {
     "end_time": "2023-08-08T18:34:27.157420Z",
     "start_time": "2023-08-08T18:34:25.681997Z"
    }
   },
   "outputs": [],
   "source": [
    "event = event_data['carbon_v1_event_create']\n",
    "manager.pool_data = [pool for pool in manager.pool_data if pool['cid'] != event['args']['id']]\n",
    "assert event['args']['id'] not in [pool['cid'] for pool in manager.pool_data]\n",
    "\n",
    "manager.update_from_event(event)\n",
    "\n",
    "assert event['args']['id'] in [pool['cid'] for pool in manager.pool_data]"
   ]
  },
  {
   "cell_type": "markdown",
   "id": "8d818585",
   "metadata": {},
   "source": [
    "## test_update_from_event_carbon_v1_delete"
   ]
  },
  {
   "cell_type": "code",
   "execution_count": 12,
   "id": "452029c9",
   "metadata": {
    "ExecuteTime": {
     "end_time": "2023-08-08T18:34:28.534133Z",
     "start_time": "2023-08-08T18:34:27.163654Z"
    }
   },
   "outputs": [],
   "source": [
    "event = event_data['carbon_v1_event_create']\n",
    "manager.pool_data = [pool for pool in manager.pool_data if pool['cid'] != event['args']['id']]\n",
    "assert event['args']['id'] not in [pool['cid'] for pool in manager.pool_data]\n",
    "\n",
    "manager.update_from_event(event)\n",
    "\n",
    "assert event['args']['id'] in [pool['cid'] for pool in manager.pool_data]\n",
    "\n",
    "event['event'] = 'StrategyDeleted'\n",
    "\n",
    "manager.update_from_event(event)\n",
    "\n",
    "assert event['args']['id'] not in [pool['cid'] for pool in manager.pool_data]"
   ]
  },
  {
   "cell_type": "markdown",
   "id": "1cfa616d",
   "metadata": {},
   "source": []
  }
 ],
 "metadata": {
  "jupytext": {
   "formats": "ipynb,py:light"
  },
  "kernelspec": {
   "display_name": "Python 3",
   "language": "python",
   "name": "python3"
  },
  "language_info": {
   "codemirror_mode": {
    "name": "ipython",
    "version": 3
   },
   "file_extension": ".py",
   "mimetype": "text/x-python",
   "name": "python",
   "nbconvert_exporter": "python",
   "pygments_lexer": "ipython3",
   "version": "3.8.8"
  }
 },
 "nbformat": 4,
 "nbformat_minor": 5
}
