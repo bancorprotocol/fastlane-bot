{
 "cells": [
  {
   "cell_type": "code",
   "execution_count": 1,
   "id": "cc40bc23-abde-4094-abec-419f0a7fa81e",
   "metadata": {},
   "outputs": [
    {
     "name": "stdout",
     "output_type": "stream",
     "text": [
      "imported m, np, pd, plt, os, sys, decimal; defined iseq, raises, require, Timer\n"
     ]
    }
   ],
   "source": [
    "try:\n",
    "    #from fastlane_bot.tools.moo import meh\n",
    "    from fastlane_bot.testing import *\n",
    "\n",
    "except:\n",
    "    #from tools.moo import meh\n",
    "    from tools.testing import *\n",
    "\n",
    "# print(\"{0.__name__} v{0.__VERSION__} ({0.__DATE__})\".format(meh))\n",
    "\n",
    "# plt.style.use('seaborn-dark')\n",
    "# plt.rcParams['figure.figsize'] = [12,6]\n",
    "# from fastlane_bot import __VERSION__\n",
    "# require(\"2.0\", __VERSION__)"
   ]
  },
  {
   "cell_type": "markdown",
   "id": "b3f59f14-b91b-4dba-94b0-3d513aaf41c7",
   "metadata": {},
   "source": [
    "# TEMPLATE [NBTest000]"
   ]
  },
  {
   "cell_type": "markdown",
   "id": "c8f94cd0-c655-4910-8dad-bd8759def41a",
   "metadata": {},
   "source": [
    "The section before the first `# ## Heading2` is for common code that is executed BEFORE the tests are run. It is rarely necessary to put code here."
   ]
  },
  {
   "cell_type": "code",
   "execution_count": 2,
   "id": "f0b427c5-a53c-4efd-adbf-e66cf5488a58",
   "metadata": {},
   "outputs": [],
   "source": [
    "MYVAR0 = 0"
   ]
  },
  {
   "cell_type": "markdown",
   "id": "c86f5eb5-7731-4776-87e9-7fd4acadf906",
   "metadata": {},
   "source": [
    "## Demo section [NOTEST]\n",
    "\n",
    "_this optional section is for demo purposes and it does not generate tests (inidcated by the trailing `[NOTEST`_\n",
    "\n",
    "- slow running not test relevant code SHOULD go here\n",
    "- code producing charts or code reading data not available in the testing environment MUST go here\n",
    "- any Heading 2 section can be market `[NOTEST]` regarding of location"
   ]
  },
  {
   "cell_type": "code",
   "execution_count": 3,
   "id": "27bf2d08-f9af-43b1-9a11-cdb49699ba01",
   "metadata": {},
   "outputs": [],
   "source": [
    "pass"
   ]
  },
  {
   "cell_type": "markdown",
   "id": "49ba4b05-0e77-405b-8c54-383a9a34c0a5",
   "metadata": {},
   "source": [
    "## Section 1\n",
    "\n",
    "This section will be converted to a function named `test_section_1()` therefore it is important to only have alphanumerics or underscore in the title.\n",
    "\n",
    "Note: Heading 3 and below are only decorative and should be used liberally."
   ]
  },
  {
   "cell_type": "markdown",
   "id": "a62125f4-20d9-4391-a185-33191d7cad85",
   "metadata": {},
   "source": [
    "### Using `iseq`\n",
    "\n",
    "`iseq` should be used for `float` comparisons; syntax is `iseq(a,b,c,...)` and they all must be equal to `a` for it not to fail."
   ]
  },
  {
   "cell_type": "code",
   "execution_count": 4,
   "id": "d0ea4db6-bb1d-4206-95c2-1e04a896064a",
   "metadata": {},
   "outputs": [],
   "source": [
    "assert m.sqrt(2) != 1.414213562373095\n",
    "assert iseq(m.sqrt(2), 1.414213562373095)"
   ]
  },
  {
   "cell_type": "markdown",
   "id": "5368f5e4-39a4-4f52-b541-7eb41026d222",
   "metadata": {},
   "source": [
    "### Using `raises`\n",
    "\n",
    "With raisese you can check whether a function call raises; eg to check if `f(a,b=b)` raises you do\n",
    "\n",
    "    assert raises(f, a, b=b) == <message>\n",
    "    "
   ]
  },
  {
   "cell_type": "code",
   "execution_count": 5,
   "id": "9e53b6a1-49ba-44df-98e6-cfb1f88862fb",
   "metadata": {},
   "outputs": [],
   "source": [
    "inv = lambda x: 1/x\n",
    "assert inv(2) == 0.5\n",
    "assert raises(inv, 0) == 'division by zero'"
   ]
  },
  {
   "cell_type": "markdown",
   "id": "c16652cc-c2f1-4944-9e21-053b11e9d31c",
   "metadata": {},
   "source": [
    "### Variable scope\n",
    "\n",
    "see next section"
   ]
  },
  {
   "cell_type": "code",
   "execution_count": 6,
   "id": "d9dcbbeb-d946-473a-9f30-30cfd392aa44",
   "metadata": {},
   "outputs": [],
   "source": [
    "MYVAR1 = 1\n",
    "assert MYVAR1 == 1\n",
    "assert MYVAR0 == 0"
   ]
  },
  {
   "cell_type": "markdown",
   "id": "b431a232-235b-44a3-b659-6ce1dee2d428",
   "metadata": {},
   "source": [
    "## Section 2\n",
    "\n",
    "This is a new Heading two and therefor a new function, in this case called `test_section_2()`. Note the variables defined in a previous scope are not defined here."
   ]
  },
  {
   "cell_type": "code",
   "execution_count": 7,
   "id": "79e55675-27f5-4b13-b459-c05e40f78426",
   "metadata": {},
   "outputs": [],
   "source": [
    "myvar1 = lambda: MYVAR1"
   ]
  },
  {
   "cell_type": "code",
   "execution_count": 8,
   "id": "14e0c77c-d89a-4a1e-b990-e16c70408abd",
   "metadata": {},
   "outputs": [],
   "source": [
    "assert MYVAR0 == 0"
   ]
  },
  {
   "cell_type": "code",
   "execution_count": 9,
   "id": "6191996c-ca8c-49ba-91ce-3e7f98408a24",
   "metadata": {},
   "outputs": [],
   "source": [
    "#myvar1() == 1 # ONLY True in the Notebook"
   ]
  },
  {
   "cell_type": "code",
   "execution_count": 10,
   "id": "c69c2e95-c9a4-4ac2-8bbb-86b1dc5db6a0",
   "metadata": {},
   "outputs": [
    {
     "ename": "AssertionError",
     "evalue": "",
     "output_type": "error",
     "traceback": [
      "\u001b[0;31m---------------------------------------------------------------------------\u001b[0m",
      "\u001b[0;31mAssertionError\u001b[0m                            Traceback (most recent call last)",
      "Cell \u001b[0;32mIn[10], line 1\u001b[0m\n\u001b[0;32m----> 1\u001b[0m \u001b[38;5;28;01massert\u001b[39;00m raises (myvar1) \u001b[38;5;241m==\u001b[39m \u001b[38;5;124m\"\u001b[39m\u001b[38;5;124mname \u001b[39m\u001b[38;5;124m'\u001b[39m\u001b[38;5;124mMYVAR1\u001b[39m\u001b[38;5;124m'\u001b[39m\u001b[38;5;124m is not defined\u001b[39m\u001b[38;5;124m\"\u001b[39m\n",
      "\u001b[0;31mAssertionError\u001b[0m: "
     ]
    }
   ],
   "source": [
    "assert raises (myvar1) == \"name 'MYVAR1' is not defined\" # ONLY True in tests"
   ]
  },
  {
   "cell_type": "code",
   "execution_count": null,
   "id": "b36bd25e-3985-4522-97b1-18a196dde125",
   "metadata": {},
   "outputs": [],
   "source": []
  }
 ],
 "metadata": {
  "jupytext": {
   "encoding": "# -*- coding: utf-8 -*-",
   "formats": "ipynb,py:light"
  },
  "kernelspec": {
   "display_name": "Python 3 (ipykernel)",
   "language": "python",
   "name": "python3"
  },
  "language_info": {
   "codemirror_mode": {
    "name": "ipython",
    "version": 3
   },
   "file_extension": ".py",
   "mimetype": "text/x-python",
   "name": "python",
   "nbconvert_exporter": "python",
   "pygments_lexer": "ipython3",
   "version": "3.11.8"
  }
 },
 "nbformat": 4,
 "nbformat_minor": 5
}
