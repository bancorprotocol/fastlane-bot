{
 "cells": [
  {
   "cell_type": "code",
   "execution_count": 1,
   "id": "84fa264b",
   "metadata": {
    "ExecuteTime": {
     "end_time": "2023-09-20T16:38:13.336965Z",
     "start_time": "2023-09-20T16:38:10.018528Z"
    }
   },
   "outputs": [
    {
     "name": "stdout",
     "output_type": "stream",
     "text": [
      "ConstantProductCurve v3.2 (15/Sep/2023)\n",
      "CarbonBot v3-b2.2 (20/June/2023)\n",
      "UniswapV2 v0.0.2 (2023-08-27)\n",
      "UniswapV3 v0.0.2 (2023-08-27)\n",
      "SushiswapV2 v0.0.2 (2023-08-27)\n",
      "CarbonV1 v0.0.2 (2023-08-27)\n",
      "BancorV3 v0.0.2 (2023-08-27)\n",
      "imported m, np, pd, plt, os, sys, decimal; defined iseq, raises, require\n",
      "Version = 3-b2.2 [requirements >= 3.0 is met]\n"
     ]
    }
   ],
   "source": [
    "# coding=utf-8\n",
    "\"\"\"\n",
    "This module contains the tests for the exchanges classes\n",
    "\"\"\"\n",
    "from fastlane_bot import Bot, Config\n",
    "from fastlane_bot.bot import CarbonBot\n",
    "from fastlane_bot.tools.cpc import ConstantProductCurve\n",
    "from fastlane_bot.tools.cpc import ConstantProductCurve as CPC\n",
    "from fastlane_bot.events.exchanges import UniswapV2, UniswapV3, SushiswapV2, CarbonV1, BancorV3\n",
    "from fastlane_bot.events.interface import QueryInterface\n",
    "from fastlane_bot.helpers.poolandtokens import PoolAndTokens\n",
    "from fastlane_bot.helpers import TradeInstruction, TxReceiptHandler, TxRouteHandler, TxSubmitHandler, TxHelpers, TxHelper\n",
    "from fastlane_bot.events.managers.manager import Manager\n",
    "from fastlane_bot.events.interface import QueryInterface\n",
    "from joblib import Parallel, delayed\n",
    "import pytest\n",
    "import math\n",
    "import json\n",
    "print(\"{0.__name__} v{0.__VERSION__} ({0.__DATE__})\".format(CPC))\n",
    "print(\"{0.__name__} v{0.__VERSION__} ({0.__DATE__})\".format(Bot))\n",
    "print(\"{0.__name__} v{0.__VERSION__} ({0.__DATE__})\".format(UniswapV2))\n",
    "print(\"{0.__name__} v{0.__VERSION__} ({0.__DATE__})\".format(UniswapV3))\n",
    "print(\"{0.__name__} v{0.__VERSION__} ({0.__DATE__})\".format(SushiswapV2))\n",
    "print(\"{0.__name__} v{0.__VERSION__} ({0.__DATE__})\".format(CarbonV1))\n",
    "print(\"{0.__name__} v{0.__VERSION__} ({0.__DATE__})\".format(BancorV3))\n",
    "from fastlane_bot.testing import *\n",
    "from fastlane_bot.modes import triangle_single_bancor3\n",
    "#plt.style.use('seaborn-dark')\n",
    "plt.rcParams['figure.figsize'] = [12,6]\n",
    "from fastlane_bot import __VERSION__\n",
    "require(\"3.0\", __VERSION__)"
   ]
  },
  {
   "cell_type": "markdown",
   "id": "8330c7f2",
   "metadata": {},
   "source": [
    "# Bancor V3 Mode [NB038]"
   ]
  },
  {
   "cell_type": "code",
   "execution_count": 2,
   "id": "f6a5d9e3",
   "metadata": {
    "ExecuteTime": {
     "end_time": "2023-09-20T16:38:16.989306Z",
     "start_time": "2023-09-20T16:38:13.334917Z"
    }
   },
   "outputs": [
    {
     "name": "stderr",
     "output_type": "stream",
     "text": [
      "2023-09-21 00:36:59,877 [fastlane:INFO] - \n",
      "2023-09-21 00:36:59,878 [fastlane:INFO] - **********************************************\n",
      "2023-09-21 00:36:59,879 [fastlane:INFO] - The logging path is set to: logs/20230921-003659\\bot.log\n",
      "2023-09-21 00:36:59,879 [fastlane:INFO] - **********************************************\n",
      "2023-09-21 00:36:59,880 [fastlane:INFO] - \n",
      "2023-09-21 00:37:02,582 [fastlane:INFO] - Retrieved 169 carbon pairs from contract\n",
      "2023-09-21 00:37:04,180 [fastlane:INFO] - Time taken to add initial pools: 0.14160776138305664\n",
      "2023-09-21 00:37:04,184 [fastlane:INFO] - Initializing the bot...\n",
      "2023-09-21 00:37:04,366 [fastlane:INFO] - Removed 3242 unmapped uniswap_v2/sushi pools. 1897 uniswap_v2/sushi pools remaining\n",
      "2023-09-21 00:37:04,367 [fastlane:INFO] - Unmapped uniswap_v2/sushi pools:\n",
      "2023-09-21 00:37:04,511 [fastlane:INFO] - uniswap_v3: 0\n",
      "2023-09-21 00:37:04,512 [fastlane:INFO] - uniswap_v2: 3242\n",
      "2023-09-21 00:37:04,513 [fastlane:INFO] - sushiswap_v2: 0\n",
      "2023-09-21 00:37:04,514 [fastlane:INFO] - uniswap_v3: 636\n",
      "2023-09-21 00:37:04,515 [fastlane:INFO] - sushiswap_v2: 78\n",
      "2023-09-21 00:37:04,515 [fastlane:INFO] - uniswap_v2: 0\n",
      "2023-09-21 00:37:04,516 [fastlane:INFO] - bancor_v2: 0\n",
      "2023-09-21 00:37:04,517 [fastlane:INFO] - bancor_v3: 34\n",
      "2023-09-21 00:37:04,517 [fastlane:INFO] - bancor_pol: 0\n",
      "2023-09-21 00:37:04,518 [fastlane:INFO] - carbon_v1: 119\n",
      "2023-09-21 00:37:04,539 [fastlane:INFO] - uniswap_v3_zero_liquidity_pools: 858\n",
      "2023-09-21 00:37:04,540 [fastlane:INFO] - sushiswap_v2_zero_liquidity_pools: 34\n",
      "2023-09-21 00:37:04,541 [fastlane:INFO] - uniswap_v2_zero_liquidity_pools: 0\n",
      "2023-09-21 00:37:04,541 [fastlane:INFO] - bancor_v2_zero_liquidity_pools: 0\n",
      "2023-09-21 00:37:04,542 [fastlane:INFO] - bancor_v3_zero_liquidity_pools: 37\n",
      "2023-09-21 00:37:04,542 [fastlane:INFO] - bancor_pol_zero_liquidity_pools: 0\n",
      "2023-09-21 00:37:04,543 [fastlane:INFO] - carbon_v1_zero_liquidity_pools: 101\n",
      "2023-09-21 00:37:04,544 [fastlane:INFO] - Removed 0 unsupported exchanges. 867 pools remaining\n",
      "2023-09-21 00:37:04,544 [fastlane:INFO] - Pools remaining per exchange:\n",
      "2023-09-21 00:37:04,545 [fastlane:INFO] - bancor_v3: 34\n",
      "2023-09-21 00:37:04,545 [fastlane:INFO] - uniswap_v2: 0\n",
      "2023-09-21 00:37:04,546 [fastlane:INFO] - sushiswap_v2: 78\n",
      "2023-09-21 00:37:04,546 [fastlane:INFO] - uniswap_v3: 636\n",
      "2023-09-21 00:37:04,547 [fastlane:INFO] - carbon_v1: 119\n"
     ]
    }
   ],
   "source": [
    "C = cfg = Config.new(config=Config.CONFIG_MAINNET)\n",
    "C.DEFAULT_MIN_PROFIT_BNT = 50\n",
    "C.DEFAULT_MIN_PROFIT = 50\n",
    "cfg.DEFAULT_MIN_PROFIT_BNT = 50\n",
    "cfg.DEFAULT_MIN_PROFIT = 50\n",
    "assert (C.NETWORK == C.NETWORK_MAINNET)\n",
    "assert (C.PROVIDER == C.PROVIDER_ALCHEMY)\n",
    "setup_bot = CarbonBot(ConfigObj=C)\n",
    "pools = None\n",
    "with open('fastlane_bot/data/tests/latest_pool_data_testing.json') as f:\n",
    "    pools = json.load(f)\n",
    "pools = [pool for pool in pools]\n",
    "pools[0]\n",
    "static_pools = pools\n",
    "state = pools\n",
    "exchanges = list({ex['exchange_name'] for ex in state})\n",
    "db = QueryInterface(state=state, ConfigObj=C, exchanges=exchanges)\n",
    "setup_bot.db = db\n",
    "\n",
    "static_pool_data_filename = \"static_pool_data\"\n",
    "\n",
    "static_pool_data = pd.read_csv(f\"fastlane_bot/data/{static_pool_data_filename}.csv\", low_memory=False)\n",
    "    \n",
    "uniswap_v2_event_mappings = pd.read_csv(\"fastlane_bot/data/uniswap_v2_event_mappings.csv\", low_memory=False)\n",
    "        \n",
    "tokens = pd.read_csv(\"fastlane_bot/data/tokens.csv\", low_memory=False)\n",
    "        \n",
    "exchanges = \"carbon_v1,bancor_v3,uniswap_v3,uniswap_v2,sushiswap_v2\"\n",
    "\n",
    "exchanges = exchanges.split(\",\")\n",
    "\n",
    "\n",
    "alchemy_max_block_fetch = 20\n",
    "static_pool_data[\"cid\"] = [\n",
    "        cfg.w3.keccak(text=f\"{row['descr']}\").hex()\n",
    "        for index, row in static_pool_data.iterrows()\n",
    "    ]\n",
    "# Filter out pools that are not in the supported exchanges\n",
    "static_pool_data = [\n",
    "    row for index, row in static_pool_data.iterrows()\n",
    "    if row[\"exchange_name\"] in exchanges\n",
    "]\n",
    "\n",
    "static_pool_data = pd.DataFrame(static_pool_data)\n",
    "static_pool_data['exchange_name'].unique()\n",
    "# Initialize data fetch manager\n",
    "mgr = Manager(\n",
    "    web3=cfg.w3,\n",
    "    cfg=cfg,\n",
    "    pool_data=static_pool_data.to_dict(orient=\"records\"),\n",
    "    SUPPORTED_EXCHANGES=exchanges,\n",
    "    alchemy_max_block_fetch=alchemy_max_block_fetch,\n",
    "    uniswap_v2_event_mappings=uniswap_v2_event_mappings,\n",
    "    tokens=tokens.to_dict(orient=\"records\"),\n",
    ")\n",
    "\n",
    "# Add initial pools for each row in the static_pool_data\n",
    "start_time = time.time()\n",
    "Parallel(n_jobs=-1, backend=\"threading\")(\n",
    "    delayed(mgr.add_pool_to_exchange)(row) for row in mgr.pool_data\n",
    ")\n",
    "cfg.logger.info(f\"Time taken to add initial pools: {time.time() - start_time}\")\n",
    "\n",
    "# check if any duplicate cid's exist in the pool data\n",
    "mgr.deduplicate_pool_data()\n",
    "cids = [pool[\"cid\"] for pool in mgr.pool_data]\n",
    "assert len(cids) == len(set(cids)), \"duplicate cid's exist in the pool data\"\n",
    "def init_bot(mgr: Manager) -> CarbonBot:\n",
    "    \"\"\"\n",
    "    Initializes the bot.\n",
    "\n",
    "    Parameters\n",
    "    ----------\n",
    "    mgr : Manager\n",
    "        The manager object.\n",
    "\n",
    "    Returns\n",
    "    -------\n",
    "    CarbonBot\n",
    "        The bot object.\n",
    "    \"\"\"\n",
    "    mgr.cfg.logger.info(\"Initializing the bot...\")\n",
    "    bot = CarbonBot(ConfigObj=mgr.cfg)\n",
    "    bot.db = db\n",
    "    bot.db.mgr = mgr\n",
    "    assert isinstance(\n",
    "        bot.db, QueryInterface\n",
    "    ), \"QueryInterface not initialized correctly\"\n",
    "    return bot\n",
    "bot = init_bot(mgr)\n",
    "# add data cleanup steps from main.py\n",
    "bot.db.handle_token_key_cleanup()\n",
    "bot.db.remove_unmapped_uniswap_v2_pools()\n",
    "bot.db.remove_zero_liquidity_pools()\n",
    "bot.db.remove_unsupported_exchanges()\n",
    "tokens = bot.db.get_tokens()\n",
    "ADDRDEC = {t.key: (t.address, int(t.decimals)) for t in tokens if not math.isnan(t.decimals)}\n",
    "flashloan_tokens = bot.setup_flashloan_tokens(None)\n",
    "CCm = bot.setup_CCm(None)\n",
    "pools = db.get_pool_data_with_tokens()\n",
    "\n",
    "arb_mode = \"bancor_v3\""
   ]
  },
  {
   "cell_type": "code",
   "execution_count": 3,
   "id": "f729b8dd",
   "metadata": {
    "ExecuteTime": {
     "end_time": "2023-09-20T16:38:16.992334Z",
     "start_time": "2023-09-20T16:38:16.989380Z"
    }
   },
   "outputs": [],
   "source": [
    "#single = bot._run(flashloan_tokens=flashloan_tokens, CCm=CCm, arb_mode=arb_mode, data_validator=False, result=\"calc_trade_instr\")"
   ]
  },
  {
   "cell_type": "code",
   "execution_count": 4,
   "id": "48e2f5a1",
   "metadata": {
    "ExecuteTime": {
     "end_time": "2023-09-20T16:38:17.243760Z",
     "start_time": "2023-09-20T16:38:16.992557Z"
    },
    "lines_to_next_cell": 2
   },
   "outputs": [
    {
     "name": "stderr",
     "output_type": "stream",
     "text": [
      "2023-09-21 00:37:04,637 [fastlane:WARNING] - base_exchange must be bancor_v3 for single_triangle_bancor3, setting it to bancor_v3\n",
      "2023-09-21 00:37:04,638 [fastlane:INFO] - flashloan_tokens for arb_mode=single_triangle_bancor3 will be overwritten. \n",
      "2023-09-21 00:37:04,639 [fastlane:INFO] - limiting flashloan_tokens to ['WBTC-C599', 'WETH-6Cc2', 'DAI-1d0F', 'USDT-1ec7', 'USDC-eB48']\n",
      "c:\\Users\\Kveen\\PycharmProjects\\fastlane-bot\\resources\\NBTest\\fastlane_bot\\tools\\cpc.py:1434: RuntimeWarning: divide by zero encountered in scalar divide\n",
      "  p = pvec[self.tknx] / pvec[self.tkny]\n",
      "c:\\Users\\Kveen\\PycharmProjects\\fastlane-bot\\resources\\NBTest\\fastlane_bot\\tools\\optimizer\\margpoptimizer.py:63: RuntimeWarning: invalid value encountered in subtract\n",
      "  jac[:, j] = (func(x_plus, quiet=True) - y) / Dxj\n",
      "c:\\Users\\Kveen\\PycharmProjects\\fastlane-bot\\resources\\NBTest\\fastlane_bot\\tools\\cpc.py:1434: RuntimeWarning: divide by zero encountered in scalar divide\n",
      "  p = pvec[self.tknx] / pvec[self.tkny]\n",
      "c:\\Users\\Kveen\\PycharmProjects\\fastlane-bot\\resources\\NBTest\\fastlane_bot\\tools\\optimizer\\margpoptimizer.py:63: RuntimeWarning: invalid value encountered in subtract\n",
      "  jac[:, j] = (func(x_plus, quiet=True) - y) / Dxj\n",
      "c:\\Users\\Kveen\\PycharmProjects\\fastlane-bot\\resources\\NBTest\\fastlane_bot\\tools\\cpc.py:1434: RuntimeWarning: divide by zero encountered in scalar divide\n",
      "  p = pvec[self.tknx] / pvec[self.tkny]\n",
      "c:\\Users\\Kveen\\PycharmProjects\\fastlane-bot\\resources\\NBTest\\fastlane_bot\\tools\\optimizer\\margpoptimizer.py:63: RuntimeWarning: invalid value encountered in subtract\n",
      "  jac[:, j] = (func(x_plus, quiet=True) - y) / Dxj\n",
      "c:\\Users\\Kveen\\PycharmProjects\\fastlane-bot\\resources\\NBTest\\fastlane_bot\\tools\\cpc.py:1434: RuntimeWarning: divide by zero encountered in scalar divide\n",
      "  p = pvec[self.tknx] / pvec[self.tkny]\n",
      "c:\\Users\\Kveen\\PycharmProjects\\fastlane-bot\\resources\\NBTest\\fastlane_bot\\tools\\optimizer\\margpoptimizer.py:63: RuntimeWarning: invalid value encountered in subtract\n",
      "  jac[:, j] = (func(x_plus, quiet=True) - y) / Dxj\n"
     ]
    }
   ],
   "source": [
    "arb_finder = bot._get_arb_finder(\"bancor_v3\")\n",
    "finder = arb_finder(\n",
    "            flashloan_tokens=flashloan_tokens,\n",
    "            CCm=CCm,\n",
    "            mode=\"bothin\",\n",
    "            result=False,\n",
    "            ConfigObj=bot.ConfigObj,\n",
    "        )\n",
    "r = finder.find_arbitrage()\n",
    "(\n",
    "            best_profit,\n",
    "            best_trade_instructions_df,\n",
    "            best_trade_instructions_dic,\n",
    "            best_src_token,\n",
    "            best_trade_instructions,\n",
    "        ) = r\n",
    "(\n",
    "ordered_trade_instructions_dct,\n",
    "tx_in_count,\n",
    ") = bot._simple_ordering_by_src_token(\n",
    "best_trade_instructions_dic, best_src_token\n",
    ")"
   ]
  },
  {
   "cell_type": "code",
   "execution_count": 5,
   "id": "d99f5934",
   "metadata": {
    "ExecuteTime": {
     "end_time": "2023-09-20T16:38:17.491641Z",
     "start_time": "2023-09-20T16:38:17.244922Z"
    },
    "lines_to_next_cell": 0
   },
   "outputs": [
    {
     "name": "stderr",
     "output_type": "stream",
     "text": [
      "2023-09-21 00:37:04,953 [fastlane:WARNING] - base_exchange must be bancor_v3 for single_triangle_bancor3, setting it to bancor_v3\n",
      "2023-09-21 00:37:04,953 [fastlane:INFO] - flashloan_tokens for arb_mode=single_triangle_bancor3 will be overwritten. \n",
      "2023-09-21 00:37:04,955 [fastlane:INFO] - limiting flashloan_tokens to ['WBTC-C599', 'WETH-6Cc2', 'DAI-1d0F', 'USDT-1ec7', 'USDC-eB48']\n",
      "c:\\Users\\Kveen\\PycharmProjects\\fastlane-bot\\resources\\NBTest\\fastlane_bot\\tools\\cpc.py:1434: RuntimeWarning: divide by zero encountered in scalar divide\n",
      "  p = pvec[self.tknx] / pvec[self.tkny]\n",
      "c:\\Users\\Kveen\\PycharmProjects\\fastlane-bot\\resources\\NBTest\\fastlane_bot\\tools\\optimizer\\margpoptimizer.py:63: RuntimeWarning: invalid value encountered in subtract\n",
      "  jac[:, j] = (func(x_plus, quiet=True) - y) / Dxj\n",
      "c:\\Users\\Kveen\\PycharmProjects\\fastlane-bot\\resources\\NBTest\\fastlane_bot\\tools\\cpc.py:1434: RuntimeWarning: divide by zero encountered in scalar divide\n",
      "  p = pvec[self.tknx] / pvec[self.tkny]\n",
      "c:\\Users\\Kveen\\PycharmProjects\\fastlane-bot\\resources\\NBTest\\fastlane_bot\\tools\\optimizer\\margpoptimizer.py:63: RuntimeWarning: invalid value encountered in subtract\n",
      "  jac[:, j] = (func(x_plus, quiet=True) - y) / Dxj\n",
      "c:\\Users\\Kveen\\PycharmProjects\\fastlane-bot\\resources\\NBTest\\fastlane_bot\\tools\\cpc.py:1434: RuntimeWarning: divide by zero encountered in scalar divide\n",
      "  p = pvec[self.tknx] / pvec[self.tkny]\n",
      "c:\\Users\\Kveen\\PycharmProjects\\fastlane-bot\\resources\\NBTest\\fastlane_bot\\tools\\optimizer\\margpoptimizer.py:63: RuntimeWarning: invalid value encountered in subtract\n",
      "  jac[:, j] = (func(x_plus, quiet=True) - y) / Dxj\n",
      "c:\\Users\\Kveen\\PycharmProjects\\fastlane-bot\\resources\\NBTest\\fastlane_bot\\tools\\cpc.py:1434: RuntimeWarning: divide by zero encountered in scalar divide\n",
      "  p = pvec[self.tknx] / pvec[self.tkny]\n",
      "c:\\Users\\Kveen\\PycharmProjects\\fastlane-bot\\resources\\NBTest\\fastlane_bot\\tools\\optimizer\\margpoptimizer.py:63: RuntimeWarning: invalid value encountered in subtract\n",
      "  jac[:, j] = (func(x_plus, quiet=True) - y) / Dxj\n"
     ]
    }
   ],
   "source": [
    "arb_finder = bot._get_arb_finder(\"bancor_v3\")\n",
    "finder = arb_finder(\n",
    "            flashloan_tokens=flashloan_tokens,\n",
    "            CCm=CCm,\n",
    "            mode=\"bothin\",\n",
    "            result=False,\n",
    "            ConfigObj=bot.ConfigObj,\n",
    "        )\n",
    "r = finder.find_arbitrage()\n",
    "(\n",
    "            best_profit,\n",
    "            best_trade_instructions_df,\n",
    "            best_trade_instructions_dic,\n",
    "            best_src_token,\n",
    "            best_trade_instructions,\n",
    "        ) = r\n",
    "(\n",
    "ordered_trade_instructions_dct,\n",
    "tx_in_count,\n",
    ") = bot._simple_ordering_by_src_token(\n",
    "best_trade_instructions_dic, best_src_token\n",
    ")\n",
    "pool_cids = [curve['cid'] for curve in ordered_trade_instructions_dct]\n",
    "first_check_pools = finder.get_exact_pools(pool_cids)\n",
    "\n",
    "assert(len(first_check_pools) == 3), f\"[test_bancor_v3] Validation expected 3 pools, got {len(first_check_pools)}\"\n",
    "for pool in first_check_pools:\n",
    "    assert type(pool) == ConstantProductCurve, f\"[test_bancor_v3] Validation pool type mismatch, got {type(pool)} expected ConstantProductCurve\"\n",
    "    assert pool.cid in pool_cids, f\"[test_bancor_v3] Validation missing pool.cid {pool.cid} in {pool_cids}\"\n",
    "optimal_arb = finder.get_optimal_arb_trade_amts(pool_cids, 'BNT-FF1C')\n",
    "assert type(optimal_arb) == float, f\"[test_bancor_v3] Optimal arb calculation type is {type(optimal_arb)} not float\"\n",
    "assert iseq(optimal_arb, 4051.1611717583105), f\"[test_bancor_v3] Optimal arb calculation type is {optimal_arb}, expected 4051.1611717583105\""
   ]
  },
  {
   "cell_type": "markdown",
   "id": "3df384fa",
   "metadata": {},
   "source": [
    "## Test_max_arb_trade_in_constant_product"
   ]
  },
  {
   "cell_type": "code",
   "execution_count": 6,
   "id": "00237dad",
   "metadata": {
    "ExecuteTime": {
     "end_time": "2023-09-20T16:38:17.746744Z",
     "start_time": "2023-09-20T16:38:17.494870Z"
    }
   },
   "outputs": [
    {
     "name": "stderr",
     "output_type": "stream",
     "text": [
      "2023-09-21 00:37:05,283 [fastlane:WARNING] - base_exchange must be bancor_v3 for single_triangle_bancor3, setting it to bancor_v3\n",
      "2023-09-21 00:37:05,284 [fastlane:INFO] - flashloan_tokens for arb_mode=single_triangle_bancor3 will be overwritten. \n",
      "2023-09-21 00:37:05,285 [fastlane:INFO] - limiting flashloan_tokens to ['WBTC-C599', 'WETH-6Cc2', 'DAI-1d0F', 'USDT-1ec7', 'USDC-eB48']\n",
      "c:\\Users\\Kveen\\PycharmProjects\\fastlane-bot\\resources\\NBTest\\fastlane_bot\\tools\\cpc.py:1434: RuntimeWarning: divide by zero encountered in scalar divide\n",
      "  p = pvec[self.tknx] / pvec[self.tkny]\n",
      "c:\\Users\\Kveen\\PycharmProjects\\fastlane-bot\\resources\\NBTest\\fastlane_bot\\tools\\optimizer\\margpoptimizer.py:63: RuntimeWarning: invalid value encountered in subtract\n",
      "  jac[:, j] = (func(x_plus, quiet=True) - y) / Dxj\n",
      "c:\\Users\\Kveen\\PycharmProjects\\fastlane-bot\\resources\\NBTest\\fastlane_bot\\tools\\cpc.py:1434: RuntimeWarning: divide by zero encountered in scalar divide\n",
      "  p = pvec[self.tknx] / pvec[self.tkny]\n",
      "c:\\Users\\Kveen\\PycharmProjects\\fastlane-bot\\resources\\NBTest\\fastlane_bot\\tools\\optimizer\\margpoptimizer.py:63: RuntimeWarning: invalid value encountered in subtract\n",
      "  jac[:, j] = (func(x_plus, quiet=True) - y) / Dxj\n",
      "c:\\Users\\Kveen\\PycharmProjects\\fastlane-bot\\resources\\NBTest\\fastlane_bot\\tools\\cpc.py:1434: RuntimeWarning: divide by zero encountered in scalar divide\n",
      "  p = pvec[self.tknx] / pvec[self.tkny]\n",
      "c:\\Users\\Kveen\\PycharmProjects\\fastlane-bot\\resources\\NBTest\\fastlane_bot\\tools\\optimizer\\margpoptimizer.py:63: RuntimeWarning: invalid value encountered in subtract\n",
      "  jac[:, j] = (func(x_plus, quiet=True) - y) / Dxj\n",
      "c:\\Users\\Kveen\\PycharmProjects\\fastlane-bot\\resources\\NBTest\\fastlane_bot\\tools\\cpc.py:1434: RuntimeWarning: divide by zero encountered in scalar divide\n",
      "  p = pvec[self.tknx] / pvec[self.tkny]\n",
      "c:\\Users\\Kveen\\PycharmProjects\\fastlane-bot\\resources\\NBTest\\fastlane_bot\\tools\\optimizer\\margpoptimizer.py:63: RuntimeWarning: invalid value encountered in subtract\n",
      "  jac[:, j] = (func(x_plus, quiet=True) - y) / Dxj\n"
     ]
    }
   ],
   "source": [
    "arb_finder = bot._get_arb_finder(\"bancor_v3\")\n",
    "finder = arb_finder(\n",
    "            flashloan_tokens=flashloan_tokens,\n",
    "            CCm=CCm,\n",
    "            mode=\"bothin\",\n",
    "            result=False,\n",
    "            ConfigObj=bot.ConfigObj,\n",
    "        )\n",
    "r = finder.find_arbitrage()\n",
    "(\n",
    "            best_profit,\n",
    "            best_trade_instructions_df,\n",
    "            best_trade_instructions_dic,\n",
    "            best_src_token,\n",
    "            best_trade_instructions,\n",
    "        ) = r\n",
    "(\n",
    "ordered_trade_instructions_dct,\n",
    "tx_in_count,\n",
    ") = bot._simple_ordering_by_src_token(\n",
    "best_trade_instructions_dic, best_src_token\n",
    ")\n",
    "pool_cids = [curve['cid'] for curve in ordered_trade_instructions_dct]\n",
    "first_check_pools = finder.get_exact_pools(pool_cids)\n",
    "\n",
    "flt='BNT-FF1C'\n",
    "\n",
    "tkn0 = finder.get_tkn(pool=first_check_pools[0], tkn_num=0)\n",
    "tkn1 = finder.get_tkn(pool=first_check_pools[0], tkn_num=1)\n",
    "tkn2 = finder.get_tkn(pool=first_check_pools[1], tkn_num=0)\n",
    "tkn5 = finder.get_tkn(pool=first_check_pools[2], tkn_num=0)\n",
    "p0t0 = first_check_pools[0].x_act if tkn0 == flt else first_check_pools[0].y_act\n",
    "p0t1 = first_check_pools[0].y_act if tkn0 == flt else first_check_pools[0].x_act\n",
    "p2t1 = first_check_pools[2].x_act if tkn5 == flt else first_check_pools[2].y_act\n",
    "p2t0 = first_check_pools[2].y_act if tkn5 == flt else first_check_pools[2].x_act\n",
    "p1t0 = first_check_pools[1].x if tkn1 == tkn2 else first_check_pools[1].y\n",
    "p1t1 = first_check_pools[1].y if tkn1 == tkn2 else first_check_pools[1].x\n",
    "fee0 = finder.get_fee_safe(first_check_pools[0].fee)\n",
    "fee1 = finder.get_fee_safe(first_check_pools[1].fee)\n",
    "fee2 = finder.get_fee_safe(first_check_pools[2].fee)\n",
    "optimal_arb_low_level_check = finder.max_arb_trade_in_constant_product(p0t0=p0t0, p0t1=p0t1, p1t0=p1t0, p1t1=p1t1, p2t0=p2t0, p2t1=p2t1,fee0=fee0, fee1=fee1, fee2=fee2)\n",
    "optimal_arb = finder.get_optimal_arb_trade_amts(pool_cids, flt)\n",
    "assert iseq(optimal_arb, optimal_arb_low_level_check), f\"[test_bancor_v3] Arb calculation result mismatch, pools likely ordered incorrectly\""
   ]
  },
  {
   "cell_type": "markdown",
   "id": "c9208b5f",
   "metadata": {},
   "source": [
    "## Test_get_fee_safe"
   ]
  },
  {
   "cell_type": "code",
   "execution_count": 7,
   "id": "f34d63cc",
   "metadata": {
    "ExecuteTime": {
     "end_time": "2023-09-20T16:38:17.750396Z",
     "start_time": "2023-09-20T16:38:17.747715Z"
    }
   },
   "outputs": [],
   "source": [
    "arb_finder = bot._get_arb_finder(\"bancor_v3\")\n",
    "finder = arb_finder(\n",
    "            flashloan_tokens=flashloan_tokens,\n",
    "            CCm=CCm,\n",
    "            mode=\"bothin\",\n",
    "            result=False,\n",
    "            ConfigObj=bot.ConfigObj,\n",
    "        )\n",
    "ext_fee = finder.get_fee_safe(first_check_pools[1].fee)\n",
    "assert type(ext_fee) == float, f\"[test_bancor_v3] Testing external pool, fee type is {type(ext_fee)} not float\"\n",
    "assert iseq(ext_fee, 0.0005), f\"[test_bancor_v3] Testing external pool, fee amt is {ext_fee} not 0.0005\""
   ]
  },
  {
   "cell_type": "markdown",
   "id": "e1b8f5f2",
   "metadata": {},
   "source": [
    "## Test_combos"
   ]
  },
  {
   "cell_type": "code",
   "execution_count": 8,
   "id": "2bf7877c",
   "metadata": {
    "ExecuteTime": {
     "end_time": "2023-09-20T16:38:17.755395Z",
     "start_time": "2023-09-20T16:38:17.751927Z"
    }
   },
   "outputs": [],
   "source": [
    "arb_finder = bot._get_arb_finder(\"bancor_v3\")\n",
    "finder = arb_finder(\n",
    "            flashloan_tokens=flashloan_tokens,\n",
    "            CCm=CCm,\n",
    "            mode=\"bothin\",\n",
    "            result=False,\n",
    "            ConfigObj=bot.ConfigObj,\n",
    "        )\n",
    "flt = {'MKR-79A2', 'TRAC-0A6F', 'MONA-412A', 'WBTC-C599', 'WOO-5D4B', 'MATIC-eBB0', 'BAT-87EF', 'UOS-5C8c', 'LRC-EafD', 'NMR-6671', 'DIP-cD83', 'TEMP-1aB9', 'ICHI-A881', 'USDC-eB48', 'ENS-9D72', 'vBNT-7f94', 'ANKR-EDD4', 'UNI-F984', 'REQ-938a', 'WETH-6Cc2', 'AAVE-DaE9', 'ENJ-3B9c', 'MANA-C942', 'wNXM-2bDE', 'QNT-4675', 'RLC-7375', 'CROWN-E0fa', 'CHZ-b4AF', 'USDT-1ec7', 'DAI-1d0F', 'RPL-A51f', 'HOT-26E2', 'LINK-86CA', 'wstETH-2Ca0'}\n",
    "\n",
    "combos = finder.get_combos(flashloan_tokens=flt, CCm=CCm, arb_mode=\"bancor_v3\")\n",
    "assert len(combos) == 1122, \"[test_bancor_v3] Different data used for tests, expected 1122 combos\""
   ]
  },
  {
   "cell_type": "markdown",
   "id": "1f9bce8d",
   "metadata": {},
   "source": [
    "## Test_get_miniverse_combos"
   ]
  },
  {
   "cell_type": "code",
   "execution_count": 9,
   "id": "cfec84c5",
   "metadata": {
    "ExecuteTime": {
     "end_time": "2023-09-20T16:38:18.214765Z",
     "start_time": "2023-09-20T16:38:17.830025Z"
    }
   },
   "outputs": [],
   "source": [
    "arb_finder = bot._get_arb_finder(\"bancor_v3\")\n",
    "finder = arb_finder(\n",
    "            flashloan_tokens=flashloan_tokens,\n",
    "            CCm=CCm,\n",
    "            mode=\"bothin\",\n",
    "            result=False,\n",
    "            ConfigObj=bot.ConfigObj,\n",
    "        )\n",
    "flt = {'MKR-79A2', 'TRAC-0A6F', 'MONA-412A', 'WBTC-C599', 'WOO-5D4B', 'MATIC-eBB0', 'BAT-87EF', 'UOS-5C8c', 'LRC-EafD', 'NMR-6671', 'DIP-cD83', 'TEMP-1aB9', 'ICHI-A881', 'USDC-eB48', 'ENS-9D72', 'vBNT-7f94', 'ANKR-EDD4', 'UNI-F984', 'REQ-938a', 'WETH-6Cc2', 'AAVE-DaE9', 'ENJ-3B9c', 'MANA-C942', 'wNXM-2bDE', 'QNT-4675', 'RLC-7375', 'CROWN-E0fa', 'CHZ-b4AF', 'USDT-1ec7', 'DAI-1d0F', 'RPL-A51f', 'HOT-26E2', 'LINK-86CA', 'wstETH-2Ca0'}\n",
    "\n",
    "combos = finder.get_combos(flashloan_tokens=flt, CCm=CCm, arb_mode=\"bancor_v3\")\n",
    "all_miniverses = finder.get_miniverse_combos(combos)\n",
    "assert len(all_miniverses) >= 146, f\"[test_bancor_v3] Different data used for tests, expected 146 miniverses, found {len(all_miniverses)}\""
   ]
  },
  {
   "cell_type": "markdown",
   "id": "b50abe51",
   "metadata": {},
   "source": [
    "## Test_get_mono_direction_carbon_curves"
   ]
  },
  {
   "cell_type": "code",
   "execution_count": 10,
   "id": "5bee8956",
   "metadata": {
    "ExecuteTime": {
     "end_time": "2023-09-20T16:38:18.217601Z",
     "start_time": "2023-09-20T16:38:18.215269Z"
    }
   },
   "outputs": [],
   "source": [
    "arb_finder = bot._get_arb_finder(\"bancor_v3\")\n",
    "finder = arb_finder(\n",
    "            flashloan_tokens=flashloan_tokens,\n",
    "            CCm=CCm,\n",
    "            mode=\"bothin\",\n",
    "            result=False,\n",
    "            ConfigObj=bot.ConfigObj,\n",
    "        )\n",
    "\n",
    "bancor_v3_curve_0 = (\n",
    "                finder.CCm.bypairs(f\"BNT-FF1C/WETH-6Cc2\")\n",
    "                .byparams(exchange=\"bancor_v3\")\n",
    "                .curves\n",
    "            )\n",
    "bancor_v3_curve_1 = (\n",
    "                finder.CCm.bypairs(f\"BNT-FF1C/USDC-eB48\")\n",
    "                .byparams(exchange=\"bancor_v3\")\n",
    "                .curves\n",
    "            )\n",
    "carbon_curves = finder.CCm.bypairs(f\"USDC-eB48/WETH-6Cc2\")\n",
    "carbon_curves = list(set(carbon_curves))\n",
    "carbon_curves = [\n",
    "    curve\n",
    "    for curve in carbon_curves\n",
    "    if curve.params.get(\"exchange\") == \"carbon_v1\"\n",
    "]\n",
    "miniverse = [bancor_v3_curve_0 + bancor_v3_curve_1 + carbon_curves]\n",
    "max_arb_carbon = finder.run_main_flow(miniverse=miniverse[0], src_token=\"BNT-FF1C\")\n",
    "(\n",
    "profit_src_0,\n",
    "trade_instructions_0,\n",
    "trade_instructions_df_0,\n",
    "trade_instructions_dic_0,\n",
    ") = max_arb_carbon\n",
    "\n",
    "mono_carbon = finder.get_mono_direction_carbon_curves(miniverse[0], trade_instructions_df=trade_instructions_df_0, token_in=None)\n",
    "test_mono_carbon = finder.get_mono_direction_carbon_curves(miniverse[0], trade_instructions_df=trade_instructions_df_0, token_in='WETH-6Cc2')\n",
    "# Test that get_mono_direction_carbon_curves removed two curves\n",
    "assert len(test_mono_carbon) != len(mono_carbon), f\"[test_bancor_v3] Issue with get_mono_direction_carbon_curves, should have removed one or more pools\""
   ]
  },
  {
   "cell_type": "code",
   "execution_count": null,
   "id": "4792883a-27b0-476c-9e35-5ea82668cb07",
   "metadata": {
    "ExecuteTime": {
     "start_time": "2023-09-20T16:38:18.216424Z"
    }
   },
   "outputs": [],
   "source": []
  },
  {
   "cell_type": "code",
   "execution_count": null,
   "id": "7812dae7-376c-46c2-95db-bee542b35b10",
   "metadata": {
    "ExecuteTime": {
     "start_time": "2023-09-20T16:38:18.217168Z"
    }
   },
   "outputs": [],
   "source": []
  },
  {
   "cell_type": "code",
   "execution_count": null,
   "id": "f7d506e0-bc1d-4352-91d0-eff45d0bbbd8",
   "metadata": {
    "ExecuteTime": {
     "end_time": "2023-09-20T16:38:18.218536Z",
     "start_time": "2023-09-20T16:38:18.218012Z"
    }
   },
   "outputs": [],
   "source": []
  }
 ],
 "metadata": {
  "jupytext": {
   "formats": "ipynb,py:light"
  },
  "kernelspec": {
   "display_name": "Python 3",
   "language": "python",
   "name": "python3"
  },
  "language_info": {
   "codemirror_mode": {
    "name": "ipython",
    "version": 3
   },
   "file_extension": ".py",
   "mimetype": "text/x-python",
   "name": "python",
   "nbconvert_exporter": "python",
   "pygments_lexer": "ipython3",
   "version": "3.10.1"
  }
 },
 "nbformat": 4,
 "nbformat_minor": 5
}
