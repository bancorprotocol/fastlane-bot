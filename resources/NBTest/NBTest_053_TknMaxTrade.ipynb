{
 "cells": [
  {
   "cell_type": "code",
   "execution_count": 1,
   "id": "8f04c50a-67fe-4f09-822d-6ed6e3ac43e4",
   "metadata": {
    "ExecuteTime": {
     "end_time": "2023-12-19T00:54:27.696185Z",
     "start_time": "2023-12-19T00:54:27.649584Z"
    }
   },
   "outputs": [
    {
     "name": "stdout",
     "output_type": "stream",
     "text": [
      "ConstantProductCurve v3.3.1 (05/Oct/2023)\n",
      "CarbonBot v3-b2.2 (20/June/2023)\n",
      "UniswapV2 v0.0.2 (2023-08-27)\n",
      "UniswapV3 v0.0.2 (2023-08-27)\n",
      "CarbonV1 v0.0.2 (2023-08-27)\n",
      "BancorV3 v0.0.2 (2023-08-27)\n",
      "imported m, np, pd, plt, os, sys, decimal; defined iseq, raises, require, Timer\n",
      "Version = 3-b2.2 [requirements >= 3.0 is met]\n"
     ]
    },
    {
     "name": "stderr",
     "output_type": "stream",
     "text": [
      "c:\\Users\\Kveen\\PycharmProjects\\fastlane-bot\\venv_11\\Lib\\site-packages\\tqdm\\auto.py:21: TqdmWarning: IProgress not found. Please update jupyter and ipywidgets. See https://ipywidgets.readthedocs.io/en/stable/user_install.html\n",
      "  from .autonotebook import tqdm as notebook_tqdm\n"
     ]
    }
   ],
   "source": [
    "# coding=utf-8\n",
    "\"\"\"\n",
    "This module contains the tests for the exchanges classes\n",
    "\"\"\"\n",
    "from dataclasses import asdict\n",
    "\n",
    "from fastlane_bot import Bot\n",
    "from fastlane_bot.events.exchanges import UniswapV2, UniswapV3, CarbonV1, BancorV3\n",
    "from fastlane_bot.helpers.routehandler import maximize_last_trade_per_tkn\n",
    "from fastlane_bot.tools.cpc import ConstantProductCurve as CPC\n",
    "\n",
    "print(\"{0.__name__} v{0.__VERSION__} ({0.__DATE__})\".format(CPC))\n",
    "print(\"{0.__name__} v{0.__VERSION__} ({0.__DATE__})\".format(Bot))\n",
    "print(\"{0.__name__} v{0.__VERSION__} ({0.__DATE__})\".format(UniswapV2))\n",
    "print(\"{0.__name__} v{0.__VERSION__} ({0.__DATE__})\".format(UniswapV3))\n",
    "print(\"{0.__name__} v{0.__VERSION__} ({0.__DATE__})\".format(CarbonV1))\n",
    "print(\"{0.__name__} v{0.__VERSION__} ({0.__DATE__})\".format(BancorV3))\n",
    "from fastlane_bot.testing import *\n",
    "#plt.style.use('seaborn-dark')\n",
    "plt.rcParams['figure.figsize'] = [12,6]\n",
    "from fastlane_bot import __VERSION__\n",
    "require(\"3.0\", __VERSION__)"
   ]
  },
  {
   "cell_type": "markdown",
   "id": "b3f59f14-b91b-4dba-94b0-3d513aaf41c7",
   "metadata": {},
   "source": [
    "# Maximize Last Trade Per TKN [NBTest053]"
   ]
  },
  {
   "cell_type": "markdown",
   "id": "c5a64430",
   "metadata": {},
   "source": [
    "## Test_use_0_for_sourceAmount"
   ]
  },
  {
   "cell_type": "code",
   "execution_count": 7,
   "id": "a0e154e0-fa3b-4c10-b3c5-17ac39bdf1c4",
   "metadata": {
    "ExecuteTime": {
     "end_time": "2023-12-19T00:54:27.736518Z",
     "start_time": "2023-12-19T00:54:27.670587Z"
    },
    "lines_to_next_cell": 2
   },
   "outputs": [
    {
     "name": "stdout",
     "output_type": "stream",
     "text": [
      "{'sourceAmount': 10, 'sourceToken': 'bob_tkn', 'minReturn': 10, 'targetToken': 'fred_tkn'}\n",
      "{'sourceAmount': 10, 'sourceToken': 'bob_tkn', 'minReturn': 10, 'targetToken': 'fred_tkn'}\n",
      "{'sourceAmount': 10, 'sourceToken': 'fred_tkn', 'minReturn': 10, 'targetToken': 'grog_tkn'}\n",
      "{'sourceAmount': 0, 'sourceToken': 'fred_tkn', 'minReturn': 10, 'targetToken': 'grog_tkn'}\n",
      "{'sourceAmount': 10, 'sourceToken': 'grog_tkn', 'minReturn': 10, 'targetToken': 'bob_tkn'}\n",
      "{'sourceAmount': 0, 'sourceToken': 'grog_tkn', 'minReturn': 10, 'targetToken': 'bob_tkn'}\n"
     ]
    }
   ],
   "source": [
    "def test_maximize_last_trade_per_tkn():\n",
    "    route_struct_0 = [                    \n",
    "                            {\"sourceAmount\": 10, \"sourceToken\": \"bob_tkn\", \"minReturn\": 10, \"targetToken\": \"fred_tkn\"},\n",
    "                            {\"sourceAmount\": 10, \"sourceToken\": \"bob_tkn\", \"minReturn\": 10, \"targetToken\": \"fred_tkn\"},\n",
    "                            {\"sourceAmount\": 10, \"sourceToken\": \"fred_tkn\", \"minReturn\": 10, \"targetToken\": \"grog_tkn\"},\n",
    "                            {\"sourceAmount\": 10, \"sourceToken\": \"fred_tkn\", \"minReturn\": 10, \"targetToken\": \"grog_tkn\"},\n",
    "                            {\"sourceAmount\": 10, \"sourceToken\": \"grog_tkn\", \"minReturn\": 10, \"targetToken\": \"bob_tkn\"},\n",
    "                            {\"sourceAmount\": 10, \"sourceToken\": \"grog_tkn\", \"minReturn\": 10, \"targetToken\": \"bob_tkn\"},\n",
    "\n",
    "                    ]\n",
    "\n",
    "    source_token = route_struct_0[0][\"sourceToken\"]\n",
    "    maximize_test_result = maximize_last_trade_per_tkn(route_struct_0)\n",
    "\n",
    "    assert len(maximize_test_result) == len(route_struct_0)\n",
    "\n",
    "    for trade in maximize_test_result:\n",
    "        if trade[\"sourceToken\"] == source_token:\n",
    "            assert trade[\"sourceAmount\"] > 0\n",
    "\n",
    "    assert maximize_test_result[3][\"sourceAmount\"] == 0\n",
    "    assert maximize_test_result[5][\"sourceAmount\"] == 0"
   ]
  },
  {
   "cell_type": "code",
   "execution_count": null,
   "id": "b947da71",
   "metadata": {
    "ExecuteTime": {
     "end_time": "2023-12-19T00:54:27.736992Z",
     "start_time": "2023-12-19T00:54:27.674865Z"
    }
   },
   "outputs": [],
   "source": []
  },
  {
   "cell_type": "code",
   "execution_count": null,
   "id": "3373e118",
   "metadata": {
    "ExecuteTime": {
     "end_time": "2023-12-19T00:54:27.737086Z",
     "start_time": "2023-12-19T00:54:27.677594Z"
    }
   },
   "outputs": [],
   "source": []
  }
 ],
 "metadata": {
  "jupytext": {
   "encoding": "# -*- coding: utf-8 -*-",
   "formats": "ipynb,py:light"
  },
  "kernelspec": {
   "display_name": "Python 3 (ipykernel)",
   "language": "python",
   "name": "python3"
  },
  "language_info": {
   "codemirror_mode": {
    "name": "ipython",
    "version": 3
   },
   "file_extension": ".py",
   "mimetype": "text/x-python",
   "name": "python",
   "nbconvert_exporter": "python",
   "pygments_lexer": "ipython3",
   "version": "3.11.5"
  }
 },
 "nbformat": 4,
 "nbformat_minor": 5
}
