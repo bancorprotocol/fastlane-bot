{
 "cells": [
  {
   "cell_type": "code",
   "execution_count": 1,
   "id": "8f04c50a-67fe-4f09-822d-6ed6e3ac43e4",
   "metadata": {},
   "outputs": [
    {
     "name": "stdout",
     "output_type": "stream",
     "text": [
      "ConstantProductCurve v3.1 (25/Aug/2023)\n",
      "CarbonBot v3-b2.2 (20/June/2023)\n",
      "UniswapV2 v0.0.2 (2023-08-27)\n",
      "UniswapV3 v0.0.2 (2023-08-27)\n",
      "SushiswapV2 v0.0.2 (2023-08-27)\n",
      "CarbonV1 v0.0.2 (2023-08-27)\n",
      "BancorV3 v0.0.2 (2023-08-27)\n",
      "imported m, np, pd, plt, os, sys, decimal; defined iseq, raises, require\n"
     ]
    },
    {
     "name": "stderr",
     "output_type": "stream",
     "text": [
      "C:\\Users\\Kveen\\AppData\\Local\\Temp\\ipykernel_40568\\744866301.py:30: MatplotlibDeprecationWarning: The seaborn styles shipped by Matplotlib are deprecated since 3.6, as they no longer correspond to the styles shipped by seaborn. However, they will remain available as 'seaborn-v0_8-<style>'. Alternatively, directly use the seaborn API instead.\n",
      "  plt.style.use('seaborn-dark')\n"
     ]
    },
    {
     "name": "stdout",
     "output_type": "stream",
     "text": [
      "Version = 3-b2.2 [requirements >= 3.0 is met]\n"
     ]
    }
   ],
   "source": [
    "# coding=utf-8\n",
    "\"\"\"\n",
    "This module contains the tests for the exchanges classes\n",
    "\"\"\"\n",
    "from fastlane_bot import Bot, Config\n",
    "from fastlane_bot.bot import CarbonBot\n",
    "from fastlane_bot.tools.cpc import ConstantProductCurve\n",
    "from fastlane_bot.tools.cpc import ConstantProductCurve as CPC\n",
    "from fastlane_bot.events.exchanges import UniswapV2, UniswapV3, SushiswapV2, CarbonV1, BancorV3\n",
    "from fastlane_bot.events.interface import QueryInterface\n",
    "from fastlane_bot.helpers.poolandtokens import PoolAndTokens\n",
    "from fastlane_bot.helpers import TradeInstruction, TxReceiptHandler, TxRouteHandler, TxSubmitHandler, TxHelpers, TxHelper\n",
    "from fastlane_bot.events.managers.manager import Manager\n",
    "from fastlane_bot.events.interface import QueryInterface\n",
    "from fastlane_bot.helpers.routehandler import RouteStruct, maximize_last_trade_per_tkn\n",
    "from joblib import Parallel, delayed\n",
    "from dataclasses import dataclass, asdict, field\n",
    "import pytest\n",
    "import math\n",
    "import json\n",
    "print(\"{0.__name__} v{0.__VERSION__} ({0.__DATE__})\".format(CPC))\n",
    "print(\"{0.__name__} v{0.__VERSION__} ({0.__DATE__})\".format(Bot))\n",
    "print(\"{0.__name__} v{0.__VERSION__} ({0.__DATE__})\".format(UniswapV2))\n",
    "print(\"{0.__name__} v{0.__VERSION__} ({0.__DATE__})\".format(UniswapV3))\n",
    "print(\"{0.__name__} v{0.__VERSION__} ({0.__DATE__})\".format(SushiswapV2))\n",
    "print(\"{0.__name__} v{0.__VERSION__} ({0.__DATE__})\".format(CarbonV1))\n",
    "print(\"{0.__name__} v{0.__VERSION__} ({0.__DATE__})\".format(BancorV3))\n",
    "from fastlane_bot.testing import *\n",
    "from fastlane_bot.modes import triangle_single_bancor3\n",
    "plt.style.use('seaborn-dark')\n",
    "plt.rcParams['figure.figsize'] = [12,6]\n",
    "from fastlane_bot import __VERSION__\n",
    "require(\"3.0\", __VERSION__)"
   ]
  },
  {
   "attachments": {},
   "cell_type": "markdown",
   "id": "b3f59f14-b91b-4dba-94b0-3d513aaf41c7",
   "metadata": {},
   "source": [
    "# Maximize Last Trade Per TKN [NBTest053]"
   ]
  },
  {
   "cell_type": "markdown",
   "id": "c5a64430",
   "metadata": {},
   "source": [
    "## Test_use_0_for_sourceAmount"
   ]
  },
  {
   "cell_type": "code",
   "execution_count": 2,
   "id": "a0e154e0-fa3b-4c10-b3c5-17ac39bdf1c4",
   "metadata": {
    "lines_to_next_cell": 2
   },
   "outputs": [],
   "source": [
    "\n",
    "\n",
    "ti1 = RouteStruct(\n",
    "platformId=8,\n",
    "sourceToken=\"0xeeeeeeeeeeeeeeeeeeeeeeeeeeeeeeeeeeeeeeee\",\n",
    "targetToken=\"0x6b175474e89094c44da98b954eedeac495271d0f\",\n",
    "sourceAmount=62211456000000000000,\n",
    "minTargetAmount=99890009252976620728523,\n",
    "deadline=1702409775,\n",
    "customAddress=\"0x6b175474e89094c44da98b954eedeac495271d0f\",\n",
    "customInt=0,\n",
    "customData=\"0x\"\n",
    ")\n",
    "\n",
    "ti2 = RouteStruct(platformId=4,\n",
    "sourceToken=\"0x6b175474e89094c44da98b954eedeac495271d0f\",\n",
    "targetToken=\"0xeeeeeeeeeeeeeeeeeeeeeeeeeeeeeeeeeeeeeeee\",\n",
    "sourceAmount=99890009252976620728523,\n",
    "minTargetAmount=62256092760867779024,\n",
    "deadline=1702409775,\n",
    "customAddress=\"0xc02aaa39b223fe8d0a0e5c4f27ead9083c756cc2\",\n",
    "customInt=3000,\n",
    "customData=\"0x\")\n",
    "\n",
    "\n",
    "ti3 = RouteStruct(\n",
    "platformId=8,\n",
    "sourceToken=\"0xeeeeeeeeeeeeeeeeeeeeeeeeeeeeeeeeeeeeeeee\",\n",
    "targetToken=\"0x6b175474e89094c44da98b954eedeac495271d0f\",\n",
    "sourceAmount=62211456000000000000,\n",
    "minTargetAmount=99890009252976620728523,\n",
    "deadline=1702409775,\n",
    "customAddress=\"0x6b175474e89094c44da98b954eedeac495271d0f\",\n",
    "customInt=0,\n",
    "customData=\"0x\"\n",
    ")\n",
    "ti4 = RouteStruct(\n",
    "platformId=8,\n",
    "sourceToken=\"0xeeeeeeeeeeeeeeeeeeeeeeeeeeeeeeeeeeeeeeee\",\n",
    "targetToken=\"0x6b175474e89094c44da98b954eedeac495271d0f\",\n",
    "sourceAmount=62211456000000000000,\n",
    "minTargetAmount=99890009252976620728523,\n",
    "deadline=1702409775,\n",
    "customAddress=\"0x6b175474e89094c44da98b954eedeac495271d0f\",\n",
    "customInt=0,\n",
    "customData=\"0x\"\n",
    ")\n",
    "\n",
    "ti5 = RouteStruct(platformId=4,\n",
    "sourceToken=\"0x6b175474e89094c44da98b954eedeac495271d0f\",\n",
    "targetToken=\"0xeeeeeeeeeeeeeeeeeeeeeeeeeeeeeeeeeeeeeeee\",\n",
    "sourceAmount=99890009252976620728523,\n",
    "minTargetAmount=62256092760867779024,\n",
    "deadline=1702409775,\n",
    "customAddress=\"0xc02aaa39b223fe8d0a0e5c4f27ead9083c756cc2\",\n",
    "customInt=3000,\n",
    "customData=\"0x\")\n",
    "\n",
    "instructions = [ti1, ti2]\n",
    "instructions2 = [asdict(ti3), asdict(ti4), asdict(ti5)]\n",
    " \n",
    "max_trade_route_struct = maximize_last_trade_per_tkn(instructions)\n",
    "max_trade_route_struct2 = maximize_last_trade_per_tkn(instructions2)\n",
    "\n",
    "assert max_trade_route_struct[0].sourceAmount == 0, f\"[NBTest_053] sourceAmount expected 0, actual: {max_trade_route_struct[0].sourceAmount}\"\n",
    "assert max_trade_route_struct[1].sourceAmount == 0, f\"[NBTest_053] sourceAmount expected 0, actual: {max_trade_route_struct[1].sourceAmount}\"\n",
    "assert max_trade_route_struct2[0][\"sourceAmount\"] == 62211456000000000000, f\"[NBTest_053] sourceAmount expected 0, actual: {max_trade_route_struct2[0]['sourceAmount']}\"\n",
    "assert max_trade_route_struct2[1][\"sourceAmount\"] == 0, f\"[NBTest_053] sourceAmount expected 0, actual: {max_trade_route_struct2[1]['sourceAmount']}\"\n",
    "assert max_trade_route_struct2[2][\"sourceAmount\"] == 0, f\"[NBTest_053] sourceAmount expected 0, actual: {max_trade_route_struct2[2]['sourceAmount']}\"\n"
   ]
  },
  {
   "cell_type": "code",
   "execution_count": null,
   "id": "b947da71",
   "metadata": {},
   "outputs": [],
   "source": []
  },
  {
   "cell_type": "code",
   "execution_count": null,
   "id": "3373e118",
   "metadata": {},
   "outputs": [],
   "source": []
  }
 ],
 "metadata": {
  "jupytext": {
   "encoding": "# -*- coding: utf-8 -*-",
   "formats": "ipynb,py:light"
  },
  "kernelspec": {
   "display_name": "Python 3",
   "language": "python",
   "name": "python3"
  },
  "language_info": {
   "codemirror_mode": {
    "name": "ipython",
    "version": 3
   },
   "file_extension": ".py",
   "mimetype": "text/x-python",
   "name": "python",
   "nbconvert_exporter": "python",
   "pygments_lexer": "ipython3",
   "version": "3.10.1"
  }
 },
 "nbformat": 4,
 "nbformat_minor": 5
}
